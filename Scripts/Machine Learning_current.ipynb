{
 "cells": [
  {
   "cell_type": "code",
   "execution_count": 1,
   "metadata": {},
   "outputs": [],
   "source": [
    "import pandas as pd\n",
    "import numpy as np\n",
    "from pylab import *\n",
    "import scipy.stats as stats\n",
    "from scipy.stats import kurtosis\n",
    "from sklearn.model_selection import train_test_split\n",
    "import seaborn as sns\n",
    "from sklearn.covariance import EllipticEnvelope\n",
    "import shap\n",
    "from sklearn.ensemble import IsolationForest\n",
    "from sklearn.neighbors import LocalOutlierFactor\n",
    "from sklearn.svm import OneClassSVM"
   ]
  },
  {
   "cell_type": "code",
   "execution_count": 2,
   "metadata": {},
   "outputs": [
    {
     "data": {
      "text/html": [
       "<div>\n",
       "<style scoped>\n",
       "    .dataframe tbody tr th:only-of-type {\n",
       "        vertical-align: middle;\n",
       "    }\n",
       "\n",
       "    .dataframe tbody tr th {\n",
       "        vertical-align: top;\n",
       "    }\n",
       "\n",
       "    .dataframe thead th {\n",
       "        text-align: right;\n",
       "    }\n",
       "</style>\n",
       "<table border=\"1\" class=\"dataframe\">\n",
       "  <thead>\n",
       "    <tr style=\"text-align: right;\">\n",
       "      <th></th>\n",
       "      <th>VoltageCurve</th>\n",
       "      <th>CurrentCurve</th>\n",
       "      <th>spotName</th>\n",
       "      <th>TimeStamp</th>\n",
       "    </tr>\n",
       "  </thead>\n",
       "  <tbody>\n",
       "    <tr>\n",
       "      <th>494</th>\n",
       "      <td>[132, 744, 1299, 1663, 1894, 2002, 2068, 2110,...</td>\n",
       "      <td>[311, 1990, 3577, 4759, 5599, 6190, 6594, 6999...</td>\n",
       "      <td>60000_0_00</td>\n",
       "      <td>2019-11-07 12:29:06</td>\n",
       "    </tr>\n",
       "    <tr>\n",
       "      <th>2439</th>\n",
       "      <td>[136, 752, 1308, 1675, 1923, 2068, 2128, 2180,...</td>\n",
       "      <td>[301, 1961, 3470, 4527, 5432, 6066, 6489, 6911...</td>\n",
       "      <td>60000_0_00</td>\n",
       "      <td>2019-11-07 12:29:26</td>\n",
       "    </tr>\n",
       "    <tr>\n",
       "      <th>2515</th>\n",
       "      <td>[139, 757, 1292, 1655, 1885, 2042, 2099, 2099,...</td>\n",
       "      <td>[333, 2058, 3663, 4814, 5661, 6388, 6842, 7084...</td>\n",
       "      <td>60000_0_00</td>\n",
       "      <td>2019-11-07 12:29:26</td>\n",
       "    </tr>\n",
       "    <tr>\n",
       "      <th>2935</th>\n",
       "      <td>[133, 743, 1286, 1645, 1887, 2046, 2104, 2104,...</td>\n",
       "      <td>[307, 2031, 3632, 4802, 5695, 6434, 6865, 7142...</td>\n",
       "      <td>60000_0_00</td>\n",
       "      <td>2019-11-07 12:29:30</td>\n",
       "    </tr>\n",
       "    <tr>\n",
       "      <th>3239</th>\n",
       "      <td>[137, 755, 1313, 1683, 1906, 2043, 2147, 2189,...</td>\n",
       "      <td>[302, 1995, 3508, 4596, 5382, 5987, 6562, 6955...</td>\n",
       "      <td>60000_0_00</td>\n",
       "      <td>2019-11-07 12:29:32</td>\n",
       "    </tr>\n",
       "  </tbody>\n",
       "</table>\n",
       "</div>"
      ],
      "text/plain": [
       "                                           VoltageCurve  \\\n",
       "494   [132, 744, 1299, 1663, 1894, 2002, 2068, 2110,...   \n",
       "2439  [136, 752, 1308, 1675, 1923, 2068, 2128, 2180,...   \n",
       "2515  [139, 757, 1292, 1655, 1885, 2042, 2099, 2099,...   \n",
       "2935  [133, 743, 1286, 1645, 1887, 2046, 2104, 2104,...   \n",
       "3239  [137, 755, 1313, 1683, 1906, 2043, 2147, 2189,...   \n",
       "\n",
       "                                           CurrentCurve    spotName  \\\n",
       "494   [311, 1990, 3577, 4759, 5599, 6190, 6594, 6999...  60000_0_00   \n",
       "2439  [301, 1961, 3470, 4527, 5432, 6066, 6489, 6911...  60000_0_00   \n",
       "2515  [333, 2058, 3663, 4814, 5661, 6388, 6842, 7084...  60000_0_00   \n",
       "2935  [307, 2031, 3632, 4802, 5695, 6434, 6865, 7142...  60000_0_00   \n",
       "3239  [302, 1995, 3508, 4596, 5382, 5987, 6562, 6955...  60000_0_00   \n",
       "\n",
       "               TimeStamp  \n",
       "494  2019-11-07 12:29:06  \n",
       "2439 2019-11-07 12:29:26  \n",
       "2515 2019-11-07 12:29:26  \n",
       "2935 2019-11-07 12:29:30  \n",
       "3239 2019-11-07 12:29:32  "
      ]
     },
     "execution_count": 2,
     "metadata": {},
     "output_type": "execute_result"
    }
   ],
   "source": [
    "df= pd.read_pickle(\"../Data/Processed/clean_rows_df.pkl\")  \n",
    "df.head()"
   ]
  },
  {
   "cell_type": "code",
   "execution_count": 3,
   "metadata": {},
   "outputs": [],
   "source": [
    "df.reset_index(inplace=True)\n",
    "df.set_index([\"spotName\",\"TimeStamp\"],inplace=True)"
   ]
  },
  {
   "cell_type": "markdown",
   "metadata": {},
   "source": [
    "# ML su Current Curve"
   ]
  },
  {
   "cell_type": "code",
   "execution_count": 4,
   "metadata": {},
   "outputs": [],
   "source": [
    "exploded_current=pd.DataFrame(df.CurrentCurve.tolist(), index= df.index)"
   ]
  },
  {
   "cell_type": "markdown",
   "metadata": {},
   "source": [
    "indice del primo valore per cui l'inclinazione della curva inizia a diventare negativa\n",
    "Escludere i valori precedenti a questo indice per analizzare la curva"
   ]
  },
  {
   "cell_type": "code",
   "execution_count": 6,
   "metadata": {},
   "outputs": [],
   "source": [
    "#indice del primo valore per cui l'inclinazione della curva diventa negativa\n",
    "#position=curva.diff()[curva.diff()==next(x for x in curva.diff() if x < 0)].index[0]\n",
    "#curva_new è la curva senza il primo picco\n",
    "#curva_new=curva.iloc[position:]\n",
    "#plot(curva_new)"
   ]
  },
  {
   "cell_type": "code",
   "execution_count": 5,
   "metadata": {},
   "outputs": [],
   "source": [
    "exploded_current_diff=exploded_current.diff(axis=1)\n",
    "exploded_current_diff=exploded_current_diff.drop(columns=0,axis=1)"
   ]
  },
  {
   "cell_type": "code",
   "execution_count": 6,
   "metadata": {},
   "outputs": [
    {
     "data": {
      "text/plain": [
       "spotName    TimeStamp          \n",
       "60000_0_00  2019-11-07 12:29:06    12\n",
       "            2019-11-07 12:29:26     9\n",
       "            2019-11-07 12:29:26    10\n",
       "dtype: int64"
      ]
     },
     "execution_count": 6,
     "metadata": {},
     "output_type": "execute_result"
    }
   ],
   "source": [
    "exploded_current_diff.iloc[:3].apply(lambda x: x.gt(0).idxmin(),axis=1)"
   ]
  },
  {
   "cell_type": "code",
   "execution_count": 7,
   "metadata": {},
   "outputs": [],
   "source": [
    "exploded_current_diff[\"posizione\"]=exploded_current_diff.apply(lambda x: x.gt(0).idxmin(),axis=1)"
   ]
  },
  {
   "cell_type": "code",
   "execution_count": null,
   "metadata": {},
   "outputs": [],
   "source": [
    "#(exploded_current_diff.iloc[:3].apply(lambda x: x[x.posizione:],axis=1))"
   ]
  },
  {
   "cell_type": "markdown",
   "metadata": {},
   "source": [
    "Non so come fare a rimuovere i primi n valori sulla base di posizione!!!!!\n",
    "\n",
    "--> faccio una media di posizione arrotondata per eccesso e rimuovo le prime x=media(posizione) colonne del dataframe."
   ]
  },
  {
   "cell_type": "code",
   "execution_count": 8,
   "metadata": {},
   "outputs": [
    {
     "data": {
      "text/plain": [
       "11"
      ]
     },
     "execution_count": 8,
     "metadata": {},
     "output_type": "execute_result"
    }
   ],
   "source": [
    "math.ceil(exploded_current_diff.posizione.mean())"
   ]
  },
  {
   "cell_type": "code",
   "execution_count": 9,
   "metadata": {},
   "outputs": [],
   "source": [
    "curve_ML=exploded_current.iloc[: , math.ceil(exploded_current_diff.posizione.mean()):]"
   ]
  },
  {
   "cell_type": "markdown",
   "metadata": {},
   "source": [
    "## Estrazione Caratteristiche curve Current\n",
    "Calcolo le caratteristiche delle curve su cui poi applicare algoritmi di ML:\n",
    "- Media, Max, Min, Range, Varianza, Derivata, Curtosi..."
   ]
  },
  {
   "cell_type": "code",
   "execution_count": 10,
   "metadata": {},
   "outputs": [],
   "source": [
    "curve_ML[\"media\"]=curve_ML.iloc[:,:616].apply(mean,axis=1)\n",
    "curve_ML[\"mediana\"]=curve_ML.iloc[:,:616].apply(lambda x : median(x[x.notna()]),axis=1)\n",
    "curve_ML[\"max\"]=curve_ML.iloc[:,:616].apply(max,axis=1)\n",
    "curve_ML[\"min\"]=curve_ML.iloc[:,:616].apply(min,axis=1)\n",
    "curve_ML[\"varianza\"]=curve_ML.iloc[:,:616].apply(var,axis=1)"
   ]
  },
  {
   "cell_type": "code",
   "execution_count": 11,
   "metadata": {},
   "outputs": [],
   "source": [
    "curve_ML[\"mediana\"]=curve_ML.iloc[:,:616].apply(lambda x : median(x[x.notna()]),axis=1)"
   ]
  },
  {
   "cell_type": "code",
   "execution_count": 12,
   "metadata": {},
   "outputs": [],
   "source": [
    "#lunghezza come numero di valori non Null\n",
    "curve_ML[\"lunghezza\"]=curve_ML.iloc[:,:616].apply(lambda x: len(x[x.notna()]),axis=1)"
   ]
  },
  {
   "cell_type": "code",
   "execution_count": 13,
   "metadata": {},
   "outputs": [],
   "source": [
    "#range intesa come max-min\n",
    "curve_ML[\"range\"]=curve_ML.iloc[:,:616].apply(lambda x: x.max()-x.min(),axis=1)"
   ]
  },
  {
   "cell_type": "code",
   "execution_count": 14,
   "metadata": {},
   "outputs": [],
   "source": [
    "#calcolo della derivata come delta(y)/delta(x): ovvero range/lunghezza lista\n",
    "curve_ML[\"derivata\"]=curve_ML.apply(lambda x: x.range/len(x[:616][x[:616].notna()]),axis=1)"
   ]
  },
  {
   "cell_type": "code",
   "execution_count": 15,
   "metadata": {},
   "outputs": [],
   "source": [
    "#curtosi\n",
    "curve_ML[\"kurtosis\"]=curve_ML.iloc[:,:616].apply(lambda x: kurtosis(x[x.notna()]),axis=1)"
   ]
  },
  {
   "cell_type": "code",
   "execution_count": 25,
   "metadata": {},
   "outputs": [
    {
     "data": {
      "text/html": [
       "<div>\n",
       "<style scoped>\n",
       "    .dataframe tbody tr th:only-of-type {\n",
       "        vertical-align: middle;\n",
       "    }\n",
       "\n",
       "    .dataframe tbody tr th {\n",
       "        vertical-align: top;\n",
       "    }\n",
       "\n",
       "    .dataframe thead th {\n",
       "        text-align: right;\n",
       "    }\n",
       "</style>\n",
       "<table border=\"1\" class=\"dataframe\">\n",
       "  <thead>\n",
       "    <tr style=\"text-align: right;\">\n",
       "      <th></th>\n",
       "      <th></th>\n",
       "      <th>media</th>\n",
       "      <th>mediana</th>\n",
       "      <th>max</th>\n",
       "      <th>min</th>\n",
       "      <th>varianza</th>\n",
       "      <th>lunghezza</th>\n",
       "      <th>range</th>\n",
       "      <th>derivata</th>\n",
       "      <th>kurtosis</th>\n",
       "    </tr>\n",
       "    <tr>\n",
       "      <th>spotName</th>\n",
       "      <th>TimeStamp</th>\n",
       "      <th></th>\n",
       "      <th></th>\n",
       "      <th></th>\n",
       "      <th></th>\n",
       "      <th></th>\n",
       "      <th></th>\n",
       "      <th></th>\n",
       "      <th></th>\n",
       "      <th></th>\n",
       "    </tr>\n",
       "  </thead>\n",
       "  <tbody>\n",
       "    <tr>\n",
       "      <th rowspan=\"5\" valign=\"top\">60000_0_00</th>\n",
       "      <th>2019-11-07 12:29:06</th>\n",
       "      <td>7514.265226</td>\n",
       "      <td>7528.0</td>\n",
       "      <td>7901.0</td>\n",
       "      <td>7217.0</td>\n",
       "      <td>8319.688262</td>\n",
       "      <td>512</td>\n",
       "      <td>684.0</td>\n",
       "      <td>1.335938</td>\n",
       "      <td>2.712159</td>\n",
       "    </tr>\n",
       "    <tr>\n",
       "      <th>2019-11-07 12:29:26</th>\n",
       "      <td>7529.075061</td>\n",
       "      <td>7575.0</td>\n",
       "      <td>7696.0</td>\n",
       "      <td>7153.0</td>\n",
       "      <td>13759.477890</td>\n",
       "      <td>416</td>\n",
       "      <td>543.0</td>\n",
       "      <td>1.305288</td>\n",
       "      <td>0.556375</td>\n",
       "    </tr>\n",
       "    <tr>\n",
       "      <th>2019-11-07 12:29:26</th>\n",
       "      <td>7565.614815</td>\n",
       "      <td>7599.0</td>\n",
       "      <td>7720.0</td>\n",
       "      <td>7327.0</td>\n",
       "      <td>7377.801106</td>\n",
       "      <td>408</td>\n",
       "      <td>393.0</td>\n",
       "      <td>0.963235</td>\n",
       "      <td>0.217216</td>\n",
       "    </tr>\n",
       "    <tr>\n",
       "      <th>2019-11-07 12:29:30</th>\n",
       "      <td>7631.377404</td>\n",
       "      <td>7696.0</td>\n",
       "      <td>7850.0</td>\n",
       "      <td>7235.0</td>\n",
       "      <td>19714.391868</td>\n",
       "      <td>419</td>\n",
       "      <td>615.0</td>\n",
       "      <td>1.467780</td>\n",
       "      <td>-0.354173</td>\n",
       "    </tr>\n",
       "    <tr>\n",
       "      <th>2019-11-07 12:29:32</th>\n",
       "      <td>7535.650367</td>\n",
       "      <td>7560.0</td>\n",
       "      <td>7711.0</td>\n",
       "      <td>7227.0</td>\n",
       "      <td>10733.617974</td>\n",
       "      <td>412</td>\n",
       "      <td>484.0</td>\n",
       "      <td>1.174757</td>\n",
       "      <td>0.240765</td>\n",
       "    </tr>\n",
       "  </tbody>\n",
       "</table>\n",
       "</div>"
      ],
      "text/plain": [
       "                                      media  mediana     max     min  \\\n",
       "spotName   TimeStamp                                                   \n",
       "60000_0_00 2019-11-07 12:29:06  7514.265226   7528.0  7901.0  7217.0   \n",
       "           2019-11-07 12:29:26  7529.075061   7575.0  7696.0  7153.0   \n",
       "           2019-11-07 12:29:26  7565.614815   7599.0  7720.0  7327.0   \n",
       "           2019-11-07 12:29:30  7631.377404   7696.0  7850.0  7235.0   \n",
       "           2019-11-07 12:29:32  7535.650367   7560.0  7711.0  7227.0   \n",
       "\n",
       "                                    varianza  lunghezza  range  derivata  \\\n",
       "spotName   TimeStamp                                                       \n",
       "60000_0_00 2019-11-07 12:29:06   8319.688262        512  684.0  1.335938   \n",
       "           2019-11-07 12:29:26  13759.477890        416  543.0  1.305288   \n",
       "           2019-11-07 12:29:26   7377.801106        408  393.0  0.963235   \n",
       "           2019-11-07 12:29:30  19714.391868        419  615.0  1.467780   \n",
       "           2019-11-07 12:29:32  10733.617974        412  484.0  1.174757   \n",
       "\n",
       "                                kurtosis  \n",
       "spotName   TimeStamp                      \n",
       "60000_0_00 2019-11-07 12:29:06  2.712159  \n",
       "           2019-11-07 12:29:26  0.556375  \n",
       "           2019-11-07 12:29:26  0.217216  \n",
       "           2019-11-07 12:29:30 -0.354173  \n",
       "           2019-11-07 12:29:32  0.240765  "
      ]
     },
     "execution_count": 25,
     "metadata": {},
     "output_type": "execute_result"
    }
   ],
   "source": [
    "final_ML=curve_ML.iloc[:,613:]\n",
    "final_ML.head()"
   ]
  },
  {
   "cell_type": "code",
   "execution_count": 26,
   "metadata": {},
   "outputs": [],
   "source": [
    "final_ML.to_pickle(\"../data/processed/current_ML.pkl\")"
   ]
  },
  {
   "cell_type": "markdown",
   "metadata": {},
   "source": [
    "## Feature Engineering"
   ]
  },
  {
   "cell_type": "code",
   "execution_count": 27,
   "metadata": {},
   "outputs": [],
   "source": [
    "final_ML= pd.read_pickle(\"../data/processed/current_ML.pkl\")"
   ]
  },
  {
   "cell_type": "code",
   "execution_count": 28,
   "metadata": {},
   "outputs": [
    {
     "data": {
      "image/png": "[encoded data removed]",
      "text/plain": [
       "<Figure size 432x288 with 2 Axes>"
      ]
     },
     "metadata": {
      "needs_background": "light"
     },
     "output_type": "display_data"
    }
   ],
   "source": [
    "ax=sns.heatmap(final_ML.corr(),annot=True,cmap=\"YlGnBu\")"
   ]
  },
  {
   "cell_type": "markdown",
   "metadata": {},
   "source": [
    "dalla matrice di correlazione indica correlazioni più forti rispetto a quella delle curve di voltaggio, mediana e media hanno addirittura corr=1: ad indicare la maggior omogeneità dei processi analizzati"
   ]
  },
  {
   "cell_type": "code",
   "execution_count": 29,
   "metadata": {},
   "outputs": [],
   "source": [
    "dummy=final_ML.drop([\"media\",\"range\",\"max\",\"min\",\"varianza\"],axis=1)"
   ]
  },
  {
   "cell_type": "code",
   "execution_count": 30,
   "metadata": {},
   "outputs": [
    {
     "data": {
      "image/png": "[encoded data removed]",
      "text/plain": [
       "<Figure size 432x288 with 2 Axes>"
      ]
     },
     "metadata": {
      "needs_background": "light"
     },
     "output_type": "display_data"
    }
   ],
   "source": [
    "ax=sns.heatmap(dummy.corr(),annot=True,cmap=\"YlGnBu\")"
   ]
  },
  {
   "cell_type": "markdown",
   "metadata": {},
   "source": [
    "#### Split train & test set\n",
    "Essendo un problema non supervisionato opero un random holdhout per la creazione di train e test set."
   ]
  },
  {
   "cell_type": "code",
   "execution_count": 31,
   "metadata": {},
   "outputs": [],
   "source": [
    "df_train, df_test=train_test_split(dummy,train_size=0.8,shuffle=True,random_state=0)"
   ]
  },
  {
   "cell_type": "markdown",
   "metadata": {},
   "source": [
    "## Isolation Forest"
   ]
  },
  {
   "cell_type": "code",
   "execution_count": 32,
   "metadata": {},
   "outputs": [
    {
     "name": "stderr",
     "output_type": "stream",
     "text": [
      "X does not have valid feature names, but IsolationForest was fitted with feature names\n"
     ]
    }
   ],
   "source": [
    "iso = IsolationForest(contamination=0.1)\n",
    "yhat_iForest = iso.fit_predict(df_train)"
   ]
  },
  {
   "cell_type": "code",
   "execution_count": 33,
   "metadata": {},
   "outputs": [
    {
     "data": {
      "image/png": "[encoded data removed]",
      "text/plain": [
       "<Figure size 576x223.2 with 2 Axes>"
      ]
     },
     "metadata": {
      "needs_background": "light"
     },
     "output_type": "display_data"
    }
   ],
   "source": [
    "shap_values = shap.TreeExplainer(iso).shap_values(df_test)\n",
    "shap.summary_plot(shap_values, df_test)"
   ]
  },
  {
   "cell_type": "markdown",
   "metadata": {},
   "source": [
    "## Minimum Covariance Determinant"
   ]
  },
  {
   "cell_type": "markdown",
   "metadata": {},
   "source": [
    "if the input variables have a Gaussian distribution, then simple statistical methods can be used to detect outliers. Check se distribuzione è gaussiana, metodo grafico e poi test di Shapiro-Wilk. La distribuzione non è gaussiana, p-value > 0.05, then we fail to reject the null hypothesis i.e. we assume the distribution of our variable is normal/gaussian."
   ]
  },
  {
   "cell_type": "code",
   "execution_count": 36,
   "metadata": {},
   "outputs": [
    {
     "data": {
      "image/png": "[encoded data removed]",
      "text/plain": [
       "<Figure size 432x288 with 1 Axes>"
      ]
     },
     "metadata": {
      "needs_background": "light"
     },
     "output_type": "display_data"
    }
   ],
   "source": [
    "final_ML[\"media\"].hist(bins=50);"
   ]
  },
  {
   "cell_type": "code",
   "execution_count": 37,
   "metadata": {},
   "outputs": [
    {
     "name": "stdout",
     "output_type": "stream",
     "text": [
      "stat=10564.698, p=0.000\n",
      "\n"
     ]
    }
   ],
   "source": [
    "from scipy.stats import normaltest\n",
    "\n",
    "stat, p = normaltest(final_ML[\"media\"])\n",
    "print('stat=%.3f, p=%.3f\\n' % (stat, p))"
   ]
  },
  {
   "cell_type": "code",
   "execution_count": 38,
   "metadata": {
    "collapsed": true
   },
   "outputs": [],
   "source": [
    "ee = EllipticEnvelope(contamination=0.01)\n",
    "yhat__ee = ee.fit_predict(df_train)"
   ]
  },
  {
   "cell_type": "markdown",
   "metadata": {},
   "source": [
    "## Local Outlier Factor"
   ]
  },
  {
   "cell_type": "code",
   "execution_count": 45,
   "metadata": {},
   "outputs": [],
   "source": [
    "LOF = LocalOutlierFactor()\n",
    "yhat_LOF = lof.fit_predict(df_train)"
   ]
  },
  {
   "cell_type": "code",
   "execution_count": 46,
   "metadata": {},
   "outputs": [
    {
     "data": {
      "text/plain": [
       "array([1, 1, 1, ..., 1, 1, 1])"
      ]
     },
     "execution_count": 46,
     "metadata": {},
     "output_type": "execute_result"
    }
   ],
   "source": [
    "yhat_LOF"
   ]
  },
  {
   "cell_type": "markdown",
   "metadata": {},
   "source": [
    "## One-Class Support Vector Machine "
   ]
  },
  {
   "cell_type": "code",
   "execution_count": 54,
   "metadata": {},
   "outputs": [],
   "source": [
    "ee = OneClassSVM(nu=0.01)\n",
    "yhat_SVM = ee.fit_predict(df_train)"
   ]
  },
  {
   "cell_type": "markdown",
   "metadata": {},
   "source": [
    "## Aggiungo colonne delle varie yhat al df"
   ]
  },
  {
   "cell_type": "code",
   "execution_count": 38,
   "metadata": {},
   "outputs": [
    {
     "data": {
      "text/plain": [
       "113336"
      ]
     },
     "execution_count": 38,
     "metadata": {},
     "output_type": "execute_result"
    }
   ],
   "source": [
    "len(df_train)"
   ]
  },
  {
   "cell_type": "code",
   "execution_count": 40,
   "metadata": {},
   "outputs": [],
   "source": [
    "df_train[\"iForest\"]=yhat_iForest"
   ]
  },
  {
   "cell_type": "code",
   "execution_count": 47,
   "metadata": {},
   "outputs": [],
   "source": [
    "df_train[\"LOF\"]=yhat_LOF"
   ]
  },
  {
   "cell_type": "code",
   "execution_count": 55,
   "metadata": {},
   "outputs": [],
   "source": [
    "df_train[\"SVM\"]=yhat_SVM"
   ]
  },
  {
   "cell_type": "code",
   "execution_count": 41,
   "metadata": {},
   "outputs": [
    {
     "data": {
      "text/html": [
       "<div>\n",
       "<style scoped>\n",
       "    .dataframe tbody tr th:only-of-type {\n",
       "        vertical-align: middle;\n",
       "    }\n",
       "\n",
       "    .dataframe tbody tr th {\n",
       "        vertical-align: top;\n",
       "    }\n",
       "\n",
       "    .dataframe thead th {\n",
       "        text-align: right;\n",
       "    }\n",
       "</style>\n",
       "<table border=\"1\" class=\"dataframe\">\n",
       "  <thead>\n",
       "    <tr style=\"text-align: right;\">\n",
       "      <th></th>\n",
       "      <th></th>\n",
       "      <th>mediana</th>\n",
       "      <th>lunghezza</th>\n",
       "      <th>derivata</th>\n",
       "      <th>kurtosis</th>\n",
       "      <th>iForest</th>\n",
       "    </tr>\n",
       "    <tr>\n",
       "      <th>spotName</th>\n",
       "      <th>TimeStamp</th>\n",
       "      <th></th>\n",
       "      <th></th>\n",
       "      <th></th>\n",
       "      <th></th>\n",
       "      <th></th>\n",
       "    </tr>\n",
       "  </thead>\n",
       "  <tbody>\n",
       "    <tr>\n",
       "      <th>60028_0_00</th>\n",
       "      <th>2020-01-09 10:23:49</th>\n",
       "      <td>7176.0</td>\n",
       "      <td>564</td>\n",
       "      <td>1.953901</td>\n",
       "      <td>2.988510</td>\n",
       "      <td>-1</td>\n",
       "    </tr>\n",
       "    <tr>\n",
       "      <th>60061_0_00</th>\n",
       "      <th>2020-01-14 13:06:07</th>\n",
       "      <td>7980.0</td>\n",
       "      <td>396</td>\n",
       "      <td>3.664141</td>\n",
       "      <td>27.120973</td>\n",
       "      <td>-1</td>\n",
       "    </tr>\n",
       "    <tr>\n",
       "      <th>60049_0_00</th>\n",
       "      <th>2019-09-23 07:20:22</th>\n",
       "      <td>7943.0</td>\n",
       "      <td>397</td>\n",
       "      <td>5.644836</td>\n",
       "      <td>30.379567</td>\n",
       "      <td>-1</td>\n",
       "    </tr>\n",
       "    <tr>\n",
       "      <th>60169_0_00</th>\n",
       "      <th>2019-12-10 19:25:45</th>\n",
       "      <td>8041.0</td>\n",
       "      <td>296</td>\n",
       "      <td>2.935811</td>\n",
       "      <td>13.988969</td>\n",
       "      <td>-1</td>\n",
       "    </tr>\n",
       "    <tr>\n",
       "      <th>60049_0_00</th>\n",
       "      <th>2019-12-03 11:43:31</th>\n",
       "      <td>8314.0</td>\n",
       "      <td>399</td>\n",
       "      <td>4.897243</td>\n",
       "      <td>8.781956</td>\n",
       "      <td>-1</td>\n",
       "    </tr>\n",
       "    <tr>\n",
       "      <th>...</th>\n",
       "      <th>...</th>\n",
       "      <td>...</td>\n",
       "      <td>...</td>\n",
       "      <td>...</td>\n",
       "      <td>...</td>\n",
       "      <td>...</td>\n",
       "    </tr>\n",
       "    <tr>\n",
       "      <th>60055_0_00</th>\n",
       "      <th>2020-02-25 14:29:52</th>\n",
       "      <td>7991.0</td>\n",
       "      <td>405</td>\n",
       "      <td>4.790123</td>\n",
       "      <td>12.529585</td>\n",
       "      <td>-1</td>\n",
       "    </tr>\n",
       "    <tr>\n",
       "      <th>60088_0_00</th>\n",
       "      <th>2019-11-27 12:53:33</th>\n",
       "      <td>6567.0</td>\n",
       "      <td>432</td>\n",
       "      <td>1.532407</td>\n",
       "      <td>1.319230</td>\n",
       "      <td>-1</td>\n",
       "    </tr>\n",
       "    <tr>\n",
       "      <th>60061_0_00</th>\n",
       "      <th>2020-03-04 11:07:28</th>\n",
       "      <td>8182.0</td>\n",
       "      <td>400</td>\n",
       "      <td>5.332500</td>\n",
       "      <td>30.790926</td>\n",
       "      <td>-1</td>\n",
       "    </tr>\n",
       "    <tr>\n",
       "      <th>60166_0_00</th>\n",
       "      <th>2020-03-12 15:46:18</th>\n",
       "      <td>7895.0</td>\n",
       "      <td>306</td>\n",
       "      <td>3.199346</td>\n",
       "      <td>4.117745</td>\n",
       "      <td>-1</td>\n",
       "    </tr>\n",
       "    <tr>\n",
       "      <th>60184_0_00</th>\n",
       "      <th>2020-03-03 16:33:03</th>\n",
       "      <td>8591.0</td>\n",
       "      <td>465</td>\n",
       "      <td>3.756989</td>\n",
       "      <td>-1.033392</td>\n",
       "      <td>-1</td>\n",
       "    </tr>\n",
       "  </tbody>\n",
       "</table>\n",
       "<p>11333 rows × 5 columns</p>\n",
       "</div>"
      ],
      "text/plain": [
       "                                mediana  lunghezza  derivata   kurtosis  \\\n",
       "spotName   TimeStamp                                                      \n",
       "60028_0_00 2020-01-09 10:23:49   7176.0        564  1.953901   2.988510   \n",
       "60061_0_00 2020-01-14 13:06:07   7980.0        396  3.664141  27.120973   \n",
       "60049_0_00 2019-09-23 07:20:22   7943.0        397  5.644836  30.379567   \n",
       "60169_0_00 2019-12-10 19:25:45   8041.0        296  2.935811  13.988969   \n",
       "60049_0_00 2019-12-03 11:43:31   8314.0        399  4.897243   8.781956   \n",
       "...                                 ...        ...       ...        ...   \n",
       "60055_0_00 2020-02-25 14:29:52   7991.0        405  4.790123  12.529585   \n",
       "60088_0_00 2019-11-27 12:53:33   6567.0        432  1.532407   1.319230   \n",
       "60061_0_00 2020-03-04 11:07:28   8182.0        400  5.332500  30.790926   \n",
       "60166_0_00 2020-03-12 15:46:18   7895.0        306  3.199346   4.117745   \n",
       "60184_0_00 2020-03-03 16:33:03   8591.0        465  3.756989  -1.033392   \n",
       "\n",
       "                                iForest  \n",
       "spotName   TimeStamp                     \n",
       "60028_0_00 2020-01-09 10:23:49       -1  \n",
       "60061_0_00 2020-01-14 13:06:07       -1  \n",
       "60049_0_00 2019-09-23 07:20:22       -1  \n",
       "60169_0_00 2019-12-10 19:25:45       -1  \n",
       "60049_0_00 2019-12-03 11:43:31       -1  \n",
       "...                                 ...  \n",
       "60055_0_00 2020-02-25 14:29:52       -1  \n",
       "60088_0_00 2019-11-27 12:53:33       -1  \n",
       "60061_0_00 2020-03-04 11:07:28       -1  \n",
       "60166_0_00 2020-03-12 15:46:18       -1  \n",
       "60184_0_00 2020-03-03 16:33:03       -1  \n",
       "\n",
       "[11333 rows x 5 columns]"
      ]
     },
     "execution_count": 41,
     "metadata": {},
     "output_type": "execute_result"
    }
   ],
   "source": [
    "df_train[df_train[\"iForest\"]==-1]"
   ]
  },
  {
   "cell_type": "code",
   "execution_count": null,
   "metadata": {},
   "outputs": [],
   "source": []
  },
  {
   "cell_type": "markdown",
   "metadata": {},
   "source": [
    "## Plot per valutare curve anomale\n",
    "Le curve anomale rilevate sembrerebbero essere quelle con i cali anomali, sia attraverso drop repentini che cali più graduali ma precoci rispetto alla media\n",
    "\n",
    "***L'algoritmo di ML avrà un bias per i cali rispetto ai picchi poichè i cali repentini rappresentano l'anomalia più evidente e diffusa del processo !!***\n",
    "\n",
    "I processi con i cali più graduali spesso non vengono identificati da anomaly_drop ma sono caratterizzati da un alto valore di %volt_anomalies"
   ]
  },
  {
   "cell_type": "code",
   "execution_count": null,
   "metadata": {},
   "outputs": [],
   "source": [
    "df.CurrentCurve"
   ]
  },
  {
   "cell_type": "code",
   "execution_count": null,
   "metadata": {},
   "outputs": [],
   "source": [
    "60061_0_00\t2020-01-14 13:06:07"
   ]
  },
  {
   "cell_type": "code",
   "execution_count": null,
   "metadata": {},
   "outputs": [],
   "source": [
    "df= pd.read_pickle(\"../data/with_stat_anomalies.pkl\")  "
   ]
  },
  {
   "cell_type": "code",
   "execution_count": 42,
   "metadata": {},
   "outputs": [
    {
     "name": "stderr",
     "output_type": "stream",
     "text": [
      "indexing past lexsort depth may impact performance.\n"
     ]
    },
    {
     "data": {
      "text/html": [
       "<div>\n",
       "<style scoped>\n",
       "    .dataframe tbody tr th:only-of-type {\n",
       "        vertical-align: middle;\n",
       "    }\n",
       "\n",
       "    .dataframe tbody tr th {\n",
       "        vertical-align: top;\n",
       "    }\n",
       "\n",
       "    .dataframe thead th {\n",
       "        text-align: right;\n",
       "    }\n",
       "</style>\n",
       "<table border=\"1\" class=\"dataframe\">\n",
       "  <thead>\n",
       "    <tr style=\"text-align: right;\">\n",
       "      <th></th>\n",
       "      <th>index</th>\n",
       "      <th>VoltageCurve</th>\n",
       "      <th>CurrentCurve</th>\n",
       "    </tr>\n",
       "    <tr>\n",
       "      <th>TimeStamp</th>\n",
       "      <th></th>\n",
       "      <th></th>\n",
       "      <th></th>\n",
       "    </tr>\n",
       "  </thead>\n",
       "  <tbody>\n",
       "    <tr>\n",
       "      <th>2020-01-09 10:23:49</th>\n",
       "      <td>97219</td>\n",
       "      <td>[117, 666, 1168, 1505, 1717, 1874, 1968, 1999,...</td>\n",
       "      <td>[268, 1697, 3037, 4020, 4704, 5300, 5806, 6074...</td>\n",
       "    </tr>\n",
       "  </tbody>\n",
       "</table>\n",
       "</div>"
      ],
      "text/plain": [
       "                     index                                       VoltageCurve  \\\n",
       "TimeStamp                                                                       \n",
       "2020-01-09 10:23:49  97219  [117, 666, 1168, 1505, 1717, 1874, 1968, 1999,...   \n",
       "\n",
       "                                                          CurrentCurve  \n",
       "TimeStamp                                                               \n",
       "2020-01-09 10:23:49  [268, 1697, 3037, 4020, 4704, 5300, 5806, 6074...  "
      ]
     },
     "execution_count": 42,
     "metadata": {},
     "output_type": "execute_result"
    }
   ],
   "source": [
    "df.loc[('60028_0_00', '2020-01-09 10:23:49'), :]"
   ]
  },
  {
   "cell_type": "code",
   "execution_count": 47,
   "metadata": {},
   "outputs": [
    {
     "name": "stderr",
     "output_type": "stream",
     "text": [
      "indexing past lexsort depth may impact performance.\n"
     ]
    },
    {
     "data": {
      "text/plain": [
       "[<matplotlib.lines.Line2D at 0x2235161d250>]"
      ]
     },
     "execution_count": 47,
     "metadata": {},
     "output_type": "execute_result"
    },
    {
     "data": {
      "image/png": "[encoded data removed]",
      "text/plain": [
       "<Figure size 432x288 with 1 Axes>"
      ]
     },
     "metadata": {
      "needs_background": "light"
     },
     "output_type": "display_data"
    }
   ],
   "source": [
    "curva=df.loc[('60061_0_00', '2020-01-14 13:06:07'), :].CurrentCurve\n",
    "plot(curva.values[0])"
   ]
  }
 ],
 "metadata": {
  "interpreter": {
   "hash": "483f5a6b43a3cd7963c5b202370231d608089097c1755e1e048d60a8aae317e5"
  },
  "kernelspec": {
   "display_name": "Python 3",
   "language": "python",
   "name": "python3"
  },
  "language_info": {
   "codemirror_mode": {
    "name": "ipython",
    "version": 3
   },
   "file_extension": ".py",
   "mimetype": "text/x-python",
   "name": "python",
   "nbconvert_exporter": "python",
   "pygments_lexer": "ipython3",
   "version": "3.9.7"
  }
 },
 "nbformat": 4,
 "nbformat_minor": 2
}
