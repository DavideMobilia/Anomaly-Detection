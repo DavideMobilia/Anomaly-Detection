{
 "cells": [
  {
   "cell_type": "code",
   "execution_count": 1,
   "metadata": {},
   "outputs": [],
   "source": [
    "import pandas as pd\n",
    "import numpy as np\n",
    "from matplotlib import pyplot as plt\n",
    "from pylab import *"
   ]
  },
  {
   "cell_type": "code",
   "execution_count": 2,
   "metadata": {},
   "outputs": [
    {
     "data": {
      "text/html": [
       "<div>\n",
       "<style scoped>\n",
       "    .dataframe tbody tr th:only-of-type {\n",
       "        vertical-align: middle;\n",
       "    }\n",
       "\n",
       "    .dataframe tbody tr th {\n",
       "        vertical-align: top;\n",
       "    }\n",
       "\n",
       "    .dataframe thead th {\n",
       "        text-align: right;\n",
       "    }\n",
       "</style>\n",
       "<table border=\"1\" class=\"dataframe\">\n",
       "  <thead>\n",
       "    <tr style=\"text-align: right;\">\n",
       "      <th></th>\n",
       "      <th>VoltageCurve</th>\n",
       "      <th>CurrentCurve</th>\n",
       "      <th>spotName</th>\n",
       "    </tr>\n",
       "    <tr>\n",
       "      <th>TimeStamp</th>\n",
       "      <th></th>\n",
       "      <th></th>\n",
       "      <th></th>\n",
       "    </tr>\n",
       "  </thead>\n",
       "  <tbody>\n",
       "    <tr>\n",
       "      <th>2019-11-07 12:29:06</th>\n",
       "      <td>[132, 744, 1299, 1663, 1894, 2002, 2068, 2110,...</td>\n",
       "      <td>[311, 1990, 3577, 4759, 5599, 6190, 6594, 6999...</td>\n",
       "      <td>60000_0_00</td>\n",
       "    </tr>\n",
       "    <tr>\n",
       "      <th>2019-11-07 12:29:26</th>\n",
       "      <td>[136, 752, 1308, 1675, 1923, 2068, 2128, 2180,...</td>\n",
       "      <td>[301, 1961, 3470, 4527, 5432, 6066, 6489, 6911...</td>\n",
       "      <td>60000_0_00</td>\n",
       "    </tr>\n",
       "    <tr>\n",
       "      <th>2019-11-07 12:29:26</th>\n",
       "      <td>[139, 757, 1292, 1655, 1885, 2042, 2099, 2099,...</td>\n",
       "      <td>[333, 2058, 3663, 4814, 5661, 6388, 6842, 7084...</td>\n",
       "      <td>60000_0_00</td>\n",
       "    </tr>\n",
       "    <tr>\n",
       "      <th>2019-11-07 12:29:30</th>\n",
       "      <td>[133, 743, 1286, 1645, 1887, 2046, 2104, 2104,...</td>\n",
       "      <td>[307, 2031, 3632, 4802, 5695, 6434, 6865, 7142...</td>\n",
       "      <td>60000_0_00</td>\n",
       "    </tr>\n",
       "    <tr>\n",
       "      <th>2019-11-07 12:29:32</th>\n",
       "      <td>[137, 755, 1313, 1683, 1906, 2043, 2147, 2189,...</td>\n",
       "      <td>[302, 1995, 3508, 4596, 5382, 5987, 6562, 6955...</td>\n",
       "      <td>60000_0_00</td>\n",
       "    </tr>\n",
       "  </tbody>\n",
       "</table>\n",
       "</div>"
      ],
      "text/plain": [
       "                                                          VoltageCurve  \\\n",
       "TimeStamp                                                                \n",
       "2019-11-07 12:29:06  [132, 744, 1299, 1663, 1894, 2002, 2068, 2110,...   \n",
       "2019-11-07 12:29:26  [136, 752, 1308, 1675, 1923, 2068, 2128, 2180,...   \n",
       "2019-11-07 12:29:26  [139, 757, 1292, 1655, 1885, 2042, 2099, 2099,...   \n",
       "2019-11-07 12:29:30  [133, 743, 1286, 1645, 1887, 2046, 2104, 2104,...   \n",
       "2019-11-07 12:29:32  [137, 755, 1313, 1683, 1906, 2043, 2147, 2189,...   \n",
       "\n",
       "                                                          CurrentCurve  \\\n",
       "TimeStamp                                                                \n",
       "2019-11-07 12:29:06  [311, 1990, 3577, 4759, 5599, 6190, 6594, 6999...   \n",
       "2019-11-07 12:29:26  [301, 1961, 3470, 4527, 5432, 6066, 6489, 6911...   \n",
       "2019-11-07 12:29:26  [333, 2058, 3663, 4814, 5661, 6388, 6842, 7084...   \n",
       "2019-11-07 12:29:30  [307, 2031, 3632, 4802, 5695, 6434, 6865, 7142...   \n",
       "2019-11-07 12:29:32  [302, 1995, 3508, 4596, 5382, 5987, 6562, 6955...   \n",
       "\n",
       "                       spotName  \n",
       "TimeStamp                        \n",
       "2019-11-07 12:29:06  60000_0_00  \n",
       "2019-11-07 12:29:26  60000_0_00  \n",
       "2019-11-07 12:29:26  60000_0_00  \n",
       "2019-11-07 12:29:30  60000_0_00  \n",
       "2019-11-07 12:29:32  60000_0_00  "
      ]
     },
     "execution_count": 2,
     "metadata": {},
     "output_type": "execute_result"
    }
   ],
   "source": [
    "df= pd.read_pickle(\"../data/clean_rows_df.pkl\")  \n",
    "df.head()"
   ]
  },
  {
   "cell_type": "code",
   "execution_count": 3,
   "metadata": {},
   "outputs": [],
   "source": [
    "#Voltage_df=df.drop(\"CurrentCurve\", axis=1)\n",
    "#Current_df=df.drop(\"VoltageCurve\", axis=1)"
   ]
  },
  {
   "cell_type": "code",
   "execution_count": 3,
   "metadata": {},
   "outputs": [],
   "source": [
    "df.reset_index(inplace=True)\n",
    "df.set_index([\"spotName\",\"TimeStamp\"],inplace=True)"
   ]
  },
  {
   "cell_type": "code",
   "execution_count": 5,
   "metadata": {},
   "outputs": [],
   "source": [
    "exploded_voltage=pd.DataFrame(df.VoltageCurve.tolist(), index= df.index)"
   ]
  },
  {
   "cell_type": "code",
   "execution_count": 6,
   "metadata": {},
   "outputs": [],
   "source": [
    "#quali dati hanno la massima numerosità (624) di raccolte\n",
    "#exploded_voltage[exploded_voltage[623].notna()].head()\n",
    "#per selezionare la prima riga\n",
    "#exploded_voltage.iloc[0]\n",
    "#oppure\n",
    "#exploded_voltage.loc[(\"60000_0_00\",\"2019-11-07 12:29:06\")]"
   ]
  },
  {
   "cell_type": "markdown",
   "metadata": {},
   "source": [
    "# Analisi sui valori della tensione\n",
    "Da grafico delle slide (da ricreare) si nota come molte curve abbiano un calo improvviso: andremo a cercare di identificare tali curve"
   ]
  },
  {
   "cell_type": "code",
   "execution_count": 7,
   "metadata": {},
   "outputs": [
    {
     "data": {
      "text/plain": [
       "<AxesSubplot:>"
      ]
     },
     "execution_count": 7,
     "metadata": {},
     "output_type": "execute_result"
    },
    {
     "data": {
      "image/png": "[encoded data removed]",
      "text/plain": [
       "<Figure size 432x288 with 1 Axes>"
      ]
     },
     "metadata": {
      "needs_background": "light"
     },
     "output_type": "display_data"
    }
   ],
   "source": [
    "exploded_voltage.count(axis=1).hist(bins=20,range=(200,650))"
   ]
  },
  {
   "cell_type": "code",
   "execution_count": 8,
   "metadata": {},
   "outputs": [
    {
     "data": {
      "text/plain": [
       "[<matplotlib.lines.Line2D at 0x20c3e148d90>]"
      ]
     },
     "execution_count": 8,
     "metadata": {},
     "output_type": "execute_result"
    },
    {
     "data": {
      "image/png": "[encoded data removed]",
      "text/plain": [
       "<Figure size 432x288 with 1 Axes>"
      ]
     },
     "metadata": {
      "needs_background": "light"
     },
     "output_type": "display_data"
    }
   ],
   "source": [
    "#plotto la curva media di tutti i valori\n",
    "plot(exploded_voltage.mean(axis=0),\"blue\")\n",
    "#plotto la curva media delle sole curve con meno di 500 rilevazioni\n",
    "plot(exploded_voltage[exploded_voltage.count(axis=1)<550].mean(axis=0),\"green\")\n",
    "#plotto la curva media delle sole curve con più di 500 rilevazioni\n",
    "plot(exploded_voltage[exploded_voltage.count(axis=1)>550].mean(axis=0),\"orange\")\n",
    "#plotto la curva media delle sole curve con più di 600 rilevazioni\n",
    "plot(exploded_voltage[exploded_voltage.count(axis=1)>600].mean(axis=0),\"red\")\n",
    "#plotto la curva media delle sole curve con più di 600 rilevazioni\n",
    "plot(exploded_voltage[exploded_voltage.count(axis=1)<340].mean(axis=0),\"violet\")"
   ]
  },
  {
   "cell_type": "markdown",
   "metadata": {},
   "source": [
    "# Approccio statistico di Anomaly Detection"
   ]
  },
  {
   "cell_type": "markdown",
   "metadata": {},
   "source": [
    "## Analisi Strutturale: picchi e cali di tensione\n",
    "Voglio identificare, attraverso un approccio statistico del differenziale, quelle curve che hanno avuto un picco (o un calo) improvviso della tensione, per cui risulta un anomalia strutturale della curva stessa.\n",
    "\n",
    "Attraverso diversi tentativi e verifiche grafiche si è optato per un differenziale di quinto ordine."
   ]
  },
  {
   "cell_type": "code",
   "execution_count": 9,
   "metadata": {},
   "outputs": [],
   "source": [
    "#calcolo il differenziale di quinto ordine tra valori successivi \n",
    "voltage_lag5=exploded_voltage.diff(periods=5,axis=1)\n",
    "#voltage_lag5.mean(axis=0).head(20)"
   ]
  },
  {
   "cell_type": "markdown",
   "metadata": {},
   "source": [
    "DA RIVEDERE IL 4*x.std()"
   ]
  },
  {
   "cell_type": "code",
   "execution_count": 10,
   "metadata": {},
   "outputs": [],
   "source": [
    "#creazione upper e lower limit con uso di mean e deviazion standard (mean +- 4*std)\n",
    "upper_lag=voltage_lag5.apply(lambda x : x.mean()+4*x.std(),axis=0)\n",
    "lower_lag=voltage_lag5.apply(lambda x : x.mean()-4*x.std(),axis=0)\n",
    "#creazione upper e lower usando i quantili\n",
    "upper_lag2=voltage_lag5.apply(lambda x : x.quantile(0.75)+1.5*(x.quantile(0.75)-x.quantile(0.25)),axis=0)\n",
    "lower_lag2=voltage_lag5.apply(lambda x : x.quantile(0.25)-1.5*(x.quantile(0.75)-x.quantile(0.25)),axis=0)"
   ]
  },
  {
   "cell_type": "markdown",
   "metadata": {},
   "source": [
    "### Identificazione dei dati che mostrano un calo o un picco della tensione"
   ]
  },
  {
   "cell_type": "code",
   "execution_count": 11,
   "metadata": {},
   "outputs": [],
   "source": [
    "#per poter verificare se i valori rientrano o meno nelle soglie stabilite devo trattare i Null:\n",
    "#sostituisco i Null in voltage_lag5 con 0 \n",
    "voltage_lag5=voltage_lag5.fillna(0)\n",
    "\n",
    "#sostituisco i Null in upper_lag con 500\n",
    "upper_lag=upper_lag.fillna(500)\n",
    "#sostituisco i Null in lower_lag con -500\n",
    "lower_lag=lower_lag.fillna(-500)"
   ]
  },
  {
   "cell_type": "code",
   "execution_count": 12,
   "metadata": {},
   "outputs": [],
   "source": [
    "#creo la colonna voltage_drop per segnalare se nella curva c'è stato un calo di tensione\n",
    "exploded_voltage[\"voltage_drop\"]=voltage_lag5.apply(lambda x : any(x<lower_lag),axis=1)\n",
    "#creo la colonna voltage_drop per segnalare se nella curva c'è stato un picco di tensione\n",
    "exploded_voltage[\"voltage_spike\"]=voltage_lag5.apply(lambda x : any(x>upper_lag),axis=1)"
   ]
  },
  {
   "cell_type": "code",
   "execution_count": 13,
   "metadata": {},
   "outputs": [],
   "source": [
    "#creo voltage_drops con solo curve con cali di tensione\n",
    "voltage_drops=exploded_voltage[exploded_voltage[\"voltage_drop\"]==True]\n",
    "voltage_drops=voltage_drops.drop([\"voltage_drop\",\"voltage_spike\"],axis=1)"
   ]
  },
  {
   "cell_type": "code",
   "execution_count": 14,
   "metadata": {},
   "outputs": [],
   "source": [
    "##creo voltage_spikes con solo curve con picchi di tensione\n",
    "voltage_spikes=exploded_voltage[exploded_voltage[\"voltage_spike\"]==True]\n",
    "voltage_spikes=voltage_spikes.drop([\"voltage_drop\",\"voltage_spike\"],axis=1)"
   ]
  },
  {
   "cell_type": "markdown",
   "metadata": {},
   "source": [
    "Esempio di detection di un calo anomalo della tensione"
   ]
  },
  {
   "cell_type": "code",
   "execution_count": 15,
   "metadata": {},
   "outputs": [
    {
     "data": {
      "text/plain": [
       "[<matplotlib.lines.Line2D at 0x20d378464f0>]"
      ]
     },
     "execution_count": 15,
     "metadata": {},
     "output_type": "execute_result"
    },
    {
     "data": {
      "image/png": "[encoded data removed]",
      "text/plain": [
       "<Figure size 432x288 with 1 Axes>"
      ]
     },
     "metadata": {
      "needs_background": "light"
     },
     "output_type": "display_data"
    }
   ],
   "source": [
    "# plot dei differenziali e relativi range di ammissibilità\n",
    "plt.plot(upper_lag[20:],\"red\")\n",
    "plt.plot(upper_lag2[20:],\"orange\")\n",
    "plot(voltage_lag5[any(voltage_lag5<lower_lag,axis=1)].iloc[1][20:],\"blue\")\n",
    "plt.plot(lower_lag2[20:],\"orange\")\n",
    "plt.plot(lower_lag[20:],\"red\")"
   ]
  },
  {
   "cell_type": "code",
   "execution_count": 16,
   "metadata": {},
   "outputs": [
    {
     "data": {
      "text/plain": [
       "[<matplotlib.lines.Line2D at 0x20d35622730>]"
      ]
     },
     "execution_count": 16,
     "metadata": {},
     "output_type": "execute_result"
    },
    {
     "data": {
      "image/png": "[encoded data removed]",
      "text/plain": [
       "<Figure size 432x288 with 1 Axes>"
      ]
     },
     "metadata": {
      "needs_background": "light"
     },
     "output_type": "display_data"
    }
   ],
   "source": [
    "#curva con picco in rosso\n",
    "plot(voltage_drops.iloc[1],\"red\")\n",
    "#curva media tra tutti i dati in verde\n",
    "plt.plot(exploded_voltage.iloc[: , :624].median(axis=0),\"green\")"
   ]
  },
  {
   "cell_type": "markdown",
   "metadata": {},
   "source": [
    "Esempio di detection di un picco anomalo della tensione"
   ]
  },
  {
   "cell_type": "code",
   "execution_count": 17,
   "metadata": {},
   "outputs": [
    {
     "data": {
      "text/plain": [
       "[<matplotlib.lines.Line2D at 0x20d356a0640>]"
      ]
     },
     "execution_count": 17,
     "metadata": {},
     "output_type": "execute_result"
    },
    {
     "data": {
      "image/png": "[encoded data removed]",
      "text/plain": [
       "<Figure size 432x288 with 1 Axes>"
      ]
     },
     "metadata": {
      "needs_background": "light"
     },
     "output_type": "display_data"
    }
   ],
   "source": [
    "plt.plot(upper_lag[20:],\"red\")\n",
    "plt.plot(upper_lag2[20:],\"orange\")\n",
    "plot(voltage_lag5[any(voltage_lag5>upper_lag,axis=1)].iloc[1][20:],\"blue\")\n",
    "plt.plot(lower_lag2[20:],\"orange\")\n",
    "plt.plot(lower_lag[20:],\"red\")"
   ]
  },
  {
   "cell_type": "code",
   "execution_count": 18,
   "metadata": {},
   "outputs": [
    {
     "data": {
      "text/plain": [
       "[<matplotlib.lines.Line2D at 0x20d3570b910>]"
      ]
     },
     "execution_count": 18,
     "metadata": {},
     "output_type": "execute_result"
    },
    {
     "data": {
      "image/png": "[encoded data removed]",
      "text/plain": [
       "<Figure size 432x288 with 1 Axes>"
      ]
     },
     "metadata": {
      "needs_background": "light"
     },
     "output_type": "display_data"
    }
   ],
   "source": [
    "#curva con picco in rosso\n",
    "plot(voltage_spikes.iloc[1],\"red\")\n",
    "#curva media tra tutti i dati in verde\n",
    "#plt.plot(voltage_no_drops.median(axis=0),\"blue\")\n",
    "plt.plot(exploded_voltage.iloc[: , :624].median(axis=0),\"green\")"
   ]
  },
  {
   "cell_type": "markdown",
   "metadata": {},
   "source": [
    "Esempio di curva che presenta sia un picco che un calo anomalo della tensione"
   ]
  },
  {
   "cell_type": "code",
   "execution_count": 19,
   "metadata": {},
   "outputs": [
    {
     "data": {
      "text/plain": [
       "713"
      ]
     },
     "execution_count": 19,
     "metadata": {},
     "output_type": "execute_result"
    }
   ],
   "source": [
    "#creo both_anomalies, dataframe in cui le curve hanno sia un picco che un calo in tensione\n",
    "both_anomalies=exploded_voltage[(exploded_voltage[\"voltage_drop\"]==True) & (exploded_voltage[\"voltage_spike\"]==True)]\n",
    "both_anomalies=both_anomalies.drop([\"voltage_drop\",\"voltage_spike\"],axis=1)\n",
    "len(both_anomalies)"
   ]
  },
  {
   "cell_type": "code",
   "execution_count": 20,
   "metadata": {},
   "outputs": [
    {
     "data": {
      "text/plain": [
       "[<matplotlib.lines.Line2D at 0x20d3576ee20>]"
      ]
     },
     "execution_count": 20,
     "metadata": {},
     "output_type": "execute_result"
    },
    {
     "data": {
      "image/png": "[encoded data removed]",
      "text/plain": [
       "<Figure size 432x288 with 1 Axes>"
      ]
     },
     "metadata": {
      "needs_background": "light"
     },
     "output_type": "display_data"
    }
   ],
   "source": [
    "plot(both_anomalies.iloc[65])\n",
    "plt.plot(exploded_voltage.iloc[: , :624].median(axis=0),\"green\")"
   ]
  },
  {
   "cell_type": "code",
   "execution_count": 21,
   "metadata": {},
   "outputs": [],
   "source": [
    "#aggiungo la colonna voltage_drop e voltage_spike al df originale\n",
    "df=df.join(exploded_voltage[[\"voltage_drop\",\"voltage_spike\"]],how=\"left\")"
   ]
  },
  {
   "cell_type": "code",
   "execution_count": 22,
   "metadata": {},
   "outputs": [
    {
     "data": {
      "text/html": [
       "<div>\n",
       "<style scoped>\n",
       "    .dataframe tbody tr th:only-of-type {\n",
       "        vertical-align: middle;\n",
       "    }\n",
       "\n",
       "    .dataframe tbody tr th {\n",
       "        vertical-align: top;\n",
       "    }\n",
       "\n",
       "    .dataframe thead th {\n",
       "        text-align: right;\n",
       "    }\n",
       "</style>\n",
       "<table border=\"1\" class=\"dataframe\">\n",
       "  <thead>\n",
       "    <tr style=\"text-align: right;\">\n",
       "      <th></th>\n",
       "      <th></th>\n",
       "      <th>VoltageCurve</th>\n",
       "      <th>CurrentCurve</th>\n",
       "      <th>voltage_drop</th>\n",
       "      <th>voltage_spike</th>\n",
       "    </tr>\n",
       "    <tr>\n",
       "      <th>spotName</th>\n",
       "      <th>TimeStamp</th>\n",
       "      <th></th>\n",
       "      <th></th>\n",
       "      <th></th>\n",
       "      <th></th>\n",
       "    </tr>\n",
       "  </thead>\n",
       "  <tbody>\n",
       "    <tr>\n",
       "      <th rowspan=\"5\" valign=\"top\">60000_0_00</th>\n",
       "      <th>2019-09-17 17:56:02</th>\n",
       "      <td>[139, 752, 1329, 1687, 1897, 2037, 2098, 2107,...</td>\n",
       "      <td>[302, 1999, 3574, 4694, 5512, 6148, 6542, 6815...</td>\n",
       "      <td>False</td>\n",
       "      <td>False</td>\n",
       "    </tr>\n",
       "    <tr>\n",
       "      <th>2019-09-17 17:56:07</th>\n",
       "      <td>[134, 755, 1309, 1661, 1888, 2056, 2140, 2140,...</td>\n",
       "      <td>[303, 2002, 3549, 4702, 5551, 6340, 6886, 7189...</td>\n",
       "      <td>False</td>\n",
       "      <td>False</td>\n",
       "    </tr>\n",
       "    <tr>\n",
       "      <th>2019-09-17 18:05:02</th>\n",
       "      <td>[134, 758, 1298, 1652, 1897, 2065, 2124, 2124,...</td>\n",
       "      <td>[305, 2017, 3607, 4738, 5656, 6389, 6848, 7154...</td>\n",
       "      <td>False</td>\n",
       "      <td>False</td>\n",
       "    </tr>\n",
       "    <tr>\n",
       "      <th>2019-09-17 18:42:46</th>\n",
       "      <td>[138, 767, 1328, 1682, 1906, 2061, 2139, 2148,...</td>\n",
       "      <td>[333, 2033, 3641, 4795, 5614, 6312, 6767, 7040...</td>\n",
       "      <td>False</td>\n",
       "      <td>False</td>\n",
       "    </tr>\n",
       "    <tr>\n",
       "      <th>2019-09-17 18:59:36</th>\n",
       "      <td>[130, 745, 1300, 1646, 1854, 2028, 2114, 2114,...</td>\n",
       "      <td>[302, 1996, 3569, 4719, 5536, 6262, 6837, 7109...</td>\n",
       "      <td>False</td>\n",
       "      <td>False</td>\n",
       "    </tr>\n",
       "  </tbody>\n",
       "</table>\n",
       "</div>"
      ],
      "text/plain": [
       "                                                                     VoltageCurve  \\\n",
       "spotName   TimeStamp                                                                \n",
       "60000_0_00 2019-09-17 17:56:02  [139, 752, 1329, 1687, 1897, 2037, 2098, 2107,...   \n",
       "           2019-09-17 17:56:07  [134, 755, 1309, 1661, 1888, 2056, 2140, 2140,...   \n",
       "           2019-09-17 18:05:02  [134, 758, 1298, 1652, 1897, 2065, 2124, 2124,...   \n",
       "           2019-09-17 18:42:46  [138, 767, 1328, 1682, 1906, 2061, 2139, 2148,...   \n",
       "           2019-09-17 18:59:36  [130, 745, 1300, 1646, 1854, 2028, 2114, 2114,...   \n",
       "\n",
       "                                                                     CurrentCurve  \\\n",
       "spotName   TimeStamp                                                                \n",
       "60000_0_00 2019-09-17 17:56:02  [302, 1999, 3574, 4694, 5512, 6148, 6542, 6815...   \n",
       "           2019-09-17 17:56:07  [303, 2002, 3549, 4702, 5551, 6340, 6886, 7189...   \n",
       "           2019-09-17 18:05:02  [305, 2017, 3607, 4738, 5656, 6389, 6848, 7154...   \n",
       "           2019-09-17 18:42:46  [333, 2033, 3641, 4795, 5614, 6312, 6767, 7040...   \n",
       "           2019-09-17 18:59:36  [302, 1996, 3569, 4719, 5536, 6262, 6837, 7109...   \n",
       "\n",
       "                                voltage_drop  voltage_spike  \n",
       "spotName   TimeStamp                                         \n",
       "60000_0_00 2019-09-17 17:56:02         False          False  \n",
       "           2019-09-17 17:56:07         False          False  \n",
       "           2019-09-17 18:05:02         False          False  \n",
       "           2019-09-17 18:42:46         False          False  \n",
       "           2019-09-17 18:59:36         False          False  "
      ]
     },
     "execution_count": 22,
     "metadata": {},
     "output_type": "execute_result"
    }
   ],
   "source": [
    "df.head()"
   ]
  },
  {
   "cell_type": "markdown",
   "metadata": {},
   "source": [
    "## Anomaly detection per singoli punti\n",
    "Non conosciamo la distribuzione che i dati assumono nei vari istanti temporali (anche se data la numerosità potremmo assumere una distribuzione normale). Definiamo gli outlier come:\n",
    "-   The data points which fall below mean-3*(sigma) or above mean+3*(sigma) [adatta a norm]\n",
    "-   The data points which fall below Q1 – 1.5 IQR or above Q3 + 1.5 IQR [adatta per dist asimettriche]"
   ]
  },
  {
   "cell_type": "code",
   "execution_count": 23,
   "metadata": {},
   "outputs": [],
   "source": [
    "no_spikes=exploded_voltage[(exploded_voltage[\"voltage_drop\"]==False) & (exploded_voltage[\"voltage_spike\"]==False)]\n"
   ]
  },
  {
   "cell_type": "code",
   "execution_count": 24,
   "metadata": {},
   "outputs": [
    {
     "name": "stdout",
     "output_type": "stream",
     "text": [
      "0.798209463260943\n"
     ]
    },
    {
     "data": {
      "text/plain": [
       "113499"
      ]
     },
     "execution_count": 24,
     "metadata": {},
     "output_type": "execute_result"
    }
   ],
   "source": [
    "no_spikes=no_spikes.drop([\"voltage_drop\",\"voltage_spike\"],axis=1)\n",
    "print(len(no_spikes)/len(exploded_voltage))\n",
    "len(no_spikes)"
   ]
  },
  {
   "cell_type": "markdown",
   "metadata": {},
   "source": [
    "Poichè le curve con picchi o cali anomali della tensione anomali rappresentano circa il 20% delle curve totali andrò a definire le curve di ammissione con 1.5*deviazione standard che rappresenta circa l'87% della distribuzione di una normale. Approccio quindi safe rispetto alle anomalie già trovate"
   ]
  },
  {
   "cell_type": "markdown",
   "metadata": {},
   "source": [
    "![gatto](../curva-gaussiana-normale-standardizzata.gif)"
   ]
  },
  {
   "cell_type": "code",
   "execution_count": 25,
   "metadata": {},
   "outputs": [],
   "source": [
    "#creazione upper e lower limit come per Normale (mean +- 2*std:al 95%,mean +- 3*std:al 99% )\n",
    "upper_limit=exploded_voltage.drop([\"voltage_drop\",\"voltage_spike\"],axis=1).apply(lambda x : x.mean()+1.5*x.std(),axis=0)\n",
    "lower_limit=exploded_voltage.drop([\"voltage_drop\",\"voltage_spike\"],axis=1).apply(lambda x : x.mean()-1.5*x.std(),axis=0)"
   ]
  },
  {
   "cell_type": "markdown",
   "metadata": {},
   "source": [
    "Stesso discorso con i limiti percentili: andrò a considerare valori fuori norma quelli oltre il 94° percentile (o inferiore al 6° percentile)"
   ]
  },
  {
   "cell_type": "code",
   "execution_count": 26,
   "metadata": {},
   "outputs": [],
   "source": [
    "#creazione upper e lower usando i quantili\n",
    "#upper_limit2=no_spikes.apply(lambda x : x.quantile(0.75)+1.5*(x.quantile(0.75)-x.quantile(0.25)),axis=0)\n",
    "#lower_limit2=no_spikes.apply(lambda x : x.quantile(0.25)-1.5*(x.quantile(0.75)-x.quantile(0.25)),axis=0)\n",
    "upper_limit2=no_spikes.apply(lambda x : x.quantile(0.90),axis=0)\n",
    "lower_limit2=no_spikes.apply(lambda x : x.quantile(0.1),axis=0)"
   ]
  },
  {
   "cell_type": "code",
   "execution_count": 27,
   "metadata": {},
   "outputs": [],
   "source": [
    "#sostituisco i valori na dei range con i quantili con valori abbastanza ampi da contenere gli eventuali notNA\n",
    "upper_limit2=upper_limit2.fillna(1650)\n",
    "lower_limit2=lower_limit2.fillna(1350)"
   ]
  },
  {
   "cell_type": "code",
   "execution_count": 28,
   "metadata": {},
   "outputs": [
    {
     "data": {
      "text/plain": [
       "[<matplotlib.lines.Line2D at 0x20d35813490>]"
      ]
     },
     "execution_count": 28,
     "metadata": {},
     "output_type": "execute_result"
    },
    {
     "data": {
      "image/png": "[encoded data removed]",
      "text/plain": [
       "<Figure size 432x288 with 1 Axes>"
      ]
     },
     "metadata": {
      "needs_background": "light"
     },
     "output_type": "display_data"
    }
   ],
   "source": [
    "#plottiamo i limiti per vedere come si comportano (in arancio limiti con la std, in rosso con i percentili)\n",
    "#ex particolari: 590\n",
    "plot(upper_limit,\"orange\")\n",
    "plot(lower_limit,\"orange\")\n",
    "plot(exploded_voltage.drop([\"voltage_drop\",\"voltage_spike\"],axis=1).iloc[30],\"blue\")\n",
    "plot(upper_limit2,\"red\")\n",
    "plot(lower_limit2,\"red\")"
   ]
  },
  {
   "cell_type": "markdown",
   "metadata": {},
   "source": [
    "Si nota che gli itervalli costruiti tramite percentili sono leggeremente traslati verso l'alto. Decidiamo di considerare i percentili per la definizione degli outlier poichè la mediana è una misura più robusta alla presenza di outlier. "
   ]
  },
  {
   "cell_type": "code",
   "execution_count": 29,
   "metadata": {},
   "outputs": [],
   "source": [
    "media=exploded_voltage.mean()\n",
    "no_nulls=exploded_voltage.fillna(media)"
   ]
  },
  {
   "cell_type": "code",
   "execution_count": 30,
   "metadata": {},
   "outputs": [],
   "source": [
    "no_nulls.drop([\"voltage_drop\",\"voltage_spike\"],axis=1,inplace=True)"
   ]
  },
  {
   "cell_type": "code",
   "execution_count": 31,
   "metadata": {},
   "outputs": [],
   "source": [
    "#verifico se i valori di ogni curva sono all'interno dei limiti precedentemente definiti\n",
    "single_outliers=no_nulls.apply(lambda x : x.between(lower_limit2,upper_limit2) ,axis=1)"
   ]
  },
  {
   "cell_type": "code",
   "execution_count": 32,
   "metadata": {},
   "outputs": [
    {
     "data": {
      "text/plain": [
       "False    360\n",
       "True     264\n",
       "Name: (60000_0_00, 2019-11-07 12:29:06), dtype: int64"
      ]
     },
     "execution_count": 32,
     "metadata": {},
     "output_type": "execute_result"
    }
   ],
   "source": [
    "single_outliers.iloc[0].value_counts()"
   ]
  },
  {
   "cell_type": "code",
   "execution_count": 33,
   "metadata": {},
   "outputs": [
    {
     "data": {
      "text/html": [
       "<div>\n",
       "<style scoped>\n",
       "    .dataframe tbody tr th:only-of-type {\n",
       "        vertical-align: middle;\n",
       "    }\n",
       "\n",
       "    .dataframe tbody tr th {\n",
       "        vertical-align: top;\n",
       "    }\n",
       "\n",
       "    .dataframe thead th {\n",
       "        text-align: right;\n",
       "    }\n",
       "</style>\n",
       "<table border=\"1\" class=\"dataframe\">\n",
       "  <thead>\n",
       "    <tr style=\"text-align: right;\">\n",
       "      <th></th>\n",
       "      <th></th>\n",
       "      <th>0</th>\n",
       "      <th>1</th>\n",
       "      <th>2</th>\n",
       "      <th>3</th>\n",
       "      <th>4</th>\n",
       "      <th>5</th>\n",
       "      <th>6</th>\n",
       "      <th>7</th>\n",
       "      <th>8</th>\n",
       "      <th>9</th>\n",
       "      <th>...</th>\n",
       "      <th>615</th>\n",
       "      <th>616</th>\n",
       "      <th>617</th>\n",
       "      <th>618</th>\n",
       "      <th>619</th>\n",
       "      <th>620</th>\n",
       "      <th>621</th>\n",
       "      <th>622</th>\n",
       "      <th>623</th>\n",
       "      <th>n_voltage_outliers</th>\n",
       "    </tr>\n",
       "    <tr>\n",
       "      <th>spotName</th>\n",
       "      <th>TimeStamp</th>\n",
       "      <th></th>\n",
       "      <th></th>\n",
       "      <th></th>\n",
       "      <th></th>\n",
       "      <th></th>\n",
       "      <th></th>\n",
       "      <th></th>\n",
       "      <th></th>\n",
       "      <th></th>\n",
       "      <th></th>\n",
       "      <th></th>\n",
       "      <th></th>\n",
       "      <th></th>\n",
       "      <th></th>\n",
       "      <th></th>\n",
       "      <th></th>\n",
       "      <th></th>\n",
       "      <th></th>\n",
       "      <th></th>\n",
       "      <th></th>\n",
       "      <th></th>\n",
       "    </tr>\n",
       "  </thead>\n",
       "  <tbody>\n",
       "    <tr>\n",
       "      <th rowspan=\"5\" valign=\"top\">60000_0_00</th>\n",
       "      <th>2019-11-07 12:29:06</th>\n",
       "      <td>True</td>\n",
       "      <td>True</td>\n",
       "      <td>True</td>\n",
       "      <td>True</td>\n",
       "      <td>True</td>\n",
       "      <td>True</td>\n",
       "      <td>True</td>\n",
       "      <td>True</td>\n",
       "      <td>True</td>\n",
       "      <td>True</td>\n",
       "      <td>...</td>\n",
       "      <td>True</td>\n",
       "      <td>True</td>\n",
       "      <td>True</td>\n",
       "      <td>True</td>\n",
       "      <td>True</td>\n",
       "      <td>True</td>\n",
       "      <td>True</td>\n",
       "      <td>True</td>\n",
       "      <td>True</td>\n",
       "      <td>360</td>\n",
       "    </tr>\n",
       "    <tr>\n",
       "      <th>2019-11-07 12:29:26</th>\n",
       "      <td>True</td>\n",
       "      <td>True</td>\n",
       "      <td>True</td>\n",
       "      <td>True</td>\n",
       "      <td>False</td>\n",
       "      <td>False</td>\n",
       "      <td>False</td>\n",
       "      <td>False</td>\n",
       "      <td>False</td>\n",
       "      <td>False</td>\n",
       "      <td>...</td>\n",
       "      <td>True</td>\n",
       "      <td>True</td>\n",
       "      <td>True</td>\n",
       "      <td>True</td>\n",
       "      <td>True</td>\n",
       "      <td>True</td>\n",
       "      <td>True</td>\n",
       "      <td>True</td>\n",
       "      <td>True</td>\n",
       "      <td>45</td>\n",
       "    </tr>\n",
       "    <tr>\n",
       "      <th>2019-11-07 12:29:26</th>\n",
       "      <td>True</td>\n",
       "      <td>True</td>\n",
       "      <td>True</td>\n",
       "      <td>True</td>\n",
       "      <td>True</td>\n",
       "      <td>False</td>\n",
       "      <td>True</td>\n",
       "      <td>True</td>\n",
       "      <td>True</td>\n",
       "      <td>True</td>\n",
       "      <td>...</td>\n",
       "      <td>True</td>\n",
       "      <td>True</td>\n",
       "      <td>True</td>\n",
       "      <td>True</td>\n",
       "      <td>True</td>\n",
       "      <td>True</td>\n",
       "      <td>True</td>\n",
       "      <td>True</td>\n",
       "      <td>True</td>\n",
       "      <td>21</td>\n",
       "    </tr>\n",
       "    <tr>\n",
       "      <th>2019-11-07 12:29:30</th>\n",
       "      <td>True</td>\n",
       "      <td>True</td>\n",
       "      <td>True</td>\n",
       "      <td>True</td>\n",
       "      <td>True</td>\n",
       "      <td>False</td>\n",
       "      <td>False</td>\n",
       "      <td>True</td>\n",
       "      <td>False</td>\n",
       "      <td>True</td>\n",
       "      <td>...</td>\n",
       "      <td>True</td>\n",
       "      <td>True</td>\n",
       "      <td>True</td>\n",
       "      <td>True</td>\n",
       "      <td>True</td>\n",
       "      <td>True</td>\n",
       "      <td>True</td>\n",
       "      <td>True</td>\n",
       "      <td>True</td>\n",
       "      <td>29</td>\n",
       "    </tr>\n",
       "    <tr>\n",
       "      <th>2019-11-07 12:29:32</th>\n",
       "      <td>True</td>\n",
       "      <td>True</td>\n",
       "      <td>True</td>\n",
       "      <td>True</td>\n",
       "      <td>False</td>\n",
       "      <td>False</td>\n",
       "      <td>False</td>\n",
       "      <td>False</td>\n",
       "      <td>False</td>\n",
       "      <td>False</td>\n",
       "      <td>...</td>\n",
       "      <td>True</td>\n",
       "      <td>True</td>\n",
       "      <td>True</td>\n",
       "      <td>True</td>\n",
       "      <td>True</td>\n",
       "      <td>True</td>\n",
       "      <td>True</td>\n",
       "      <td>True</td>\n",
       "      <td>True</td>\n",
       "      <td>37</td>\n",
       "    </tr>\n",
       "    <tr>\n",
       "      <th>...</th>\n",
       "      <th>...</th>\n",
       "      <td>...</td>\n",
       "      <td>...</td>\n",
       "      <td>...</td>\n",
       "      <td>...</td>\n",
       "      <td>...</td>\n",
       "      <td>...</td>\n",
       "      <td>...</td>\n",
       "      <td>...</td>\n",
       "      <td>...</td>\n",
       "      <td>...</td>\n",
       "      <td>...</td>\n",
       "      <td>...</td>\n",
       "      <td>...</td>\n",
       "      <td>...</td>\n",
       "      <td>...</td>\n",
       "      <td>...</td>\n",
       "      <td>...</td>\n",
       "      <td>...</td>\n",
       "      <td>...</td>\n",
       "      <td>...</td>\n",
       "      <td>...</td>\n",
       "    </tr>\n",
       "    <tr>\n",
       "      <th>60001_0_00</th>\n",
       "      <th>2020-05-28 15:00:04</th>\n",
       "      <td>True</td>\n",
       "      <td>True</td>\n",
       "      <td>True</td>\n",
       "      <td>True</td>\n",
       "      <td>True</td>\n",
       "      <td>False</td>\n",
       "      <td>True</td>\n",
       "      <td>True</td>\n",
       "      <td>True</td>\n",
       "      <td>True</td>\n",
       "      <td>...</td>\n",
       "      <td>True</td>\n",
       "      <td>True</td>\n",
       "      <td>True</td>\n",
       "      <td>True</td>\n",
       "      <td>True</td>\n",
       "      <td>True</td>\n",
       "      <td>True</td>\n",
       "      <td>True</td>\n",
       "      <td>True</td>\n",
       "      <td>83</td>\n",
       "    </tr>\n",
       "    <tr>\n",
       "      <th>60021_0_00</th>\n",
       "      <th>2020-05-28 15:00:04</th>\n",
       "      <td>True</td>\n",
       "      <td>True</td>\n",
       "      <td>True</td>\n",
       "      <td>True</td>\n",
       "      <td>True</td>\n",
       "      <td>True</td>\n",
       "      <td>True</td>\n",
       "      <td>False</td>\n",
       "      <td>False</td>\n",
       "      <td>False</td>\n",
       "      <td>...</td>\n",
       "      <td>True</td>\n",
       "      <td>True</td>\n",
       "      <td>True</td>\n",
       "      <td>True</td>\n",
       "      <td>True</td>\n",
       "      <td>True</td>\n",
       "      <td>True</td>\n",
       "      <td>True</td>\n",
       "      <td>True</td>\n",
       "      <td>36</td>\n",
       "    </tr>\n",
       "    <tr>\n",
       "      <th>60023_0_00</th>\n",
       "      <th>2020-05-28 15:00:17</th>\n",
       "      <td>True</td>\n",
       "      <td>True</td>\n",
       "      <td>True</td>\n",
       "      <td>True</td>\n",
       "      <td>True</td>\n",
       "      <td>True</td>\n",
       "      <td>False</td>\n",
       "      <td>False</td>\n",
       "      <td>False</td>\n",
       "      <td>False</td>\n",
       "      <td>...</td>\n",
       "      <td>True</td>\n",
       "      <td>True</td>\n",
       "      <td>True</td>\n",
       "      <td>True</td>\n",
       "      <td>True</td>\n",
       "      <td>True</td>\n",
       "      <td>True</td>\n",
       "      <td>True</td>\n",
       "      <td>True</td>\n",
       "      <td>42</td>\n",
       "    </tr>\n",
       "    <tr>\n",
       "      <th>60025_0_00</th>\n",
       "      <th>2020-05-28 15:00:17</th>\n",
       "      <td>True</td>\n",
       "      <td>True</td>\n",
       "      <td>True</td>\n",
       "      <td>True</td>\n",
       "      <td>True</td>\n",
       "      <td>True</td>\n",
       "      <td>True</td>\n",
       "      <td>True</td>\n",
       "      <td>True</td>\n",
       "      <td>True</td>\n",
       "      <td>...</td>\n",
       "      <td>True</td>\n",
       "      <td>True</td>\n",
       "      <td>True</td>\n",
       "      <td>True</td>\n",
       "      <td>True</td>\n",
       "      <td>True</td>\n",
       "      <td>True</td>\n",
       "      <td>True</td>\n",
       "      <td>True</td>\n",
       "      <td>1</td>\n",
       "    </tr>\n",
       "    <tr>\n",
       "      <th>60027_0_00</th>\n",
       "      <th>2020-05-28 15:00:17</th>\n",
       "      <td>True</td>\n",
       "      <td>True</td>\n",
       "      <td>True</td>\n",
       "      <td>True</td>\n",
       "      <td>True</td>\n",
       "      <td>True</td>\n",
       "      <td>True</td>\n",
       "      <td>True</td>\n",
       "      <td>True</td>\n",
       "      <td>True</td>\n",
       "      <td>...</td>\n",
       "      <td>True</td>\n",
       "      <td>True</td>\n",
       "      <td>True</td>\n",
       "      <td>True</td>\n",
       "      <td>True</td>\n",
       "      <td>True</td>\n",
       "      <td>True</td>\n",
       "      <td>True</td>\n",
       "      <td>True</td>\n",
       "      <td>4</td>\n",
       "    </tr>\n",
       "  </tbody>\n",
       "</table>\n",
       "<p>142192 rows × 625 columns</p>\n",
       "</div>"
      ],
      "text/plain": [
       "                                   0     1     2     3      4      5      6  \\\n",
       "spotName   TimeStamp                                                          \n",
       "60000_0_00 2019-11-07 12:29:06  True  True  True  True   True   True   True   \n",
       "           2019-11-07 12:29:26  True  True  True  True  False  False  False   \n",
       "           2019-11-07 12:29:26  True  True  True  True   True  False   True   \n",
       "           2019-11-07 12:29:30  True  True  True  True   True  False  False   \n",
       "           2019-11-07 12:29:32  True  True  True  True  False  False  False   \n",
       "...                              ...   ...   ...   ...    ...    ...    ...   \n",
       "60001_0_00 2020-05-28 15:00:04  True  True  True  True   True  False   True   \n",
       "60021_0_00 2020-05-28 15:00:04  True  True  True  True   True   True   True   \n",
       "60023_0_00 2020-05-28 15:00:17  True  True  True  True   True   True  False   \n",
       "60025_0_00 2020-05-28 15:00:17  True  True  True  True   True   True   True   \n",
       "60027_0_00 2020-05-28 15:00:17  True  True  True  True   True   True   True   \n",
       "\n",
       "                                    7      8      9  ...   615   616   617  \\\n",
       "spotName   TimeStamp                                 ...                     \n",
       "60000_0_00 2019-11-07 12:29:06   True   True   True  ...  True  True  True   \n",
       "           2019-11-07 12:29:26  False  False  False  ...  True  True  True   \n",
       "           2019-11-07 12:29:26   True   True   True  ...  True  True  True   \n",
       "           2019-11-07 12:29:30   True  False   True  ...  True  True  True   \n",
       "           2019-11-07 12:29:32  False  False  False  ...  True  True  True   \n",
       "...                               ...    ...    ...  ...   ...   ...   ...   \n",
       "60001_0_00 2020-05-28 15:00:04   True   True   True  ...  True  True  True   \n",
       "60021_0_00 2020-05-28 15:00:04  False  False  False  ...  True  True  True   \n",
       "60023_0_00 2020-05-28 15:00:17  False  False  False  ...  True  True  True   \n",
       "60025_0_00 2020-05-28 15:00:17   True   True   True  ...  True  True  True   \n",
       "60027_0_00 2020-05-28 15:00:17   True   True   True  ...  True  True  True   \n",
       "\n",
       "                                 618   619   620   621   622   623  \\\n",
       "spotName   TimeStamp                                                 \n",
       "60000_0_00 2019-11-07 12:29:06  True  True  True  True  True  True   \n",
       "           2019-11-07 12:29:26  True  True  True  True  True  True   \n",
       "           2019-11-07 12:29:26  True  True  True  True  True  True   \n",
       "           2019-11-07 12:29:30  True  True  True  True  True  True   \n",
       "           2019-11-07 12:29:32  True  True  True  True  True  True   \n",
       "...                              ...   ...   ...   ...   ...   ...   \n",
       "60001_0_00 2020-05-28 15:00:04  True  True  True  True  True  True   \n",
       "60021_0_00 2020-05-28 15:00:04  True  True  True  True  True  True   \n",
       "60023_0_00 2020-05-28 15:00:17  True  True  True  True  True  True   \n",
       "60025_0_00 2020-05-28 15:00:17  True  True  True  True  True  True   \n",
       "60027_0_00 2020-05-28 15:00:17  True  True  True  True  True  True   \n",
       "\n",
       "                                n_voltage_outliers  \n",
       "spotName   TimeStamp                                \n",
       "60000_0_00 2019-11-07 12:29:06                 360  \n",
       "           2019-11-07 12:29:26                  45  \n",
       "           2019-11-07 12:29:26                  21  \n",
       "           2019-11-07 12:29:30                  29  \n",
       "           2019-11-07 12:29:32                  37  \n",
       "...                                            ...  \n",
       "60001_0_00 2020-05-28 15:00:04                  83  \n",
       "60021_0_00 2020-05-28 15:00:04                  36  \n",
       "60023_0_00 2020-05-28 15:00:17                  42  \n",
       "60025_0_00 2020-05-28 15:00:17                   1  \n",
       "60027_0_00 2020-05-28 15:00:17                   4  \n",
       "\n",
       "[142192 rows x 625 columns]"
      ]
     },
     "execution_count": 33,
     "metadata": {},
     "output_type": "execute_result"
    }
   ],
   "source": [
    "#conta del numero di False, quindi outliers, presenti in ogni curva costruendo la colonna n_voltage_outliers\n",
    "single_outliers[\"n_voltage_outliers\"]=single_outliers.apply(lambda x : len(x)-x.sum() ,axis=1)\n",
    "single_outliers"
   ]
  },
  {
   "cell_type": "code",
   "execution_count": 34,
   "metadata": {},
   "outputs": [
    {
     "data": {
      "text/plain": [
       "142192"
      ]
     },
     "execution_count": 34,
     "metadata": {},
     "output_type": "execute_result"
    }
   ],
   "source": [
    "len(single_outliers)"
   ]
  },
  {
   "cell_type": "code",
   "execution_count": 35,
   "metadata": {},
   "outputs": [
    {
     "data": {
      "text/html": [
       "<div>\n",
       "<style scoped>\n",
       "    .dataframe tbody tr th:only-of-type {\n",
       "        vertical-align: middle;\n",
       "    }\n",
       "\n",
       "    .dataframe tbody tr th {\n",
       "        vertical-align: top;\n",
       "    }\n",
       "\n",
       "    .dataframe thead th {\n",
       "        text-align: right;\n",
       "    }\n",
       "</style>\n",
       "<table border=\"1\" class=\"dataframe\">\n",
       "  <thead>\n",
       "    <tr style=\"text-align: right;\">\n",
       "      <th></th>\n",
       "      <th></th>\n",
       "      <th>VoltageCurve</th>\n",
       "      <th>CurrentCurve</th>\n",
       "      <th>voltage_drop</th>\n",
       "      <th>voltage_spike</th>\n",
       "      <th>n_voltage_outliers</th>\n",
       "    </tr>\n",
       "    <tr>\n",
       "      <th>spotName</th>\n",
       "      <th>TimeStamp</th>\n",
       "      <th></th>\n",
       "      <th></th>\n",
       "      <th></th>\n",
       "      <th></th>\n",
       "      <th></th>\n",
       "    </tr>\n",
       "  </thead>\n",
       "  <tbody>\n",
       "    <tr>\n",
       "      <th rowspan=\"5\" valign=\"top\">60000_0_00</th>\n",
       "      <th>2019-09-17 17:56:02</th>\n",
       "      <td>[139, 752, 1329, 1687, 1897, 2037, 2098, 2107,...</td>\n",
       "      <td>[302, 1999, 3574, 4694, 5512, 6148, 6542, 6815...</td>\n",
       "      <td>False</td>\n",
       "      <td>False</td>\n",
       "      <td>27</td>\n",
       "    </tr>\n",
       "    <tr>\n",
       "      <th>2019-09-17 17:56:07</th>\n",
       "      <td>[134, 755, 1309, 1661, 1888, 2056, 2140, 2140,...</td>\n",
       "      <td>[303, 2002, 3549, 4702, 5551, 6340, 6886, 7189...</td>\n",
       "      <td>False</td>\n",
       "      <td>False</td>\n",
       "      <td>29</td>\n",
       "    </tr>\n",
       "    <tr>\n",
       "      <th>2019-09-17 18:05:02</th>\n",
       "      <td>[134, 758, 1298, 1652, 1897, 2065, 2124, 2124,...</td>\n",
       "      <td>[305, 2017, 3607, 4738, 5656, 6389, 6848, 7154...</td>\n",
       "      <td>False</td>\n",
       "      <td>False</td>\n",
       "      <td>9</td>\n",
       "    </tr>\n",
       "    <tr>\n",
       "      <th>2019-09-17 18:42:46</th>\n",
       "      <td>[138, 767, 1328, 1682, 1906, 2061, 2139, 2148,...</td>\n",
       "      <td>[333, 2033, 3641, 4795, 5614, 6312, 6767, 7040...</td>\n",
       "      <td>False</td>\n",
       "      <td>False</td>\n",
       "      <td>30</td>\n",
       "    </tr>\n",
       "    <tr>\n",
       "      <th>2019-09-17 18:59:36</th>\n",
       "      <td>[130, 745, 1300, 1646, 1854, 2028, 2114, 2114,...</td>\n",
       "      <td>[302, 1996, 3569, 4719, 5536, 6262, 6837, 7109...</td>\n",
       "      <td>False</td>\n",
       "      <td>False</td>\n",
       "      <td>31</td>\n",
       "    </tr>\n",
       "    <tr>\n",
       "      <th>...</th>\n",
       "      <th>...</th>\n",
       "      <td>...</td>\n",
       "      <td>...</td>\n",
       "      <td>...</td>\n",
       "      <td>...</td>\n",
       "      <td>...</td>\n",
       "    </tr>\n",
       "    <tr>\n",
       "      <th rowspan=\"5\" valign=\"top\">60185_0_00</th>\n",
       "      <th>2020-05-06 14:06:47</th>\n",
       "      <td>[145, 809, 1349, 1648, 1816, 1860, 1808, 1743,...</td>\n",
       "      <td>[354, 2200, 4081, 5500, 6565, 7239, 7594, 7842...</td>\n",
       "      <td>False</td>\n",
       "      <td>False</td>\n",
       "      <td>198</td>\n",
       "    </tr>\n",
       "    <tr>\n",
       "      <th>2020-05-06 14:18:28</th>\n",
       "      <td>[145, 816, 1378, 1684, 1794, 1860, 1838, 1736,...</td>\n",
       "      <td>[337, 2262, 4288, 5773, 6786, 7563, 8069, 8205...</td>\n",
       "      <td>False</td>\n",
       "      <td>False</td>\n",
       "      <td>27</td>\n",
       "    </tr>\n",
       "    <tr>\n",
       "      <th>2020-05-27 09:15:45</th>\n",
       "      <td>[153, 813, 1356, 1657, 1825, 1869, 1818, 1759,...</td>\n",
       "      <td>[337, 2193, 4116, 5499, 6512, 7220, 7490, 7726...</td>\n",
       "      <td>False</td>\n",
       "      <td>False</td>\n",
       "      <td>143</td>\n",
       "    </tr>\n",
       "    <tr>\n",
       "      <th>2020-05-27 09:27:57</th>\n",
       "      <td>[149, 813, 1377, 1662, 1798, 1820, 1820, 1755,...</td>\n",
       "      <td>[333, 2265, 4197, 5630, 6562, 7162, 7662, 7928...</td>\n",
       "      <td>False</td>\n",
       "      <td>False</td>\n",
       "      <td>13</td>\n",
       "    </tr>\n",
       "    <tr>\n",
       "      <th>2020-05-27 10:18:20</th>\n",
       "      <td>[148, 807, 1356, 1667, 1845, 1890, 1815, 1756,...</td>\n",
       "      <td>[317, 2188, 4059, 5471, 6565, 7200, 7518, 7730...</td>\n",
       "      <td>False</td>\n",
       "      <td>False</td>\n",
       "      <td>173</td>\n",
       "    </tr>\n",
       "  </tbody>\n",
       "</table>\n",
       "<p>144028 rows × 5 columns</p>\n",
       "</div>"
      ],
      "text/plain": [
       "                                                                     VoltageCurve  \\\n",
       "spotName   TimeStamp                                                                \n",
       "60000_0_00 2019-09-17 17:56:02  [139, 752, 1329, 1687, 1897, 2037, 2098, 2107,...   \n",
       "           2019-09-17 17:56:07  [134, 755, 1309, 1661, 1888, 2056, 2140, 2140,...   \n",
       "           2019-09-17 18:05:02  [134, 758, 1298, 1652, 1897, 2065, 2124, 2124,...   \n",
       "           2019-09-17 18:42:46  [138, 767, 1328, 1682, 1906, 2061, 2139, 2148,...   \n",
       "           2019-09-17 18:59:36  [130, 745, 1300, 1646, 1854, 2028, 2114, 2114,...   \n",
       "...                                                                           ...   \n",
       "60185_0_00 2020-05-06 14:06:47  [145, 809, 1349, 1648, 1816, 1860, 1808, 1743,...   \n",
       "           2020-05-06 14:18:28  [145, 816, 1378, 1684, 1794, 1860, 1838, 1736,...   \n",
       "           2020-05-27 09:15:45  [153, 813, 1356, 1657, 1825, 1869, 1818, 1759,...   \n",
       "           2020-05-27 09:27:57  [149, 813, 1377, 1662, 1798, 1820, 1820, 1755,...   \n",
       "           2020-05-27 10:18:20  [148, 807, 1356, 1667, 1845, 1890, 1815, 1756,...   \n",
       "\n",
       "                                                                     CurrentCurve  \\\n",
       "spotName   TimeStamp                                                                \n",
       "60000_0_00 2019-09-17 17:56:02  [302, 1999, 3574, 4694, 5512, 6148, 6542, 6815...   \n",
       "           2019-09-17 17:56:07  [303, 2002, 3549, 4702, 5551, 6340, 6886, 7189...   \n",
       "           2019-09-17 18:05:02  [305, 2017, 3607, 4738, 5656, 6389, 6848, 7154...   \n",
       "           2019-09-17 18:42:46  [333, 2033, 3641, 4795, 5614, 6312, 6767, 7040...   \n",
       "           2019-09-17 18:59:36  [302, 1996, 3569, 4719, 5536, 6262, 6837, 7109...   \n",
       "...                                                                           ...   \n",
       "60185_0_00 2020-05-06 14:06:47  [354, 2200, 4081, 5500, 6565, 7239, 7594, 7842...   \n",
       "           2020-05-06 14:18:28  [337, 2262, 4288, 5773, 6786, 7563, 8069, 8205...   \n",
       "           2020-05-27 09:15:45  [337, 2193, 4116, 5499, 6512, 7220, 7490, 7726...   \n",
       "           2020-05-27 09:27:57  [333, 2265, 4197, 5630, 6562, 7162, 7662, 7928...   \n",
       "           2020-05-27 10:18:20  [317, 2188, 4059, 5471, 6565, 7200, 7518, 7730...   \n",
       "\n",
       "                                voltage_drop  voltage_spike  \\\n",
       "spotName   TimeStamp                                          \n",
       "60000_0_00 2019-09-17 17:56:02         False          False   \n",
       "           2019-09-17 17:56:07         False          False   \n",
       "           2019-09-17 18:05:02         False          False   \n",
       "           2019-09-17 18:42:46         False          False   \n",
       "           2019-09-17 18:59:36         False          False   \n",
       "...                                      ...            ...   \n",
       "60185_0_00 2020-05-06 14:06:47         False          False   \n",
       "           2020-05-06 14:18:28         False          False   \n",
       "           2020-05-27 09:15:45         False          False   \n",
       "           2020-05-27 09:27:57         False          False   \n",
       "           2020-05-27 10:18:20         False          False   \n",
       "\n",
       "                                n_voltage_outliers  \n",
       "spotName   TimeStamp                                \n",
       "60000_0_00 2019-09-17 17:56:02                  27  \n",
       "           2019-09-17 17:56:07                  29  \n",
       "           2019-09-17 18:05:02                   9  \n",
       "           2019-09-17 18:42:46                  30  \n",
       "           2019-09-17 18:59:36                  31  \n",
       "...                                            ...  \n",
       "60185_0_00 2020-05-06 14:06:47                 198  \n",
       "           2020-05-06 14:18:28                  27  \n",
       "           2020-05-27 09:15:45                 143  \n",
       "           2020-05-27 09:27:57                  13  \n",
       "           2020-05-27 10:18:20                 173  \n",
       "\n",
       "[144028 rows x 5 columns]"
      ]
     },
     "execution_count": 35,
     "metadata": {},
     "output_type": "execute_result"
    }
   ],
   "source": [
    "#aggiungo la colonna n_voltage_outliers al df originale\n",
    "df=df.join(single_outliers[\"n_voltage_outliers\"],how=\"left\")\n",
    "df"
   ]
  },
  {
   "cell_type": "markdown",
   "metadata": {},
   "source": [
    "Creo colonna %volt_anomalies che mi indica la percentuale di punti anomali sul numero di punti della curva"
   ]
  },
  {
   "cell_type": "code",
   "execution_count": 36,
   "metadata": {},
   "outputs": [],
   "source": [
    "df[\"%volt_anomalies\"]=df.apply(lambda x: x.n_voltage_outliers/len(x.VoltageCurve)*100,axis=1)"
   ]
  },
  {
   "cell_type": "code",
   "execution_count": 38,
   "metadata": {},
   "outputs": [],
   "source": [
    "df.to_pickle(\"../data/with_stat_anomalies.pkl\")"
   ]
  },
  {
   "cell_type": "markdown",
   "metadata": {},
   "source": [
    "Creo dataset con le curve di riferiment utilizzate:\n",
    "- curva media\n",
    "- intervallo per outlier (con quantili)"
   ]
  },
  {
   "cell_type": "code",
   "execution_count": 34,
   "metadata": {},
   "outputs": [
    {
     "data": {
      "text/html": [
       "<div>\n",
       "<style scoped>\n",
       "    .dataframe tbody tr th:only-of-type {\n",
       "        vertical-align: middle;\n",
       "    }\n",
       "\n",
       "    .dataframe tbody tr th {\n",
       "        vertical-align: top;\n",
       "    }\n",
       "\n",
       "    .dataframe thead th {\n",
       "        text-align: right;\n",
       "    }\n",
       "</style>\n",
       "<table border=\"1\" class=\"dataframe\">\n",
       "  <thead>\n",
       "    <tr style=\"text-align: right;\">\n",
       "      <th></th>\n",
       "      <th>media</th>\n",
       "      <th>upper_limit</th>\n",
       "      <th>lower_limit</th>\n",
       "    </tr>\n",
       "  </thead>\n",
       "  <tbody>\n",
       "    <tr>\n",
       "      <th>0</th>\n",
       "      <td>133.533012</td>\n",
       "      <td>144.0</td>\n",
       "      <td>126.0</td>\n",
       "    </tr>\n",
       "    <tr>\n",
       "      <th>1</th>\n",
       "      <td>754.758250</td>\n",
       "      <td>796.0</td>\n",
       "      <td>732.0</td>\n",
       "    </tr>\n",
       "    <tr>\n",
       "      <th>2</th>\n",
       "      <td>1288.253291</td>\n",
       "      <td>1345.0</td>\n",
       "      <td>1248.0</td>\n",
       "    </tr>\n",
       "    <tr>\n",
       "      <th>3</th>\n",
       "      <td>1610.341199</td>\n",
       "      <td>1683.0</td>\n",
       "      <td>1544.0</td>\n",
       "    </tr>\n",
       "    <tr>\n",
       "      <th>4</th>\n",
       "      <td>1794.434930</td>\n",
       "      <td>1896.0</td>\n",
       "      <td>1689.0</td>\n",
       "    </tr>\n",
       "    <tr>\n",
       "      <th>...</th>\n",
       "      <td>...</td>\n",
       "      <td>...</td>\n",
       "      <td>...</td>\n",
       "    </tr>\n",
       "    <tr>\n",
       "      <th>619</th>\n",
       "      <td>1510.000000</td>\n",
       "      <td>1650.0</td>\n",
       "      <td>1350.0</td>\n",
       "    </tr>\n",
       "    <tr>\n",
       "      <th>620</th>\n",
       "      <td>1507.859649</td>\n",
       "      <td>1650.0</td>\n",
       "      <td>1350.0</td>\n",
       "    </tr>\n",
       "    <tr>\n",
       "      <th>621</th>\n",
       "      <td>1513.321429</td>\n",
       "      <td>1650.0</td>\n",
       "      <td>1350.0</td>\n",
       "    </tr>\n",
       "    <tr>\n",
       "      <th>622</th>\n",
       "      <td>1512.890909</td>\n",
       "      <td>1650.0</td>\n",
       "      <td>1350.0</td>\n",
       "    </tr>\n",
       "    <tr>\n",
       "      <th>623</th>\n",
       "      <td>1503.448980</td>\n",
       "      <td>1650.0</td>\n",
       "      <td>1350.0</td>\n",
       "    </tr>\n",
       "  </tbody>\n",
       "</table>\n",
       "<p>624 rows × 3 columns</p>\n",
       "</div>"
      ],
      "text/plain": [
       "           media  upper_limit  lower_limit\n",
       "0     133.533012        144.0        126.0\n",
       "1     754.758250        796.0        732.0\n",
       "2    1288.253291       1345.0       1248.0\n",
       "3    1610.341199       1683.0       1544.0\n",
       "4    1794.434930       1896.0       1689.0\n",
       "..           ...          ...          ...\n",
       "619  1510.000000       1650.0       1350.0\n",
       "620  1507.859649       1650.0       1350.0\n",
       "621  1513.321429       1650.0       1350.0\n",
       "622  1512.890909       1650.0       1350.0\n",
       "623  1503.448980       1650.0       1350.0\n",
       "\n",
       "[624 rows x 3 columns]"
      ]
     },
     "execution_count": 34,
     "metadata": {},
     "output_type": "execute_result"
    }
   ],
   "source": [
    "reference_curves=pd.concat([media[:624],upper_limit2,lower_limit2],keys=['media', 'upper_limit',\"lower_limit\"],axis=1)\n",
    "reference_curves"
   ]
  },
  {
   "cell_type": "code",
   "execution_count": 35,
   "metadata": {},
   "outputs": [],
   "source": [
    "reference_curves.to_pickle(\"../data/reference_volt_curves.pkl\")"
   ]
  },
  {
   "cell_type": "markdown",
   "metadata": {},
   "source": [
    "# Analisi sui valori della corrente\n",
    "Da grafico delle slide (da ricreare) si nota come molte curve abbiano un calo improvviso: andremo a cercare di identificare tali curve"
   ]
  },
  {
   "cell_type": "code",
   "execution_count": 4,
   "metadata": {},
   "outputs": [],
   "source": [
    "exploded_current=pd.DataFrame(df.CurrentCurve.tolist(), index= df.index)"
   ]
  },
  {
   "cell_type": "code",
   "execution_count": 5,
   "metadata": {},
   "outputs": [
    {
     "data": {
      "text/plain": [
       "<AxesSubplot:>"
      ]
     },
     "execution_count": 5,
     "metadata": {},
     "output_type": "execute_result"
    },
    {
     "data": {
      "image/png": "[encoded data removed]",
      "text/plain": [
       "<Figure size 432x288 with 1 Axes>"
      ]
     },
     "metadata": {
      "needs_background": "light"
     },
     "output_type": "display_data"
    }
   ],
   "source": [
    "exploded_current.count(axis=1).hist(bins=20,range=(0,650))"
   ]
  },
  {
   "cell_type": "code",
   "execution_count": 6,
   "metadata": {},
   "outputs": [
    {
     "data": {
      "text/plain": [
       "[<matplotlib.lines.Line2D at 0x1f21db086d0>]"
      ]
     },
     "execution_count": 6,
     "metadata": {},
     "output_type": "execute_result"
    },
    {
     "data": {
      "image/png": "[encoded data removed]",
      "text/plain": [
       "<Figure size 432x288 with 1 Axes>"
      ]
     },
     "metadata": {
      "needs_background": "light"
     },
     "output_type": "display_data"
    }
   ],
   "source": [
    "#plotto la curva media di tutti i valori\n",
    "plot(exploded_current.mean(axis=0),\"blue\")\n",
    "#plotto la curva media delle sole curve con meno di 500 rilevazioni\n",
    "plot(exploded_current[exploded_current.count(axis=1)<550].mean(axis=0),\"green\")\n",
    "#plotto la curva media delle sole curve con più di 500 rilevazioni\n",
    "plot(exploded_current[exploded_current.count(axis=1)>550].mean(axis=0),\"orange\")\n",
    "#plotto la curva media delle sole curve con più di 600 rilevazioni\n",
    "plot(exploded_current[exploded_current.count(axis=1)>600].mean(axis=0),\"red\")\n",
    "#plotto la curva media delle sole curve con più di 600 rilevazioni\n",
    "plot(exploded_current[exploded_current.count(axis=1)<340].mean(axis=0),\"violet\")"
   ]
  },
  {
   "cell_type": "markdown",
   "metadata": {},
   "source": [
    "I valori di corrente che più sembrano discostarsi sono quelli con dimensionalità maggiore di 550"
   ]
  },
  {
   "cell_type": "markdown",
   "metadata": {},
   "source": [
    "## Anomaly detection per singoli punti\n",
    "Non conosciamo la distribuzione che i dati assumono nei vari istanti temporali (anche se data la numerosità potremmo assumere una distribuzione normale). Definiamo gli outlier come:\n",
    "-   The data points which fall below mean-3*(sigma) or above mean+3*(sigma) [adatta a norm]\n",
    "-   The data points which fall below Q1 – 1.5 IQR or above Q3 + 1.5 IQR [adatta per dist asimettriche]"
   ]
  },
  {
   "cell_type": "code",
   "execution_count": 8,
   "metadata": {},
   "outputs": [],
   "source": [
    "#creazione upper e lower limit come per Normale (mean +- 2*std:al 95%,mean +- 3*std:al 99% )\n",
    "upper_limit=exploded_current.apply(lambda x : x.mean()+1.5*x.std(),axis=0)\n",
    "lower_limit=exploded_current.apply(lambda x : x.mean()-1.5*x.std(),axis=0)"
   ]
  },
  {
   "cell_type": "code",
   "execution_count": 18,
   "metadata": {},
   "outputs": [],
   "source": [
    "#creazione upper e lower usando i quantili\n",
    "upper_limit2=exploded_current.apply(lambda x : x.quantile(0.75)+1*(x.quantile(0.75)-x.quantile(0.25)),axis=0)\n",
    "lower_limit2=exploded_current.apply(lambda x : x.quantile(0.25)-1*(x.quantile(0.75)-x.quantile(0.25)),axis=0)"
   ]
  },
  {
   "cell_type": "code",
   "execution_count": 19,
   "metadata": {},
   "outputs": [
    {
     "data": {
      "text/plain": [
       "[<matplotlib.lines.Line2D at 0x1f335d53130>]"
      ]
     },
     "execution_count": 19,
     "metadata": {},
     "output_type": "execute_result"
    },
    {
     "data": {
      "image/png": "[encoded data removed]",
      "text/plain": [
       "<Figure size 432x288 with 1 Axes>"
      ]
     },
     "metadata": {
      "needs_background": "light"
     },
     "output_type": "display_data"
    }
   ],
   "source": [
    "#plottiamo i limiti per vedere come si comportano (in arancio limiti con la std, in rosso con i percentili)\n",
    "#ex particolari: 590\n",
    "plot(upper_limit,\"orange\")\n",
    "plot(lower_limit,\"orange\")\n",
    "plot(exploded_current.iloc[30],\"blue\")\n",
    "#plot(upper_limit2,\"red\")\n",
    "#plot(lower_limit2,\"red\")"
   ]
  },
  {
   "cell_type": "code",
   "execution_count": 20,
   "metadata": {},
   "outputs": [],
   "source": [
    "media=exploded_current.mean()\n",
    "no_nulls=exploded_current.fillna(media)"
   ]
  },
  {
   "cell_type": "code",
   "execution_count": 23,
   "metadata": {},
   "outputs": [],
   "source": [
    "#verifico se i valori di ogni curva sono all'interno dei limiti precedentemente definiti\n",
    "single_outliers=no_nulls.apply(lambda x : x.between(lower_limit,upper_limit) ,axis=1)"
   ]
  },
  {
   "cell_type": "code",
   "execution_count": 24,
   "metadata": {},
   "outputs": [
    {
     "data": {
      "text/html": [
       "<div>\n",
       "<style scoped>\n",
       "    .dataframe tbody tr th:only-of-type {\n",
       "        vertical-align: middle;\n",
       "    }\n",
       "\n",
       "    .dataframe tbody tr th {\n",
       "        vertical-align: top;\n",
       "    }\n",
       "\n",
       "    .dataframe thead th {\n",
       "        text-align: right;\n",
       "    }\n",
       "</style>\n",
       "<table border=\"1\" class=\"dataframe\">\n",
       "  <thead>\n",
       "    <tr style=\"text-align: right;\">\n",
       "      <th></th>\n",
       "      <th></th>\n",
       "      <th>0</th>\n",
       "      <th>1</th>\n",
       "      <th>2</th>\n",
       "      <th>3</th>\n",
       "      <th>4</th>\n",
       "      <th>5</th>\n",
       "      <th>6</th>\n",
       "      <th>7</th>\n",
       "      <th>8</th>\n",
       "      <th>9</th>\n",
       "      <th>...</th>\n",
       "      <th>615</th>\n",
       "      <th>616</th>\n",
       "      <th>617</th>\n",
       "      <th>618</th>\n",
       "      <th>619</th>\n",
       "      <th>620</th>\n",
       "      <th>621</th>\n",
       "      <th>622</th>\n",
       "      <th>623</th>\n",
       "      <th>n_current_outliers</th>\n",
       "    </tr>\n",
       "    <tr>\n",
       "      <th>spotName</th>\n",
       "      <th>TimeStamp</th>\n",
       "      <th></th>\n",
       "      <th></th>\n",
       "      <th></th>\n",
       "      <th></th>\n",
       "      <th></th>\n",
       "      <th></th>\n",
       "      <th></th>\n",
       "      <th></th>\n",
       "      <th></th>\n",
       "      <th></th>\n",
       "      <th></th>\n",
       "      <th></th>\n",
       "      <th></th>\n",
       "      <th></th>\n",
       "      <th></th>\n",
       "      <th></th>\n",
       "      <th></th>\n",
       "      <th></th>\n",
       "      <th></th>\n",
       "      <th></th>\n",
       "      <th></th>\n",
       "    </tr>\n",
       "  </thead>\n",
       "  <tbody>\n",
       "    <tr>\n",
       "      <th rowspan=\"5\" valign=\"top\">60000_0_00</th>\n",
       "      <th>2019-11-07 12:29:06</th>\n",
       "      <td>True</td>\n",
       "      <td>True</td>\n",
       "      <td>True</td>\n",
       "      <td>True</td>\n",
       "      <td>True</td>\n",
       "      <td>True</td>\n",
       "      <td>True</td>\n",
       "      <td>True</td>\n",
       "      <td>True</td>\n",
       "      <td>True</td>\n",
       "      <td>...</td>\n",
       "      <td>True</td>\n",
       "      <td>True</td>\n",
       "      <td>True</td>\n",
       "      <td>True</td>\n",
       "      <td>True</td>\n",
       "      <td>True</td>\n",
       "      <td>True</td>\n",
       "      <td>True</td>\n",
       "      <td>True</td>\n",
       "      <td>28</td>\n",
       "    </tr>\n",
       "    <tr>\n",
       "      <th>2019-11-07 12:29:26</th>\n",
       "      <td>True</td>\n",
       "      <td>True</td>\n",
       "      <td>False</td>\n",
       "      <td>False</td>\n",
       "      <td>True</td>\n",
       "      <td>True</td>\n",
       "      <td>True</td>\n",
       "      <td>True</td>\n",
       "      <td>True</td>\n",
       "      <td>True</td>\n",
       "      <td>...</td>\n",
       "      <td>True</td>\n",
       "      <td>True</td>\n",
       "      <td>True</td>\n",
       "      <td>True</td>\n",
       "      <td>True</td>\n",
       "      <td>True</td>\n",
       "      <td>True</td>\n",
       "      <td>True</td>\n",
       "      <td>True</td>\n",
       "      <td>49</td>\n",
       "    </tr>\n",
       "    <tr>\n",
       "      <th>2019-11-07 12:29:26</th>\n",
       "      <td>True</td>\n",
       "      <td>True</td>\n",
       "      <td>True</td>\n",
       "      <td>True</td>\n",
       "      <td>True</td>\n",
       "      <td>True</td>\n",
       "      <td>True</td>\n",
       "      <td>True</td>\n",
       "      <td>True</td>\n",
       "      <td>True</td>\n",
       "      <td>...</td>\n",
       "      <td>True</td>\n",
       "      <td>True</td>\n",
       "      <td>True</td>\n",
       "      <td>True</td>\n",
       "      <td>True</td>\n",
       "      <td>True</td>\n",
       "      <td>True</td>\n",
       "      <td>True</td>\n",
       "      <td>True</td>\n",
       "      <td>6</td>\n",
       "    </tr>\n",
       "    <tr>\n",
       "      <th>2019-11-07 12:29:30</th>\n",
       "      <td>True</td>\n",
       "      <td>True</td>\n",
       "      <td>True</td>\n",
       "      <td>True</td>\n",
       "      <td>True</td>\n",
       "      <td>True</td>\n",
       "      <td>True</td>\n",
       "      <td>True</td>\n",
       "      <td>True</td>\n",
       "      <td>True</td>\n",
       "      <td>...</td>\n",
       "      <td>True</td>\n",
       "      <td>True</td>\n",
       "      <td>True</td>\n",
       "      <td>True</td>\n",
       "      <td>True</td>\n",
       "      <td>True</td>\n",
       "      <td>True</td>\n",
       "      <td>True</td>\n",
       "      <td>True</td>\n",
       "      <td>17</td>\n",
       "    </tr>\n",
       "    <tr>\n",
       "      <th>2019-11-07 12:29:32</th>\n",
       "      <td>True</td>\n",
       "      <td>True</td>\n",
       "      <td>True</td>\n",
       "      <td>True</td>\n",
       "      <td>False</td>\n",
       "      <td>True</td>\n",
       "      <td>True</td>\n",
       "      <td>True</td>\n",
       "      <td>True</td>\n",
       "      <td>True</td>\n",
       "      <td>...</td>\n",
       "      <td>True</td>\n",
       "      <td>True</td>\n",
       "      <td>True</td>\n",
       "      <td>True</td>\n",
       "      <td>True</td>\n",
       "      <td>True</td>\n",
       "      <td>True</td>\n",
       "      <td>True</td>\n",
       "      <td>True</td>\n",
       "      <td>25</td>\n",
       "    </tr>\n",
       "    <tr>\n",
       "      <th>...</th>\n",
       "      <th>...</th>\n",
       "      <td>...</td>\n",
       "      <td>...</td>\n",
       "      <td>...</td>\n",
       "      <td>...</td>\n",
       "      <td>...</td>\n",
       "      <td>...</td>\n",
       "      <td>...</td>\n",
       "      <td>...</td>\n",
       "      <td>...</td>\n",
       "      <td>...</td>\n",
       "      <td>...</td>\n",
       "      <td>...</td>\n",
       "      <td>...</td>\n",
       "      <td>...</td>\n",
       "      <td>...</td>\n",
       "      <td>...</td>\n",
       "      <td>...</td>\n",
       "      <td>...</td>\n",
       "      <td>...</td>\n",
       "      <td>...</td>\n",
       "      <td>...</td>\n",
       "    </tr>\n",
       "    <tr>\n",
       "      <th>60001_0_00</th>\n",
       "      <th>2020-05-28 15:00:04</th>\n",
       "      <td>True</td>\n",
       "      <td>True</td>\n",
       "      <td>True</td>\n",
       "      <td>True</td>\n",
       "      <td>True</td>\n",
       "      <td>True</td>\n",
       "      <td>True</td>\n",
       "      <td>True</td>\n",
       "      <td>True</td>\n",
       "      <td>True</td>\n",
       "      <td>...</td>\n",
       "      <td>True</td>\n",
       "      <td>True</td>\n",
       "      <td>True</td>\n",
       "      <td>True</td>\n",
       "      <td>True</td>\n",
       "      <td>True</td>\n",
       "      <td>True</td>\n",
       "      <td>True</td>\n",
       "      <td>True</td>\n",
       "      <td>2</td>\n",
       "    </tr>\n",
       "    <tr>\n",
       "      <th>60021_0_00</th>\n",
       "      <th>2020-05-28 15:00:04</th>\n",
       "      <td>True</td>\n",
       "      <td>True</td>\n",
       "      <td>True</td>\n",
       "      <td>True</td>\n",
       "      <td>True</td>\n",
       "      <td>True</td>\n",
       "      <td>True</td>\n",
       "      <td>True</td>\n",
       "      <td>True</td>\n",
       "      <td>True</td>\n",
       "      <td>...</td>\n",
       "      <td>True</td>\n",
       "      <td>True</td>\n",
       "      <td>True</td>\n",
       "      <td>True</td>\n",
       "      <td>True</td>\n",
       "      <td>True</td>\n",
       "      <td>True</td>\n",
       "      <td>True</td>\n",
       "      <td>True</td>\n",
       "      <td>0</td>\n",
       "    </tr>\n",
       "    <tr>\n",
       "      <th>60023_0_00</th>\n",
       "      <th>2020-05-28 15:00:17</th>\n",
       "      <td>True</td>\n",
       "      <td>True</td>\n",
       "      <td>True</td>\n",
       "      <td>True</td>\n",
       "      <td>True</td>\n",
       "      <td>True</td>\n",
       "      <td>True</td>\n",
       "      <td>True</td>\n",
       "      <td>True</td>\n",
       "      <td>True</td>\n",
       "      <td>...</td>\n",
       "      <td>True</td>\n",
       "      <td>True</td>\n",
       "      <td>True</td>\n",
       "      <td>True</td>\n",
       "      <td>True</td>\n",
       "      <td>True</td>\n",
       "      <td>True</td>\n",
       "      <td>True</td>\n",
       "      <td>True</td>\n",
       "      <td>0</td>\n",
       "    </tr>\n",
       "    <tr>\n",
       "      <th>60025_0_00</th>\n",
       "      <th>2020-05-28 15:00:17</th>\n",
       "      <td>True</td>\n",
       "      <td>False</td>\n",
       "      <td>True</td>\n",
       "      <td>True</td>\n",
       "      <td>True</td>\n",
       "      <td>True</td>\n",
       "      <td>True</td>\n",
       "      <td>True</td>\n",
       "      <td>True</td>\n",
       "      <td>True</td>\n",
       "      <td>...</td>\n",
       "      <td>True</td>\n",
       "      <td>True</td>\n",
       "      <td>True</td>\n",
       "      <td>True</td>\n",
       "      <td>True</td>\n",
       "      <td>True</td>\n",
       "      <td>True</td>\n",
       "      <td>True</td>\n",
       "      <td>True</td>\n",
       "      <td>1</td>\n",
       "    </tr>\n",
       "    <tr>\n",
       "      <th>60027_0_00</th>\n",
       "      <th>2020-05-28 15:00:17</th>\n",
       "      <td>True</td>\n",
       "      <td>True</td>\n",
       "      <td>True</td>\n",
       "      <td>True</td>\n",
       "      <td>True</td>\n",
       "      <td>True</td>\n",
       "      <td>True</td>\n",
       "      <td>True</td>\n",
       "      <td>True</td>\n",
       "      <td>True</td>\n",
       "      <td>...</td>\n",
       "      <td>True</td>\n",
       "      <td>True</td>\n",
       "      <td>True</td>\n",
       "      <td>True</td>\n",
       "      <td>True</td>\n",
       "      <td>True</td>\n",
       "      <td>True</td>\n",
       "      <td>True</td>\n",
       "      <td>True</td>\n",
       "      <td>3</td>\n",
       "    </tr>\n",
       "  </tbody>\n",
       "</table>\n",
       "<p>142192 rows × 625 columns</p>\n",
       "</div>"
      ],
      "text/plain": [
       "                                   0      1      2      3      4     5     6  \\\n",
       "spotName   TimeStamp                                                           \n",
       "60000_0_00 2019-11-07 12:29:06  True   True   True   True   True  True  True   \n",
       "           2019-11-07 12:29:26  True   True  False  False   True  True  True   \n",
       "           2019-11-07 12:29:26  True   True   True   True   True  True  True   \n",
       "           2019-11-07 12:29:30  True   True   True   True   True  True  True   \n",
       "           2019-11-07 12:29:32  True   True   True   True  False  True  True   \n",
       "...                              ...    ...    ...    ...    ...   ...   ...   \n",
       "60001_0_00 2020-05-28 15:00:04  True   True   True   True   True  True  True   \n",
       "60021_0_00 2020-05-28 15:00:04  True   True   True   True   True  True  True   \n",
       "60023_0_00 2020-05-28 15:00:17  True   True   True   True   True  True  True   \n",
       "60025_0_00 2020-05-28 15:00:17  True  False   True   True   True  True  True   \n",
       "60027_0_00 2020-05-28 15:00:17  True   True   True   True   True  True  True   \n",
       "\n",
       "                                   7     8     9  ...   615   616   617   618  \\\n",
       "spotName   TimeStamp                              ...                           \n",
       "60000_0_00 2019-11-07 12:29:06  True  True  True  ...  True  True  True  True   \n",
       "           2019-11-07 12:29:26  True  True  True  ...  True  True  True  True   \n",
       "           2019-11-07 12:29:26  True  True  True  ...  True  True  True  True   \n",
       "           2019-11-07 12:29:30  True  True  True  ...  True  True  True  True   \n",
       "           2019-11-07 12:29:32  True  True  True  ...  True  True  True  True   \n",
       "...                              ...   ...   ...  ...   ...   ...   ...   ...   \n",
       "60001_0_00 2020-05-28 15:00:04  True  True  True  ...  True  True  True  True   \n",
       "60021_0_00 2020-05-28 15:00:04  True  True  True  ...  True  True  True  True   \n",
       "60023_0_00 2020-05-28 15:00:17  True  True  True  ...  True  True  True  True   \n",
       "60025_0_00 2020-05-28 15:00:17  True  True  True  ...  True  True  True  True   \n",
       "60027_0_00 2020-05-28 15:00:17  True  True  True  ...  True  True  True  True   \n",
       "\n",
       "                                 619   620   621   622   623  \\\n",
       "spotName   TimeStamp                                           \n",
       "60000_0_00 2019-11-07 12:29:06  True  True  True  True  True   \n",
       "           2019-11-07 12:29:26  True  True  True  True  True   \n",
       "           2019-11-07 12:29:26  True  True  True  True  True   \n",
       "           2019-11-07 12:29:30  True  True  True  True  True   \n",
       "           2019-11-07 12:29:32  True  True  True  True  True   \n",
       "...                              ...   ...   ...   ...   ...   \n",
       "60001_0_00 2020-05-28 15:00:04  True  True  True  True  True   \n",
       "60021_0_00 2020-05-28 15:00:04  True  True  True  True  True   \n",
       "60023_0_00 2020-05-28 15:00:17  True  True  True  True  True   \n",
       "60025_0_00 2020-05-28 15:00:17  True  True  True  True  True   \n",
       "60027_0_00 2020-05-28 15:00:17  True  True  True  True  True   \n",
       "\n",
       "                                n_current_outliers  \n",
       "spotName   TimeStamp                                \n",
       "60000_0_00 2019-11-07 12:29:06                  28  \n",
       "           2019-11-07 12:29:26                  49  \n",
       "           2019-11-07 12:29:26                   6  \n",
       "           2019-11-07 12:29:30                  17  \n",
       "           2019-11-07 12:29:32                  25  \n",
       "...                                            ...  \n",
       "60001_0_00 2020-05-28 15:00:04                   2  \n",
       "60021_0_00 2020-05-28 15:00:04                   0  \n",
       "60023_0_00 2020-05-28 15:00:17                   0  \n",
       "60025_0_00 2020-05-28 15:00:17                   1  \n",
       "60027_0_00 2020-05-28 15:00:17                   3  \n",
       "\n",
       "[142192 rows x 625 columns]"
      ]
     },
     "execution_count": 24,
     "metadata": {},
     "output_type": "execute_result"
    }
   ],
   "source": [
    "#conta del numero di False, quindi outliers, presenti in ogni curva costruendo la colonna n_voltage_outliers\n",
    "single_outliers[\"n_current_outliers\"]=single_outliers.apply(lambda x : len(x)-x.sum() ,axis=1)\n",
    "single_outliers"
   ]
  },
  {
   "cell_type": "code",
   "execution_count": 25,
   "metadata": {},
   "outputs": [
    {
     "data": {
      "text/html": [
       "<div>\n",
       "<style scoped>\n",
       "    .dataframe tbody tr th:only-of-type {\n",
       "        vertical-align: middle;\n",
       "    }\n",
       "\n",
       "    .dataframe tbody tr th {\n",
       "        vertical-align: top;\n",
       "    }\n",
       "\n",
       "    .dataframe thead th {\n",
       "        text-align: right;\n",
       "    }\n",
       "</style>\n",
       "<table border=\"1\" class=\"dataframe\">\n",
       "  <thead>\n",
       "    <tr style=\"text-align: right;\">\n",
       "      <th></th>\n",
       "      <th></th>\n",
       "      <th>VoltageCurve</th>\n",
       "      <th>CurrentCurve</th>\n",
       "      <th>n_current_outliers</th>\n",
       "    </tr>\n",
       "    <tr>\n",
       "      <th>spotName</th>\n",
       "      <th>TimeStamp</th>\n",
       "      <th></th>\n",
       "      <th></th>\n",
       "      <th></th>\n",
       "    </tr>\n",
       "  </thead>\n",
       "  <tbody>\n",
       "    <tr>\n",
       "      <th rowspan=\"5\" valign=\"top\">60000_0_00</th>\n",
       "      <th>2019-09-17 17:56:02</th>\n",
       "      <td>[139, 752, 1329, 1687, 1897, 2037, 2098, 2107,...</td>\n",
       "      <td>[302, 1999, 3574, 4694, 5512, 6148, 6542, 6815...</td>\n",
       "      <td>20</td>\n",
       "    </tr>\n",
       "    <tr>\n",
       "      <th>2019-09-17 17:56:07</th>\n",
       "      <td>[134, 755, 1309, 1661, 1888, 2056, 2140, 2140,...</td>\n",
       "      <td>[303, 2002, 3549, 4702, 5551, 6340, 6886, 7189...</td>\n",
       "      <td>9</td>\n",
       "    </tr>\n",
       "    <tr>\n",
       "      <th>2019-09-17 18:05:02</th>\n",
       "      <td>[134, 758, 1298, 1652, 1897, 2065, 2124, 2124,...</td>\n",
       "      <td>[305, 2017, 3607, 4738, 5656, 6389, 6848, 7154...</td>\n",
       "      <td>0</td>\n",
       "    </tr>\n",
       "    <tr>\n",
       "      <th>2019-09-17 18:42:46</th>\n",
       "      <td>[138, 767, 1328, 1682, 1906, 2061, 2139, 2148,...</td>\n",
       "      <td>[333, 2033, 3641, 4795, 5614, 6312, 6767, 7040...</td>\n",
       "      <td>5</td>\n",
       "    </tr>\n",
       "    <tr>\n",
       "      <th>2019-09-17 18:59:36</th>\n",
       "      <td>[130, 745, 1300, 1646, 1854, 2028, 2114, 2114,...</td>\n",
       "      <td>[302, 1996, 3569, 4719, 5536, 6262, 6837, 7109...</td>\n",
       "      <td>13</td>\n",
       "    </tr>\n",
       "  </tbody>\n",
       "</table>\n",
       "</div>"
      ],
      "text/plain": [
       "                                                                     VoltageCurve  \\\n",
       "spotName   TimeStamp                                                                \n",
       "60000_0_00 2019-09-17 17:56:02  [139, 752, 1329, 1687, 1897, 2037, 2098, 2107,...   \n",
       "           2019-09-17 17:56:07  [134, 755, 1309, 1661, 1888, 2056, 2140, 2140,...   \n",
       "           2019-09-17 18:05:02  [134, 758, 1298, 1652, 1897, 2065, 2124, 2124,...   \n",
       "           2019-09-17 18:42:46  [138, 767, 1328, 1682, 1906, 2061, 2139, 2148,...   \n",
       "           2019-09-17 18:59:36  [130, 745, 1300, 1646, 1854, 2028, 2114, 2114,...   \n",
       "\n",
       "                                                                     CurrentCurve  \\\n",
       "spotName   TimeStamp                                                                \n",
       "60000_0_00 2019-09-17 17:56:02  [302, 1999, 3574, 4694, 5512, 6148, 6542, 6815...   \n",
       "           2019-09-17 17:56:07  [303, 2002, 3549, 4702, 5551, 6340, 6886, 7189...   \n",
       "           2019-09-17 18:05:02  [305, 2017, 3607, 4738, 5656, 6389, 6848, 7154...   \n",
       "           2019-09-17 18:42:46  [333, 2033, 3641, 4795, 5614, 6312, 6767, 7040...   \n",
       "           2019-09-17 18:59:36  [302, 1996, 3569, 4719, 5536, 6262, 6837, 7109...   \n",
       "\n",
       "                                n_current_outliers  \n",
       "spotName   TimeStamp                                \n",
       "60000_0_00 2019-09-17 17:56:02                  20  \n",
       "           2019-09-17 17:56:07                   9  \n",
       "           2019-09-17 18:05:02                   0  \n",
       "           2019-09-17 18:42:46                   5  \n",
       "           2019-09-17 18:59:36                  13  "
      ]
     },
     "execution_count": 25,
     "metadata": {},
     "output_type": "execute_result"
    }
   ],
   "source": [
    "#aggiungo la colonna n_voltage_outliers al df originale\n",
    "df=df.join(single_outliers[\"n_current_outliers\"],how=\"left\")\n",
    "df.head()"
   ]
  },
  {
   "cell_type": "markdown",
   "metadata": {},
   "source": [
    "Creo colonna %volt_anomalies che mi indica la percentuale di punti anomali sul numero di punti della curva"
   ]
  },
  {
   "cell_type": "code",
   "execution_count": 29,
   "metadata": {},
   "outputs": [],
   "source": [
    "df[\"%current_anomalies\"]=df.apply(lambda x: x.n_current_outliers/len(x.CurrentCurve)*100,axis=1)"
   ]
  },
  {
   "cell_type": "code",
   "execution_count": 30,
   "metadata": {},
   "outputs": [
    {
     "data": {
      "text/html": [
       "<div>\n",
       "<style scoped>\n",
       "    .dataframe tbody tr th:only-of-type {\n",
       "        vertical-align: middle;\n",
       "    }\n",
       "\n",
       "    .dataframe tbody tr th {\n",
       "        vertical-align: top;\n",
       "    }\n",
       "\n",
       "    .dataframe thead th {\n",
       "        text-align: right;\n",
       "    }\n",
       "</style>\n",
       "<table border=\"1\" class=\"dataframe\">\n",
       "  <thead>\n",
       "    <tr style=\"text-align: right;\">\n",
       "      <th></th>\n",
       "      <th></th>\n",
       "      <th>VoltageCurve</th>\n",
       "      <th>CurrentCurve</th>\n",
       "      <th>n_current_outliers</th>\n",
       "      <th>%current_anomalies</th>\n",
       "    </tr>\n",
       "    <tr>\n",
       "      <th>spotName</th>\n",
       "      <th>TimeStamp</th>\n",
       "      <th></th>\n",
       "      <th></th>\n",
       "      <th></th>\n",
       "      <th></th>\n",
       "    </tr>\n",
       "  </thead>\n",
       "  <tbody>\n",
       "    <tr>\n",
       "      <th rowspan=\"5\" valign=\"top\">60000_0_00</th>\n",
       "      <th>2019-09-17 17:56:02</th>\n",
       "      <td>[139, 752, 1329, 1687, 1897, 2037, 2098, 2107,...</td>\n",
       "      <td>[302, 1999, 3574, 4694, 5512, 6148, 6542, 6815...</td>\n",
       "      <td>20</td>\n",
       "      <td>4.784689</td>\n",
       "    </tr>\n",
       "    <tr>\n",
       "      <th>2019-09-17 17:56:07</th>\n",
       "      <td>[134, 755, 1309, 1661, 1888, 2056, 2140, 2140,...</td>\n",
       "      <td>[303, 2002, 3549, 4702, 5551, 6340, 6886, 7189...</td>\n",
       "      <td>9</td>\n",
       "      <td>2.153110</td>\n",
       "    </tr>\n",
       "    <tr>\n",
       "      <th>2019-09-17 18:05:02</th>\n",
       "      <td>[134, 758, 1298, 1652, 1897, 2065, 2124, 2124,...</td>\n",
       "      <td>[305, 2017, 3607, 4738, 5656, 6389, 6848, 7154...</td>\n",
       "      <td>0</td>\n",
       "      <td>0.000000</td>\n",
       "    </tr>\n",
       "    <tr>\n",
       "      <th>2019-09-17 18:42:46</th>\n",
       "      <td>[138, 767, 1328, 1682, 1906, 2061, 2139, 2148,...</td>\n",
       "      <td>[333, 2033, 3641, 4795, 5614, 6312, 6767, 7040...</td>\n",
       "      <td>5</td>\n",
       "      <td>1.196172</td>\n",
       "    </tr>\n",
       "    <tr>\n",
       "      <th>2019-09-17 18:59:36</th>\n",
       "      <td>[130, 745, 1300, 1646, 1854, 2028, 2114, 2114,...</td>\n",
       "      <td>[302, 1996, 3569, 4719, 5536, 6262, 6837, 7109...</td>\n",
       "      <td>13</td>\n",
       "      <td>3.117506</td>\n",
       "    </tr>\n",
       "  </tbody>\n",
       "</table>\n",
       "</div>"
      ],
      "text/plain": [
       "                                                                     VoltageCurve  \\\n",
       "spotName   TimeStamp                                                                \n",
       "60000_0_00 2019-09-17 17:56:02  [139, 752, 1329, 1687, 1897, 2037, 2098, 2107,...   \n",
       "           2019-09-17 17:56:07  [134, 755, 1309, 1661, 1888, 2056, 2140, 2140,...   \n",
       "           2019-09-17 18:05:02  [134, 758, 1298, 1652, 1897, 2065, 2124, 2124,...   \n",
       "           2019-09-17 18:42:46  [138, 767, 1328, 1682, 1906, 2061, 2139, 2148,...   \n",
       "           2019-09-17 18:59:36  [130, 745, 1300, 1646, 1854, 2028, 2114, 2114,...   \n",
       "\n",
       "                                                                     CurrentCurve  \\\n",
       "spotName   TimeStamp                                                                \n",
       "60000_0_00 2019-09-17 17:56:02  [302, 1999, 3574, 4694, 5512, 6148, 6542, 6815...   \n",
       "           2019-09-17 17:56:07  [303, 2002, 3549, 4702, 5551, 6340, 6886, 7189...   \n",
       "           2019-09-17 18:05:02  [305, 2017, 3607, 4738, 5656, 6389, 6848, 7154...   \n",
       "           2019-09-17 18:42:46  [333, 2033, 3641, 4795, 5614, 6312, 6767, 7040...   \n",
       "           2019-09-17 18:59:36  [302, 1996, 3569, 4719, 5536, 6262, 6837, 7109...   \n",
       "\n",
       "                                n_current_outliers  %current_anomalies  \n",
       "spotName   TimeStamp                                                    \n",
       "60000_0_00 2019-09-17 17:56:02                  20            4.784689  \n",
       "           2019-09-17 17:56:07                   9            2.153110  \n",
       "           2019-09-17 18:05:02                   0            0.000000  \n",
       "           2019-09-17 18:42:46                   5            1.196172  \n",
       "           2019-09-17 18:59:36                  13            3.117506  "
      ]
     },
     "execution_count": 30,
     "metadata": {},
     "output_type": "execute_result"
    }
   ],
   "source": [
    "df.head()"
   ]
  },
  {
   "cell_type": "code",
   "execution_count": null,
   "metadata": {},
   "outputs": [],
   "source": [
    "df.to_pickle(\"../data/with_stat_anomalies.pkl\")"
   ]
  },
  {
   "cell_type": "markdown",
   "metadata": {},
   "source": [
    "Creo dataset con le curve di riferiment utilizzate:\n",
    "- curva media\n",
    "- intervallo per outlier"
   ]
  },
  {
   "cell_type": "code",
   "execution_count": 31,
   "metadata": {},
   "outputs": [
    {
     "data": {
      "text/html": [
       "<div>\n",
       "<style scoped>\n",
       "    .dataframe tbody tr th:only-of-type {\n",
       "        vertical-align: middle;\n",
       "    }\n",
       "\n",
       "    .dataframe tbody tr th {\n",
       "        vertical-align: top;\n",
       "    }\n",
       "\n",
       "    .dataframe thead th {\n",
       "        text-align: right;\n",
       "    }\n",
       "</style>\n",
       "<table border=\"1\" class=\"dataframe\">\n",
       "  <thead>\n",
       "    <tr style=\"text-align: right;\">\n",
       "      <th></th>\n",
       "      <th>media</th>\n",
       "      <th>upper_limit</th>\n",
       "      <th>lower_limit</th>\n",
       "    </tr>\n",
       "  </thead>\n",
       "  <tbody>\n",
       "    <tr>\n",
       "      <th>0</th>\n",
       "      <td>307.059835</td>\n",
       "      <td>354.517130</td>\n",
       "      <td>259.602539</td>\n",
       "    </tr>\n",
       "    <tr>\n",
       "      <th>1</th>\n",
       "      <td>2055.203634</td>\n",
       "      <td>2208.043074</td>\n",
       "      <td>1902.364194</td>\n",
       "    </tr>\n",
       "    <tr>\n",
       "      <th>2</th>\n",
       "      <td>3787.606977</td>\n",
       "      <td>4102.744228</td>\n",
       "      <td>3472.469726</td>\n",
       "    </tr>\n",
       "    <tr>\n",
       "      <th>3</th>\n",
       "      <td>5027.751946</td>\n",
       "      <td>5466.574478</td>\n",
       "      <td>4588.929415</td>\n",
       "    </tr>\n",
       "    <tr>\n",
       "      <th>4</th>\n",
       "      <td>5918.775205</td>\n",
       "      <td>6450.914112</td>\n",
       "      <td>5386.636297</td>\n",
       "    </tr>\n",
       "    <tr>\n",
       "      <th>...</th>\n",
       "      <td>...</td>\n",
       "      <td>...</td>\n",
       "      <td>...</td>\n",
       "    </tr>\n",
       "    <tr>\n",
       "      <th>619</th>\n",
       "      <td>8306.650000</td>\n",
       "      <td>8635.614302</td>\n",
       "      <td>7977.685698</td>\n",
       "    </tr>\n",
       "    <tr>\n",
       "      <th>620</th>\n",
       "      <td>8302.385965</td>\n",
       "      <td>8605.125787</td>\n",
       "      <td>7999.646143</td>\n",
       "    </tr>\n",
       "    <tr>\n",
       "      <th>621</th>\n",
       "      <td>8318.660714</td>\n",
       "      <td>8626.175717</td>\n",
       "      <td>8011.145711</td>\n",
       "    </tr>\n",
       "    <tr>\n",
       "      <th>622</th>\n",
       "      <td>8315.090909</td>\n",
       "      <td>8629.762335</td>\n",
       "      <td>8000.419484</td>\n",
       "    </tr>\n",
       "    <tr>\n",
       "      <th>623</th>\n",
       "      <td>8265.326531</td>\n",
       "      <td>8513.286593</td>\n",
       "      <td>8017.366468</td>\n",
       "    </tr>\n",
       "  </tbody>\n",
       "</table>\n",
       "<p>624 rows × 3 columns</p>\n",
       "</div>"
      ],
      "text/plain": [
       "           media  upper_limit  lower_limit\n",
       "0     307.059835   354.517130   259.602539\n",
       "1    2055.203634  2208.043074  1902.364194\n",
       "2    3787.606977  4102.744228  3472.469726\n",
       "3    5027.751946  5466.574478  4588.929415\n",
       "4    5918.775205  6450.914112  5386.636297\n",
       "..           ...          ...          ...\n",
       "619  8306.650000  8635.614302  7977.685698\n",
       "620  8302.385965  8605.125787  7999.646143\n",
       "621  8318.660714  8626.175717  8011.145711\n",
       "622  8315.090909  8629.762335  8000.419484\n",
       "623  8265.326531  8513.286593  8017.366468\n",
       "\n",
       "[624 rows x 3 columns]"
      ]
     },
     "execution_count": 31,
     "metadata": {},
     "output_type": "execute_result"
    }
   ],
   "source": [
    "reference_curves=pd.concat([media[:624],upper_limit,lower_limit],keys=['media', 'upper_limit',\"lower_limit\"],axis=1)\n",
    "reference_curves"
   ]
  },
  {
   "cell_type": "code",
   "execution_count": 32,
   "metadata": {},
   "outputs": [],
   "source": [
    "reference_curves.to_pickle(\"../data/reference_current_curves.pkl\")"
   ]
  },
  {
   "cell_type": "code",
   "execution_count": null,
   "metadata": {},
   "outputs": [],
   "source": []
  }
 ],
 "metadata": {
  "interpreter": {
   "hash": "21aec60ee798f848cdec17e8ad1d5abc914a64c17deba4b59301cd664b10b21e"
  },
  "kernelspec": {
   "display_name": "Python 3.9.7 ('base')",
   "language": "python",
   "name": "python3"
  },
  "language_info": {
   "codemirror_mode": {
    "name": "ipython",
    "version": 3
   },
   "file_extension": ".py",
   "mimetype": "text/x-python",
   "name": "python",
   "nbconvert_exporter": "python",
   "pygments_lexer": "ipython3",
   "version": "3.9.7"
  },
  "orig_nbformat": 4
 },
 "nbformat": 4,
 "nbformat_minor": 2
}
