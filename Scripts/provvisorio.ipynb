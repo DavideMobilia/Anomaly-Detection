{
 "cells": [
  {
   "cell_type": "code",
   "execution_count": 1,
   "metadata": {},
   "outputs": [],
   "source": [
    "import pandas as pd\n",
    "import numpy as np\n",
    "from matplotlib import pyplot as plt\n",
    "from pylab import *"
   ]
  },
  {
   "cell_type": "code",
   "execution_count": 2,
   "metadata": {},
   "outputs": [
    {
     "data": {
      "text/html": [
       "<div>\n",
       "<style scoped>\n",
       "    .dataframe tbody tr th:only-of-type {\n",
       "        vertical-align: middle;\n",
       "    }\n",
       "\n",
       "    .dataframe tbody tr th {\n",
       "        vertical-align: top;\n",
       "    }\n",
       "\n",
       "    .dataframe thead th {\n",
       "        text-align: right;\n",
       "    }\n",
       "</style>\n",
       "<table border=\"1\" class=\"dataframe\">\n",
       "  <thead>\n",
       "    <tr style=\"text-align: right;\">\n",
       "      <th></th>\n",
       "      <th>VoltageCurve</th>\n",
       "      <th>CurrentCurve</th>\n",
       "      <th>spotName</th>\n",
       "    </tr>\n",
       "    <tr>\n",
       "      <th>TimeStamp</th>\n",
       "      <th></th>\n",
       "      <th></th>\n",
       "      <th></th>\n",
       "    </tr>\n",
       "  </thead>\n",
       "  <tbody>\n",
       "    <tr>\n",
       "      <th>2019-11-07 12:29:06</th>\n",
       "      <td>[132, 744, 1299, 1663, 1894, 2002, 2068, 2110,...</td>\n",
       "      <td>[311, 1990, 3577, 4759, 5599, 6190, 6594, 6999...</td>\n",
       "      <td>60000_0_00</td>\n",
       "    </tr>\n",
       "    <tr>\n",
       "      <th>2019-11-07 12:29:26</th>\n",
       "      <td>[136, 752, 1308, 1675, 1923, 2068, 2128, 2180,...</td>\n",
       "      <td>[301, 1961, 3470, 4527, 5432, 6066, 6489, 6911...</td>\n",
       "      <td>60000_0_00</td>\n",
       "    </tr>\n",
       "    <tr>\n",
       "      <th>2019-11-07 12:29:26</th>\n",
       "      <td>[139, 757, 1292, 1655, 1885, 2042, 2099, 2099,...</td>\n",
       "      <td>[333, 2058, 3663, 4814, 5661, 6388, 6842, 7084...</td>\n",
       "      <td>60000_0_00</td>\n",
       "    </tr>\n",
       "    <tr>\n",
       "      <th>2019-11-07 12:29:30</th>\n",
       "      <td>[133, 743, 1286, 1645, 1887, 2046, 2104, 2104,...</td>\n",
       "      <td>[307, 2031, 3632, 4802, 5695, 6434, 6865, 7142...</td>\n",
       "      <td>60000_0_00</td>\n",
       "    </tr>\n",
       "    <tr>\n",
       "      <th>2019-11-07 12:29:32</th>\n",
       "      <td>[137, 755, 1313, 1683, 1906, 2043, 2147, 2189,...</td>\n",
       "      <td>[302, 1995, 3508, 4596, 5382, 5987, 6562, 6955...</td>\n",
       "      <td>60000_0_00</td>\n",
       "    </tr>\n",
       "  </tbody>\n",
       "</table>\n",
       "</div>"
      ],
      "text/plain": [
       "                                                          VoltageCurve  \\\n",
       "TimeStamp                                                                \n",
       "2019-11-07 12:29:06  [132, 744, 1299, 1663, 1894, 2002, 2068, 2110,...   \n",
       "2019-11-07 12:29:26  [136, 752, 1308, 1675, 1923, 2068, 2128, 2180,...   \n",
       "2019-11-07 12:29:26  [139, 757, 1292, 1655, 1885, 2042, 2099, 2099,...   \n",
       "2019-11-07 12:29:30  [133, 743, 1286, 1645, 1887, 2046, 2104, 2104,...   \n",
       "2019-11-07 12:29:32  [137, 755, 1313, 1683, 1906, 2043, 2147, 2189,...   \n",
       "\n",
       "                                                          CurrentCurve  \\\n",
       "TimeStamp                                                                \n",
       "2019-11-07 12:29:06  [311, 1990, 3577, 4759, 5599, 6190, 6594, 6999...   \n",
       "2019-11-07 12:29:26  [301, 1961, 3470, 4527, 5432, 6066, 6489, 6911...   \n",
       "2019-11-07 12:29:26  [333, 2058, 3663, 4814, 5661, 6388, 6842, 7084...   \n",
       "2019-11-07 12:29:30  [307, 2031, 3632, 4802, 5695, 6434, 6865, 7142...   \n",
       "2019-11-07 12:29:32  [302, 1995, 3508, 4596, 5382, 5987, 6562, 6955...   \n",
       "\n",
       "                       spotName  \n",
       "TimeStamp                        \n",
       "2019-11-07 12:29:06  60000_0_00  \n",
       "2019-11-07 12:29:26  60000_0_00  \n",
       "2019-11-07 12:29:26  60000_0_00  \n",
       "2019-11-07 12:29:30  60000_0_00  \n",
       "2019-11-07 12:29:32  60000_0_00  "
      ]
     },
     "execution_count": 2,
     "metadata": {},
     "output_type": "execute_result"
    }
   ],
   "source": [
    "df= pd.read_pickle(\"../data/clean_rows_df.pkl\")  \n",
    "df.head()"
   ]
  },
  {
   "cell_type": "code",
   "execution_count": 3,
   "metadata": {},
   "outputs": [],
   "source": [
    "#Voltage_df=df.drop(\"CurrentCurve\", axis=1)\n",
    "#Current_df=df.drop(\"VoltageCurve\", axis=1)"
   ]
  },
  {
   "cell_type": "code",
   "execution_count": 4,
   "metadata": {},
   "outputs": [],
   "source": [
    "df.reset_index(inplace=True)\n",
    "df.set_index([\"spotName\",\"TimeStamp\"],inplace=True)"
   ]
  },
  {
   "cell_type": "code",
   "execution_count": 5,
   "metadata": {},
   "outputs": [],
   "source": [
    "exploded_voltage=pd.DataFrame(df.VoltageCurve.tolist(), index= df.index)"
   ]
  },
  {
   "cell_type": "code",
   "execution_count": 6,
   "metadata": {},
   "outputs": [],
   "source": [
    "#quali dati hanno la massima numerosità (624) di raccolte\n",
    "#exploded_voltage[exploded_voltage[623].notna()].head()\n",
    "#per selezionare la prima riga\n",
    "#exploded_voltage.iloc[0]\n",
    "#oppure\n",
    "#exploded_voltage.loc[(\"60000_0_00\",\"2019-11-07 12:29:06\")]"
   ]
  },
  {
   "cell_type": "markdown",
   "metadata": {},
   "source": [
    "## Analisi esplorativa su exploded_voltage\n",
    "Da grafico delle slide (da ricreare) si nota come molte curve abbiano un calo improvviso: voglio escluderle dal calcolo della curva media che userò come riferimento."
   ]
  },
  {
   "cell_type": "code",
   "execution_count": 7,
   "metadata": {},
   "outputs": [
    {
     "data": {
      "text/plain": [
       "<AxesSubplot:>"
      ]
     },
     "execution_count": 7,
     "metadata": {},
     "output_type": "execute_result"
    },
    {
     "data": {
      "image/png": "[encoded data removed]",
      "text/plain": [
       "<Figure size 432x288 with 1 Axes>"
      ]
     },
     "metadata": {
      "needs_background": "light"
     },
     "output_type": "display_data"
    }
   ],
   "source": [
    "exploded_voltage.count(axis=1).hist(bins=100,range=(200,650))"
   ]
  },
  {
   "cell_type": "code",
   "execution_count": 49,
   "metadata": {},
   "outputs": [
    {
     "data": {
      "text/plain": [
       "[<matplotlib.lines.Line2D at 0x2163834c7f0>]"
      ]
     },
     "execution_count": 49,
     "metadata": {},
     "output_type": "execute_result"
    },
    {
     "data": {
      "image/png": "[encoded data removed]",
      "text/plain": [
       "<Figure size 432x288 with 1 Axes>"
      ]
     },
     "metadata": {
      "needs_background": "light"
     },
     "output_type": "display_data"
    }
   ],
   "source": [
    "#plotto la curva media di tutti i valori\n",
    "plot(exploded_voltage.mean(axis=0),\"blue\")\n",
    "#plotto la curva media delle sole curve con meno di 500 rilevazioni\n",
    "plot(exploded_voltage[exploded_voltage.count(axis=1)<550].mean(axis=0),\"green\")\n",
    "#plotto la curva media delle sole curve con più di 500 rilevazioni\n",
    "plot(exploded_voltage[exploded_voltage.count(axis=1)>550].mean(axis=0),\"orange\")\n",
    "#plotto la curva media delle sole curve con più di 600 rilevazioni\n",
    "plot(exploded_voltage[exploded_voltage.count(axis=1)>600].mean(axis=0),\"red\")\n",
    "#plotto la curva media delle sole curve con più di 600 rilevazioni\n",
    "plot(exploded_voltage[exploded_voltage.count(axis=1)<340].mean(axis=0),\"violet\")"
   ]
  },
  {
   "cell_type": "markdown",
   "metadata": {},
   "source": [
    "è interessante notare l'andamento delle curve sulla base della numerosità delle rilevazioni fatte:\n",
    "-   curve con più di 600 o meno di 300 rilevazioni sono chiaramente delle anomalie"
   ]
  },
  {
   "cell_type": "markdown",
   "metadata": {},
   "source": [
    "Voglio isolare quelle curve che hanno avuto un picco (o un calo) improvviso della tensione, che ne ha modificato l'andamento (anomalia strutturale)"
   ]
  },
  {
   "cell_type": "code",
   "execution_count": 89,
   "metadata": {},
   "outputs": [],
   "source": [
    "#calcolo il differenziale tra valori successivi \n",
    "voltage_lag=exploded_voltage.diff(periods=5,axis=1)\n",
    "#voltage_lag.mean(axis=0).head(20)"
   ]
  },
  {
   "cell_type": "code",
   "execution_count": 94,
   "metadata": {},
   "outputs": [],
   "source": [
    "#creazione upper e lower limit come per Normale (mean +- 2*std)\n",
    "upper_lag=voltage_lag.apply(lambda x : x.mean()+4*x.std(),axis=0)\n",
    "lower_lag=voltage_lag.apply(lambda x : x.mean()-4*x.std(),axis=0)\n",
    "#creazione upper e lower usando i quantili\n",
    "upper_lag2=voltage_lag.apply(lambda x : x.quantile(0.75)+1.5*(x.quantile(0.75)-x.quantile(0.25)),axis=0)\n",
    "lower_lag2=voltage_lag.apply(lambda x : x.quantile(0.25)-1.5*(x.quantile(0.75)-x.quantile(0.25)),axis=0)"
   ]
  },
  {
   "cell_type": "code",
   "execution_count": 104,
   "metadata": {},
   "outputs": [
    {
     "data": {
      "text/plain": [
       "[<matplotlib.lines.Line2D at 0x2163d0b4250>]"
      ]
     },
     "execution_count": 104,
     "metadata": {},
     "output_type": "execute_result"
    },
    {
     "data": {
      "image/png": "[encoded data removed]",
      "text/plain": [
       "<Figure size 432x288 with 1 Axes>"
      ]
     },
     "metadata": {
      "needs_background": "light"
     },
     "output_type": "display_data"
    }
   ],
   "source": [
    "plot(upper_lag[20:],\"red\")\n",
    "plot(upper_lag2[20:],\"orange\")\n",
    "plot(voltage_lag.iloc[590][20:],\"blue\")\n",
    "plot(lower_lag2[20:],\"orange\")\n",
    "plot(lower_lag[20:],\"red\")"
   ]
  },
  {
   "cell_type": "code",
   "execution_count": 103,
   "metadata": {},
   "outputs": [
    {
     "data": {
      "text/plain": [
       "[]"
      ]
     },
     "execution_count": 103,
     "metadata": {},
     "output_type": "execute_result"
    },
    {
     "data": {
      "image/png": "[encoded data removed]",
      "text/plain": [
       "<Figure size 432x288 with 1 Axes>"
      ]
     },
     "metadata": {
      "needs_background": "light"
     },
     "output_type": "display_data"
    }
   ],
   "source": [
    "plot(exploded_voltage.mean(axis=0),\"blue\")\n",
    "plot(exploded_voltage.iloc[20],\"green\")\n",
    "plot(exploded_voltage.iloc[590],\"orange\")\n",
    "plot()"
   ]
  },
  {
   "cell_type": "markdown",
   "metadata": {},
   "source": [
    "## Approccio statistico"
   ]
  },
  {
   "cell_type": "code",
   "execution_count": 7,
   "metadata": {},
   "outputs": [
    {
     "data": {
      "text/html": [
       "<div>\n",
       "<style scoped>\n",
       "    .dataframe tbody tr th:only-of-type {\n",
       "        vertical-align: middle;\n",
       "    }\n",
       "\n",
       "    .dataframe tbody tr th {\n",
       "        vertical-align: top;\n",
       "    }\n",
       "\n",
       "    .dataframe thead th {\n",
       "        text-align: right;\n",
       "    }\n",
       "</style>\n",
       "<table border=\"1\" class=\"dataframe\">\n",
       "  <thead>\n",
       "    <tr style=\"text-align: right;\">\n",
       "      <th></th>\n",
       "      <th></th>\n",
       "      <th>0</th>\n",
       "      <th>1</th>\n",
       "      <th>2</th>\n",
       "      <th>3</th>\n",
       "      <th>4</th>\n",
       "      <th>5</th>\n",
       "      <th>6</th>\n",
       "      <th>7</th>\n",
       "      <th>8</th>\n",
       "      <th>9</th>\n",
       "      <th>...</th>\n",
       "      <th>614</th>\n",
       "      <th>615</th>\n",
       "      <th>616</th>\n",
       "      <th>617</th>\n",
       "      <th>618</th>\n",
       "      <th>619</th>\n",
       "      <th>620</th>\n",
       "      <th>621</th>\n",
       "      <th>622</th>\n",
       "      <th>623</th>\n",
       "    </tr>\n",
       "    <tr>\n",
       "      <th>spotName</th>\n",
       "      <th>TimeStamp</th>\n",
       "      <th></th>\n",
       "      <th></th>\n",
       "      <th></th>\n",
       "      <th></th>\n",
       "      <th></th>\n",
       "      <th></th>\n",
       "      <th></th>\n",
       "      <th></th>\n",
       "      <th></th>\n",
       "      <th></th>\n",
       "      <th></th>\n",
       "      <th></th>\n",
       "      <th></th>\n",
       "      <th></th>\n",
       "      <th></th>\n",
       "      <th></th>\n",
       "      <th></th>\n",
       "      <th></th>\n",
       "      <th></th>\n",
       "      <th></th>\n",
       "      <th></th>\n",
       "    </tr>\n",
       "  </thead>\n",
       "  <tbody>\n",
       "    <tr>\n",
       "      <th rowspan=\"5\" valign=\"top\">60000_0_00</th>\n",
       "      <th>2019-11-07 12:29:06</th>\n",
       "      <td>132</td>\n",
       "      <td>744.0</td>\n",
       "      <td>1299.0</td>\n",
       "      <td>1663.0</td>\n",
       "      <td>1894.0</td>\n",
       "      <td>2002.0</td>\n",
       "      <td>2068.0</td>\n",
       "      <td>2110.0</td>\n",
       "      <td>2076.0</td>\n",
       "      <td>2035.0</td>\n",
       "      <td>...</td>\n",
       "      <td>NaN</td>\n",
       "      <td>NaN</td>\n",
       "      <td>NaN</td>\n",
       "      <td>NaN</td>\n",
       "      <td>NaN</td>\n",
       "      <td>NaN</td>\n",
       "      <td>NaN</td>\n",
       "      <td>NaN</td>\n",
       "      <td>NaN</td>\n",
       "      <td>NaN</td>\n",
       "    </tr>\n",
       "    <tr>\n",
       "      <th>2019-11-07 12:29:26</th>\n",
       "      <td>136</td>\n",
       "      <td>752.0</td>\n",
       "      <td>1308.0</td>\n",
       "      <td>1675.0</td>\n",
       "      <td>1923.0</td>\n",
       "      <td>2068.0</td>\n",
       "      <td>2128.0</td>\n",
       "      <td>2180.0</td>\n",
       "      <td>2180.0</td>\n",
       "      <td>2103.0</td>\n",
       "      <td>...</td>\n",
       "      <td>NaN</td>\n",
       "      <td>NaN</td>\n",
       "      <td>NaN</td>\n",
       "      <td>NaN</td>\n",
       "      <td>NaN</td>\n",
       "      <td>NaN</td>\n",
       "      <td>NaN</td>\n",
       "      <td>NaN</td>\n",
       "      <td>NaN</td>\n",
       "      <td>NaN</td>\n",
       "    </tr>\n",
       "    <tr>\n",
       "      <th>2019-11-07 12:29:26</th>\n",
       "      <td>139</td>\n",
       "      <td>757.0</td>\n",
       "      <td>1292.0</td>\n",
       "      <td>1655.0</td>\n",
       "      <td>1885.0</td>\n",
       "      <td>2042.0</td>\n",
       "      <td>2099.0</td>\n",
       "      <td>2099.0</td>\n",
       "      <td>2099.0</td>\n",
       "      <td>2067.0</td>\n",
       "      <td>...</td>\n",
       "      <td>NaN</td>\n",
       "      <td>NaN</td>\n",
       "      <td>NaN</td>\n",
       "      <td>NaN</td>\n",
       "      <td>NaN</td>\n",
       "      <td>NaN</td>\n",
       "      <td>NaN</td>\n",
       "      <td>NaN</td>\n",
       "      <td>NaN</td>\n",
       "      <td>NaN</td>\n",
       "    </tr>\n",
       "    <tr>\n",
       "      <th>2019-11-07 12:29:30</th>\n",
       "      <td>133</td>\n",
       "      <td>743.0</td>\n",
       "      <td>1286.0</td>\n",
       "      <td>1645.0</td>\n",
       "      <td>1887.0</td>\n",
       "      <td>2046.0</td>\n",
       "      <td>2104.0</td>\n",
       "      <td>2104.0</td>\n",
       "      <td>2129.0</td>\n",
       "      <td>2079.0</td>\n",
       "      <td>...</td>\n",
       "      <td>NaN</td>\n",
       "      <td>NaN</td>\n",
       "      <td>NaN</td>\n",
       "      <td>NaN</td>\n",
       "      <td>NaN</td>\n",
       "      <td>NaN</td>\n",
       "      <td>NaN</td>\n",
       "      <td>NaN</td>\n",
       "      <td>NaN</td>\n",
       "      <td>NaN</td>\n",
       "    </tr>\n",
       "    <tr>\n",
       "      <th>2019-11-07 12:29:32</th>\n",
       "      <td>137</td>\n",
       "      <td>755.0</td>\n",
       "      <td>1313.0</td>\n",
       "      <td>1683.0</td>\n",
       "      <td>1906.0</td>\n",
       "      <td>2043.0</td>\n",
       "      <td>2147.0</td>\n",
       "      <td>2189.0</td>\n",
       "      <td>2155.0</td>\n",
       "      <td>2104.0</td>\n",
       "      <td>...</td>\n",
       "      <td>NaN</td>\n",
       "      <td>NaN</td>\n",
       "      <td>NaN</td>\n",
       "      <td>NaN</td>\n",
       "      <td>NaN</td>\n",
       "      <td>NaN</td>\n",
       "      <td>NaN</td>\n",
       "      <td>NaN</td>\n",
       "      <td>NaN</td>\n",
       "      <td>NaN</td>\n",
       "    </tr>\n",
       "  </tbody>\n",
       "</table>\n",
       "<p>5 rows × 624 columns</p>\n",
       "</div>"
      ],
      "text/plain": [
       "                                0      1       2       3       4       5    \\\n",
       "spotName   TimeStamp                                                         \n",
       "60000_0_00 2019-11-07 12:29:06  132  744.0  1299.0  1663.0  1894.0  2002.0   \n",
       "           2019-11-07 12:29:26  136  752.0  1308.0  1675.0  1923.0  2068.0   \n",
       "           2019-11-07 12:29:26  139  757.0  1292.0  1655.0  1885.0  2042.0   \n",
       "           2019-11-07 12:29:30  133  743.0  1286.0  1645.0  1887.0  2046.0   \n",
       "           2019-11-07 12:29:32  137  755.0  1313.0  1683.0  1906.0  2043.0   \n",
       "\n",
       "                                   6       7       8       9    ...  614  615  \\\n",
       "spotName   TimeStamp                                            ...             \n",
       "60000_0_00 2019-11-07 12:29:06  2068.0  2110.0  2076.0  2035.0  ...  NaN  NaN   \n",
       "           2019-11-07 12:29:26  2128.0  2180.0  2180.0  2103.0  ...  NaN  NaN   \n",
       "           2019-11-07 12:29:26  2099.0  2099.0  2099.0  2067.0  ...  NaN  NaN   \n",
       "           2019-11-07 12:29:30  2104.0  2104.0  2129.0  2079.0  ...  NaN  NaN   \n",
       "           2019-11-07 12:29:32  2147.0  2189.0  2155.0  2104.0  ...  NaN  NaN   \n",
       "\n",
       "                                616  617  618  619  620  621  622  623  \n",
       "spotName   TimeStamp                                                    \n",
       "60000_0_00 2019-11-07 12:29:06  NaN  NaN  NaN  NaN  NaN  NaN  NaN  NaN  \n",
       "           2019-11-07 12:29:26  NaN  NaN  NaN  NaN  NaN  NaN  NaN  NaN  \n",
       "           2019-11-07 12:29:26  NaN  NaN  NaN  NaN  NaN  NaN  NaN  NaN  \n",
       "           2019-11-07 12:29:30  NaN  NaN  NaN  NaN  NaN  NaN  NaN  NaN  \n",
       "           2019-11-07 12:29:32  NaN  NaN  NaN  NaN  NaN  NaN  NaN  NaN  \n",
       "\n",
       "[5 rows x 624 columns]"
      ]
     },
     "execution_count": 7,
     "metadata": {},
     "output_type": "execute_result"
    }
   ],
   "source": [
    "exploded_voltage.head()"
   ]
  },
  {
   "cell_type": "markdown",
   "metadata": {},
   "source": [
    "Non conosciamo la distribuzione che i dati assumono nei vari istanti temporali (anche se data la numerosità potremmo assumere una distribuzione normale). Definiamo gli outlier come:\n",
    "-   The data points which fall below mean-3*(sigma) or above mean+3*(sigma) [adatta a norm]\n",
    "-   The data points which fall below Q1 – 1.5 IQR or above Q3 + 1.5 IQR [adatta per dist asimettriche]"
   ]
  },
  {
   "cell_type": "code",
   "execution_count": 10,
   "metadata": {},
   "outputs": [],
   "source": [
    "#creazione upper e lower limit come per Normale (mean +- 2*std:al 95%,mean +- 3*std:al 99% )\n",
    "upper_limit=exploded_voltage.apply(lambda x : x.mean()+2*x.std(),axis=0)\n",
    "lower_limit=exploded_voltage.apply(lambda x : x.mean()-2*x.std(),axis=0)"
   ]
  },
  {
   "cell_type": "code",
   "execution_count": 11,
   "metadata": {},
   "outputs": [],
   "source": [
    "#creazione upper e lower usando i quantili\n",
    "upper_limit2=exploded_voltage.apply(lambda x : x.quantile(0.75)+1.5*(x.quantile(0.75)-x.quantile(0.25)),axis=0)\n",
    "lower_limit2=exploded_voltage.apply(lambda x : x.quantile(0.25)-1.5*(x.quantile(0.75)-x.quantile(0.25)),axis=0)"
   ]
  },
  {
   "cell_type": "code",
   "execution_count": 14,
   "metadata": {},
   "outputs": [
    {
     "data": {
      "text/plain": [
       "[<matplotlib.lines.Line2D at 0x1b91bb2d460>]"
      ]
     },
     "execution_count": 14,
     "metadata": {},
     "output_type": "execute_result"
    },
    {
     "data": {
      "image/png": "[encoded data removed]",
      "text/plain": [
       "<Figure size 432x288 with 1 Axes>"
      ]
     },
     "metadata": {
      "needs_background": "light"
     },
     "output_type": "display_data"
    }
   ],
   "source": [
    "#plottiamo i limiti per vedere come si comportano (in blu limiti con la std, in verde con i percentili)\n",
    "plot(upper_limit,\"green\")\n",
    "plot(lower_limit,\"green\")\n",
    "\n",
    "plot(upper_limit2,\"blue\")\n",
    "plot(lower_limit2,\"blue\")"
   ]
  },
  {
   "cell_type": "code",
   "execution_count": 80,
   "metadata": {},
   "outputs": [
    {
     "data": {
      "text/plain": [
       "0      NaN\n",
       "1    615.0\n",
       "2    526.0\n",
       "3    289.0\n",
       "4    163.0\n",
       "5     89.0\n",
       "6      0.0\n",
       "7    -59.0\n",
       "8    -81.0\n",
       "9    -67.0\n",
       "Name: (60052_0_00, 2019-11-08 17:51:29), dtype: float64"
      ]
     },
     "execution_count": 80,
     "metadata": {},
     "output_type": "execute_result"
    }
   ],
   "source": [
    "voltage_lag.iloc[10].head(10)"
   ]
  },
  {
   "cell_type": "markdown",
   "metadata": {},
   "source": [
    "notiamo come dal 15° valore circa i differenziali assumono valori molto bassi, ad indicare l'assestamento della curva che dopo 2 oscillazioni tende a stazionare su valori simili\n",
    "\n",
    "**NB:** Voglio creare una curva media escludendo dal campione quelle curve che hanno avuto un calo improvviso della tensione e che quindi influirebbero sulla costruione della curva di riferimento: vedi grafico delle slide (**da ricreare**). "
   ]
  },
  {
   "cell_type": "code",
   "execution_count": 14,
   "metadata": {},
   "outputs": [],
   "source": [
    "import numpy as np\n",
    "import scipy.stats as st\n",
    "from pylab import *"
   ]
  },
  {
   "cell_type": "code",
   "execution_count": 27,
   "metadata": {},
   "outputs": [
    {
     "data": {
      "text/html": [
       "<div>\n",
       "<style scoped>\n",
       "    .dataframe tbody tr th:only-of-type {\n",
       "        vertical-align: middle;\n",
       "    }\n",
       "\n",
       "    .dataframe tbody tr th {\n",
       "        vertical-align: top;\n",
       "    }\n",
       "\n",
       "    .dataframe thead th {\n",
       "        text-align: right;\n",
       "    }\n",
       "</style>\n",
       "<table border=\"1\" class=\"dataframe\">\n",
       "  <thead>\n",
       "    <tr style=\"text-align: right;\">\n",
       "      <th></th>\n",
       "      <th></th>\n",
       "      <th>0</th>\n",
       "      <th>1</th>\n",
       "      <th>2</th>\n",
       "      <th>3</th>\n",
       "      <th>4</th>\n",
       "      <th>5</th>\n",
       "      <th>6</th>\n",
       "      <th>7</th>\n",
       "      <th>8</th>\n",
       "      <th>9</th>\n",
       "      <th>...</th>\n",
       "      <th>614</th>\n",
       "      <th>615</th>\n",
       "      <th>616</th>\n",
       "      <th>617</th>\n",
       "      <th>618</th>\n",
       "      <th>619</th>\n",
       "      <th>620</th>\n",
       "      <th>621</th>\n",
       "      <th>622</th>\n",
       "      <th>623</th>\n",
       "    </tr>\n",
       "    <tr>\n",
       "      <th>spotName</th>\n",
       "      <th>TimeStamp</th>\n",
       "      <th></th>\n",
       "      <th></th>\n",
       "      <th></th>\n",
       "      <th></th>\n",
       "      <th></th>\n",
       "      <th></th>\n",
       "      <th></th>\n",
       "      <th></th>\n",
       "      <th></th>\n",
       "      <th></th>\n",
       "      <th></th>\n",
       "      <th></th>\n",
       "      <th></th>\n",
       "      <th></th>\n",
       "      <th></th>\n",
       "      <th></th>\n",
       "      <th></th>\n",
       "      <th></th>\n",
       "      <th></th>\n",
       "      <th></th>\n",
       "      <th></th>\n",
       "    </tr>\n",
       "  </thead>\n",
       "  <tbody>\n",
       "    <tr>\n",
       "      <th rowspan=\"5\" valign=\"top\">60000_0_00</th>\n",
       "      <th>2019-11-07 12:29:06</th>\n",
       "      <td>NaN</td>\n",
       "      <td>612.0</td>\n",
       "      <td>555.0</td>\n",
       "      <td>364.0</td>\n",
       "      <td>231.0</td>\n",
       "      <td>108.0</td>\n",
       "      <td>66.0</td>\n",
       "      <td>42.0</td>\n",
       "      <td>34.0</td>\n",
       "      <td>41.0</td>\n",
       "      <td>...</td>\n",
       "      <td>NaN</td>\n",
       "      <td>NaN</td>\n",
       "      <td>NaN</td>\n",
       "      <td>NaN</td>\n",
       "      <td>NaN</td>\n",
       "      <td>NaN</td>\n",
       "      <td>NaN</td>\n",
       "      <td>NaN</td>\n",
       "      <td>NaN</td>\n",
       "      <td>NaN</td>\n",
       "    </tr>\n",
       "    <tr>\n",
       "      <th>2019-11-07 12:29:26</th>\n",
       "      <td>NaN</td>\n",
       "      <td>616.0</td>\n",
       "      <td>556.0</td>\n",
       "      <td>367.0</td>\n",
       "      <td>248.0</td>\n",
       "      <td>145.0</td>\n",
       "      <td>60.0</td>\n",
       "      <td>52.0</td>\n",
       "      <td>0.0</td>\n",
       "      <td>77.0</td>\n",
       "      <td>...</td>\n",
       "      <td>NaN</td>\n",
       "      <td>NaN</td>\n",
       "      <td>NaN</td>\n",
       "      <td>NaN</td>\n",
       "      <td>NaN</td>\n",
       "      <td>NaN</td>\n",
       "      <td>NaN</td>\n",
       "      <td>NaN</td>\n",
       "      <td>NaN</td>\n",
       "      <td>NaN</td>\n",
       "    </tr>\n",
       "    <tr>\n",
       "      <th>2019-11-07 12:29:26</th>\n",
       "      <td>NaN</td>\n",
       "      <td>618.0</td>\n",
       "      <td>535.0</td>\n",
       "      <td>363.0</td>\n",
       "      <td>230.0</td>\n",
       "      <td>157.0</td>\n",
       "      <td>57.0</td>\n",
       "      <td>0.0</td>\n",
       "      <td>0.0</td>\n",
       "      <td>32.0</td>\n",
       "      <td>...</td>\n",
       "      <td>NaN</td>\n",
       "      <td>NaN</td>\n",
       "      <td>NaN</td>\n",
       "      <td>NaN</td>\n",
       "      <td>NaN</td>\n",
       "      <td>NaN</td>\n",
       "      <td>NaN</td>\n",
       "      <td>NaN</td>\n",
       "      <td>NaN</td>\n",
       "      <td>NaN</td>\n",
       "    </tr>\n",
       "    <tr>\n",
       "      <th>2019-11-07 12:29:30</th>\n",
       "      <td>NaN</td>\n",
       "      <td>610.0</td>\n",
       "      <td>543.0</td>\n",
       "      <td>359.0</td>\n",
       "      <td>242.0</td>\n",
       "      <td>159.0</td>\n",
       "      <td>58.0</td>\n",
       "      <td>0.0</td>\n",
       "      <td>25.0</td>\n",
       "      <td>50.0</td>\n",
       "      <td>...</td>\n",
       "      <td>NaN</td>\n",
       "      <td>NaN</td>\n",
       "      <td>NaN</td>\n",
       "      <td>NaN</td>\n",
       "      <td>NaN</td>\n",
       "      <td>NaN</td>\n",
       "      <td>NaN</td>\n",
       "      <td>NaN</td>\n",
       "      <td>NaN</td>\n",
       "      <td>NaN</td>\n",
       "    </tr>\n",
       "    <tr>\n",
       "      <th>2019-11-07 12:29:32</th>\n",
       "      <td>NaN</td>\n",
       "      <td>618.0</td>\n",
       "      <td>558.0</td>\n",
       "      <td>370.0</td>\n",
       "      <td>223.0</td>\n",
       "      <td>137.0</td>\n",
       "      <td>104.0</td>\n",
       "      <td>42.0</td>\n",
       "      <td>34.0</td>\n",
       "      <td>51.0</td>\n",
       "      <td>...</td>\n",
       "      <td>NaN</td>\n",
       "      <td>NaN</td>\n",
       "      <td>NaN</td>\n",
       "      <td>NaN</td>\n",
       "      <td>NaN</td>\n",
       "      <td>NaN</td>\n",
       "      <td>NaN</td>\n",
       "      <td>NaN</td>\n",
       "      <td>NaN</td>\n",
       "      <td>NaN</td>\n",
       "    </tr>\n",
       "    <tr>\n",
       "      <th>...</th>\n",
       "      <th>...</th>\n",
       "      <td>...</td>\n",
       "      <td>...</td>\n",
       "      <td>...</td>\n",
       "      <td>...</td>\n",
       "      <td>...</td>\n",
       "      <td>...</td>\n",
       "      <td>...</td>\n",
       "      <td>...</td>\n",
       "      <td>...</td>\n",
       "      <td>...</td>\n",
       "      <td>...</td>\n",
       "      <td>...</td>\n",
       "      <td>...</td>\n",
       "      <td>...</td>\n",
       "      <td>...</td>\n",
       "      <td>...</td>\n",
       "      <td>...</td>\n",
       "      <td>...</td>\n",
       "      <td>...</td>\n",
       "      <td>...</td>\n",
       "      <td>...</td>\n",
       "    </tr>\n",
       "    <tr>\n",
       "      <th>60001_0_00</th>\n",
       "      <th>2020-05-28 15:00:04</th>\n",
       "      <td>NaN</td>\n",
       "      <td>618.0</td>\n",
       "      <td>535.0</td>\n",
       "      <td>355.0</td>\n",
       "      <td>222.0</td>\n",
       "      <td>165.0</td>\n",
       "      <td>65.0</td>\n",
       "      <td>16.0</td>\n",
       "      <td>0.0</td>\n",
       "      <td>41.0</td>\n",
       "      <td>...</td>\n",
       "      <td>NaN</td>\n",
       "      <td>NaN</td>\n",
       "      <td>NaN</td>\n",
       "      <td>NaN</td>\n",
       "      <td>NaN</td>\n",
       "      <td>NaN</td>\n",
       "      <td>NaN</td>\n",
       "      <td>NaN</td>\n",
       "      <td>NaN</td>\n",
       "      <td>NaN</td>\n",
       "    </tr>\n",
       "    <tr>\n",
       "      <th>60021_0_00</th>\n",
       "      <th>2020-05-28 15:00:04</th>\n",
       "      <td>NaN</td>\n",
       "      <td>639.0</td>\n",
       "      <td>555.0</td>\n",
       "      <td>343.0</td>\n",
       "      <td>213.0</td>\n",
       "      <td>120.0</td>\n",
       "      <td>92.0</td>\n",
       "      <td>93.0</td>\n",
       "      <td>0.0</td>\n",
       "      <td>9.0</td>\n",
       "      <td>...</td>\n",
       "      <td>NaN</td>\n",
       "      <td>NaN</td>\n",
       "      <td>NaN</td>\n",
       "      <td>NaN</td>\n",
       "      <td>NaN</td>\n",
       "      <td>NaN</td>\n",
       "      <td>NaN</td>\n",
       "      <td>NaN</td>\n",
       "      <td>NaN</td>\n",
       "      <td>NaN</td>\n",
       "    </tr>\n",
       "    <tr>\n",
       "      <th>60023_0_00</th>\n",
       "      <th>2020-05-28 15:00:17</th>\n",
       "      <td>NaN</td>\n",
       "      <td>630.0</td>\n",
       "      <td>534.0</td>\n",
       "      <td>349.0</td>\n",
       "      <td>201.0</td>\n",
       "      <td>123.0</td>\n",
       "      <td>131.0</td>\n",
       "      <td>35.0</td>\n",
       "      <td>9.0</td>\n",
       "      <td>0.0</td>\n",
       "      <td>...</td>\n",
       "      <td>NaN</td>\n",
       "      <td>NaN</td>\n",
       "      <td>NaN</td>\n",
       "      <td>NaN</td>\n",
       "      <td>NaN</td>\n",
       "      <td>NaN</td>\n",
       "      <td>NaN</td>\n",
       "      <td>NaN</td>\n",
       "      <td>NaN</td>\n",
       "      <td>NaN</td>\n",
       "    </tr>\n",
       "    <tr>\n",
       "      <th>60025_0_00</th>\n",
       "      <th>2020-05-28 15:00:17</th>\n",
       "      <td>NaN</td>\n",
       "      <td>629.0</td>\n",
       "      <td>521.0</td>\n",
       "      <td>318.0</td>\n",
       "      <td>177.0</td>\n",
       "      <td>84.0</td>\n",
       "      <td>83.0</td>\n",
       "      <td>26.0</td>\n",
       "      <td>17.0</td>\n",
       "      <td>42.0</td>\n",
       "      <td>...</td>\n",
       "      <td>NaN</td>\n",
       "      <td>NaN</td>\n",
       "      <td>NaN</td>\n",
       "      <td>NaN</td>\n",
       "      <td>NaN</td>\n",
       "      <td>NaN</td>\n",
       "      <td>NaN</td>\n",
       "      <td>NaN</td>\n",
       "      <td>NaN</td>\n",
       "      <td>NaN</td>\n",
       "    </tr>\n",
       "    <tr>\n",
       "      <th>60027_0_00</th>\n",
       "      <th>2020-05-28 15:00:17</th>\n",
       "      <td>NaN</td>\n",
       "      <td>608.0</td>\n",
       "      <td>520.0</td>\n",
       "      <td>336.0</td>\n",
       "      <td>184.0</td>\n",
       "      <td>120.0</td>\n",
       "      <td>40.0</td>\n",
       "      <td>16.0</td>\n",
       "      <td>0.0</td>\n",
       "      <td>32.0</td>\n",
       "      <td>...</td>\n",
       "      <td>NaN</td>\n",
       "      <td>NaN</td>\n",
       "      <td>NaN</td>\n",
       "      <td>NaN</td>\n",
       "      <td>NaN</td>\n",
       "      <td>NaN</td>\n",
       "      <td>NaN</td>\n",
       "      <td>NaN</td>\n",
       "      <td>NaN</td>\n",
       "      <td>NaN</td>\n",
       "    </tr>\n",
       "  </tbody>\n",
       "</table>\n",
       "<p>142192 rows × 624 columns</p>\n",
       "</div>"
      ],
      "text/plain": [
       "                                0      1      2      3      4      5      6    \\\n",
       "spotName   TimeStamp                                                            \n",
       "60000_0_00 2019-11-07 12:29:06  NaN  612.0  555.0  364.0  231.0  108.0   66.0   \n",
       "           2019-11-07 12:29:26  NaN  616.0  556.0  367.0  248.0  145.0   60.0   \n",
       "           2019-11-07 12:29:26  NaN  618.0  535.0  363.0  230.0  157.0   57.0   \n",
       "           2019-11-07 12:29:30  NaN  610.0  543.0  359.0  242.0  159.0   58.0   \n",
       "           2019-11-07 12:29:32  NaN  618.0  558.0  370.0  223.0  137.0  104.0   \n",
       "...                             ...    ...    ...    ...    ...    ...    ...   \n",
       "60001_0_00 2020-05-28 15:00:04  NaN  618.0  535.0  355.0  222.0  165.0   65.0   \n",
       "60021_0_00 2020-05-28 15:00:04  NaN  639.0  555.0  343.0  213.0  120.0   92.0   \n",
       "60023_0_00 2020-05-28 15:00:17  NaN  630.0  534.0  349.0  201.0  123.0  131.0   \n",
       "60025_0_00 2020-05-28 15:00:17  NaN  629.0  521.0  318.0  177.0   84.0   83.0   \n",
       "60027_0_00 2020-05-28 15:00:17  NaN  608.0  520.0  336.0  184.0  120.0   40.0   \n",
       "\n",
       "                                 7     8     9    ...  614  615  616  617  \\\n",
       "spotName   TimeStamp                              ...                       \n",
       "60000_0_00 2019-11-07 12:29:06  42.0  34.0  41.0  ...  NaN  NaN  NaN  NaN   \n",
       "           2019-11-07 12:29:26  52.0   0.0  77.0  ...  NaN  NaN  NaN  NaN   \n",
       "           2019-11-07 12:29:26   0.0   0.0  32.0  ...  NaN  NaN  NaN  NaN   \n",
       "           2019-11-07 12:29:30   0.0  25.0  50.0  ...  NaN  NaN  NaN  NaN   \n",
       "           2019-11-07 12:29:32  42.0  34.0  51.0  ...  NaN  NaN  NaN  NaN   \n",
       "...                              ...   ...   ...  ...  ...  ...  ...  ...   \n",
       "60001_0_00 2020-05-28 15:00:04  16.0   0.0  41.0  ...  NaN  NaN  NaN  NaN   \n",
       "60021_0_00 2020-05-28 15:00:04  93.0   0.0   9.0  ...  NaN  NaN  NaN  NaN   \n",
       "60023_0_00 2020-05-28 15:00:17  35.0   9.0   0.0  ...  NaN  NaN  NaN  NaN   \n",
       "60025_0_00 2020-05-28 15:00:17  26.0  17.0  42.0  ...  NaN  NaN  NaN  NaN   \n",
       "60027_0_00 2020-05-28 15:00:17  16.0   0.0  32.0  ...  NaN  NaN  NaN  NaN   \n",
       "\n",
       "                                618  619  620  621  622  623  \n",
       "spotName   TimeStamp                                          \n",
       "60000_0_00 2019-11-07 12:29:06  NaN  NaN  NaN  NaN  NaN  NaN  \n",
       "           2019-11-07 12:29:26  NaN  NaN  NaN  NaN  NaN  NaN  \n",
       "           2019-11-07 12:29:26  NaN  NaN  NaN  NaN  NaN  NaN  \n",
       "           2019-11-07 12:29:30  NaN  NaN  NaN  NaN  NaN  NaN  \n",
       "           2019-11-07 12:29:32  NaN  NaN  NaN  NaN  NaN  NaN  \n",
       "...                             ...  ...  ...  ...  ...  ...  \n",
       "60001_0_00 2020-05-28 15:00:04  NaN  NaN  NaN  NaN  NaN  NaN  \n",
       "60021_0_00 2020-05-28 15:00:04  NaN  NaN  NaN  NaN  NaN  NaN  \n",
       "60023_0_00 2020-05-28 15:00:17  NaN  NaN  NaN  NaN  NaN  NaN  \n",
       "60025_0_00 2020-05-28 15:00:17  NaN  NaN  NaN  NaN  NaN  NaN  \n",
       "60027_0_00 2020-05-28 15:00:17  NaN  NaN  NaN  NaN  NaN  NaN  \n",
       "\n",
       "[142192 rows x 624 columns]"
      ]
     },
     "execution_count": 27,
     "metadata": {},
     "output_type": "execute_result"
    }
   ],
   "source": [
    "voltage_lag.head(15)"
   ]
  },
  {
   "cell_type": "markdown",
   "metadata": {},
   "source": [
    "Si nota un andamento anomalo dopo il 500° valore. Posso eliminare i circa ultimi 100 valori che probabilmente derivano da un processo viziato?"
   ]
  },
  {
   "cell_type": "code",
   "execution_count": null,
   "metadata": {},
   "outputs": [],
   "source": []
  },
  {
   "cell_type": "code",
   "execution_count": null,
   "metadata": {},
   "outputs": [
    {
     "data": {
      "text/plain": [
       "<AxesSubplot:>"
      ]
     },
     "execution_count": 73,
     "metadata": {},
     "output_type": "execute_result"
    },
    {
     "data": {
      "image/png": "[encoded data removed]",
      "text/plain": [
       "<Figure size 432x288 with 1 Axes>"
      ]
     },
     "metadata": {
      "needs_background": "light"
     },
     "output_type": "display_data"
    }
   ],
   "source": [
    "#calcolo lunghezza di ogni lista e plot del relativo istogramma\n",
    "len_lists=df['VoltageCurve'].str.len()\n",
    "len_lists.hist()\n",
    "# la maggior parte delle liste sembra avere una dimensione intorno ai 400 valori"
   ]
  },
  {
   "cell_type": "code",
   "execution_count": null,
   "metadata": {},
   "outputs": [
    {
     "data": {
      "text/plain": [
       "[<matplotlib.lines.Line2D at 0x18836043c70>]"
      ]
     },
     "execution_count": 74,
     "metadata": {},
     "output_type": "execute_result"
    },
    {
     "data": {
      "image/png": "[encoded data removed]",
      "text/plain": [
       "<Figure size 432x288 with 1 Axes>"
      ]
     },
     "metadata": {
      "needs_background": "light"
     },
     "output_type": "display_data"
    }
   ],
   "source": [
    "# somma cumulata della distribuzione delle lunghezze\n",
    "conta=len_lists.groupby(len_lists.values).count()\n",
    "plot(conta.cumsum()/len(Voltage_df))\n",
    "# le liste con meno di 500 valori rappresentano circa l'80% dei dati"
   ]
  },
  {
   "cell_type": "markdown",
   "metadata": {},
   "source": [
    "Decido di considerare solo le raccolte con meno di 500 valori per la creazione della curva media/mediana"
   ]
  },
  {
   "cell_type": "code",
   "execution_count": 46,
   "metadata": {},
   "outputs": [
    {
     "data": {
      "text/plain": [
       "[<matplotlib.lines.Line2D at 0x1a29d69ec10>]"
      ]
     },
     "execution_count": 46,
     "metadata": {},
     "output_type": "execute_result"
    },
    {
     "data": {
      "image/png": "[encoded data removed]",
      "text/plain": [
       "<Figure size 432x288 with 1 Axes>"
      ]
     },
     "metadata": {
      "needs_background": "light"
     },
     "output_type": "display_data"
    }
   ],
   "source": [
    "anomalie_volt=df[\"VoltageCurve\"][df['VoltageCurve'].str.len()>600]\n",
    "plot(anomalie_volt[10])"
   ]
  }
 ],
 "metadata": {
  "interpreter": {
   "hash": "21aec60ee798f848cdec17e8ad1d5abc914a64c17deba4b59301cd664b10b21e"
  },
  "kernelspec": {
   "display_name": "Python 3.9.7 ('base')",
   "language": "python",
   "name": "python3"
  },
  "language_info": {
   "codemirror_mode": {
    "name": "ipython",
    "version": 3
   },
   "file_extension": ".py",
   "mimetype": "text/x-python",
   "name": "python",
   "nbconvert_exporter": "python",
   "pygments_lexer": "ipython3",
   "version": "3.9.7"
  },
  "orig_nbformat": 4
 },
 "nbformat": 4,
 "nbformat_minor": 2
}
