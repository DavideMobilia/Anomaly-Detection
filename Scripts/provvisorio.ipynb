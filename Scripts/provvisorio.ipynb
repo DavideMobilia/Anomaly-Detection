{
 "cells": [
  {
   "cell_type": "code",
   "execution_count": 21,
   "metadata": {},
   "outputs": [],
   "source": [
    "import pandas as pd\n",
    "import numpy as np\n",
    "from matplotlib import pyplot as plt\n",
    "from pylab import *"
   ]
  },
  {
   "cell_type": "code",
   "execution_count": 2,
   "metadata": {},
   "outputs": [
    {
     "data": {
      "text/html": [
       "<div>\n",
       "<style scoped>\n",
       "    .dataframe tbody tr th:only-of-type {\n",
       "        vertical-align: middle;\n",
       "    }\n",
       "\n",
       "    .dataframe tbody tr th {\n",
       "        vertical-align: top;\n",
       "    }\n",
       "\n",
       "    .dataframe thead th {\n",
       "        text-align: right;\n",
       "    }\n",
       "</style>\n",
       "<table border=\"1\" class=\"dataframe\">\n",
       "  <thead>\n",
       "    <tr style=\"text-align: right;\">\n",
       "      <th></th>\n",
       "      <th>VoltageCurve</th>\n",
       "      <th>CurrentCurve</th>\n",
       "      <th>spotName</th>\n",
       "    </tr>\n",
       "    <tr>\n",
       "      <th>TimeStamp</th>\n",
       "      <th></th>\n",
       "      <th></th>\n",
       "      <th></th>\n",
       "    </tr>\n",
       "  </thead>\n",
       "  <tbody>\n",
       "    <tr>\n",
       "      <th>2019-11-07 12:29:06</th>\n",
       "      <td>[132, 744, 1299, 1663, 1894, 2002, 2068, 2110,...</td>\n",
       "      <td>[311, 1990, 3577, 4759, 5599, 6190, 6594, 6999...</td>\n",
       "      <td>60000_0_00</td>\n",
       "    </tr>\n",
       "    <tr>\n",
       "      <th>2019-11-07 12:29:26</th>\n",
       "      <td>[136, 752, 1308, 1675, 1923, 2068, 2128, 2180,...</td>\n",
       "      <td>[301, 1961, 3470, 4527, 5432, 6066, 6489, 6911...</td>\n",
       "      <td>60000_0_00</td>\n",
       "    </tr>\n",
       "    <tr>\n",
       "      <th>2019-11-07 12:29:26</th>\n",
       "      <td>[139, 757, 1292, 1655, 1885, 2042, 2099, 2099,...</td>\n",
       "      <td>[333, 2058, 3663, 4814, 5661, 6388, 6842, 7084...</td>\n",
       "      <td>60000_0_00</td>\n",
       "    </tr>\n",
       "    <tr>\n",
       "      <th>2019-11-07 12:29:30</th>\n",
       "      <td>[133, 743, 1286, 1645, 1887, 2046, 2104, 2104,...</td>\n",
       "      <td>[307, 2031, 3632, 4802, 5695, 6434, 6865, 7142...</td>\n",
       "      <td>60000_0_00</td>\n",
       "    </tr>\n",
       "    <tr>\n",
       "      <th>2019-11-07 12:29:32</th>\n",
       "      <td>[137, 755, 1313, 1683, 1906, 2043, 2147, 2189,...</td>\n",
       "      <td>[302, 1995, 3508, 4596, 5382, 5987, 6562, 6955...</td>\n",
       "      <td>60000_0_00</td>\n",
       "    </tr>\n",
       "  </tbody>\n",
       "</table>\n",
       "</div>"
      ],
      "text/plain": [
       "                                                          VoltageCurve  \\\n",
       "TimeStamp                                                                \n",
       "2019-11-07 12:29:06  [132, 744, 1299, 1663, 1894, 2002, 2068, 2110,...   \n",
       "2019-11-07 12:29:26  [136, 752, 1308, 1675, 1923, 2068, 2128, 2180,...   \n",
       "2019-11-07 12:29:26  [139, 757, 1292, 1655, 1885, 2042, 2099, 2099,...   \n",
       "2019-11-07 12:29:30  [133, 743, 1286, 1645, 1887, 2046, 2104, 2104,...   \n",
       "2019-11-07 12:29:32  [137, 755, 1313, 1683, 1906, 2043, 2147, 2189,...   \n",
       "\n",
       "                                                          CurrentCurve  \\\n",
       "TimeStamp                                                                \n",
       "2019-11-07 12:29:06  [311, 1990, 3577, 4759, 5599, 6190, 6594, 6999...   \n",
       "2019-11-07 12:29:26  [301, 1961, 3470, 4527, 5432, 6066, 6489, 6911...   \n",
       "2019-11-07 12:29:26  [333, 2058, 3663, 4814, 5661, 6388, 6842, 7084...   \n",
       "2019-11-07 12:29:30  [307, 2031, 3632, 4802, 5695, 6434, 6865, 7142...   \n",
       "2019-11-07 12:29:32  [302, 1995, 3508, 4596, 5382, 5987, 6562, 6955...   \n",
       "\n",
       "                       spotName  \n",
       "TimeStamp                        \n",
       "2019-11-07 12:29:06  60000_0_00  \n",
       "2019-11-07 12:29:26  60000_0_00  \n",
       "2019-11-07 12:29:26  60000_0_00  \n",
       "2019-11-07 12:29:30  60000_0_00  \n",
       "2019-11-07 12:29:32  60000_0_00  "
      ]
     },
     "execution_count": 2,
     "metadata": {},
     "output_type": "execute_result"
    }
   ],
   "source": [
    "df= pd.read_pickle(\"../data/clean_rows_df.pkl\")  \n",
    "df.head()"
   ]
  },
  {
   "cell_type": "code",
   "execution_count": 3,
   "metadata": {},
   "outputs": [],
   "source": [
    "Voltage_df=df.drop(\"CurrentCurve\", axis=1)\n",
    "Current_df=df.drop(\"VoltageCurve\", axis=1)"
   ]
  },
  {
   "cell_type": "code",
   "execution_count": 4,
   "metadata": {},
   "outputs": [
    {
     "data": {
      "text/html": [
       "<div>\n",
       "<style scoped>\n",
       "    .dataframe tbody tr th:only-of-type {\n",
       "        vertical-align: middle;\n",
       "    }\n",
       "\n",
       "    .dataframe tbody tr th {\n",
       "        vertical-align: top;\n",
       "    }\n",
       "\n",
       "    .dataframe thead th {\n",
       "        text-align: right;\n",
       "    }\n",
       "</style>\n",
       "<table border=\"1\" class=\"dataframe\">\n",
       "  <thead>\n",
       "    <tr style=\"text-align: right;\">\n",
       "      <th></th>\n",
       "      <th>VoltageCurve</th>\n",
       "      <th>spotName</th>\n",
       "    </tr>\n",
       "    <tr>\n",
       "      <th>TimeStamp</th>\n",
       "      <th></th>\n",
       "      <th></th>\n",
       "    </tr>\n",
       "  </thead>\n",
       "  <tbody>\n",
       "    <tr>\n",
       "      <th>2019-11-07 12:29:06</th>\n",
       "      <td>[132, 744, 1299, 1663, 1894, 2002, 2068, 2110,...</td>\n",
       "      <td>60000_0_00</td>\n",
       "    </tr>\n",
       "    <tr>\n",
       "      <th>2019-11-07 12:29:26</th>\n",
       "      <td>[136, 752, 1308, 1675, 1923, 2068, 2128, 2180,...</td>\n",
       "      <td>60000_0_00</td>\n",
       "    </tr>\n",
       "    <tr>\n",
       "      <th>2019-11-07 12:29:26</th>\n",
       "      <td>[139, 757, 1292, 1655, 1885, 2042, 2099, 2099,...</td>\n",
       "      <td>60000_0_00</td>\n",
       "    </tr>\n",
       "    <tr>\n",
       "      <th>2019-11-07 12:29:30</th>\n",
       "      <td>[133, 743, 1286, 1645, 1887, 2046, 2104, 2104,...</td>\n",
       "      <td>60000_0_00</td>\n",
       "    </tr>\n",
       "    <tr>\n",
       "      <th>2019-11-07 12:29:32</th>\n",
       "      <td>[137, 755, 1313, 1683, 1906, 2043, 2147, 2189,...</td>\n",
       "      <td>60000_0_00</td>\n",
       "    </tr>\n",
       "    <tr>\n",
       "      <th>...</th>\n",
       "      <td>...</td>\n",
       "      <td>...</td>\n",
       "    </tr>\n",
       "    <tr>\n",
       "      <th>2020-05-28 15:00:04</th>\n",
       "      <td>[139, 757, 1292, 1647, 1869, 2034, 2099, 2083,...</td>\n",
       "      <td>60001_0_00</td>\n",
       "    </tr>\n",
       "    <tr>\n",
       "      <th>2020-05-28 15:00:04</th>\n",
       "      <td>[138, 777, 1332, 1675, 1888, 2008, 2100, 2193,...</td>\n",
       "      <td>60021_0_00</td>\n",
       "    </tr>\n",
       "    <tr>\n",
       "      <th>2020-05-28 15:00:17</th>\n",
       "      <td>[139, 769, 1303, 1652, 1853, 1976, 2107, 2142,...</td>\n",
       "      <td>60023_0_00</td>\n",
       "    </tr>\n",
       "    <tr>\n",
       "      <th>2020-05-28 15:00:17</th>\n",
       "      <td>[134, 763, 1284, 1602, 1779, 1863, 1946, 1972,...</td>\n",
       "      <td>60025_0_00</td>\n",
       "    </tr>\n",
       "    <tr>\n",
       "      <th>2020-05-28 15:00:17</th>\n",
       "      <td>[136, 744, 1264, 1600, 1784, 1904, 1944, 1960,...</td>\n",
       "      <td>60027_0_00</td>\n",
       "    </tr>\n",
       "  </tbody>\n",
       "</table>\n",
       "<p>142192 rows × 2 columns</p>\n",
       "</div>"
      ],
      "text/plain": [
       "                                                          VoltageCurve  \\\n",
       "TimeStamp                                                                \n",
       "2019-11-07 12:29:06  [132, 744, 1299, 1663, 1894, 2002, 2068, 2110,...   \n",
       "2019-11-07 12:29:26  [136, 752, 1308, 1675, 1923, 2068, 2128, 2180,...   \n",
       "2019-11-07 12:29:26  [139, 757, 1292, 1655, 1885, 2042, 2099, 2099,...   \n",
       "2019-11-07 12:29:30  [133, 743, 1286, 1645, 1887, 2046, 2104, 2104,...   \n",
       "2019-11-07 12:29:32  [137, 755, 1313, 1683, 1906, 2043, 2147, 2189,...   \n",
       "...                                                                ...   \n",
       "2020-05-28 15:00:04  [139, 757, 1292, 1647, 1869, 2034, 2099, 2083,...   \n",
       "2020-05-28 15:00:04  [138, 777, 1332, 1675, 1888, 2008, 2100, 2193,...   \n",
       "2020-05-28 15:00:17  [139, 769, 1303, 1652, 1853, 1976, 2107, 2142,...   \n",
       "2020-05-28 15:00:17  [134, 763, 1284, 1602, 1779, 1863, 1946, 1972,...   \n",
       "2020-05-28 15:00:17  [136, 744, 1264, 1600, 1784, 1904, 1944, 1960,...   \n",
       "\n",
       "                       spotName  \n",
       "TimeStamp                        \n",
       "2019-11-07 12:29:06  60000_0_00  \n",
       "2019-11-07 12:29:26  60000_0_00  \n",
       "2019-11-07 12:29:26  60000_0_00  \n",
       "2019-11-07 12:29:30  60000_0_00  \n",
       "2019-11-07 12:29:32  60000_0_00  \n",
       "...                         ...  \n",
       "2020-05-28 15:00:04  60001_0_00  \n",
       "2020-05-28 15:00:04  60021_0_00  \n",
       "2020-05-28 15:00:17  60023_0_00  \n",
       "2020-05-28 15:00:17  60025_0_00  \n",
       "2020-05-28 15:00:17  60027_0_00  \n",
       "\n",
       "[142192 rows x 2 columns]"
      ]
     },
     "execution_count": 4,
     "metadata": {},
     "output_type": "execute_result"
    }
   ],
   "source": [
    "Voltage_df"
   ]
  },
  {
   "cell_type": "code",
   "execution_count": 5,
   "metadata": {},
   "outputs": [],
   "source": [
    "df.reset_index(inplace=True)\n",
    "df.set_index([\"spotName\",\"TimeStamp\"],inplace=True)"
   ]
  },
  {
   "cell_type": "code",
   "execution_count": 6,
   "metadata": {},
   "outputs": [],
   "source": [
    "exploded_voltage=pd.DataFrame(df.VoltageCurve.tolist(), index= df.index)"
   ]
  },
  {
   "cell_type": "code",
   "execution_count": 7,
   "metadata": {},
   "outputs": [
    {
     "data": {
      "text/html": [
       "<div>\n",
       "<style scoped>\n",
       "    .dataframe tbody tr th:only-of-type {\n",
       "        vertical-align: middle;\n",
       "    }\n",
       "\n",
       "    .dataframe tbody tr th {\n",
       "        vertical-align: top;\n",
       "    }\n",
       "\n",
       "    .dataframe thead th {\n",
       "        text-align: right;\n",
       "    }\n",
       "</style>\n",
       "<table border=\"1\" class=\"dataframe\">\n",
       "  <thead>\n",
       "    <tr style=\"text-align: right;\">\n",
       "      <th></th>\n",
       "      <th></th>\n",
       "      <th>0</th>\n",
       "      <th>1</th>\n",
       "      <th>2</th>\n",
       "      <th>3</th>\n",
       "      <th>4</th>\n",
       "      <th>5</th>\n",
       "      <th>6</th>\n",
       "      <th>7</th>\n",
       "      <th>8</th>\n",
       "      <th>9</th>\n",
       "      <th>...</th>\n",
       "      <th>614</th>\n",
       "      <th>615</th>\n",
       "      <th>616</th>\n",
       "      <th>617</th>\n",
       "      <th>618</th>\n",
       "      <th>619</th>\n",
       "      <th>620</th>\n",
       "      <th>621</th>\n",
       "      <th>622</th>\n",
       "      <th>623</th>\n",
       "    </tr>\n",
       "    <tr>\n",
       "      <th>spotName</th>\n",
       "      <th>TimeStamp</th>\n",
       "      <th></th>\n",
       "      <th></th>\n",
       "      <th></th>\n",
       "      <th></th>\n",
       "      <th></th>\n",
       "      <th></th>\n",
       "      <th></th>\n",
       "      <th></th>\n",
       "      <th></th>\n",
       "      <th></th>\n",
       "      <th></th>\n",
       "      <th></th>\n",
       "      <th></th>\n",
       "      <th></th>\n",
       "      <th></th>\n",
       "      <th></th>\n",
       "      <th></th>\n",
       "      <th></th>\n",
       "      <th></th>\n",
       "      <th></th>\n",
       "      <th></th>\n",
       "    </tr>\n",
       "  </thead>\n",
       "  <tbody>\n",
       "    <tr>\n",
       "      <th rowspan=\"5\" valign=\"top\">60000_0_00</th>\n",
       "      <th>2019-11-07 12:29:06</th>\n",
       "      <td>132</td>\n",
       "      <td>744.0</td>\n",
       "      <td>1299.0</td>\n",
       "      <td>1663.0</td>\n",
       "      <td>1894.0</td>\n",
       "      <td>2002.0</td>\n",
       "      <td>2068.0</td>\n",
       "      <td>2110.0</td>\n",
       "      <td>2076.0</td>\n",
       "      <td>2035.0</td>\n",
       "      <td>...</td>\n",
       "      <td>NaN</td>\n",
       "      <td>NaN</td>\n",
       "      <td>NaN</td>\n",
       "      <td>NaN</td>\n",
       "      <td>NaN</td>\n",
       "      <td>NaN</td>\n",
       "      <td>NaN</td>\n",
       "      <td>NaN</td>\n",
       "      <td>NaN</td>\n",
       "      <td>NaN</td>\n",
       "    </tr>\n",
       "    <tr>\n",
       "      <th>2019-11-07 12:29:26</th>\n",
       "      <td>136</td>\n",
       "      <td>752.0</td>\n",
       "      <td>1308.0</td>\n",
       "      <td>1675.0</td>\n",
       "      <td>1923.0</td>\n",
       "      <td>2068.0</td>\n",
       "      <td>2128.0</td>\n",
       "      <td>2180.0</td>\n",
       "      <td>2180.0</td>\n",
       "      <td>2103.0</td>\n",
       "      <td>...</td>\n",
       "      <td>NaN</td>\n",
       "      <td>NaN</td>\n",
       "      <td>NaN</td>\n",
       "      <td>NaN</td>\n",
       "      <td>NaN</td>\n",
       "      <td>NaN</td>\n",
       "      <td>NaN</td>\n",
       "      <td>NaN</td>\n",
       "      <td>NaN</td>\n",
       "      <td>NaN</td>\n",
       "    </tr>\n",
       "    <tr>\n",
       "      <th>2019-11-07 12:29:26</th>\n",
       "      <td>139</td>\n",
       "      <td>757.0</td>\n",
       "      <td>1292.0</td>\n",
       "      <td>1655.0</td>\n",
       "      <td>1885.0</td>\n",
       "      <td>2042.0</td>\n",
       "      <td>2099.0</td>\n",
       "      <td>2099.0</td>\n",
       "      <td>2099.0</td>\n",
       "      <td>2067.0</td>\n",
       "      <td>...</td>\n",
       "      <td>NaN</td>\n",
       "      <td>NaN</td>\n",
       "      <td>NaN</td>\n",
       "      <td>NaN</td>\n",
       "      <td>NaN</td>\n",
       "      <td>NaN</td>\n",
       "      <td>NaN</td>\n",
       "      <td>NaN</td>\n",
       "      <td>NaN</td>\n",
       "      <td>NaN</td>\n",
       "    </tr>\n",
       "    <tr>\n",
       "      <th>2019-11-07 12:29:30</th>\n",
       "      <td>133</td>\n",
       "      <td>743.0</td>\n",
       "      <td>1286.0</td>\n",
       "      <td>1645.0</td>\n",
       "      <td>1887.0</td>\n",
       "      <td>2046.0</td>\n",
       "      <td>2104.0</td>\n",
       "      <td>2104.0</td>\n",
       "      <td>2129.0</td>\n",
       "      <td>2079.0</td>\n",
       "      <td>...</td>\n",
       "      <td>NaN</td>\n",
       "      <td>NaN</td>\n",
       "      <td>NaN</td>\n",
       "      <td>NaN</td>\n",
       "      <td>NaN</td>\n",
       "      <td>NaN</td>\n",
       "      <td>NaN</td>\n",
       "      <td>NaN</td>\n",
       "      <td>NaN</td>\n",
       "      <td>NaN</td>\n",
       "    </tr>\n",
       "    <tr>\n",
       "      <th>2019-11-07 12:29:32</th>\n",
       "      <td>137</td>\n",
       "      <td>755.0</td>\n",
       "      <td>1313.0</td>\n",
       "      <td>1683.0</td>\n",
       "      <td>1906.0</td>\n",
       "      <td>2043.0</td>\n",
       "      <td>2147.0</td>\n",
       "      <td>2189.0</td>\n",
       "      <td>2155.0</td>\n",
       "      <td>2104.0</td>\n",
       "      <td>...</td>\n",
       "      <td>NaN</td>\n",
       "      <td>NaN</td>\n",
       "      <td>NaN</td>\n",
       "      <td>NaN</td>\n",
       "      <td>NaN</td>\n",
       "      <td>NaN</td>\n",
       "      <td>NaN</td>\n",
       "      <td>NaN</td>\n",
       "      <td>NaN</td>\n",
       "      <td>NaN</td>\n",
       "    </tr>\n",
       "    <tr>\n",
       "      <th>...</th>\n",
       "      <th>...</th>\n",
       "      <td>...</td>\n",
       "      <td>...</td>\n",
       "      <td>...</td>\n",
       "      <td>...</td>\n",
       "      <td>...</td>\n",
       "      <td>...</td>\n",
       "      <td>...</td>\n",
       "      <td>...</td>\n",
       "      <td>...</td>\n",
       "      <td>...</td>\n",
       "      <td>...</td>\n",
       "      <td>...</td>\n",
       "      <td>...</td>\n",
       "      <td>...</td>\n",
       "      <td>...</td>\n",
       "      <td>...</td>\n",
       "      <td>...</td>\n",
       "      <td>...</td>\n",
       "      <td>...</td>\n",
       "      <td>...</td>\n",
       "      <td>...</td>\n",
       "    </tr>\n",
       "    <tr>\n",
       "      <th>60001_0_00</th>\n",
       "      <th>2020-05-28 15:00:04</th>\n",
       "      <td>139</td>\n",
       "      <td>757.0</td>\n",
       "      <td>1292.0</td>\n",
       "      <td>1647.0</td>\n",
       "      <td>1869.0</td>\n",
       "      <td>2034.0</td>\n",
       "      <td>2099.0</td>\n",
       "      <td>2083.0</td>\n",
       "      <td>2083.0</td>\n",
       "      <td>2042.0</td>\n",
       "      <td>...</td>\n",
       "      <td>NaN</td>\n",
       "      <td>NaN</td>\n",
       "      <td>NaN</td>\n",
       "      <td>NaN</td>\n",
       "      <td>NaN</td>\n",
       "      <td>NaN</td>\n",
       "      <td>NaN</td>\n",
       "      <td>NaN</td>\n",
       "      <td>NaN</td>\n",
       "      <td>NaN</td>\n",
       "    </tr>\n",
       "    <tr>\n",
       "      <th>60021_0_00</th>\n",
       "      <th>2020-05-28 15:00:04</th>\n",
       "      <td>138</td>\n",
       "      <td>777.0</td>\n",
       "      <td>1332.0</td>\n",
       "      <td>1675.0</td>\n",
       "      <td>1888.0</td>\n",
       "      <td>2008.0</td>\n",
       "      <td>2100.0</td>\n",
       "      <td>2193.0</td>\n",
       "      <td>2193.0</td>\n",
       "      <td>2184.0</td>\n",
       "      <td>...</td>\n",
       "      <td>NaN</td>\n",
       "      <td>NaN</td>\n",
       "      <td>NaN</td>\n",
       "      <td>NaN</td>\n",
       "      <td>NaN</td>\n",
       "      <td>NaN</td>\n",
       "      <td>NaN</td>\n",
       "      <td>NaN</td>\n",
       "      <td>NaN</td>\n",
       "      <td>NaN</td>\n",
       "    </tr>\n",
       "    <tr>\n",
       "      <th>60023_0_00</th>\n",
       "      <th>2020-05-28 15:00:17</th>\n",
       "      <td>139</td>\n",
       "      <td>769.0</td>\n",
       "      <td>1303.0</td>\n",
       "      <td>1652.0</td>\n",
       "      <td>1853.0</td>\n",
       "      <td>1976.0</td>\n",
       "      <td>2107.0</td>\n",
       "      <td>2142.0</td>\n",
       "      <td>2133.0</td>\n",
       "      <td>2133.0</td>\n",
       "      <td>...</td>\n",
       "      <td>NaN</td>\n",
       "      <td>NaN</td>\n",
       "      <td>NaN</td>\n",
       "      <td>NaN</td>\n",
       "      <td>NaN</td>\n",
       "      <td>NaN</td>\n",
       "      <td>NaN</td>\n",
       "      <td>NaN</td>\n",
       "      <td>NaN</td>\n",
       "      <td>NaN</td>\n",
       "    </tr>\n",
       "    <tr>\n",
       "      <th>60025_0_00</th>\n",
       "      <th>2020-05-28 15:00:17</th>\n",
       "      <td>134</td>\n",
       "      <td>763.0</td>\n",
       "      <td>1284.0</td>\n",
       "      <td>1602.0</td>\n",
       "      <td>1779.0</td>\n",
       "      <td>1863.0</td>\n",
       "      <td>1946.0</td>\n",
       "      <td>1972.0</td>\n",
       "      <td>1955.0</td>\n",
       "      <td>1913.0</td>\n",
       "      <td>...</td>\n",
       "      <td>NaN</td>\n",
       "      <td>NaN</td>\n",
       "      <td>NaN</td>\n",
       "      <td>NaN</td>\n",
       "      <td>NaN</td>\n",
       "      <td>NaN</td>\n",
       "      <td>NaN</td>\n",
       "      <td>NaN</td>\n",
       "      <td>NaN</td>\n",
       "      <td>NaN</td>\n",
       "    </tr>\n",
       "    <tr>\n",
       "      <th>60027_0_00</th>\n",
       "      <th>2020-05-28 15:00:17</th>\n",
       "      <td>136</td>\n",
       "      <td>744.0</td>\n",
       "      <td>1264.0</td>\n",
       "      <td>1600.0</td>\n",
       "      <td>1784.0</td>\n",
       "      <td>1904.0</td>\n",
       "      <td>1944.0</td>\n",
       "      <td>1960.0</td>\n",
       "      <td>1960.0</td>\n",
       "      <td>1928.0</td>\n",
       "      <td>...</td>\n",
       "      <td>NaN</td>\n",
       "      <td>NaN</td>\n",
       "      <td>NaN</td>\n",
       "      <td>NaN</td>\n",
       "      <td>NaN</td>\n",
       "      <td>NaN</td>\n",
       "      <td>NaN</td>\n",
       "      <td>NaN</td>\n",
       "      <td>NaN</td>\n",
       "      <td>NaN</td>\n",
       "    </tr>\n",
       "  </tbody>\n",
       "</table>\n",
       "<p>142192 rows × 624 columns</p>\n",
       "</div>"
      ],
      "text/plain": [
       "                                0      1       2       3       4       5    \\\n",
       "spotName   TimeStamp                                                         \n",
       "60000_0_00 2019-11-07 12:29:06  132  744.0  1299.0  1663.0  1894.0  2002.0   \n",
       "           2019-11-07 12:29:26  136  752.0  1308.0  1675.0  1923.0  2068.0   \n",
       "           2019-11-07 12:29:26  139  757.0  1292.0  1655.0  1885.0  2042.0   \n",
       "           2019-11-07 12:29:30  133  743.0  1286.0  1645.0  1887.0  2046.0   \n",
       "           2019-11-07 12:29:32  137  755.0  1313.0  1683.0  1906.0  2043.0   \n",
       "...                             ...    ...     ...     ...     ...     ...   \n",
       "60001_0_00 2020-05-28 15:00:04  139  757.0  1292.0  1647.0  1869.0  2034.0   \n",
       "60021_0_00 2020-05-28 15:00:04  138  777.0  1332.0  1675.0  1888.0  2008.0   \n",
       "60023_0_00 2020-05-28 15:00:17  139  769.0  1303.0  1652.0  1853.0  1976.0   \n",
       "60025_0_00 2020-05-28 15:00:17  134  763.0  1284.0  1602.0  1779.0  1863.0   \n",
       "60027_0_00 2020-05-28 15:00:17  136  744.0  1264.0  1600.0  1784.0  1904.0   \n",
       "\n",
       "                                   6       7       8       9    ...  614  615  \\\n",
       "spotName   TimeStamp                                            ...             \n",
       "60000_0_00 2019-11-07 12:29:06  2068.0  2110.0  2076.0  2035.0  ...  NaN  NaN   \n",
       "           2019-11-07 12:29:26  2128.0  2180.0  2180.0  2103.0  ...  NaN  NaN   \n",
       "           2019-11-07 12:29:26  2099.0  2099.0  2099.0  2067.0  ...  NaN  NaN   \n",
       "           2019-11-07 12:29:30  2104.0  2104.0  2129.0  2079.0  ...  NaN  NaN   \n",
       "           2019-11-07 12:29:32  2147.0  2189.0  2155.0  2104.0  ...  NaN  NaN   \n",
       "...                                ...     ...     ...     ...  ...  ...  ...   \n",
       "60001_0_00 2020-05-28 15:00:04  2099.0  2083.0  2083.0  2042.0  ...  NaN  NaN   \n",
       "60021_0_00 2020-05-28 15:00:04  2100.0  2193.0  2193.0  2184.0  ...  NaN  NaN   \n",
       "60023_0_00 2020-05-28 15:00:17  2107.0  2142.0  2133.0  2133.0  ...  NaN  NaN   \n",
       "60025_0_00 2020-05-28 15:00:17  1946.0  1972.0  1955.0  1913.0  ...  NaN  NaN   \n",
       "60027_0_00 2020-05-28 15:00:17  1944.0  1960.0  1960.0  1928.0  ...  NaN  NaN   \n",
       "\n",
       "                                616  617  618  619  620  621  622  623  \n",
       "spotName   TimeStamp                                                    \n",
       "60000_0_00 2019-11-07 12:29:06  NaN  NaN  NaN  NaN  NaN  NaN  NaN  NaN  \n",
       "           2019-11-07 12:29:26  NaN  NaN  NaN  NaN  NaN  NaN  NaN  NaN  \n",
       "           2019-11-07 12:29:26  NaN  NaN  NaN  NaN  NaN  NaN  NaN  NaN  \n",
       "           2019-11-07 12:29:30  NaN  NaN  NaN  NaN  NaN  NaN  NaN  NaN  \n",
       "           2019-11-07 12:29:32  NaN  NaN  NaN  NaN  NaN  NaN  NaN  NaN  \n",
       "...                             ...  ...  ...  ...  ...  ...  ...  ...  \n",
       "60001_0_00 2020-05-28 15:00:04  NaN  NaN  NaN  NaN  NaN  NaN  NaN  NaN  \n",
       "60021_0_00 2020-05-28 15:00:04  NaN  NaN  NaN  NaN  NaN  NaN  NaN  NaN  \n",
       "60023_0_00 2020-05-28 15:00:17  NaN  NaN  NaN  NaN  NaN  NaN  NaN  NaN  \n",
       "60025_0_00 2020-05-28 15:00:17  NaN  NaN  NaN  NaN  NaN  NaN  NaN  NaN  \n",
       "60027_0_00 2020-05-28 15:00:17  NaN  NaN  NaN  NaN  NaN  NaN  NaN  NaN  \n",
       "\n",
       "[142192 rows x 624 columns]"
      ]
     },
     "execution_count": 7,
     "metadata": {},
     "output_type": "execute_result"
    }
   ],
   "source": [
    "exploded_voltage"
   ]
  },
  {
   "cell_type": "code",
   "execution_count": 8,
   "metadata": {},
   "outputs": [],
   "source": [
    "#quali dati hanno la massima numerosità (624) di raccolte\n",
    "#exploded_voltage[exploded_voltage[623].notna()].head()"
   ]
  },
  {
   "cell_type": "code",
   "execution_count": 9,
   "metadata": {},
   "outputs": [
    {
     "name": "stderr",
     "output_type": "stream",
     "text": [
      "C:\\Users\\dvd_m\\AppData\\Local\\Temp/ipykernel_14668/3076481641.py:4: PerformanceWarning: indexing past lexsort depth may impact performance.\n",
      "  exploded_voltage.loc[(\"60000_0_00\",\"2019-11-07 12:29:06\")]\n"
     ]
    },
    {
     "data": {
      "text/html": [
       "<div>\n",
       "<style scoped>\n",
       "    .dataframe tbody tr th:only-of-type {\n",
       "        vertical-align: middle;\n",
       "    }\n",
       "\n",
       "    .dataframe tbody tr th {\n",
       "        vertical-align: top;\n",
       "    }\n",
       "\n",
       "    .dataframe thead th {\n",
       "        text-align: right;\n",
       "    }\n",
       "</style>\n",
       "<table border=\"1\" class=\"dataframe\">\n",
       "  <thead>\n",
       "    <tr style=\"text-align: right;\">\n",
       "      <th></th>\n",
       "      <th>0</th>\n",
       "      <th>1</th>\n",
       "      <th>2</th>\n",
       "      <th>3</th>\n",
       "      <th>4</th>\n",
       "      <th>5</th>\n",
       "      <th>6</th>\n",
       "      <th>7</th>\n",
       "      <th>8</th>\n",
       "      <th>9</th>\n",
       "      <th>...</th>\n",
       "      <th>614</th>\n",
       "      <th>615</th>\n",
       "      <th>616</th>\n",
       "      <th>617</th>\n",
       "      <th>618</th>\n",
       "      <th>619</th>\n",
       "      <th>620</th>\n",
       "      <th>621</th>\n",
       "      <th>622</th>\n",
       "      <th>623</th>\n",
       "    </tr>\n",
       "    <tr>\n",
       "      <th>TimeStamp</th>\n",
       "      <th></th>\n",
       "      <th></th>\n",
       "      <th></th>\n",
       "      <th></th>\n",
       "      <th></th>\n",
       "      <th></th>\n",
       "      <th></th>\n",
       "      <th></th>\n",
       "      <th></th>\n",
       "      <th></th>\n",
       "      <th></th>\n",
       "      <th></th>\n",
       "      <th></th>\n",
       "      <th></th>\n",
       "      <th></th>\n",
       "      <th></th>\n",
       "      <th></th>\n",
       "      <th></th>\n",
       "      <th></th>\n",
       "      <th></th>\n",
       "      <th></th>\n",
       "    </tr>\n",
       "  </thead>\n",
       "  <tbody>\n",
       "    <tr>\n",
       "      <th>2019-11-07 12:29:06</th>\n",
       "      <td>132</td>\n",
       "      <td>744.0</td>\n",
       "      <td>1299.0</td>\n",
       "      <td>1663.0</td>\n",
       "      <td>1894.0</td>\n",
       "      <td>2002.0</td>\n",
       "      <td>2068.0</td>\n",
       "      <td>2110.0</td>\n",
       "      <td>2076.0</td>\n",
       "      <td>2035.0</td>\n",
       "      <td>...</td>\n",
       "      <td>NaN</td>\n",
       "      <td>NaN</td>\n",
       "      <td>NaN</td>\n",
       "      <td>NaN</td>\n",
       "      <td>NaN</td>\n",
       "      <td>NaN</td>\n",
       "      <td>NaN</td>\n",
       "      <td>NaN</td>\n",
       "      <td>NaN</td>\n",
       "      <td>NaN</td>\n",
       "    </tr>\n",
       "  </tbody>\n",
       "</table>\n",
       "<p>1 rows × 624 columns</p>\n",
       "</div>"
      ],
      "text/plain": [
       "                     0      1       2       3       4       5       6    \\\n",
       "TimeStamp                                                                 \n",
       "2019-11-07 12:29:06  132  744.0  1299.0  1663.0  1894.0  2002.0  2068.0   \n",
       "\n",
       "                        7       8       9    ...  614  615  616  617  618  \\\n",
       "TimeStamp                                    ...                            \n",
       "2019-11-07 12:29:06  2110.0  2076.0  2035.0  ...  NaN  NaN  NaN  NaN  NaN   \n",
       "\n",
       "                     619  620  621  622  623  \n",
       "TimeStamp                                     \n",
       "2019-11-07 12:29:06  NaN  NaN  NaN  NaN  NaN  \n",
       "\n",
       "[1 rows x 624 columns]"
      ]
     },
     "execution_count": 9,
     "metadata": {},
     "output_type": "execute_result"
    }
   ],
   "source": [
    "#per selezionare la prima riga\n",
    "exploded_voltage.iloc[0]\n",
    "#oppure\n",
    "exploded_voltage.loc[(\"60000_0_00\",\"2019-11-07 12:29:06\")]"
   ]
  },
  {
   "cell_type": "markdown",
   "metadata": {},
   "source": [
    "## Approccio statistico"
   ]
  },
  {
   "cell_type": "code",
   "execution_count": 10,
   "metadata": {},
   "outputs": [
    {
     "data": {
      "text/html": [
       "<div>\n",
       "<style scoped>\n",
       "    .dataframe tbody tr th:only-of-type {\n",
       "        vertical-align: middle;\n",
       "    }\n",
       "\n",
       "    .dataframe tbody tr th {\n",
       "        vertical-align: top;\n",
       "    }\n",
       "\n",
       "    .dataframe thead th {\n",
       "        text-align: right;\n",
       "    }\n",
       "</style>\n",
       "<table border=\"1\" class=\"dataframe\">\n",
       "  <thead>\n",
       "    <tr style=\"text-align: right;\">\n",
       "      <th></th>\n",
       "      <th></th>\n",
       "      <th>0</th>\n",
       "      <th>1</th>\n",
       "      <th>2</th>\n",
       "      <th>3</th>\n",
       "      <th>4</th>\n",
       "      <th>5</th>\n",
       "      <th>6</th>\n",
       "      <th>7</th>\n",
       "      <th>8</th>\n",
       "      <th>9</th>\n",
       "      <th>...</th>\n",
       "      <th>614</th>\n",
       "      <th>615</th>\n",
       "      <th>616</th>\n",
       "      <th>617</th>\n",
       "      <th>618</th>\n",
       "      <th>619</th>\n",
       "      <th>620</th>\n",
       "      <th>621</th>\n",
       "      <th>622</th>\n",
       "      <th>623</th>\n",
       "    </tr>\n",
       "    <tr>\n",
       "      <th>spotName</th>\n",
       "      <th>TimeStamp</th>\n",
       "      <th></th>\n",
       "      <th></th>\n",
       "      <th></th>\n",
       "      <th></th>\n",
       "      <th></th>\n",
       "      <th></th>\n",
       "      <th></th>\n",
       "      <th></th>\n",
       "      <th></th>\n",
       "      <th></th>\n",
       "      <th></th>\n",
       "      <th></th>\n",
       "      <th></th>\n",
       "      <th></th>\n",
       "      <th></th>\n",
       "      <th></th>\n",
       "      <th></th>\n",
       "      <th></th>\n",
       "      <th></th>\n",
       "      <th></th>\n",
       "      <th></th>\n",
       "    </tr>\n",
       "  </thead>\n",
       "  <tbody>\n",
       "    <tr>\n",
       "      <th rowspan=\"5\" valign=\"top\">60000_0_00</th>\n",
       "      <th>2019-11-07 12:29:06</th>\n",
       "      <td>132</td>\n",
       "      <td>744.0</td>\n",
       "      <td>1299.0</td>\n",
       "      <td>1663.0</td>\n",
       "      <td>1894.0</td>\n",
       "      <td>2002.0</td>\n",
       "      <td>2068.0</td>\n",
       "      <td>2110.0</td>\n",
       "      <td>2076.0</td>\n",
       "      <td>2035.0</td>\n",
       "      <td>...</td>\n",
       "      <td>NaN</td>\n",
       "      <td>NaN</td>\n",
       "      <td>NaN</td>\n",
       "      <td>NaN</td>\n",
       "      <td>NaN</td>\n",
       "      <td>NaN</td>\n",
       "      <td>NaN</td>\n",
       "      <td>NaN</td>\n",
       "      <td>NaN</td>\n",
       "      <td>NaN</td>\n",
       "    </tr>\n",
       "    <tr>\n",
       "      <th>2019-11-07 12:29:26</th>\n",
       "      <td>136</td>\n",
       "      <td>752.0</td>\n",
       "      <td>1308.0</td>\n",
       "      <td>1675.0</td>\n",
       "      <td>1923.0</td>\n",
       "      <td>2068.0</td>\n",
       "      <td>2128.0</td>\n",
       "      <td>2180.0</td>\n",
       "      <td>2180.0</td>\n",
       "      <td>2103.0</td>\n",
       "      <td>...</td>\n",
       "      <td>NaN</td>\n",
       "      <td>NaN</td>\n",
       "      <td>NaN</td>\n",
       "      <td>NaN</td>\n",
       "      <td>NaN</td>\n",
       "      <td>NaN</td>\n",
       "      <td>NaN</td>\n",
       "      <td>NaN</td>\n",
       "      <td>NaN</td>\n",
       "      <td>NaN</td>\n",
       "    </tr>\n",
       "    <tr>\n",
       "      <th>2019-11-07 12:29:26</th>\n",
       "      <td>139</td>\n",
       "      <td>757.0</td>\n",
       "      <td>1292.0</td>\n",
       "      <td>1655.0</td>\n",
       "      <td>1885.0</td>\n",
       "      <td>2042.0</td>\n",
       "      <td>2099.0</td>\n",
       "      <td>2099.0</td>\n",
       "      <td>2099.0</td>\n",
       "      <td>2067.0</td>\n",
       "      <td>...</td>\n",
       "      <td>NaN</td>\n",
       "      <td>NaN</td>\n",
       "      <td>NaN</td>\n",
       "      <td>NaN</td>\n",
       "      <td>NaN</td>\n",
       "      <td>NaN</td>\n",
       "      <td>NaN</td>\n",
       "      <td>NaN</td>\n",
       "      <td>NaN</td>\n",
       "      <td>NaN</td>\n",
       "    </tr>\n",
       "    <tr>\n",
       "      <th>2019-11-07 12:29:30</th>\n",
       "      <td>133</td>\n",
       "      <td>743.0</td>\n",
       "      <td>1286.0</td>\n",
       "      <td>1645.0</td>\n",
       "      <td>1887.0</td>\n",
       "      <td>2046.0</td>\n",
       "      <td>2104.0</td>\n",
       "      <td>2104.0</td>\n",
       "      <td>2129.0</td>\n",
       "      <td>2079.0</td>\n",
       "      <td>...</td>\n",
       "      <td>NaN</td>\n",
       "      <td>NaN</td>\n",
       "      <td>NaN</td>\n",
       "      <td>NaN</td>\n",
       "      <td>NaN</td>\n",
       "      <td>NaN</td>\n",
       "      <td>NaN</td>\n",
       "      <td>NaN</td>\n",
       "      <td>NaN</td>\n",
       "      <td>NaN</td>\n",
       "    </tr>\n",
       "    <tr>\n",
       "      <th>2019-11-07 12:29:32</th>\n",
       "      <td>137</td>\n",
       "      <td>755.0</td>\n",
       "      <td>1313.0</td>\n",
       "      <td>1683.0</td>\n",
       "      <td>1906.0</td>\n",
       "      <td>2043.0</td>\n",
       "      <td>2147.0</td>\n",
       "      <td>2189.0</td>\n",
       "      <td>2155.0</td>\n",
       "      <td>2104.0</td>\n",
       "      <td>...</td>\n",
       "      <td>NaN</td>\n",
       "      <td>NaN</td>\n",
       "      <td>NaN</td>\n",
       "      <td>NaN</td>\n",
       "      <td>NaN</td>\n",
       "      <td>NaN</td>\n",
       "      <td>NaN</td>\n",
       "      <td>NaN</td>\n",
       "      <td>NaN</td>\n",
       "      <td>NaN</td>\n",
       "    </tr>\n",
       "  </tbody>\n",
       "</table>\n",
       "<p>5 rows × 624 columns</p>\n",
       "</div>"
      ],
      "text/plain": [
       "                                0      1       2       3       4       5    \\\n",
       "spotName   TimeStamp                                                         \n",
       "60000_0_00 2019-11-07 12:29:06  132  744.0  1299.0  1663.0  1894.0  2002.0   \n",
       "           2019-11-07 12:29:26  136  752.0  1308.0  1675.0  1923.0  2068.0   \n",
       "           2019-11-07 12:29:26  139  757.0  1292.0  1655.0  1885.0  2042.0   \n",
       "           2019-11-07 12:29:30  133  743.0  1286.0  1645.0  1887.0  2046.0   \n",
       "           2019-11-07 12:29:32  137  755.0  1313.0  1683.0  1906.0  2043.0   \n",
       "\n",
       "                                   6       7       8       9    ...  614  615  \\\n",
       "spotName   TimeStamp                                            ...             \n",
       "60000_0_00 2019-11-07 12:29:06  2068.0  2110.0  2076.0  2035.0  ...  NaN  NaN   \n",
       "           2019-11-07 12:29:26  2128.0  2180.0  2180.0  2103.0  ...  NaN  NaN   \n",
       "           2019-11-07 12:29:26  2099.0  2099.0  2099.0  2067.0  ...  NaN  NaN   \n",
       "           2019-11-07 12:29:30  2104.0  2104.0  2129.0  2079.0  ...  NaN  NaN   \n",
       "           2019-11-07 12:29:32  2147.0  2189.0  2155.0  2104.0  ...  NaN  NaN   \n",
       "\n",
       "                                616  617  618  619  620  621  622  623  \n",
       "spotName   TimeStamp                                                    \n",
       "60000_0_00 2019-11-07 12:29:06  NaN  NaN  NaN  NaN  NaN  NaN  NaN  NaN  \n",
       "           2019-11-07 12:29:26  NaN  NaN  NaN  NaN  NaN  NaN  NaN  NaN  \n",
       "           2019-11-07 12:29:26  NaN  NaN  NaN  NaN  NaN  NaN  NaN  NaN  \n",
       "           2019-11-07 12:29:30  NaN  NaN  NaN  NaN  NaN  NaN  NaN  NaN  \n",
       "           2019-11-07 12:29:32  NaN  NaN  NaN  NaN  NaN  NaN  NaN  NaN  \n",
       "\n",
       "[5 rows x 624 columns]"
      ]
     },
     "execution_count": 10,
     "metadata": {},
     "output_type": "execute_result"
    }
   ],
   "source": [
    "exploded_voltage.head()"
   ]
  },
  {
   "cell_type": "code",
   "execution_count": 30,
   "metadata": {},
   "outputs": [
    {
     "data": {
      "text/plain": [
       "0     136.0\n",
       "1     752.0\n",
       "2    1308.0\n",
       "3    1675.0\n",
       "4    1923.0\n",
       "5    2068.0\n",
       "6    2128.0\n",
       "7    2180.0\n",
       "8    2180.0\n",
       "9    2103.0\n",
       "Name: (60000_0_00, 2019-11-07 12:29:26), dtype: float64"
      ]
     },
     "execution_count": 30,
     "metadata": {},
     "output_type": "execute_result"
    }
   ],
   "source": [
    "dummy=exploded_voltage.iloc[1]\n",
    "dummy.head(10)"
   ]
  },
  {
   "cell_type": "code",
   "execution_count": 47,
   "metadata": {},
   "outputs": [
    {
     "data": {
      "text/plain": [
       "0       136.0\n",
       "1       752.0\n",
       "2      1308.0\n",
       "3      1675.0\n",
       "4      1923.0\n",
       "        ...  \n",
       "419    1402.0\n",
       "420    1393.0\n",
       "421    1427.0\n",
       "422    1402.0\n",
       "423    1393.0\n",
       "Name: (60000_0_00, 2019-11-07 12:29:26), Length: 424, dtype: float64"
      ]
     },
     "execution_count": 47,
     "metadata": {},
     "output_type": "execute_result"
    }
   ],
   "source": [
    "curve=dummy[pd.notnull(dummy)]\n",
    "curve"
   ]
  },
  {
   "cell_type": "code",
   "execution_count": 63,
   "metadata": {},
   "outputs": [],
   "source": [
    "from scipy.misc import derivative"
   ]
  },
  {
   "cell_type": "code",
   "execution_count": 48,
   "metadata": {},
   "outputs": [
    {
     "data": {
      "text/plain": [
       "[<matplotlib.lines.Line2D at 0x19de0288b80>]"
      ]
     },
     "execution_count": 48,
     "metadata": {},
     "output_type": "execute_result"
    },
    {
     "data": {
      "image/png": "[encoded data removed]",
      "text/plain": [
       "<Figure size 432x288 with 1 Axes>"
      ]
     },
     "metadata": {
      "needs_background": "light"
     },
     "output_type": "display_data"
    }
   ],
   "source": [
    "plot(curve)"
   ]
  },
  {
   "cell_type": "code",
   "execution_count": 50,
   "metadata": {},
   "outputs": [],
   "source": [
    "x = arange(len(curve))\n",
    "p = polyfit(x,curve, 2)"
   ]
  },
  {
   "cell_type": "code",
   "execution_count": 131,
   "metadata": {},
   "outputs": [
    {
     "data": {
      "text/plain": [
       "0     136.0\n",
       "1     752.0\n",
       "2    1308.0\n",
       "3    1675.0\n",
       "4    1923.0\n",
       "5    2068.0\n",
       "6    2128.0\n",
       "7    2180.0\n",
       "8    2180.0\n",
       "9    2103.0\n",
       "Name: (60000_0_00, 2019-11-07 12:29:26), dtype: float64"
      ]
     },
     "execution_count": 131,
     "metadata": {},
     "output_type": "execute_result"
    }
   ],
   "source": [
    "curve.head(10)"
   ]
  },
  {
   "cell_type": "markdown",
   "metadata": {},
   "source": [
    "indice del primo valore per cui cambia l'inclinazione della curva!\n",
    "Escludere i valori precedenti a questo indice per analizzare la curva"
   ]
  },
  {
   "cell_type": "code",
   "execution_count": 136,
   "metadata": {},
   "outputs": [],
   "source": [
    "position=curve.diff()[curve.diff()==next(x for x in curve.diff() if x < 0)].index[0]"
   ]
  },
  {
   "cell_type": "code",
   "execution_count": 138,
   "metadata": {},
   "outputs": [
    {
     "data": {
      "text/plain": [
       "9      2103.0\n",
       "10     2068.0\n",
       "11     2077.0\n",
       "12     2043.0\n",
       "13     2017.0\n",
       "        ...  \n",
       "419    1402.0\n",
       "420    1393.0\n",
       "421    1427.0\n",
       "422    1402.0\n",
       "423    1393.0\n",
       "Name: (60000_0_00, 2019-11-07 12:29:26), Length: 415, dtype: float64"
      ]
     },
     "execution_count": 138,
     "metadata": {},
     "output_type": "execute_result"
    }
   ],
   "source": [
    "#curva_new è la curva senza il primo picco\n",
    "curva_new=curve.iloc[position:]\n",
    "curva_new"
   ]
  },
  {
   "cell_type": "code",
   "execution_count": 139,
   "metadata": {},
   "outputs": [
    {
     "data": {
      "text/plain": [
       "[<matplotlib.lines.Line2D at 0x19de068d8e0>]"
      ]
     },
     "execution_count": 139,
     "metadata": {},
     "output_type": "execute_result"
    },
    {
     "data": {
      "image/png": "[encoded data removed]",
      "text/plain": [
       "<Figure size 432x288 with 1 Axes>"
      ]
     },
     "metadata": {
      "needs_background": "light"
     },
     "output_type": "display_data"
    }
   ],
   "source": [
    "plot(curva_new)"
   ]
  },
  {
   "cell_type": "code",
   "execution_count": 141,
   "metadata": {},
   "outputs": [
    {
     "data": {
      "text/plain": [
       "array([ 7.27112082e-10, -8.73112885e-07,  3.86817467e-04, -7.21772764e-02,\n",
       "        2.60307443e+00,  2.06904036e+03])"
      ]
     },
     "execution_count": 141,
     "metadata": {},
     "output_type": "execute_result"
    }
   ],
   "source": [
    "x = arange(len(curva_new))\n",
    "p = polyfit(x,curva_new, 5)\n",
    "p"
   ]
  },
  {
   "cell_type": "code",
   "execution_count": 143,
   "metadata": {},
   "outputs": [
    {
     "data": {
      "text/plain": [
       "[<matplotlib.lines.Line2D at 0x19de075fc10>]"
      ]
     },
     "execution_count": 143,
     "metadata": {},
     "output_type": "execute_result"
    },
    {
     "data": {
      "image/png": "[encoded data removed]",
      "text/plain": [
       "<Figure size 432x288 with 1 Axes>"
      ]
     },
     "metadata": {
      "needs_background": "light"
     },
     "output_type": "display_data"
    }
   ],
   "source": [
    "a, b,c,d,e,f=p \n",
    "plot(x, polyval(p, x))\n",
    "plot(curva_new)"
   ]
  },
  {
   "cell_type": "code",
   "execution_count": 18,
   "metadata": {},
   "outputs": [
    {
     "data": {
      "text/plain": [
       "0      NaN\n",
       "1    612.0\n",
       "2    555.0\n",
       "3    364.0\n",
       "4    231.0\n",
       "5    108.0\n",
       "6     66.0\n",
       "7     42.0\n",
       "8    -34.0\n",
       "9    -41.0\n",
       "Name: (60000_0_00, 2019-11-07 12:29:06), dtype: float64"
      ]
     },
     "execution_count": 18,
     "metadata": {},
     "output_type": "execute_result"
    }
   ],
   "source": [
    "lag=exploded_voltage.iloc[0].diff()\n",
    "lag.head(10)"
   ]
  },
  {
   "cell_type": "code",
   "execution_count": 11,
   "metadata": {},
   "outputs": [
    {
     "data": {
      "text/plain": [
       "0            NaN\n",
       "1     620.734166\n",
       "2     533.495041\n",
       "3     322.087908\n",
       "4     184.093731\n",
       "5      98.050603\n",
       "6      34.656782\n",
       "7      -8.338594\n",
       "8     -37.076776\n",
       "9     -52.137170\n",
       "10    -52.306393\n",
       "11    -30.182119\n",
       "12    -20.383049\n",
       "13    -13.419048\n",
       "14     -7.233795\n",
       "15      0.490566\n",
       "16     -1.551891\n",
       "17     -6.750944\n",
       "18     -6.183333\n",
       "19     -4.289346\n",
       "dtype: float64"
      ]
     },
     "execution_count": 11,
     "metadata": {},
     "output_type": "execute_result"
    }
   ],
   "source": [
    "#calcolo il differenziale tra valori successivi \n",
    "voltage_lag=exploded_voltage.diff(axis=1)\n",
    "voltage_lag.mean(axis=0).head(20)\n"
   ]
  },
  {
   "cell_type": "markdown",
   "metadata": {},
   "source": [
    "notiamo come dal 15° valore circa i differenziali assumono valori molto bassi, ad indicare l'assestamento della curva che dopo 2 oscillazioni tende a stazionare su valori simili\n",
    "\n",
    "**NB:** Voglio creare una curva media escludendo dal campione quelle curve che hanno avuto un calo improvviso della tensione e che quindi influirebbero sulla costruione della curva di riferimento: vedi grafico delle slide (**da ricreare**). "
   ]
  },
  {
   "cell_type": "code",
   "execution_count": 14,
   "metadata": {},
   "outputs": [],
   "source": [
    "import numpy as np\n",
    "import scipy.stats as st\n",
    "from pylab import *"
   ]
  },
  {
   "cell_type": "code",
   "execution_count": 27,
   "metadata": {},
   "outputs": [
    {
     "data": {
      "text/html": [
       "<div>\n",
       "<style scoped>\n",
       "    .dataframe tbody tr th:only-of-type {\n",
       "        vertical-align: middle;\n",
       "    }\n",
       "\n",
       "    .dataframe tbody tr th {\n",
       "        vertical-align: top;\n",
       "    }\n",
       "\n",
       "    .dataframe thead th {\n",
       "        text-align: right;\n",
       "    }\n",
       "</style>\n",
       "<table border=\"1\" class=\"dataframe\">\n",
       "  <thead>\n",
       "    <tr style=\"text-align: right;\">\n",
       "      <th></th>\n",
       "      <th></th>\n",
       "      <th>0</th>\n",
       "      <th>1</th>\n",
       "      <th>2</th>\n",
       "      <th>3</th>\n",
       "      <th>4</th>\n",
       "      <th>5</th>\n",
       "      <th>6</th>\n",
       "      <th>7</th>\n",
       "      <th>8</th>\n",
       "      <th>9</th>\n",
       "      <th>...</th>\n",
       "      <th>614</th>\n",
       "      <th>615</th>\n",
       "      <th>616</th>\n",
       "      <th>617</th>\n",
       "      <th>618</th>\n",
       "      <th>619</th>\n",
       "      <th>620</th>\n",
       "      <th>621</th>\n",
       "      <th>622</th>\n",
       "      <th>623</th>\n",
       "    </tr>\n",
       "    <tr>\n",
       "      <th>spotName</th>\n",
       "      <th>TimeStamp</th>\n",
       "      <th></th>\n",
       "      <th></th>\n",
       "      <th></th>\n",
       "      <th></th>\n",
       "      <th></th>\n",
       "      <th></th>\n",
       "      <th></th>\n",
       "      <th></th>\n",
       "      <th></th>\n",
       "      <th></th>\n",
       "      <th></th>\n",
       "      <th></th>\n",
       "      <th></th>\n",
       "      <th></th>\n",
       "      <th></th>\n",
       "      <th></th>\n",
       "      <th></th>\n",
       "      <th></th>\n",
       "      <th></th>\n",
       "      <th></th>\n",
       "      <th></th>\n",
       "    </tr>\n",
       "  </thead>\n",
       "  <tbody>\n",
       "    <tr>\n",
       "      <th rowspan=\"5\" valign=\"top\">60000_0_00</th>\n",
       "      <th>2019-11-07 12:29:06</th>\n",
       "      <td>NaN</td>\n",
       "      <td>612.0</td>\n",
       "      <td>555.0</td>\n",
       "      <td>364.0</td>\n",
       "      <td>231.0</td>\n",
       "      <td>108.0</td>\n",
       "      <td>66.0</td>\n",
       "      <td>42.0</td>\n",
       "      <td>34.0</td>\n",
       "      <td>41.0</td>\n",
       "      <td>...</td>\n",
       "      <td>NaN</td>\n",
       "      <td>NaN</td>\n",
       "      <td>NaN</td>\n",
       "      <td>NaN</td>\n",
       "      <td>NaN</td>\n",
       "      <td>NaN</td>\n",
       "      <td>NaN</td>\n",
       "      <td>NaN</td>\n",
       "      <td>NaN</td>\n",
       "      <td>NaN</td>\n",
       "    </tr>\n",
       "    <tr>\n",
       "      <th>2019-11-07 12:29:26</th>\n",
       "      <td>NaN</td>\n",
       "      <td>616.0</td>\n",
       "      <td>556.0</td>\n",
       "      <td>367.0</td>\n",
       "      <td>248.0</td>\n",
       "      <td>145.0</td>\n",
       "      <td>60.0</td>\n",
       "      <td>52.0</td>\n",
       "      <td>0.0</td>\n",
       "      <td>77.0</td>\n",
       "      <td>...</td>\n",
       "      <td>NaN</td>\n",
       "      <td>NaN</td>\n",
       "      <td>NaN</td>\n",
       "      <td>NaN</td>\n",
       "      <td>NaN</td>\n",
       "      <td>NaN</td>\n",
       "      <td>NaN</td>\n",
       "      <td>NaN</td>\n",
       "      <td>NaN</td>\n",
       "      <td>NaN</td>\n",
       "    </tr>\n",
       "    <tr>\n",
       "      <th>2019-11-07 12:29:26</th>\n",
       "      <td>NaN</td>\n",
       "      <td>618.0</td>\n",
       "      <td>535.0</td>\n",
       "      <td>363.0</td>\n",
       "      <td>230.0</td>\n",
       "      <td>157.0</td>\n",
       "      <td>57.0</td>\n",
       "      <td>0.0</td>\n",
       "      <td>0.0</td>\n",
       "      <td>32.0</td>\n",
       "      <td>...</td>\n",
       "      <td>NaN</td>\n",
       "      <td>NaN</td>\n",
       "      <td>NaN</td>\n",
       "      <td>NaN</td>\n",
       "      <td>NaN</td>\n",
       "      <td>NaN</td>\n",
       "      <td>NaN</td>\n",
       "      <td>NaN</td>\n",
       "      <td>NaN</td>\n",
       "      <td>NaN</td>\n",
       "    </tr>\n",
       "    <tr>\n",
       "      <th>2019-11-07 12:29:30</th>\n",
       "      <td>NaN</td>\n",
       "      <td>610.0</td>\n",
       "      <td>543.0</td>\n",
       "      <td>359.0</td>\n",
       "      <td>242.0</td>\n",
       "      <td>159.0</td>\n",
       "      <td>58.0</td>\n",
       "      <td>0.0</td>\n",
       "      <td>25.0</td>\n",
       "      <td>50.0</td>\n",
       "      <td>...</td>\n",
       "      <td>NaN</td>\n",
       "      <td>NaN</td>\n",
       "      <td>NaN</td>\n",
       "      <td>NaN</td>\n",
       "      <td>NaN</td>\n",
       "      <td>NaN</td>\n",
       "      <td>NaN</td>\n",
       "      <td>NaN</td>\n",
       "      <td>NaN</td>\n",
       "      <td>NaN</td>\n",
       "    </tr>\n",
       "    <tr>\n",
       "      <th>2019-11-07 12:29:32</th>\n",
       "      <td>NaN</td>\n",
       "      <td>618.0</td>\n",
       "      <td>558.0</td>\n",
       "      <td>370.0</td>\n",
       "      <td>223.0</td>\n",
       "      <td>137.0</td>\n",
       "      <td>104.0</td>\n",
       "      <td>42.0</td>\n",
       "      <td>34.0</td>\n",
       "      <td>51.0</td>\n",
       "      <td>...</td>\n",
       "      <td>NaN</td>\n",
       "      <td>NaN</td>\n",
       "      <td>NaN</td>\n",
       "      <td>NaN</td>\n",
       "      <td>NaN</td>\n",
       "      <td>NaN</td>\n",
       "      <td>NaN</td>\n",
       "      <td>NaN</td>\n",
       "      <td>NaN</td>\n",
       "      <td>NaN</td>\n",
       "    </tr>\n",
       "    <tr>\n",
       "      <th>...</th>\n",
       "      <th>...</th>\n",
       "      <td>...</td>\n",
       "      <td>...</td>\n",
       "      <td>...</td>\n",
       "      <td>...</td>\n",
       "      <td>...</td>\n",
       "      <td>...</td>\n",
       "      <td>...</td>\n",
       "      <td>...</td>\n",
       "      <td>...</td>\n",
       "      <td>...</td>\n",
       "      <td>...</td>\n",
       "      <td>...</td>\n",
       "      <td>...</td>\n",
       "      <td>...</td>\n",
       "      <td>...</td>\n",
       "      <td>...</td>\n",
       "      <td>...</td>\n",
       "      <td>...</td>\n",
       "      <td>...</td>\n",
       "      <td>...</td>\n",
       "      <td>...</td>\n",
       "    </tr>\n",
       "    <tr>\n",
       "      <th>60001_0_00</th>\n",
       "      <th>2020-05-28 15:00:04</th>\n",
       "      <td>NaN</td>\n",
       "      <td>618.0</td>\n",
       "      <td>535.0</td>\n",
       "      <td>355.0</td>\n",
       "      <td>222.0</td>\n",
       "      <td>165.0</td>\n",
       "      <td>65.0</td>\n",
       "      <td>16.0</td>\n",
       "      <td>0.0</td>\n",
       "      <td>41.0</td>\n",
       "      <td>...</td>\n",
       "      <td>NaN</td>\n",
       "      <td>NaN</td>\n",
       "      <td>NaN</td>\n",
       "      <td>NaN</td>\n",
       "      <td>NaN</td>\n",
       "      <td>NaN</td>\n",
       "      <td>NaN</td>\n",
       "      <td>NaN</td>\n",
       "      <td>NaN</td>\n",
       "      <td>NaN</td>\n",
       "    </tr>\n",
       "    <tr>\n",
       "      <th>60021_0_00</th>\n",
       "      <th>2020-05-28 15:00:04</th>\n",
       "      <td>NaN</td>\n",
       "      <td>639.0</td>\n",
       "      <td>555.0</td>\n",
       "      <td>343.0</td>\n",
       "      <td>213.0</td>\n",
       "      <td>120.0</td>\n",
       "      <td>92.0</td>\n",
       "      <td>93.0</td>\n",
       "      <td>0.0</td>\n",
       "      <td>9.0</td>\n",
       "      <td>...</td>\n",
       "      <td>NaN</td>\n",
       "      <td>NaN</td>\n",
       "      <td>NaN</td>\n",
       "      <td>NaN</td>\n",
       "      <td>NaN</td>\n",
       "      <td>NaN</td>\n",
       "      <td>NaN</td>\n",
       "      <td>NaN</td>\n",
       "      <td>NaN</td>\n",
       "      <td>NaN</td>\n",
       "    </tr>\n",
       "    <tr>\n",
       "      <th>60023_0_00</th>\n",
       "      <th>2020-05-28 15:00:17</th>\n",
       "      <td>NaN</td>\n",
       "      <td>630.0</td>\n",
       "      <td>534.0</td>\n",
       "      <td>349.0</td>\n",
       "      <td>201.0</td>\n",
       "      <td>123.0</td>\n",
       "      <td>131.0</td>\n",
       "      <td>35.0</td>\n",
       "      <td>9.0</td>\n",
       "      <td>0.0</td>\n",
       "      <td>...</td>\n",
       "      <td>NaN</td>\n",
       "      <td>NaN</td>\n",
       "      <td>NaN</td>\n",
       "      <td>NaN</td>\n",
       "      <td>NaN</td>\n",
       "      <td>NaN</td>\n",
       "      <td>NaN</td>\n",
       "      <td>NaN</td>\n",
       "      <td>NaN</td>\n",
       "      <td>NaN</td>\n",
       "    </tr>\n",
       "    <tr>\n",
       "      <th>60025_0_00</th>\n",
       "      <th>2020-05-28 15:00:17</th>\n",
       "      <td>NaN</td>\n",
       "      <td>629.0</td>\n",
       "      <td>521.0</td>\n",
       "      <td>318.0</td>\n",
       "      <td>177.0</td>\n",
       "      <td>84.0</td>\n",
       "      <td>83.0</td>\n",
       "      <td>26.0</td>\n",
       "      <td>17.0</td>\n",
       "      <td>42.0</td>\n",
       "      <td>...</td>\n",
       "      <td>NaN</td>\n",
       "      <td>NaN</td>\n",
       "      <td>NaN</td>\n",
       "      <td>NaN</td>\n",
       "      <td>NaN</td>\n",
       "      <td>NaN</td>\n",
       "      <td>NaN</td>\n",
       "      <td>NaN</td>\n",
       "      <td>NaN</td>\n",
       "      <td>NaN</td>\n",
       "    </tr>\n",
       "    <tr>\n",
       "      <th>60027_0_00</th>\n",
       "      <th>2020-05-28 15:00:17</th>\n",
       "      <td>NaN</td>\n",
       "      <td>608.0</td>\n",
       "      <td>520.0</td>\n",
       "      <td>336.0</td>\n",
       "      <td>184.0</td>\n",
       "      <td>120.0</td>\n",
       "      <td>40.0</td>\n",
       "      <td>16.0</td>\n",
       "      <td>0.0</td>\n",
       "      <td>32.0</td>\n",
       "      <td>...</td>\n",
       "      <td>NaN</td>\n",
       "      <td>NaN</td>\n",
       "      <td>NaN</td>\n",
       "      <td>NaN</td>\n",
       "      <td>NaN</td>\n",
       "      <td>NaN</td>\n",
       "      <td>NaN</td>\n",
       "      <td>NaN</td>\n",
       "      <td>NaN</td>\n",
       "      <td>NaN</td>\n",
       "    </tr>\n",
       "  </tbody>\n",
       "</table>\n",
       "<p>142192 rows × 624 columns</p>\n",
       "</div>"
      ],
      "text/plain": [
       "                                0      1      2      3      4      5      6    \\\n",
       "spotName   TimeStamp                                                            \n",
       "60000_0_00 2019-11-07 12:29:06  NaN  612.0  555.0  364.0  231.0  108.0   66.0   \n",
       "           2019-11-07 12:29:26  NaN  616.0  556.0  367.0  248.0  145.0   60.0   \n",
       "           2019-11-07 12:29:26  NaN  618.0  535.0  363.0  230.0  157.0   57.0   \n",
       "           2019-11-07 12:29:30  NaN  610.0  543.0  359.0  242.0  159.0   58.0   \n",
       "           2019-11-07 12:29:32  NaN  618.0  558.0  370.0  223.0  137.0  104.0   \n",
       "...                             ...    ...    ...    ...    ...    ...    ...   \n",
       "60001_0_00 2020-05-28 15:00:04  NaN  618.0  535.0  355.0  222.0  165.0   65.0   \n",
       "60021_0_00 2020-05-28 15:00:04  NaN  639.0  555.0  343.0  213.0  120.0   92.0   \n",
       "60023_0_00 2020-05-28 15:00:17  NaN  630.0  534.0  349.0  201.0  123.0  131.0   \n",
       "60025_0_00 2020-05-28 15:00:17  NaN  629.0  521.0  318.0  177.0   84.0   83.0   \n",
       "60027_0_00 2020-05-28 15:00:17  NaN  608.0  520.0  336.0  184.0  120.0   40.0   \n",
       "\n",
       "                                 7     8     9    ...  614  615  616  617  \\\n",
       "spotName   TimeStamp                              ...                       \n",
       "60000_0_00 2019-11-07 12:29:06  42.0  34.0  41.0  ...  NaN  NaN  NaN  NaN   \n",
       "           2019-11-07 12:29:26  52.0   0.0  77.0  ...  NaN  NaN  NaN  NaN   \n",
       "           2019-11-07 12:29:26   0.0   0.0  32.0  ...  NaN  NaN  NaN  NaN   \n",
       "           2019-11-07 12:29:30   0.0  25.0  50.0  ...  NaN  NaN  NaN  NaN   \n",
       "           2019-11-07 12:29:32  42.0  34.0  51.0  ...  NaN  NaN  NaN  NaN   \n",
       "...                              ...   ...   ...  ...  ...  ...  ...  ...   \n",
       "60001_0_00 2020-05-28 15:00:04  16.0   0.0  41.0  ...  NaN  NaN  NaN  NaN   \n",
       "60021_0_00 2020-05-28 15:00:04  93.0   0.0   9.0  ...  NaN  NaN  NaN  NaN   \n",
       "60023_0_00 2020-05-28 15:00:17  35.0   9.0   0.0  ...  NaN  NaN  NaN  NaN   \n",
       "60025_0_00 2020-05-28 15:00:17  26.0  17.0  42.0  ...  NaN  NaN  NaN  NaN   \n",
       "60027_0_00 2020-05-28 15:00:17  16.0   0.0  32.0  ...  NaN  NaN  NaN  NaN   \n",
       "\n",
       "                                618  619  620  621  622  623  \n",
       "spotName   TimeStamp                                          \n",
       "60000_0_00 2019-11-07 12:29:06  NaN  NaN  NaN  NaN  NaN  NaN  \n",
       "           2019-11-07 12:29:26  NaN  NaN  NaN  NaN  NaN  NaN  \n",
       "           2019-11-07 12:29:26  NaN  NaN  NaN  NaN  NaN  NaN  \n",
       "           2019-11-07 12:29:30  NaN  NaN  NaN  NaN  NaN  NaN  \n",
       "           2019-11-07 12:29:32  NaN  NaN  NaN  NaN  NaN  NaN  \n",
       "...                             ...  ...  ...  ...  ...  ...  \n",
       "60001_0_00 2020-05-28 15:00:04  NaN  NaN  NaN  NaN  NaN  NaN  \n",
       "60021_0_00 2020-05-28 15:00:04  NaN  NaN  NaN  NaN  NaN  NaN  \n",
       "60023_0_00 2020-05-28 15:00:17  NaN  NaN  NaN  NaN  NaN  NaN  \n",
       "60025_0_00 2020-05-28 15:00:17  NaN  NaN  NaN  NaN  NaN  NaN  \n",
       "60027_0_00 2020-05-28 15:00:17  NaN  NaN  NaN  NaN  NaN  NaN  \n",
       "\n",
       "[142192 rows x 624 columns]"
      ]
     },
     "execution_count": 27,
     "metadata": {},
     "output_type": "execute_result"
    }
   ],
   "source": [
    "voltage_lag.head(15)"
   ]
  },
  {
   "cell_type": "code",
   "execution_count": 28,
   "metadata": {},
   "outputs": [],
   "source": [
    "media=voltage_lag.abs().mean(axis=0)\n",
    "st_error=voltage_lag.abs().sem(axis=0)"
   ]
  },
  {
   "cell_type": "code",
   "execution_count": 32,
   "metadata": {},
   "outputs": [],
   "source": [
    "IC_list=[]\n",
    "for column in voltage_lag:\n",
    "    IC_list.append(st.t.interval(0.90, voltage_lag.shape[1]-1, loc=media[column], scale=st_error[column]))"
   ]
  },
  {
   "cell_type": "code",
   "execution_count": null,
   "metadata": {},
   "outputs": [],
   "source": [
    "voltage_lag.abs().sem"
   ]
  },
  {
   "cell_type": "code",
   "execution_count": 30,
   "metadata": {},
   "outputs": [
    {
     "name": "stdout",
     "output_type": "stream",
     "text": [
      "0            NaN\n",
      "1     620.734166\n",
      "2     533.495041\n",
      "3     322.087908\n",
      "4     184.093731\n",
      "5      98.050998\n",
      "6      46.652702\n",
      "7      38.297118\n",
      "8      45.593594\n",
      "9      55.105145\n",
      "10     53.924183\n",
      "11     34.680132\n",
      "12     27.718256\n",
      "13     24.703644\n",
      "14     23.018409\n",
      "dtype: float64\n"
     ]
    },
    {
     "data": {
      "text/plain": [
       "0          NaN\n",
       "1     0.065259\n",
       "2     0.051754\n",
       "3     0.072214\n",
       "4     0.089940\n",
       "5     0.103618\n",
       "6     0.089506\n",
       "7     0.067989\n",
       "8     0.078583\n",
       "9     0.076010\n",
       "10    0.066203\n",
       "11    0.059453\n",
       "12    0.056032\n",
       "13    0.053567\n",
       "14    0.052299\n",
       "dtype: float64"
      ]
     },
     "execution_count": 30,
     "metadata": {},
     "output_type": "execute_result"
    }
   ],
   "source": [
    "print(media.head(15)),\n",
    "st_error.head(15)"
   ]
  },
  {
   "cell_type": "code",
   "execution_count": 22,
   "metadata": {},
   "outputs": [
    {
     "data": {
      "text/plain": [
       "[<matplotlib.lines.Line2D at 0x1dce1705e80>]"
      ]
     },
     "execution_count": 22,
     "metadata": {},
     "output_type": "execute_result"
    },
    {
     "data": {
      "image/png": "[encoded data removed]",
      "text/plain": [
       "<Figure size 432x288 with 1 Axes>"
      ]
     },
     "metadata": {
      "needs_background": "light"
     },
     "output_type": "display_data"
    }
   ],
   "source": [
    "plot(voltage_lag.mean(axis=0))"
   ]
  },
  {
   "cell_type": "code",
   "execution_count": 86,
   "metadata": {},
   "outputs": [
    {
     "data": {
      "text/plain": [
       "0           NaN\n",
       "1    620.734166\n",
       "2    533.495041\n",
       "3    322.087908\n",
       "4    184.093731\n",
       "5     98.050603\n",
       "6     34.656782\n",
       "7     -8.338594\n",
       "8    -37.076776\n",
       "9    -52.137170\n",
       "dtype: float64"
      ]
     },
     "execution_count": 86,
     "metadata": {},
     "output_type": "execute_result"
    }
   ],
   "source": [
    "media.head(10)"
   ]
  },
  {
   "cell_type": "code",
   "execution_count": 84,
   "metadata": {},
   "outputs": [
    {
     "data": {
      "text/plain": [
       "0         NaN\n",
       "1    0.065259\n",
       "2    0.051754\n",
       "3    0.072214\n",
       "4    0.089940\n",
       "5    0.103621\n",
       "6    0.122050\n",
       "7    0.120351\n",
       "8    0.105571\n",
       "9    0.089579\n",
       "dtype: float64"
      ]
     },
     "execution_count": 84,
     "metadata": {},
     "output_type": "execute_result"
    }
   ],
   "source": [
    "st_error.head(10)"
   ]
  },
  {
   "cell_type": "code",
   "execution_count": 35,
   "metadata": {},
   "outputs": [
    {
     "data": {
      "text/plain": [
       "623"
      ]
     },
     "execution_count": 35,
     "metadata": {},
     "output_type": "execute_result"
    }
   ],
   "source": [
    "IC_list"
   ]
  },
  {
   "cell_type": "code",
   "execution_count": 34,
   "metadata": {},
   "outputs": [
    {
     "data": {
      "text/plain": [
       "0       133.533012\n",
       "1       754.758250\n",
       "2      1288.253291\n",
       "3      1610.341199\n",
       "4      1794.434930\n",
       "          ...     \n",
       "619    1510.000000\n",
       "620    1507.859649\n",
       "621    1513.321429\n",
       "622    1512.890909\n",
       "623    1503.448980\n",
       "Length: 624, dtype: float64"
      ]
     },
     "execution_count": 34,
     "metadata": {},
     "output_type": "execute_result"
    }
   ],
   "source": [
    "mean_voltage=exploded_voltage.mean(axis=0)\n",
    "mean_voltage"
   ]
  },
  {
   "cell_type": "code",
   "execution_count": 36,
   "metadata": {},
   "outputs": [
    {
     "data": {
      "text/plain": [
       "[<matplotlib.lines.Line2D at 0x19de0181400>]"
      ]
     },
     "execution_count": 36,
     "metadata": {},
     "output_type": "execute_result"
    },
    {
     "data": {
      "image/png": "[encoded data removed]",
      "text/plain": [
       "<Figure size 432x288 with 1 Axes>"
      ]
     },
     "metadata": {
      "needs_background": "light"
     },
     "output_type": "display_data"
    }
   ],
   "source": [
    "\n",
    "\n",
    "x = arange(len(mean_voltage))\n",
    "p = polyfit(x, mean_voltage, 3)\n",
    "a, b, c,d=p \n",
    "plot(x, polyval(p, x))\n",
    "plot(mean_voltage)"
   ]
  },
  {
   "cell_type": "code",
   "execution_count": null,
   "metadata": {},
   "outputs": [
    {
     "data": {
      "text/plain": [
       "array([ 1.43097780e-05, -1.21084701e-02,  1.78559019e+00,  1.66211419e+03])"
      ]
     },
     "execution_count": 39,
     "metadata": {},
     "output_type": "execute_result"
    }
   ],
   "source": [
    "p"
   ]
  },
  {
   "cell_type": "code",
   "execution_count": null,
   "metadata": {},
   "outputs": [],
   "source": [
    "a, b, c,d=p \n",
    "x0 = -0.5*b/a # x coordinate of vertex"
   ]
  },
  {
   "cell_type": "code",
   "execution_count": null,
   "metadata": {},
   "outputs": [
    {
     "data": {
      "text/plain": [
       "[<matplotlib.lines.Line2D at 0x214b6e04880>]"
      ]
     },
     "execution_count": 37,
     "metadata": {},
     "output_type": "execute_result"
    },
    {
     "data": {
      "image/png": "[encoded data removed]",
      "text/plain": [
       "<Figure size 432x288 with 1 Axes>"
      ]
     },
     "metadata": {
      "needs_background": "light"
     },
     "output_type": "display_data"
    }
   ],
   "source": [
    "x = arange(len(mean_voltage))\n",
    "plot(x, mean_voltage)\n",
    "plot(x, polyval(p, x))\n"
   ]
  },
  {
   "cell_type": "markdown",
   "metadata": {},
   "source": [
    "Si nota un andamento anomalo dopo il 500° valore. Posso eliminare i circa ultimi 100 valori che probabilmente derivano da un processo viziato?"
   ]
  },
  {
   "cell_type": "code",
   "execution_count": null,
   "metadata": {},
   "outputs": [
    {
     "data": {
      "text/plain": [
       "<AxesSubplot:>"
      ]
     },
     "execution_count": 73,
     "metadata": {},
     "output_type": "execute_result"
    },
    {
     "data": {
      "image/png": "[encoded data removed]",
      "text/plain": [
       "<Figure size 432x288 with 1 Axes>"
      ]
     },
     "metadata": {
      "needs_background": "light"
     },
     "output_type": "display_data"
    }
   ],
   "source": [
    "#calcolo lunghezza di ogni lista e plot del relativo istogramma\n",
    "len_lists=df['VoltageCurve'].str.len()\n",
    "len_lists.hist()\n",
    "# la maggior parte delle liste sembra avere una dimensione intorno ai 400 valori"
   ]
  },
  {
   "cell_type": "code",
   "execution_count": null,
   "metadata": {},
   "outputs": [
    {
     "data": {
      "text/plain": [
       "[<matplotlib.lines.Line2D at 0x18836043c70>]"
      ]
     },
     "execution_count": 74,
     "metadata": {},
     "output_type": "execute_result"
    },
    {
     "data": {
      "image/png": "[encoded data removed]",
      "text/plain": [
       "<Figure size 432x288 with 1 Axes>"
      ]
     },
     "metadata": {
      "needs_background": "light"
     },
     "output_type": "display_data"
    }
   ],
   "source": [
    "# somma cumulata della distribuzione delle lunghezze\n",
    "conta=len_lists.groupby(len_lists.values).count()\n",
    "plot(conta.cumsum()/len(Voltage_df))\n",
    "# le liste con meno di 500 valori rappresentano circa l'80% dei dati"
   ]
  },
  {
   "cell_type": "markdown",
   "metadata": {},
   "source": [
    "Decido di considerare solo le raccolte con meno di 500 valori per la creazione della curva media/mediana"
   ]
  },
  {
   "cell_type": "code",
   "execution_count": 88,
   "metadata": {},
   "outputs": [
    {
     "data": {
      "text/plain": [
       "[<matplotlib.lines.Line2D at 0x188363960a0>]"
      ]
     },
     "execution_count": 88,
     "metadata": {},
     "output_type": "execute_result"
    },
    {
     "data": {
      "image/png": "[encoded data removed]",
      "text/plain": [
       "<Figure size 432x288 with 1 Axes>"
      ]
     },
     "metadata": {
      "needs_background": "light"
     },
     "output_type": "display_data"
    }
   ],
   "source": [
    "anomalie_volt=df[\"VoltageCurve\"][df['VoltageCurve'].str.len()>600]\n",
    "plot(anomalie_volt[10])"
   ]
  },
  {
   "cell_type": "code",
   "execution_count": null,
   "metadata": {},
   "outputs": [],
   "source": []
  },
  {
   "cell_type": "markdown",
   "metadata": {},
   "source": [
    "## Machine Learning"
   ]
  },
  {
   "cell_type": "code",
   "execution_count": 44,
   "metadata": {},
   "outputs": [
    {
     "data": {
      "text/html": [
       "<div>\n",
       "<style scoped>\n",
       "    .dataframe tbody tr th:only-of-type {\n",
       "        vertical-align: middle;\n",
       "    }\n",
       "\n",
       "    .dataframe tbody tr th {\n",
       "        vertical-align: top;\n",
       "    }\n",
       "\n",
       "    .dataframe thead th {\n",
       "        text-align: right;\n",
       "    }\n",
       "</style>\n",
       "<table border=\"1\" class=\"dataframe\">\n",
       "  <thead>\n",
       "    <tr style=\"text-align: right;\">\n",
       "      <th></th>\n",
       "      <th></th>\n",
       "      <th>200</th>\n",
       "      <th>201</th>\n",
       "      <th>202</th>\n",
       "      <th>203</th>\n",
       "      <th>204</th>\n",
       "      <th>205</th>\n",
       "      <th>206</th>\n",
       "    </tr>\n",
       "    <tr>\n",
       "      <th>spotName</th>\n",
       "      <th>TimeStamp</th>\n",
       "      <th></th>\n",
       "      <th></th>\n",
       "      <th></th>\n",
       "      <th></th>\n",
       "      <th></th>\n",
       "      <th></th>\n",
       "      <th></th>\n",
       "    </tr>\n",
       "  </thead>\n",
       "  <tbody>\n",
       "    <tr>\n",
       "      <th rowspan=\"5\" valign=\"top\">60000_0_00</th>\n",
       "      <th>2019-11-07 12:29:06</th>\n",
       "      <td>1282.0</td>\n",
       "      <td>1274.0</td>\n",
       "      <td>1257.0</td>\n",
       "      <td>1266.0</td>\n",
       "      <td>1274.0</td>\n",
       "      <td>1249.0</td>\n",
       "      <td>1249.0</td>\n",
       "    </tr>\n",
       "    <tr>\n",
       "      <th>2019-11-07 12:29:26</th>\n",
       "      <td>1632.0</td>\n",
       "      <td>1658.0</td>\n",
       "      <td>1658.0</td>\n",
       "      <td>1632.0</td>\n",
       "      <td>1658.0</td>\n",
       "      <td>1675.0</td>\n",
       "      <td>1649.0</td>\n",
       "    </tr>\n",
       "    <tr>\n",
       "      <th>2019-11-07 12:29:26</th>\n",
       "      <td>1647.0</td>\n",
       "      <td>1655.0</td>\n",
       "      <td>1679.0</td>\n",
       "      <td>1647.0</td>\n",
       "      <td>1638.0</td>\n",
       "      <td>1655.0</td>\n",
       "      <td>1647.0</td>\n",
       "    </tr>\n",
       "    <tr>\n",
       "      <th>2019-11-07 12:29:30</th>\n",
       "      <td>1628.0</td>\n",
       "      <td>1612.0</td>\n",
       "      <td>1637.0</td>\n",
       "      <td>1628.0</td>\n",
       "      <td>1612.0</td>\n",
       "      <td>1645.0</td>\n",
       "      <td>1637.0</td>\n",
       "    </tr>\n",
       "    <tr>\n",
       "      <th>2019-11-07 12:29:32</th>\n",
       "      <td>1683.0</td>\n",
       "      <td>1674.0</td>\n",
       "      <td>1648.0</td>\n",
       "      <td>1666.0</td>\n",
       "      <td>1674.0</td>\n",
       "      <td>1657.0</td>\n",
       "      <td>1657.0</td>\n",
       "    </tr>\n",
       "    <tr>\n",
       "      <th>...</th>\n",
       "      <th>...</th>\n",
       "      <td>...</td>\n",
       "      <td>...</td>\n",
       "      <td>...</td>\n",
       "      <td>...</td>\n",
       "      <td>...</td>\n",
       "      <td>...</td>\n",
       "      <td>...</td>\n",
       "    </tr>\n",
       "    <tr>\n",
       "      <th>60025_0_00</th>\n",
       "      <th>2019-11-12 06:32:09</th>\n",
       "      <td>1571.0</td>\n",
       "      <td>1616.0</td>\n",
       "      <td>1616.0</td>\n",
       "      <td>1589.0</td>\n",
       "      <td>1598.0</td>\n",
       "      <td>1598.0</td>\n",
       "      <td>1571.0</td>\n",
       "    </tr>\n",
       "    <tr>\n",
       "      <th>60027_0_00</th>\n",
       "      <th>2019-11-12 06:32:09</th>\n",
       "      <td>1604.0</td>\n",
       "      <td>1596.0</td>\n",
       "      <td>1561.0</td>\n",
       "      <td>1544.0</td>\n",
       "      <td>1561.0</td>\n",
       "      <td>1552.0</td>\n",
       "      <td>1578.0</td>\n",
       "    </tr>\n",
       "    <tr>\n",
       "      <th>60090_0_00</th>\n",
       "      <th>2019-11-12 06:33:17</th>\n",
       "      <td>1587.0</td>\n",
       "      <td>1616.0</td>\n",
       "      <td>1616.0</td>\n",
       "      <td>1587.0</td>\n",
       "      <td>1578.0</td>\n",
       "      <td>1587.0</td>\n",
       "      <td>1578.0</td>\n",
       "    </tr>\n",
       "    <tr>\n",
       "      <th>60092_0_00</th>\n",
       "      <th>2019-11-12 06:33:19</th>\n",
       "      <td>1664.0</td>\n",
       "      <td>1698.0</td>\n",
       "      <td>1698.0</td>\n",
       "      <td>1664.0</td>\n",
       "      <td>1664.0</td>\n",
       "      <td>1664.0</td>\n",
       "      <td>1638.0</td>\n",
       "    </tr>\n",
       "    <tr>\n",
       "      <th>60094_0_00</th>\n",
       "      <th>2019-11-12 06:33:22</th>\n",
       "      <td>1663.0</td>\n",
       "      <td>1672.0</td>\n",
       "      <td>1682.0</td>\n",
       "      <td>1663.0</td>\n",
       "      <td>1645.0</td>\n",
       "      <td>1672.0</td>\n",
       "      <td>1672.0</td>\n",
       "    </tr>\n",
       "  </tbody>\n",
       "</table>\n",
       "<p>400 rows × 7 columns</p>\n",
       "</div>"
      ],
      "text/plain": [
       "                                   200     201     202     203     204  \\\n",
       "spotName   TimeStamp                                                     \n",
       "60000_0_00 2019-11-07 12:29:06  1282.0  1274.0  1257.0  1266.0  1274.0   \n",
       "           2019-11-07 12:29:26  1632.0  1658.0  1658.0  1632.0  1658.0   \n",
       "           2019-11-07 12:29:26  1647.0  1655.0  1679.0  1647.0  1638.0   \n",
       "           2019-11-07 12:29:30  1628.0  1612.0  1637.0  1628.0  1612.0   \n",
       "           2019-11-07 12:29:32  1683.0  1674.0  1648.0  1666.0  1674.0   \n",
       "...                                ...     ...     ...     ...     ...   \n",
       "60025_0_00 2019-11-12 06:32:09  1571.0  1616.0  1616.0  1589.0  1598.0   \n",
       "60027_0_00 2019-11-12 06:32:09  1604.0  1596.0  1561.0  1544.0  1561.0   \n",
       "60090_0_00 2019-11-12 06:33:17  1587.0  1616.0  1616.0  1587.0  1578.0   \n",
       "60092_0_00 2019-11-12 06:33:19  1664.0  1698.0  1698.0  1664.0  1664.0   \n",
       "60094_0_00 2019-11-12 06:33:22  1663.0  1672.0  1682.0  1663.0  1645.0   \n",
       "\n",
       "                                   205     206  \n",
       "spotName   TimeStamp                            \n",
       "60000_0_00 2019-11-07 12:29:06  1249.0  1249.0  \n",
       "           2019-11-07 12:29:26  1675.0  1649.0  \n",
       "           2019-11-07 12:29:26  1655.0  1647.0  \n",
       "           2019-11-07 12:29:30  1645.0  1637.0  \n",
       "           2019-11-07 12:29:32  1657.0  1657.0  \n",
       "...                                ...     ...  \n",
       "60025_0_00 2019-11-12 06:32:09  1598.0  1571.0  \n",
       "60027_0_00 2019-11-12 06:32:09  1552.0  1578.0  \n",
       "60090_0_00 2019-11-12 06:33:17  1587.0  1578.0  \n",
       "60092_0_00 2019-11-12 06:33:19  1664.0  1638.0  \n",
       "60094_0_00 2019-11-12 06:33:22  1672.0  1672.0  \n",
       "\n",
       "[400 rows x 7 columns]"
      ]
     },
     "execution_count": 44,
     "metadata": {},
     "output_type": "execute_result"
    }
   ],
   "source": [
    "df_train=exploded_voltage.iloc[: , 7:50]\n",
    "df_train=df_train.iloc[:400]\n",
    "df_test=exploded_voltage.iloc[: , 200:207]\n",
    "df_test=df_test.iloc[:400]\n",
    "df_test"
   ]
  },
  {
   "cell_type": "code",
   "execution_count": 21,
   "metadata": {},
   "outputs": [],
   "source": [
    "from sklearn.ensemble import IsolationForest"
   ]
  },
  {
   "cell_type": "code",
   "execution_count": 45,
   "metadata": {},
   "outputs": [
    {
     "data": {
      "text/plain": [
       "IsolationForest(bootstrap=False, contamination='auto', max_features=1.0,\n",
       "                max_samples='auto', n_estimators=20, n_jobs=None,\n",
       "                random_state=None, verbose=0, warm_start=True)"
      ]
     },
     "execution_count": 45,
     "metadata": {},
     "output_type": "execute_result"
    }
   ],
   "source": [
    "#clf = IsolationForest(n_estimators=10, warm_start=True)\n",
    "#clf.fit(df_train)  # fit 10 trees  \n",
    "#clf.set_params(n_estimators=20)  # add 10 more trees  \n",
    "#clf.fit(df_train)  # fit the added trees  "
   ]
  },
  {
   "cell_type": "code",
   "execution_count": 52,
   "metadata": {},
   "outputs": [],
   "source": [
    "clf = IsolationForest(max_samples=100)\n",
    "clf.fit(df_train)\n",
    "pred_train = clf.predict(df_train)\n"
   ]
  },
  {
   "cell_type": "code",
   "execution_count": 53,
   "metadata": {},
   "outputs": [],
   "source": [
    "X_outliers = df_train[pred_train == -1]\n",
    "X_valid = df_train[pred_train != -1]"
   ]
  },
  {
   "cell_type": "code",
   "execution_count": 54,
   "metadata": {},
   "outputs": [
    {
     "name": "stdout",
     "output_type": "stream",
     "text": [
      "Original Samples :  400\n",
      "Number of Outliers :  124\n",
      "Number of Normal Samples :  276\n"
     ]
    }
   ],
   "source": [
    "print(\"Original Samples : \",df_train.shape[0])\n",
    "print(\"Number of Outliers : \", X_outliers.shape[0])\n",
    "print(\"Number of Normal Samples : \", X_valid.shape[0])"
   ]
  }
 ],
 "metadata": {
  "interpreter": {
   "hash": "21aec60ee798f848cdec17e8ad1d5abc914a64c17deba4b59301cd664b10b21e"
  },
  "kernelspec": {
   "display_name": "Python 3.9.7 ('base')",
   "language": "python",
   "name": "python3"
  },
  "language_info": {
   "codemirror_mode": {
    "name": "ipython",
    "version": 3
   },
   "file_extension": ".py",
   "mimetype": "text/x-python",
   "name": "python",
   "nbconvert_exporter": "python",
   "pygments_lexer": "ipython3",
   "version": "3.9.7"
  },
  "orig_nbformat": 4
 },
 "nbformat": 4,
 "nbformat_minor": 2
}
