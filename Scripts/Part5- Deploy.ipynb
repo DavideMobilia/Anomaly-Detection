{
 "cells": [
  {
   "cell_type": "markdown",
   "metadata": {},
   "source": [
    "# Deploy"
   ]
  },
  {
   "cell_type": "code",
   "execution_count": 81,
   "metadata": {},
   "outputs": [],
   "source": [
    "import pandas as pd\n",
    "import pickle\n",
    "from matplotlib import pyplot as plt"
   ]
  },
  {
   "cell_type": "code",
   "execution_count": 55,
   "metadata": {},
   "outputs": [
    {
     "data": {
      "text/html": [
       "<div>\n",
       "<style scoped>\n",
       "    .dataframe tbody tr th:only-of-type {\n",
       "        vertical-align: middle;\n",
       "    }\n",
       "\n",
       "    .dataframe tbody tr th {\n",
       "        vertical-align: top;\n",
       "    }\n",
       "\n",
       "    .dataframe thead th {\n",
       "        text-align: right;\n",
       "    }\n",
       "</style>\n",
       "<table border=\"1\" class=\"dataframe\">\n",
       "  <thead>\n",
       "    <tr style=\"text-align: right;\">\n",
       "      <th></th>\n",
       "      <th></th>\n",
       "      <th>VoltageCurve</th>\n",
       "      <th>CurrentCurve</th>\n",
       "    </tr>\n",
       "    <tr>\n",
       "      <th>spotName</th>\n",
       "      <th>TimeStamp</th>\n",
       "      <th></th>\n",
       "      <th></th>\n",
       "    </tr>\n",
       "  </thead>\n",
       "  <tbody>\n",
       "    <tr>\n",
       "      <th>60185_0_00</th>\n",
       "      <th>2020-02-26 15:35:27</th>\n",
       "      <td>[146, 806, 1356, 1657, 1803, 1869, 1825, 1759,...</td>\n",
       "      <td>[322, 2184, 4046, 5407, 6374, 7054, 7340, 7519...</td>\n",
       "    </tr>\n",
       "  </tbody>\n",
       "</table>\n",
       "</div>"
      ],
      "text/plain": [
       "                                                                     VoltageCurve  \\\n",
       "spotName   TimeStamp                                                                \n",
       "60185_0_00 2020-02-26 15:35:27  [146, 806, 1356, 1657, 1803, 1869, 1825, 1759,...   \n",
       "\n",
       "                                                                     CurrentCurve  \n",
       "spotName   TimeStamp                                                               \n",
       "60185_0_00 2020-02-26 15:35:27  [322, 2184, 4046, 5407, 6374, 7054, 7340, 7519...  "
      ]
     },
     "execution_count": 55,
     "metadata": {},
     "output_type": "execute_result"
    }
   ],
   "source": [
    "test= pd.read_pickle(\"../data/processed/test_value.pkl\")  \n",
    "test.set_index([\"spotName\",\"TimeStamp\"],inplace=True)\n",
    "test"
   ]
  },
  {
   "cell_type": "markdown",
   "metadata": {},
   "source": [
    "# Statistical Detection"
   ]
  },
  {
   "cell_type": "code",
   "execution_count": 56,
   "metadata": {},
   "outputs": [],
   "source": [
    "exploded_voltage=pd.DataFrame(test.VoltageCurve.tolist(), index= test.index)\n",
    "exploded_current=pd.DataFrame(test.CurrentCurve.tolist(), index= test.index)\n",
    "n=len(exploded_voltage.columns)\n",
    "m=len(exploded_current.columns)"
   ]
  },
  {
   "cell_type": "markdown",
   "metadata": {},
   "source": [
    "### Picchi o cali anomali"
   ]
  },
  {
   "cell_type": "code",
   "execution_count": 57,
   "metadata": {},
   "outputs": [],
   "source": [
    "lag_reference= pd.read_pickle(\"../data/reference/reference_volt_lag_curves.pkl\") \n",
    "upper_lag=lag_reference[\"upper_lag\"]\n",
    "lower_lag=lag_reference[\"lower_lag\"]"
   ]
  },
  {
   "cell_type": "code",
   "execution_count": 59,
   "metadata": {},
   "outputs": [],
   "source": [
    "voltage_lag5=exploded_voltage.iloc[:,:624].diff(periods=5,axis=1)\n",
    "voltage_lag5=voltage_lag5.fillna(0)\n",
    "#creo la colonna voltage_drop per segnalare se nella curva c'è stato un calo di tensione\n",
    "test[\"voltage_drop\"]=voltage_lag5.apply(lambda x : any(x<lower_lag[:n]),axis=1)\n",
    "#creo la colonna voltage_drop per segnalare se nella curva c'è stato un picco di tensione\n",
    "test[\"voltage_spike\"]=voltage_lag5.apply(lambda x : any(x>lower_lag[:n]),axis=1)"
   ]
  },
  {
   "cell_type": "code",
   "execution_count": 60,
   "metadata": {},
   "outputs": [
    {
     "data": {
      "text/html": [
       "<div>\n",
       "<style scoped>\n",
       "    .dataframe tbody tr th:only-of-type {\n",
       "        vertical-align: middle;\n",
       "    }\n",
       "\n",
       "    .dataframe tbody tr th {\n",
       "        vertical-align: top;\n",
       "    }\n",
       "\n",
       "    .dataframe thead th {\n",
       "        text-align: right;\n",
       "    }\n",
       "</style>\n",
       "<table border=\"1\" class=\"dataframe\">\n",
       "  <thead>\n",
       "    <tr style=\"text-align: right;\">\n",
       "      <th></th>\n",
       "      <th></th>\n",
       "      <th>VoltageCurve</th>\n",
       "      <th>CurrentCurve</th>\n",
       "      <th>voltage_drop</th>\n",
       "      <th>voltage_spike</th>\n",
       "    </tr>\n",
       "    <tr>\n",
       "      <th>spotName</th>\n",
       "      <th>TimeStamp</th>\n",
       "      <th></th>\n",
       "      <th></th>\n",
       "      <th></th>\n",
       "      <th></th>\n",
       "    </tr>\n",
       "  </thead>\n",
       "  <tbody>\n",
       "    <tr>\n",
       "      <th>60185_0_00</th>\n",
       "      <th>2020-02-26 15:35:27</th>\n",
       "      <td>[146, 806, 1356, 1657, 1803, 1869, 1825, 1759,...</td>\n",
       "      <td>[322, 2184, 4046, 5407, 6374, 7054, 7340, 7519...</td>\n",
       "      <td>True</td>\n",
       "      <td>True</td>\n",
       "    </tr>\n",
       "  </tbody>\n",
       "</table>\n",
       "</div>"
      ],
      "text/plain": [
       "                                                                     VoltageCurve  \\\n",
       "spotName   TimeStamp                                                                \n",
       "60185_0_00 2020-02-26 15:35:27  [146, 806, 1356, 1657, 1803, 1869, 1825, 1759,...   \n",
       "\n",
       "                                                                     CurrentCurve  \\\n",
       "spotName   TimeStamp                                                                \n",
       "60185_0_00 2020-02-26 15:35:27  [322, 2184, 4046, 5407, 6374, 7054, 7340, 7519...   \n",
       "\n",
       "                                voltage_drop  voltage_spike  \n",
       "spotName   TimeStamp                                         \n",
       "60185_0_00 2020-02-26 15:35:27          True           True  "
      ]
     },
     "execution_count": 60,
     "metadata": {},
     "output_type": "execute_result"
    }
   ],
   "source": [
    "test"
   ]
  },
  {
   "cell_type": "markdown",
   "metadata": {},
   "source": [
    "### Anomalie puntuali"
   ]
  },
  {
   "cell_type": "markdown",
   "metadata": {},
   "source": [
    "##### Voltaggio"
   ]
  },
  {
   "cell_type": "code",
   "execution_count": 90,
   "metadata": {},
   "outputs": [],
   "source": [
    "curve_reference= pd.read_pickle(\"../data/reference/reference_volt_curves.pkl\") \n",
    "upper_limit=curve_reference[\"upper_limit\"]\n",
    "lower_limit=curve_reference[\"lower_limit\"]\n",
    "media_volt=curve_reference[\"media\"]"
   ]
  },
  {
   "cell_type": "code",
   "execution_count": 75,
   "metadata": {},
   "outputs": [],
   "source": [
    "single_outliers=exploded_voltage.apply(lambda x : x.between(lower_limit[:n],upper_limit[:n]) ,axis=1)\n",
    "test[\"n_voltage_outliers\"]=single_outliers.apply(lambda x : len(x)-x.sum() ,axis=1)\n",
    "test[\"%volt_anomalies\"]=test.apply(lambda x: round(x.n_voltage_outliers/n*100),axis=1)\n",
    "test"
   ]
  },
  {
   "cell_type": "markdown",
   "metadata": {},
   "source": [
    "##### Corrente"
   ]
  },
  {
   "cell_type": "code",
   "execution_count": 91,
   "metadata": {},
   "outputs": [],
   "source": [
    "curve_reference= pd.read_pickle(\"../data/reference/reference_current_curves.pkl\") \n",
    "upper_limit=curve_reference[\"upper_limit\"]\n",
    "lower_limit=curve_reference[\"lower_limit\"]\n",
    "media_curr=curve_reference[\"media\"]"
   ]
  },
  {
   "cell_type": "code",
   "execution_count": 80,
   "metadata": {},
   "outputs": [
    {
     "data": {
      "text/html": [
       "<div>\n",
       "<style scoped>\n",
       "    .dataframe tbody tr th:only-of-type {\n",
       "        vertical-align: middle;\n",
       "    }\n",
       "\n",
       "    .dataframe tbody tr th {\n",
       "        vertical-align: top;\n",
       "    }\n",
       "\n",
       "    .dataframe thead th {\n",
       "        text-align: right;\n",
       "    }\n",
       "</style>\n",
       "<table border=\"1\" class=\"dataframe\">\n",
       "  <thead>\n",
       "    <tr style=\"text-align: right;\">\n",
       "      <th></th>\n",
       "      <th></th>\n",
       "      <th>VoltageCurve</th>\n",
       "      <th>CurrentCurve</th>\n",
       "      <th>voltage_drop</th>\n",
       "      <th>voltage_spike</th>\n",
       "      <th>n_voltage_outliers</th>\n",
       "      <th>%volt_anomalies</th>\n",
       "      <th>n_current_outliers</th>\n",
       "      <th>%curr_anomalies</th>\n",
       "    </tr>\n",
       "    <tr>\n",
       "      <th>spotName</th>\n",
       "      <th>TimeStamp</th>\n",
       "      <th></th>\n",
       "      <th></th>\n",
       "      <th></th>\n",
       "      <th></th>\n",
       "      <th></th>\n",
       "      <th></th>\n",
       "      <th></th>\n",
       "      <th></th>\n",
       "    </tr>\n",
       "  </thead>\n",
       "  <tbody>\n",
       "    <tr>\n",
       "      <th>60185_0_00</th>\n",
       "      <th>2020-02-26 15:35:27</th>\n",
       "      <td>[146, 806, 1356, 1657, 1803, 1869, 1825, 1759,...</td>\n",
       "      <td>[322, 2184, 4046, 5407, 6374, 7054, 7340, 7519...</td>\n",
       "      <td>True</td>\n",
       "      <td>True</td>\n",
       "      <td>289</td>\n",
       "      <td>56</td>\n",
       "      <td>225</td>\n",
       "      <td>56</td>\n",
       "    </tr>\n",
       "  </tbody>\n",
       "</table>\n",
       "</div>"
      ],
      "text/plain": [
       "                                                                     VoltageCurve  \\\n",
       "spotName   TimeStamp                                                                \n",
       "60185_0_00 2020-02-26 15:35:27  [146, 806, 1356, 1657, 1803, 1869, 1825, 1759,...   \n",
       "\n",
       "                                                                     CurrentCurve  \\\n",
       "spotName   TimeStamp                                                                \n",
       "60185_0_00 2020-02-26 15:35:27  [322, 2184, 4046, 5407, 6374, 7054, 7340, 7519...   \n",
       "\n",
       "                                voltage_drop  voltage_spike  \\\n",
       "spotName   TimeStamp                                          \n",
       "60185_0_00 2020-02-26 15:35:27          True           True   \n",
       "\n",
       "                                n_voltage_outliers  %volt_anomalies  \\\n",
       "spotName   TimeStamp                                                  \n",
       "60185_0_00 2020-02-26 15:35:27                 289               56   \n",
       "\n",
       "                                n_current_outliers  %curr_anomalies  \n",
       "spotName   TimeStamp                                                 \n",
       "60185_0_00 2020-02-26 15:35:27                 225               56  "
      ]
     },
     "execution_count": 80,
     "metadata": {},
     "output_type": "execute_result"
    }
   ],
   "source": [
    "single_outliers=exploded_current.apply(lambda x : x.between(lower_limit[:m],upper_limit[:m]) ,axis=1)\n",
    "test[\"n_current_outliers\"]=single_outliers.apply(lambda x : len(x)-x.sum() ,axis=1)\n",
    "test[\"%curr_anomalies\"]=test.apply(lambda x: round(x.n_voltage_outliers/m*100),axis=1)\n",
    "test"
   ]
  },
  {
   "cell_type": "markdown",
   "metadata": {},
   "source": [
    "# ML Detection"
   ]
  },
  {
   "cell_type": "code",
   "execution_count": null,
   "metadata": {},
   "outputs": [],
   "source": [
    "with open(r'..\\Models\\knn.pkl','rb') as file:\n",
    "    model=pickle.load(file)\n",
    "model"
   ]
  },
  {
   "cell_type": "markdown",
   "metadata": {},
   "source": [
    "# Plot curva di test"
   ]
  },
  {
   "cell_type": "code",
   "execution_count": 100,
   "metadata": {},
   "outputs": [
    {
     "data": {
      "image/png": "[encoded data removed]",
      "text/plain": [
       "<Figure size 432x288 with 1 Axes>"
      ]
     },
     "metadata": {
      "needs_background": "light"
     },
     "output_type": "display_data"
    }
   ],
   "source": [
    "plt.plot(test.VoltageCurve[0],label=\"curva test\",c=\"orange\")\n",
    "plt.plot(media_volt[:n],label=\"curva media\",c=\"blue\")\n",
    "plt.legend();"
   ]
  }
 ],
 "metadata": {
  "interpreter": {
   "hash": "483f5a6b43a3cd7963c5b202370231d608089097c1755e1e048d60a8aae317e5"
  },
  "kernelspec": {
   "display_name": "Python 3.9.7 ('base')",
   "language": "python",
   "name": "python3"
  },
  "language_info": {
   "codemirror_mode": {
    "name": "ipython",
    "version": 3
   },
   "file_extension": ".py",
   "mimetype": "text/x-python",
   "name": "python",
   "nbconvert_exporter": "python",
   "pygments_lexer": "ipython3",
   "version": "3.9.7"
  },
  "orig_nbformat": 4
 },
 "nbformat": 4,
 "nbformat_minor": 2
}
