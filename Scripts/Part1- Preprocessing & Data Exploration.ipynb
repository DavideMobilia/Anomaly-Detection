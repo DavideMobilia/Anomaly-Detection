{
 "cells": [
  {
   "cell_type": "markdown",
   "metadata": {},
   "source": [
    "# Analisi esplorativa"
   ]
  },
  {
   "cell_type": "markdown",
   "metadata": {},
   "source": [
    "!! fare istogramma della distribuzione invece di tutta sta roba con days, months..."
   ]
  },
  {
   "cell_type": "code",
   "execution_count": null,
   "metadata": {},
   "outputs": [],
   "source": [
    "#carico il dataframe pickle in df\n",
    "df= pd.read_pickle(\"../data/dataframe.pkl\")  "
   ]
  },
  {
   "cell_type": "code",
   "execution_count": null,
   "metadata": {},
   "outputs": [
    {
     "data": {
      "text/plain": [
       "<AxesSubplot:>"
      ]
     },
     "metadata": {},
     "output_type": "display_data"
    },
    {
     "data": {
      "image/png": "[encoded data removed]",
      "text/plain": [
       "<Figure size 432x288 with 1 Axes>"
      ]
     },
     "metadata": {},
     "output_type": "display_data"
    }
   ],
   "source": [
    "df['TimeStamp'].hist()"
   ]
  },
  {
   "cell_type": "code",
   "execution_count": null,
   "metadata": {},
   "outputs": [
    {
     "data": {
      "text/plain": [
       "anno  mese\n",
       "2019  9        4906\n",
       "      11      28116\n",
       "      12      47733\n",
       "2020  1       56552\n",
       "      2       50975\n",
       "      3       31296\n",
       "      5        3288\n",
       "Name: TimeStamp, dtype: int64"
      ]
     },
     "metadata": {},
     "output_type": "display_data"
    }
   ],
   "source": [
    "#distribuzione dati\n",
    "df[\"TimeStamp\"].groupby([df['TimeStamp'].dt.year.rename('anno'), df['TimeStamp'].dt.month.rename('mese'),]).count()"
   ]
  },
  {
   "cell_type": "code",
   "execution_count": null,
   "metadata": {},
   "outputs": [
    {
     "data": {
      "text/plain": [
       "TimeStamp\n",
       "17     595\n",
       "18    1445\n",
       "19    1968\n",
       "23     276\n",
       "25     101\n",
       "26     521\n",
       "Name: TimeStamp, dtype: int64"
      ]
     },
     "metadata": {},
     "output_type": "display_data"
    }
   ],
   "source": [
    "df[\"TimeStamp\"][df.TimeStamp.dt.month==9].groupby(df.TimeStamp.dt.day).count()"
   ]
  },
  {
   "cell_type": "code",
   "execution_count": null,
   "metadata": {},
   "outputs": [],
   "source": [
    "df.groupby(df.TimeStamp.dt.month).count()"
   ]
  },
  {
   "cell_type": "markdown",
   "metadata": {},
   "source": [
    "### Missing values"
   ]
  },
  {
   "cell_type": "code",
   "execution_count": null,
   "metadata": {},
   "outputs": [
    {
     "data": {
      "text/plain": [
       "(spotName        727\n",
       " VoltageCurve    700\n",
       " CurrentCurve    700\n",
       " TimeStamp       727\n",
       " dtype: int64,\n",
       " spotName        0.003262\n",
       " VoltageCurve    0.003141\n",
       " CurrentCurve    0.003141\n",
       " TimeStamp       0.003262\n",
       " dtype: float64)"
      ]
     },
     "metadata": {},
     "output_type": "display_data"
    }
   ],
   "source": [
    "df[df['spotName']==''].count(),df[df['spotName']==''].count()/df[\"TimeStamp\"].count()\n",
    "#ci sono 727 records senza spotName e di questi 27 non hanno valori di current e voltage\n",
    "#rappresentano solo lo 0,3% dei dati"
   ]
  },
  {
   "cell_type": "code",
   "execution_count": null,
   "metadata": {},
   "outputs": [
    {
     "data": {
      "text/plain": [
       "(spotName        222866\n",
       " VoltageCurve    177872\n",
       " CurrentCurve    177872\n",
       " TimeStamp       222866\n",
       " dtype: int64,\n",
       " spotName        1.000000\n",
       " VoltageCurve    0.798112\n",
       " CurrentCurve    0.798112\n",
       " TimeStamp       1.000000\n",
       " dtype: float64)"
      ]
     },
     "metadata": {},
     "output_type": "display_data"
    }
   ],
   "source": [
    "#verifico quanti valori effettivi e percentuale di voltage e current sono presenti in df\n",
    "df.count(),df.count()/df[\"TimeStamp\"].count()"
   ]
  },
  {
   "cell_type": "code",
   "execution_count": null,
   "metadata": {},
   "outputs": [
    {
     "data": {
      "text/html": [
       "<div>\n",
       "<style scoped>\n",
       "    .dataframe tbody tr th:only-of-type {\n",
       "        vertical-align: middle;\n",
       "    }\n",
       "\n",
       "    .dataframe tbody tr th {\n",
       "        vertical-align: top;\n",
       "    }\n",
       "\n",
       "    .dataframe thead th {\n",
       "        text-align: right;\n",
       "    }\n",
       "</style>\n",
       "<table border=\"1\" class=\"dataframe\">\n",
       "  <thead>\n",
       "    <tr style=\"text-align: right;\">\n",
       "      <th></th>\n",
       "      <th>spotName</th>\n",
       "      <th>VoltageCurve</th>\n",
       "      <th>CurrentCurve</th>\n",
       "      <th>TimeStamp</th>\n",
       "    </tr>\n",
       "    <tr>\n",
       "      <th>TimeStamp</th>\n",
       "      <th></th>\n",
       "      <th></th>\n",
       "      <th></th>\n",
       "      <th></th>\n",
       "    </tr>\n",
       "  </thead>\n",
       "  <tbody>\n",
       "    <tr>\n",
       "      <th>2019</th>\n",
       "      <td>1.0</td>\n",
       "      <td>0.778726</td>\n",
       "      <td>0.778726</td>\n",
       "      <td>1.0</td>\n",
       "    </tr>\n",
       "    <tr>\n",
       "      <th>2020</th>\n",
       "      <td>1.0</td>\n",
       "      <td>0.809128</td>\n",
       "      <td>0.809128</td>\n",
       "      <td>1.0</td>\n",
       "    </tr>\n",
       "  </tbody>\n",
       "</table>\n",
       "</div>"
      ],
      "text/plain": [
       "           spotName  VoltageCurve  CurrentCurve  TimeStamp\n",
       "TimeStamp                                                 \n",
       "2019            1.0      0.778726      0.778726        1.0\n",
       "2020            1.0      0.809128      0.809128        1.0"
      ]
     },
     "metadata": {},
     "output_type": "display_data"
    }
   ],
   "source": [
    "#percentuale dati mancanti in base all'anno\n",
    "df.groupby(df.TimeStamp.dt.year).count().divide(df[\"spotName\"].groupby(df.TimeStamp.dt.year).count(),axis=0)"
   ]
  },
  {
   "cell_type": "code",
   "execution_count": null,
   "metadata": {},
   "outputs": [
    {
     "data": {
      "text/html": [
       "<div>\n",
       "<style scoped>\n",
       "    .dataframe tbody tr th:only-of-type {\n",
       "        vertical-align: middle;\n",
       "    }\n",
       "\n",
       "    .dataframe tbody tr th {\n",
       "        vertical-align: top;\n",
       "    }\n",
       "\n",
       "    .dataframe thead th {\n",
       "        text-align: right;\n",
       "    }\n",
       "</style>\n",
       "<table border=\"1\" class=\"dataframe\">\n",
       "  <thead>\n",
       "    <tr style=\"text-align: right;\">\n",
       "      <th></th>\n",
       "      <th>spotName</th>\n",
       "      <th>VoltageCurve</th>\n",
       "      <th>CurrentCurve</th>\n",
       "      <th>TimeStamp</th>\n",
       "    </tr>\n",
       "    <tr>\n",
       "      <th>TimeStamp</th>\n",
       "      <th></th>\n",
       "      <th></th>\n",
       "      <th></th>\n",
       "      <th></th>\n",
       "    </tr>\n",
       "  </thead>\n",
       "  <tbody>\n",
       "    <tr>\n",
       "      <th>1</th>\n",
       "      <td>1.0</td>\n",
       "      <td>0.852507</td>\n",
       "      <td>0.852507</td>\n",
       "      <td>1.0</td>\n",
       "    </tr>\n",
       "    <tr>\n",
       "      <th>2</th>\n",
       "      <td>1.0</td>\n",
       "      <td>0.753624</td>\n",
       "      <td>0.753624</td>\n",
       "      <td>1.0</td>\n",
       "    </tr>\n",
       "    <tr>\n",
       "      <th>3</th>\n",
       "      <td>1.0</td>\n",
       "      <td>0.825505</td>\n",
       "      <td>0.825505</td>\n",
       "      <td>1.0</td>\n",
       "    </tr>\n",
       "    <tr>\n",
       "      <th>5</th>\n",
       "      <td>1.0</td>\n",
       "      <td>0.767640</td>\n",
       "      <td>0.767640</td>\n",
       "      <td>1.0</td>\n",
       "    </tr>\n",
       "    <tr>\n",
       "      <th>9</th>\n",
       "      <td>1.0</td>\n",
       "      <td>1.000000</td>\n",
       "      <td>1.000000</td>\n",
       "      <td>1.0</td>\n",
       "    </tr>\n",
       "    <tr>\n",
       "      <th>11</th>\n",
       "      <td>1.0</td>\n",
       "      <td>0.682067</td>\n",
       "      <td>0.682067</td>\n",
       "      <td>1.0</td>\n",
       "    </tr>\n",
       "    <tr>\n",
       "      <th>12</th>\n",
       "      <td>1.0</td>\n",
       "      <td>0.812918</td>\n",
       "      <td>0.812918</td>\n",
       "      <td>1.0</td>\n",
       "    </tr>\n",
       "  </tbody>\n",
       "</table>\n",
       "</div>"
      ],
      "text/plain": [
       "           spotName  VoltageCurve  CurrentCurve  TimeStamp\n",
       "TimeStamp                                                 \n",
       "1               1.0      0.852507      0.852507        1.0\n",
       "2               1.0      0.753624      0.753624        1.0\n",
       "3               1.0      0.825505      0.825505        1.0\n",
       "5               1.0      0.767640      0.767640        1.0\n",
       "9               1.0      1.000000      1.000000        1.0\n",
       "11              1.0      0.682067      0.682067        1.0\n",
       "12              1.0      0.812918      0.812918        1.0"
      ]
     },
     "metadata": {},
     "output_type": "display_data"
    }
   ],
   "source": [
    "#percentuale dati mancanti in base all mese\n",
    "df.groupby(df.TimeStamp.dt.month).count().divide(df[\"spotName\"].groupby(df.TimeStamp.dt.month).count(),axis=0)"
   ]
  }
 ],
 "metadata": {
  "language_info": {
   "name": "python"
  },
  "orig_nbformat": 4
 },
 "nbformat": 4,
 "nbformat_minor": 2
}
