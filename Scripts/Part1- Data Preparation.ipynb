{
 "cells": [
  {
   "cell_type": "markdown",
   "metadata": {},
   "source": [
    "# Preprocessing"
   ]
  },
  {
   "cell_type": "code",
   "execution_count": 1,
   "metadata": {},
   "outputs": [],
   "source": [
    "import pandas as pd\n",
    "import seaborn as sns"
   ]
  },
  {
   "cell_type": "markdown",
   "metadata": {},
   "source": [
    "### Distribuzione dei dati"
   ]
  },
  {
   "cell_type": "code",
   "execution_count": 2,
   "metadata": {},
   "outputs": [
    {
     "data": {
      "text/html": [
       "<div>\n",
       "<style scoped>\n",
       "    .dataframe tbody tr th:only-of-type {\n",
       "        vertical-align: middle;\n",
       "    }\n",
       "\n",
       "    .dataframe tbody tr th {\n",
       "        vertical-align: top;\n",
       "    }\n",
       "\n",
       "    .dataframe thead th {\n",
       "        text-align: right;\n",
       "    }\n",
       "</style>\n",
       "<table border=\"1\" class=\"dataframe\">\n",
       "  <thead>\n",
       "    <tr style=\"text-align: right;\">\n",
       "      <th></th>\n",
       "      <th>VoltageCurve</th>\n",
       "      <th>CurrentCurve</th>\n",
       "      <th>spotName</th>\n",
       "      <th>TimeStamp</th>\n",
       "    </tr>\n",
       "  </thead>\n",
       "  <tbody>\n",
       "    <tr>\n",
       "      <th>0</th>\n",
       "      <td>None</td>\n",
       "      <td>None</td>\n",
       "      <td>60090_0_00</td>\n",
       "      <td>2019-11-07 12:29:01</td>\n",
       "    </tr>\n",
       "    <tr>\n",
       "      <th>1</th>\n",
       "      <td>None</td>\n",
       "      <td>None</td>\n",
       "      <td>60092_0_00</td>\n",
       "      <td>2019-11-07 12:29:01</td>\n",
       "    </tr>\n",
       "    <tr>\n",
       "      <th>2</th>\n",
       "      <td>None</td>\n",
       "      <td>None</td>\n",
       "      <td>60094_0_00</td>\n",
       "      <td>2019-11-07 12:29:01</td>\n",
       "    </tr>\n",
       "    <tr>\n",
       "      <th>3</th>\n",
       "      <td>None</td>\n",
       "      <td>None</td>\n",
       "      <td>60096_0_00</td>\n",
       "      <td>2019-11-07 12:29:01</td>\n",
       "    </tr>\n",
       "    <tr>\n",
       "      <th>4</th>\n",
       "      <td>None</td>\n",
       "      <td>None</td>\n",
       "      <td>60118_0_00</td>\n",
       "      <td>2019-11-07 12:29:01</td>\n",
       "    </tr>\n",
       "  </tbody>\n",
       "</table>\n",
       "</div>"
      ],
      "text/plain": [
       "  VoltageCurve CurrentCurve    spotName           TimeStamp\n",
       "0         None         None  60090_0_00 2019-11-07 12:29:01\n",
       "1         None         None  60092_0_00 2019-11-07 12:29:01\n",
       "2         None         None  60094_0_00 2019-11-07 12:29:01\n",
       "3         None         None  60096_0_00 2019-11-07 12:29:01\n",
       "4         None         None  60118_0_00 2019-11-07 12:29:01"
      ]
     },
     "execution_count": 2,
     "metadata": {},
     "output_type": "execute_result"
    }
   ],
   "source": [
    "#carico il dataframe pickle in df\n",
    "df= pd.read_pickle(\"../data/full_rows_df.pkl\")  \n",
    "df.head()\n"
   ]
  },
  {
   "cell_type": "code",
   "execution_count": 3,
   "metadata": {},
   "outputs": [
    {
     "data": {
      "text/plain": [
       "222866"
      ]
     },
     "execution_count": 3,
     "metadata": {},
     "output_type": "execute_result"
    }
   ],
   "source": [
    "len(df)"
   ]
  },
  {
   "cell_type": "code",
   "execution_count": 4,
   "metadata": {},
   "outputs": [
    {
     "data": {
      "text/plain": [
       "anno  mese\n",
       "2019  9        4906\n",
       "      11      28116\n",
       "      12      47733\n",
       "2020  1       56552\n",
       "      2       50975\n",
       "      3       31296\n",
       "      5        3288\n",
       "Name: TimeStamp, dtype: int64"
      ]
     },
     "execution_count": 4,
     "metadata": {},
     "output_type": "execute_result"
    }
   ],
   "source": [
    "#distribuzione dati per mese e anno\n",
    "df[\"TimeStamp\"].groupby([df['TimeStamp'].dt.year.rename('anno'), df['TimeStamp'].dt.month.rename('mese')]).count()"
   ]
  },
  {
   "cell_type": "code",
   "execution_count": 5,
   "metadata": {},
   "outputs": [
    {
     "data": {
      "text/plain": [
       "anno  mese\n",
       "2019  9        2.201323\n",
       "      11      12.615652\n",
       "      12      21.417803\n",
       "2020  1       25.374889\n",
       "      2       22.872488\n",
       "      3       14.042519\n",
       "      5        1.475326\n",
       "Name: TimeStamp, dtype: float64"
      ]
     },
     "execution_count": 5,
     "metadata": {},
     "output_type": "execute_result"
    }
   ],
   "source": [
    "#distribuzioni percentuali per mese e anno\n",
    "df[\"TimeStamp\"].groupby([df['TimeStamp'].dt.year.rename('anno'), df['TimeStamp'].dt.month.rename('mese')]).count()/len(df)*100"
   ]
  },
  {
   "cell_type": "code",
   "execution_count": 6,
   "metadata": {},
   "outputs": [
    {
     "data": {
      "text/plain": [
       "<AxesSubplot:xlabel='TimeStamp', ylabel='Percent'>"
      ]
     },
     "execution_count": 6,
     "metadata": {},
     "output_type": "execute_result"
    },
    {
     "data": {
      "image/png": "[encoded data removed]",
      "text/plain": [
       "<Figure size 432x288 with 1 Axes>"
      ]
     },
     "metadata": {
      "needs_background": "light"
     },
     "output_type": "display_data"
    }
   ],
   "source": [
    "#istogramma numerosità dati per mese, in percentuale\n",
    "sns.histplot(df.TimeStamp.dt.month,stat=\"percent\",discrete=True)"
   ]
  },
  {
   "cell_type": "code",
   "execution_count": 7,
   "metadata": {},
   "outputs": [
    {
     "data": {
      "text/plain": [
       "TimeStamp\n",
       "17     595\n",
       "18    1445\n",
       "19    1968\n",
       "23     276\n",
       "25     101\n",
       "26     521\n",
       "Name: TimeStamp, dtype: int64"
      ]
     },
     "execution_count": 7,
     "metadata": {},
     "output_type": "execute_result"
    }
   ],
   "source": [
    "#distribuzione dati di 09-2019\n",
    "df[\"TimeStamp\"][df.TimeStamp.dt.month==9].groupby(df.TimeStamp.dt.day).count()"
   ]
  },
  {
   "cell_type": "code",
   "execution_count": 8,
   "metadata": {},
   "outputs": [
    {
     "data": {
      "text/plain": [
       "TimeStamp\n",
       "4      458\n",
       "5     1144\n",
       "6      767\n",
       "27     306\n",
       "28     613\n",
       "Name: TimeStamp, dtype: int64"
      ]
     },
     "execution_count": 8,
     "metadata": {},
     "output_type": "execute_result"
    }
   ],
   "source": [
    "#distribuzione dati di 05-2020\n",
    "df[\"TimeStamp\"][df.TimeStamp.dt.month==5].groupby(df.TimeStamp.dt.day).count()"
   ]
  },
  {
   "cell_type": "markdown",
   "metadata": {},
   "source": [
    "### Missing values e anomali"
   ]
  },
  {
   "cell_type": "code",
   "execution_count": 9,
   "metadata": {},
   "outputs": [
    {
     "data": {
      "text/plain": [
       "(VoltageCurve    700\n",
       " CurrentCurve    700\n",
       " spotName        727\n",
       " TimeStamp       727\n",
       " dtype: int64,\n",
       " VoltageCurve    0.003141\n",
       " CurrentCurve    0.003141\n",
       " spotName        0.003262\n",
       " TimeStamp       0.003262\n",
       " dtype: float64)"
      ]
     },
     "execution_count": 9,
     "metadata": {},
     "output_type": "execute_result"
    }
   ],
   "source": [
    "#missing values di spotName, valori assoluti e pecentuali\n",
    "df[df['spotName']==''].count(),df[df['spotName']==''].count()/df[\"TimeStamp\"].count()\n",
    "#ci sono 727 records senza spotName e di questi 27 non hanno valori di current e voltage\n",
    "#rappresentano solo lo 0,3% dei dati"
   ]
  },
  {
   "cell_type": "code",
   "execution_count": 10,
   "metadata": {},
   "outputs": [
    {
     "data": {
      "text/plain": [
       "(VoltageCurve    177872\n",
       " CurrentCurve    177872\n",
       " dtype: int64,\n",
       " VoltageCurve    79.811187\n",
       " CurrentCurve    79.811187\n",
       " dtype: float64)"
      ]
     },
     "execution_count": 10,
     "metadata": {},
     "output_type": "execute_result"
    }
   ],
   "source": [
    "#verifico quanti valori effettivi e percentuale di voltage e current sono presenti in df\n",
    "df[[\"VoltageCurve\",\"CurrentCurve\"]].count(),df[[\"VoltageCurve\",\"CurrentCurve\"]].count()/df[\"TimeStamp\"].count()*100\n",
    "# abbiamo 177.872 valori su 222.866 ovvero il 79,81% dei dati"
   ]
  },
  {
   "cell_type": "code",
   "execution_count": 11,
   "metadata": {},
   "outputs": [
    {
     "data": {
      "text/html": [
       "<div>\n",
       "<style scoped>\n",
       "    .dataframe tbody tr th:only-of-type {\n",
       "        vertical-align: middle;\n",
       "    }\n",
       "\n",
       "    .dataframe tbody tr th {\n",
       "        vertical-align: top;\n",
       "    }\n",
       "\n",
       "    .dataframe thead th {\n",
       "        text-align: right;\n",
       "    }\n",
       "</style>\n",
       "<table border=\"1\" class=\"dataframe\">\n",
       "  <thead>\n",
       "    <tr style=\"text-align: right;\">\n",
       "      <th></th>\n",
       "      <th>VoltageCurve</th>\n",
       "      <th>CurrentCurve</th>\n",
       "      <th>spotName</th>\n",
       "      <th>TimeStamp</th>\n",
       "    </tr>\n",
       "    <tr>\n",
       "      <th>TimeStamp</th>\n",
       "      <th></th>\n",
       "      <th></th>\n",
       "      <th></th>\n",
       "      <th></th>\n",
       "    </tr>\n",
       "  </thead>\n",
       "  <tbody>\n",
       "    <tr>\n",
       "      <th>2019</th>\n",
       "      <td>0.778726</td>\n",
       "      <td>0.778726</td>\n",
       "      <td>1.0</td>\n",
       "      <td>1.0</td>\n",
       "    </tr>\n",
       "    <tr>\n",
       "      <th>2020</th>\n",
       "      <td>0.809128</td>\n",
       "      <td>0.809128</td>\n",
       "      <td>1.0</td>\n",
       "      <td>1.0</td>\n",
       "    </tr>\n",
       "  </tbody>\n",
       "</table>\n",
       "</div>"
      ],
      "text/plain": [
       "           VoltageCurve  CurrentCurve  spotName  TimeStamp\n",
       "TimeStamp                                                 \n",
       "2019           0.778726      0.778726       1.0        1.0\n",
       "2020           0.809128      0.809128       1.0        1.0"
      ]
     },
     "execution_count": 11,
     "metadata": {},
     "output_type": "execute_result"
    }
   ],
   "source": [
    "#percentuale dati mancanti in base all'anno\n",
    "df.groupby(df.TimeStamp.dt.year).count().divide(df[\"spotName\"].groupby(df.TimeStamp.dt.year).count(),axis=0)"
   ]
  },
  {
   "cell_type": "code",
   "execution_count": 12,
   "metadata": {},
   "outputs": [
    {
     "data": {
      "text/html": [
       "<div>\n",
       "<style scoped>\n",
       "    .dataframe tbody tr th:only-of-type {\n",
       "        vertical-align: middle;\n",
       "    }\n",
       "\n",
       "    .dataframe tbody tr th {\n",
       "        vertical-align: top;\n",
       "    }\n",
       "\n",
       "    .dataframe thead th {\n",
       "        text-align: right;\n",
       "    }\n",
       "</style>\n",
       "<table border=\"1\" class=\"dataframe\">\n",
       "  <thead>\n",
       "    <tr style=\"text-align: right;\">\n",
       "      <th></th>\n",
       "      <th>VoltageCurve</th>\n",
       "      <th>CurrentCurve</th>\n",
       "      <th>spotName</th>\n",
       "      <th>TimeStamp</th>\n",
       "    </tr>\n",
       "    <tr>\n",
       "      <th>TimeStamp</th>\n",
       "      <th></th>\n",
       "      <th></th>\n",
       "      <th></th>\n",
       "      <th></th>\n",
       "    </tr>\n",
       "  </thead>\n",
       "  <tbody>\n",
       "    <tr>\n",
       "      <th>1</th>\n",
       "      <td>0.852507</td>\n",
       "      <td>0.852507</td>\n",
       "      <td>1.0</td>\n",
       "      <td>1.0</td>\n",
       "    </tr>\n",
       "    <tr>\n",
       "      <th>2</th>\n",
       "      <td>0.753624</td>\n",
       "      <td>0.753624</td>\n",
       "      <td>1.0</td>\n",
       "      <td>1.0</td>\n",
       "    </tr>\n",
       "    <tr>\n",
       "      <th>3</th>\n",
       "      <td>0.825505</td>\n",
       "      <td>0.825505</td>\n",
       "      <td>1.0</td>\n",
       "      <td>1.0</td>\n",
       "    </tr>\n",
       "    <tr>\n",
       "      <th>5</th>\n",
       "      <td>0.767640</td>\n",
       "      <td>0.767640</td>\n",
       "      <td>1.0</td>\n",
       "      <td>1.0</td>\n",
       "    </tr>\n",
       "    <tr>\n",
       "      <th>9</th>\n",
       "      <td>1.000000</td>\n",
       "      <td>1.000000</td>\n",
       "      <td>1.0</td>\n",
       "      <td>1.0</td>\n",
       "    </tr>\n",
       "    <tr>\n",
       "      <th>11</th>\n",
       "      <td>0.682067</td>\n",
       "      <td>0.682067</td>\n",
       "      <td>1.0</td>\n",
       "      <td>1.0</td>\n",
       "    </tr>\n",
       "    <tr>\n",
       "      <th>12</th>\n",
       "      <td>0.812918</td>\n",
       "      <td>0.812918</td>\n",
       "      <td>1.0</td>\n",
       "      <td>1.0</td>\n",
       "    </tr>\n",
       "  </tbody>\n",
       "</table>\n",
       "</div>"
      ],
      "text/plain": [
       "           VoltageCurve  CurrentCurve  spotName  TimeStamp\n",
       "TimeStamp                                                 \n",
       "1              0.852507      0.852507       1.0        1.0\n",
       "2              0.753624      0.753624       1.0        1.0\n",
       "3              0.825505      0.825505       1.0        1.0\n",
       "5              0.767640      0.767640       1.0        1.0\n",
       "9              1.000000      1.000000       1.0        1.0\n",
       "11             0.682067      0.682067       1.0        1.0\n",
       "12             0.812918      0.812918       1.0        1.0"
      ]
     },
     "execution_count": 12,
     "metadata": {},
     "output_type": "execute_result"
    }
   ],
   "source": [
    "#percentuale dati mancanti in base all mese\n",
    "df.groupby(df.TimeStamp.dt.month).count().divide(df[\"spotName\"].groupby(df.TimeStamp.dt.month).count(),axis=0)"
   ]
  },
  {
   "cell_type": "markdown",
   "metadata": {},
   "source": [
    "#### Gestione dei valori -1 o 0 di VoltageCurve o CurrentCurve come Error"
   ]
  },
  {
   "cell_type": "code",
   "execution_count": 13,
   "metadata": {},
   "outputs": [],
   "source": [
    "#creo una colonna Error per cui avrò True quanto i valori di Voltage o Current sono pari a -1\n",
    "df['Error'] = df['CurrentCurve'].apply(lambda x: True if x==[-1] else False)"
   ]
  },
  {
   "cell_type": "code",
   "execution_count": 14,
   "metadata": {},
   "outputs": [
    {
     "name": "stdout",
     "output_type": "stream",
     "text": [
      "35148\n"
     ]
    }
   ],
   "source": [
    "df[\"Error2\"] = df['CurrentCurve'].apply(lambda x: True if x==[0] else False)\n",
    "print(len((df[df[\"Error\"]==True])))"
   ]
  },
  {
   "cell_type": "code",
   "execution_count": 15,
   "metadata": {},
   "outputs": [
    {
     "name": "stdout",
     "output_type": "stream",
     "text": [
      "35148\n"
     ]
    },
    {
     "data": {
      "text/plain": [
       "15.770000000000001"
      ]
     },
     "execution_count": 15,
     "metadata": {},
     "output_type": "execute_result"
    }
   ],
   "source": [
    "# numerosità degli errori\n",
    "print(len((df[df[\"Error\"]==True])))\n",
    "#percentuale dati con errore sul totale\n",
    "round(len((df[df[\"Error\"]==True]))/len(df),4)*100"
   ]
  },
  {
   "cell_type": "code",
   "execution_count": 16,
   "metadata": {},
   "outputs": [
    {
     "data": {
      "text/plain": [
       "anno  mese\n",
       "2019  11      0.151758\n",
       "      12      0.237738\n",
       "2020  1       0.238107\n",
       "      2       0.215830\n",
       "      3       0.144048\n",
       "      5       0.012518\n",
       "Name: Error, dtype: float64"
      ]
     },
     "execution_count": 16,
     "metadata": {},
     "output_type": "execute_result"
    }
   ],
   "source": [
    "#percentuale di -1 per mese e anno\n",
    "df[\"Error\"][df[\"Error\"]==True].groupby([df[df[\"Error\"]==True].TimeStamp.dt.year.rename(\"anno\"),df[df[\"Error\"]==True].TimeStamp.dt.month.rename(\"mese\")]).count()/len(df[df[\"Error\"]==True])"
   ]
  },
  {
   "cell_type": "markdown",
   "metadata": {},
   "source": [
    "I dati mancanti e di Error sembrano essere distribuiti tra i diversi anni e mesi di raccolta, a parte settembre 2019 i cui non sono presenti Error o valori mancanti (in questo mese abbiamo comunque una raccolta esigua)"
   ]
  },
  {
   "cell_type": "code",
   "execution_count": 17,
   "metadata": {},
   "outputs": [
    {
     "data": {
      "text/plain": [
       "177872"
      ]
     },
     "execution_count": 17,
     "metadata": {},
     "output_type": "execute_result"
    }
   ],
   "source": [
    "#rimozione istanze con VoltageCurve o CurrentCurve mancanti\n",
    "df_processed=df[df['VoltageCurve'].notna()]\n",
    "len(df_processed)"
   ]
  },
  {
   "cell_type": "code",
   "execution_count": 18,
   "metadata": {},
   "outputs": [
    {
     "data": {
      "text/plain": [
       "142203"
      ]
     },
     "execution_count": 18,
     "metadata": {},
     "output_type": "execute_result"
    }
   ],
   "source": [
    "df_processed=df_processed[df_processed[\"Error\"]==False]\n",
    "df_processed=df_processed[df_processed[\"Error2\"]==False]\n",
    "len(df_processed)"
   ]
  },
  {
   "cell_type": "code",
   "execution_count": 19,
   "metadata": {},
   "outputs": [
    {
     "data": {
      "text/plain": [
       "532"
      ]
     },
     "execution_count": 19,
     "metadata": {},
     "output_type": "execute_result"
    }
   ],
   "source": [
    "#rimangono ancora i casi in cui lo spotName non è definito!\n",
    "df_processed[\"TimeStamp\"][df_processed['spotName']==''].count()"
   ]
  },
  {
   "cell_type": "code",
   "execution_count": 20,
   "metadata": {},
   "outputs": [
    {
     "data": {
      "text/plain": [
       "141671"
      ]
     },
     "execution_count": 20,
     "metadata": {},
     "output_type": "execute_result"
    }
   ],
   "source": [
    "#poichè sono solo 532 dati su 142.203 decidiamo di rimuovere anche queste istanze dalle nostre analisi\n",
    "df_processed=df_processed[df_processed['spotName']!='']\n",
    "len(df_processed)"
   ]
  },
  {
   "cell_type": "code",
   "execution_count": 23,
   "metadata": {},
   "outputs": [],
   "source": [
    "#rimozione colonna Error, non più utile\n",
    "df_processed.drop([\"Error\",\"Error2\"],axis=1,inplace=True)"
   ]
  },
  {
   "cell_type": "code",
   "execution_count": 24,
   "metadata": {},
   "outputs": [],
   "source": [
    "#salvo df_processed in formato pickle\n",
    "df_processed.to_pickle(\"../data/clean_rows_df.pkl\")"
   ]
  }
 ],
 "metadata": {
  "interpreter": {
   "hash": "483f5a6b43a3cd7963c5b202370231d608089097c1755e1e048d60a8aae317e5"
  },
  "kernelspec": {
   "display_name": "Python 3.9.7 ('base')",
   "language": "python",
   "name": "python3"
  },
  "language_info": {
   "codemirror_mode": {
    "name": "ipython",
    "version": 3
   },
   "file_extension": ".py",
   "mimetype": "text/x-python",
   "name": "python",
   "nbconvert_exporter": "python",
   "pygments_lexer": "ipython3",
   "version": "3.9.7"
  },
  "orig_nbformat": 4
 },
 "nbformat": 4,
 "nbformat_minor": 2
}
