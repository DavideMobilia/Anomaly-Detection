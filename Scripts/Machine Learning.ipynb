{
 "cells": [
  {
   "cell_type": "code",
   "execution_count": 79,
   "metadata": {},
   "outputs": [],
   "source": [
    "import pandas as pd\n",
    "import numpy as np\n",
    "from pylab import *\n",
    "import scipy.stats as stats\n",
    "from scipy.stats import kurtosis\n",
    "from sklearn.model_selection import train_test_split"
   ]
  },
  {
   "cell_type": "code",
   "execution_count": 80,
   "metadata": {},
   "outputs": [
    {
     "data": {
      "text/html": [
       "<div>\n",
       "<style scoped>\n",
       "    .dataframe tbody tr th:only-of-type {\n",
       "        vertical-align: middle;\n",
       "    }\n",
       "\n",
       "    .dataframe tbody tr th {\n",
       "        vertical-align: top;\n",
       "    }\n",
       "\n",
       "    .dataframe thead th {\n",
       "        text-align: right;\n",
       "    }\n",
       "</style>\n",
       "<table border=\"1\" class=\"dataframe\">\n",
       "  <thead>\n",
       "    <tr style=\"text-align: right;\">\n",
       "      <th></th>\n",
       "      <th>VoltageCurve</th>\n",
       "      <th>CurrentCurve</th>\n",
       "      <th>spotName</th>\n",
       "      <th>TimeStamp</th>\n",
       "    </tr>\n",
       "  </thead>\n",
       "  <tbody>\n",
       "    <tr>\n",
       "      <th>494</th>\n",
       "      <td>[132, 744, 1299, 1663, 1894, 2002, 2068, 2110,...</td>\n",
       "      <td>[311, 1990, 3577, 4759, 5599, 6190, 6594, 6999...</td>\n",
       "      <td>60000_0_00</td>\n",
       "      <td>2019-11-07 12:29:06</td>\n",
       "    </tr>\n",
       "    <tr>\n",
       "      <th>2439</th>\n",
       "      <td>[136, 752, 1308, 1675, 1923, 2068, 2128, 2180,...</td>\n",
       "      <td>[301, 1961, 3470, 4527, 5432, 6066, 6489, 6911...</td>\n",
       "      <td>60000_0_00</td>\n",
       "      <td>2019-11-07 12:29:26</td>\n",
       "    </tr>\n",
       "    <tr>\n",
       "      <th>2515</th>\n",
       "      <td>[139, 757, 1292, 1655, 1885, 2042, 2099, 2099,...</td>\n",
       "      <td>[333, 2058, 3663, 4814, 5661, 6388, 6842, 7084...</td>\n",
       "      <td>60000_0_00</td>\n",
       "      <td>2019-11-07 12:29:26</td>\n",
       "    </tr>\n",
       "    <tr>\n",
       "      <th>2935</th>\n",
       "      <td>[133, 743, 1286, 1645, 1887, 2046, 2104, 2104,...</td>\n",
       "      <td>[307, 2031, 3632, 4802, 5695, 6434, 6865, 7142...</td>\n",
       "      <td>60000_0_00</td>\n",
       "      <td>2019-11-07 12:29:30</td>\n",
       "    </tr>\n",
       "    <tr>\n",
       "      <th>3239</th>\n",
       "      <td>[137, 755, 1313, 1683, 1906, 2043, 2147, 2189,...</td>\n",
       "      <td>[302, 1995, 3508, 4596, 5382, 5987, 6562, 6955...</td>\n",
       "      <td>60000_0_00</td>\n",
       "      <td>2019-11-07 12:29:32</td>\n",
       "    </tr>\n",
       "  </tbody>\n",
       "</table>\n",
       "</div>"
      ],
      "text/plain": [
       "                                           VoltageCurve  \\\n",
       "494   [132, 744, 1299, 1663, 1894, 2002, 2068, 2110,...   \n",
       "2439  [136, 752, 1308, 1675, 1923, 2068, 2128, 2180,...   \n",
       "2515  [139, 757, 1292, 1655, 1885, 2042, 2099, 2099,...   \n",
       "2935  [133, 743, 1286, 1645, 1887, 2046, 2104, 2104,...   \n",
       "3239  [137, 755, 1313, 1683, 1906, 2043, 2147, 2189,...   \n",
       "\n",
       "                                           CurrentCurve    spotName  \\\n",
       "494   [311, 1990, 3577, 4759, 5599, 6190, 6594, 6999...  60000_0_00   \n",
       "2439  [301, 1961, 3470, 4527, 5432, 6066, 6489, 6911...  60000_0_00   \n",
       "2515  [333, 2058, 3663, 4814, 5661, 6388, 6842, 7084...  60000_0_00   \n",
       "2935  [307, 2031, 3632, 4802, 5695, 6434, 6865, 7142...  60000_0_00   \n",
       "3239  [302, 1995, 3508, 4596, 5382, 5987, 6562, 6955...  60000_0_00   \n",
       "\n",
       "               TimeStamp  \n",
       "494  2019-11-07 12:29:06  \n",
       "2439 2019-11-07 12:29:26  \n",
       "2515 2019-11-07 12:29:26  \n",
       "2935 2019-11-07 12:29:30  \n",
       "3239 2019-11-07 12:29:32  "
      ]
     },
     "execution_count": 80,
     "metadata": {},
     "output_type": "execute_result"
    }
   ],
   "source": [
    "df= pd.read_pickle(\"../data/clean_rows_df.pkl\")  \n",
    "df.head()"
   ]
  },
  {
   "cell_type": "code",
   "execution_count": 81,
   "metadata": {},
   "outputs": [],
   "source": [
    "df.reset_index(inplace=True)\n",
    "df.set_index([\"spotName\",\"TimeStamp\"],inplace=True)"
   ]
  },
  {
   "cell_type": "markdown",
   "metadata": {},
   "source": [
    "# ML su Voltage Curve"
   ]
  },
  {
   "cell_type": "code",
   "execution_count": 82,
   "metadata": {},
   "outputs": [],
   "source": [
    "exploded_voltage=pd.DataFrame(df.VoltageCurve.tolist(), index= df.index)"
   ]
  },
  {
   "cell_type": "markdown",
   "metadata": {},
   "source": [
    "indice del primo valore per cui l'inclinazione della curva inizia a diventare negativa\n",
    "Escludere i valori precedenti a questo indice per analizzare la curva"
   ]
  },
  {
   "cell_type": "code",
   "execution_count": 83,
   "metadata": {},
   "outputs": [],
   "source": [
    "#indice del primo valore per cui l'inclinazione della curva diventa negativa\n",
    "#position=curva.diff()[curva.diff()==next(x for x in curva.diff() if x < 0)].index[0]\n",
    "#curva_new è la curva senza il primo picco\n",
    "#curva_new=curva.iloc[position:]\n",
    "#plot(curva_new)"
   ]
  },
  {
   "cell_type": "code",
   "execution_count": 84,
   "metadata": {},
   "outputs": [],
   "source": [
    "exploded_voltage_diff=exploded_voltage.diff(axis=1)\n",
    "exploded_voltage_diff=exploded_voltage_diff.drop(columns=0,axis=1)"
   ]
  },
  {
   "cell_type": "code",
   "execution_count": 85,
   "metadata": {},
   "outputs": [
    {
     "data": {
      "text/plain": [
       "spotName    TimeStamp          \n",
       "60000_0_00  2019-11-07 12:29:06    8\n",
       "            2019-11-07 12:29:26    8\n",
       "            2019-11-07 12:29:26    7\n",
       "dtype: int64"
      ]
     },
     "execution_count": 85,
     "metadata": {},
     "output_type": "execute_result"
    }
   ],
   "source": [
    "exploded_voltage_diff.iloc[:3].apply(lambda x: x.gt(0).idxmin(),axis=1)"
   ]
  },
  {
   "cell_type": "code",
   "execution_count": 86,
   "metadata": {},
   "outputs": [],
   "source": [
    "exploded_voltage_diff[\"posizione\"]=exploded_voltage_diff.apply(lambda x: x.gt(0).idxmin(),axis=1)"
   ]
  },
  {
   "cell_type": "code",
   "execution_count": 87,
   "metadata": {},
   "outputs": [],
   "source": [
    "#(exploded_voltage_diff.iloc[:3].apply(lambda x: x[x.posizione:],axis=1))"
   ]
  },
  {
   "cell_type": "markdown",
   "metadata": {},
   "source": [
    "Non so come fare a rimuovere i primi n valori sulla base di posizione!!!!!\n",
    "\n",
    "--> faccio una media di posizione arrotondata per eccesso e rimuovo le prime x=media(posizione) colonne del dataframe."
   ]
  },
  {
   "cell_type": "code",
   "execution_count": 88,
   "metadata": {},
   "outputs": [],
   "source": [
    "#math.ceil(exploded_voltage_diff.posizione.mean())"
   ]
  },
  {
   "cell_type": "code",
   "execution_count": 89,
   "metadata": {},
   "outputs": [],
   "source": [
    "curve_ML=exploded_voltage.iloc[: , math.ceil(exploded_voltage_diff.posizione.mean()):]"
   ]
  },
  {
   "cell_type": "markdown",
   "metadata": {},
   "source": [
    "## Estrazione Caratteristiche curve Voltage\n",
    "Calcolo le caratteristiche delle curve su cui poi applicare algoritmi di ML:\n",
    "- Media, Max, Min, Range, Varianza, Derivata, Curtosi..."
   ]
  },
  {
   "cell_type": "code",
   "execution_count": 90,
   "metadata": {},
   "outputs": [],
   "source": [
    "curve_ML[\"media\"]=curve_ML.iloc[:,:616].apply(mean,axis=1)\n",
    "curve_ML[\"mediana\"]=curve_ML.iloc[:,:616].apply(lambda x : median(x[x.notna()]),axis=1)\n",
    "curve_ML[\"max\"]=curve_ML.iloc[:,:616].apply(max,axis=1)\n",
    "curve_ML[\"min\"]=curve_ML.iloc[:,:616].apply(min,axis=1)\n",
    "curve_ML[\"varianza\"]=curve_ML.iloc[:,:616].apply(var,axis=1)"
   ]
  },
  {
   "cell_type": "code",
   "execution_count": 91,
   "metadata": {},
   "outputs": [],
   "source": [
    "curve_ML[\"mediana\"]=curve_ML.iloc[:,:616].apply(lambda x : median(x[x.notna()]),axis=1)"
   ]
  },
  {
   "cell_type": "code",
   "execution_count": 92,
   "metadata": {},
   "outputs": [],
   "source": [
    "#lunghezza come numero di valori non Null\n",
    "curve_ML[\"lunghezza\"]=curve_ML.iloc[:,:616].apply(lambda x: len(x[x.notna()]),axis=1)"
   ]
  },
  {
   "cell_type": "code",
   "execution_count": 93,
   "metadata": {},
   "outputs": [],
   "source": [
    "#range intesa come max-min\n",
    "curve_ML[\"range\"]=curve_ML.iloc[:,:616].apply(lambda x: x.max()-x.min(),axis=1)"
   ]
  },
  {
   "cell_type": "code",
   "execution_count": 94,
   "metadata": {},
   "outputs": [],
   "source": [
    "#calcolo della derivata come delta(y)/delta(x): ovvero range/lunghezza lista\n",
    "curve_ML[\"derivata\"]=curve_ML.apply(lambda x: x.range/len(x[:616][x[:616].notna()]),axis=1)"
   ]
  },
  {
   "cell_type": "code",
   "execution_count": 95,
   "metadata": {},
   "outputs": [],
   "source": [
    "#curtosi\n",
    "curve_ML[\"kurtosis\"]=curve_ML.iloc[:,:616].apply(lambda x: kurtosis(x[x.notna()]),axis=1)"
   ]
  },
  {
   "cell_type": "code",
   "execution_count": 96,
   "metadata": {},
   "outputs": [
    {
     "data": {
      "text/html": [
       "<div>\n",
       "<style scoped>\n",
       "    .dataframe tbody tr th:only-of-type {\n",
       "        vertical-align: middle;\n",
       "    }\n",
       "\n",
       "    .dataframe tbody tr th {\n",
       "        vertical-align: top;\n",
       "    }\n",
       "\n",
       "    .dataframe thead th {\n",
       "        text-align: right;\n",
       "    }\n",
       "</style>\n",
       "<table border=\"1\" class=\"dataframe\">\n",
       "  <thead>\n",
       "    <tr style=\"text-align: right;\">\n",
       "      <th></th>\n",
       "      <th></th>\n",
       "      <th>media</th>\n",
       "      <th>mediana</th>\n",
       "      <th>max</th>\n",
       "      <th>min</th>\n",
       "      <th>varianza</th>\n",
       "      <th>lunghezza</th>\n",
       "      <th>range</th>\n",
       "      <th>derivata</th>\n",
       "      <th>kurtosis</th>\n",
       "    </tr>\n",
       "    <tr>\n",
       "      <th>spotName</th>\n",
       "      <th>TimeStamp</th>\n",
       "      <th></th>\n",
       "      <th></th>\n",
       "      <th></th>\n",
       "      <th></th>\n",
       "      <th></th>\n",
       "      <th></th>\n",
       "      <th></th>\n",
       "      <th></th>\n",
       "      <th></th>\n",
       "    </tr>\n",
       "  </thead>\n",
       "  <tbody>\n",
       "    <tr>\n",
       "      <th rowspan=\"5\" valign=\"top\">60000_0_00</th>\n",
       "      <th>2019-11-07 12:29:06</th>\n",
       "      <td>1475.613281</td>\n",
       "      <td>1249.0</td>\n",
       "      <td>2085.0</td>\n",
       "      <td>1199.0</td>\n",
       "      <td>106775.116074</td>\n",
       "      <td>512</td>\n",
       "      <td>886.0</td>\n",
       "      <td>1.730469</td>\n",
       "      <td>-1.339670</td>\n",
       "    </tr>\n",
       "    <tr>\n",
       "      <th>2019-11-07 12:29:26</th>\n",
       "      <td>1691.521635</td>\n",
       "      <td>1624.0</td>\n",
       "      <td>2180.0</td>\n",
       "      <td>1393.0</td>\n",
       "      <td>56225.182224</td>\n",
       "      <td>416</td>\n",
       "      <td>787.0</td>\n",
       "      <td>1.891827</td>\n",
       "      <td>-1.110572</td>\n",
       "    </tr>\n",
       "    <tr>\n",
       "      <th>2019-11-07 12:29:26</th>\n",
       "      <td>1683.105392</td>\n",
       "      <td>1622.0</td>\n",
       "      <td>2099.0</td>\n",
       "      <td>1383.0</td>\n",
       "      <td>47841.104089</td>\n",
       "      <td>408</td>\n",
       "      <td>716.0</td>\n",
       "      <td>1.754902</td>\n",
       "      <td>-1.325995</td>\n",
       "    </tr>\n",
       "    <tr>\n",
       "      <th>2019-11-07 12:29:30</th>\n",
       "      <td>1657.260143</td>\n",
       "      <td>1603.0</td>\n",
       "      <td>2129.0</td>\n",
       "      <td>1353.0</td>\n",
       "      <td>53271.247361</td>\n",
       "      <td>419</td>\n",
       "      <td>776.0</td>\n",
       "      <td>1.852029</td>\n",
       "      <td>-1.196977</td>\n",
       "    </tr>\n",
       "    <tr>\n",
       "      <th>2019-11-07 12:29:32</th>\n",
       "      <td>1696.208738</td>\n",
       "      <td>1639.5</td>\n",
       "      <td>2155.0</td>\n",
       "      <td>1399.0</td>\n",
       "      <td>51611.204001</td>\n",
       "      <td>412</td>\n",
       "      <td>756.0</td>\n",
       "      <td>1.834951</td>\n",
       "      <td>-1.182049</td>\n",
       "    </tr>\n",
       "  </tbody>\n",
       "</table>\n",
       "</div>"
      ],
      "text/plain": [
       "                                      media  mediana     max     min  \\\n",
       "spotName   TimeStamp                                                   \n",
       "60000_0_00 2019-11-07 12:29:06  1475.613281   1249.0  2085.0  1199.0   \n",
       "           2019-11-07 12:29:26  1691.521635   1624.0  2180.0  1393.0   \n",
       "           2019-11-07 12:29:26  1683.105392   1622.0  2099.0  1383.0   \n",
       "           2019-11-07 12:29:30  1657.260143   1603.0  2129.0  1353.0   \n",
       "           2019-11-07 12:29:32  1696.208738   1639.5  2155.0  1399.0   \n",
       "\n",
       "                                     varianza  lunghezza  range  derivata  \\\n",
       "spotName   TimeStamp                                                        \n",
       "60000_0_00 2019-11-07 12:29:06  106775.116074        512  886.0  1.730469   \n",
       "           2019-11-07 12:29:26   56225.182224        416  787.0  1.891827   \n",
       "           2019-11-07 12:29:26   47841.104089        408  716.0  1.754902   \n",
       "           2019-11-07 12:29:30   53271.247361        419  776.0  1.852029   \n",
       "           2019-11-07 12:29:32   51611.204001        412  756.0  1.834951   \n",
       "\n",
       "                                kurtosis  \n",
       "spotName   TimeStamp                      \n",
       "60000_0_00 2019-11-07 12:29:06 -1.339670  \n",
       "           2019-11-07 12:29:26 -1.110572  \n",
       "           2019-11-07 12:29:26 -1.325995  \n",
       "           2019-11-07 12:29:30 -1.196977  \n",
       "           2019-11-07 12:29:32 -1.182049  "
      ]
     },
     "execution_count": 96,
     "metadata": {},
     "output_type": "execute_result"
    }
   ],
   "source": [
    "final_ML=curve_ML.iloc[:,616:]\n",
    "final_ML.head()"
   ]
  },
  {
   "cell_type": "markdown",
   "metadata": {},
   "source": [
    "## Split train & test set\n",
    "Essendo un problema non supervisionato opero un random holdhout per la creazione di train e test set."
   ]
  },
  {
   "cell_type": "code",
   "execution_count": 102,
   "metadata": {},
   "outputs": [],
   "source": [
    "df_train, df_test=train_test_split(final_ML,train_size=0.8,shuffle=True,random_state=0)"
   ]
  },
  {
   "cell_type": "markdown",
   "metadata": {},
   "source": [
    "## Isolation Forest"
   ]
  },
  {
   "cell_type": "code",
   "execution_count": 104,
   "metadata": {},
   "outputs": [],
   "source": [
    "from sklearn.ensemble import IsolationForest"
   ]
  },
  {
   "cell_type": "code",
   "execution_count": 124,
   "metadata": {},
   "outputs": [
    {
     "name": "stderr",
     "output_type": "stream",
     "text": [
      "c:\\Users\\dvd_m\\anaconda3\\lib\\site-packages\\sklearn\\base.py:450: UserWarning: X does not have valid feature names, but IsolationForest was fitted with feature names\n",
      "  warnings.warn(\n"
     ]
    }
   ],
   "source": [
    "iso = IsolationForest(contamination=0.1)\n",
    "yhat_iForest = iso.fit_predict(df_train)"
   ]
  },
  {
   "cell_type": "markdown",
   "metadata": {},
   "source": [
    "## Aggiungo colonne delle varie yhat al df"
   ]
  },
  {
   "cell_type": "code",
   "execution_count": 129,
   "metadata": {},
   "outputs": [
    {
     "data": {
      "text/plain": [
       "113336"
      ]
     },
     "execution_count": 129,
     "metadata": {},
     "output_type": "execute_result"
    }
   ],
   "source": [
    "len(df_train)"
   ]
  },
  {
   "cell_type": "code",
   "execution_count": 114,
   "metadata": {},
   "outputs": [],
   "source": [
    "#df_train[\"iForest\"]=yhat_iForest"
   ]
  },
  {
   "cell_type": "code",
   "execution_count": 130,
   "metadata": {},
   "outputs": [],
   "source": [
    "#df_train[df_train[\"iForest\"]==-1]"
   ]
  },
  {
   "cell_type": "markdown",
   "metadata": {},
   "source": [
    "## Plot per valutare curve anomale"
   ]
  },
  {
   "cell_type": "code",
   "execution_count": null,
   "metadata": {},
   "outputs": [],
   "source": [
    "60180_0_00\t2020-02-25 17:09:03"
   ]
  },
  {
   "cell_type": "code",
   "execution_count": null,
   "metadata": {},
   "outputs": [
    {
     "name": "stderr",
     "output_type": "stream",
     "text": [
      "C:\\Users\\dvd_m\\AppData\\Local\\Temp/ipykernel_10540/380081191.py:1: PerformanceWarning: indexing past lexsort depth may impact performance.\n",
      "  curva=df.loc[('60180_0_00', '2020-02-25 17:09:03'), :].VoltageCurve\n"
     ]
    },
    {
     "data": {
      "text/plain": [
       "[<matplotlib.lines.Line2D at 0x213e405c4c0>]"
      ]
     },
     "metadata": {},
     "output_type": "display_data"
    },
    {
     "data": {
      "image/png": "[encoded data removed]",
      "text/plain": [
       "<Figure size 432x288 with 1 Axes>"
      ]
     },
     "metadata": {},
     "output_type": "display_data"
    }
   ],
   "source": [
    "curva=df.loc[('60180_0_00', '2020-02-25 17:09:03'), :].VoltageCurve\n",
    "plot(curva.values[0])"
   ]
  }
 ],
 "metadata": {
  "interpreter": {
   "hash": "483f5a6b43a3cd7963c5b202370231d608089097c1755e1e048d60a8aae317e5"
  },
  "kernelspec": {
   "display_name": "Python 3.9.7 ('base')",
   "language": "python",
   "name": "python3"
  },
  "language_info": {
   "codemirror_mode": {
    "name": "ipython",
    "version": 3
   },
   "file_extension": ".py",
   "mimetype": "text/x-python",
   "name": "python",
   "nbconvert_exporter": "python",
   "pygments_lexer": "ipython3",
   "version": "3.9.7"
  },
  "orig_nbformat": 4
 },
 "nbformat": 4,
 "nbformat_minor": 2
}
