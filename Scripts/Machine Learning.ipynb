{
 "cells": [
  {
   "cell_type": "code",
   "execution_count": 160,
   "metadata": {},
   "outputs": [],
   "source": [
    "import pandas as pd\n",
    "import numpy as np\n",
    "from pylab import *\n",
    "import scipy.stats as stats\n",
    "from scipy.stats import kurtosis"
   ]
  },
  {
   "cell_type": "code",
   "execution_count": 2,
   "metadata": {},
   "outputs": [
    {
     "data": {
      "text/html": [
       "<div>\n",
       "<style scoped>\n",
       "    .dataframe tbody tr th:only-of-type {\n",
       "        vertical-align: middle;\n",
       "    }\n",
       "\n",
       "    .dataframe tbody tr th {\n",
       "        vertical-align: top;\n",
       "    }\n",
       "\n",
       "    .dataframe thead th {\n",
       "        text-align: right;\n",
       "    }\n",
       "</style>\n",
       "<table border=\"1\" class=\"dataframe\">\n",
       "  <thead>\n",
       "    <tr style=\"text-align: right;\">\n",
       "      <th></th>\n",
       "      <th>VoltageCurve</th>\n",
       "      <th>CurrentCurve</th>\n",
       "      <th>spotName</th>\n",
       "    </tr>\n",
       "    <tr>\n",
       "      <th>TimeStamp</th>\n",
       "      <th></th>\n",
       "      <th></th>\n",
       "      <th></th>\n",
       "    </tr>\n",
       "  </thead>\n",
       "  <tbody>\n",
       "    <tr>\n",
       "      <th>2019-11-07 12:29:06</th>\n",
       "      <td>[132, 744, 1299, 1663, 1894, 2002, 2068, 2110,...</td>\n",
       "      <td>[311, 1990, 3577, 4759, 5599, 6190, 6594, 6999...</td>\n",
       "      <td>60000_0_00</td>\n",
       "    </tr>\n",
       "    <tr>\n",
       "      <th>2019-11-07 12:29:26</th>\n",
       "      <td>[136, 752, 1308, 1675, 1923, 2068, 2128, 2180,...</td>\n",
       "      <td>[301, 1961, 3470, 4527, 5432, 6066, 6489, 6911...</td>\n",
       "      <td>60000_0_00</td>\n",
       "    </tr>\n",
       "    <tr>\n",
       "      <th>2019-11-07 12:29:26</th>\n",
       "      <td>[139, 757, 1292, 1655, 1885, 2042, 2099, 2099,...</td>\n",
       "      <td>[333, 2058, 3663, 4814, 5661, 6388, 6842, 7084...</td>\n",
       "      <td>60000_0_00</td>\n",
       "    </tr>\n",
       "    <tr>\n",
       "      <th>2019-11-07 12:29:30</th>\n",
       "      <td>[133, 743, 1286, 1645, 1887, 2046, 2104, 2104,...</td>\n",
       "      <td>[307, 2031, 3632, 4802, 5695, 6434, 6865, 7142...</td>\n",
       "      <td>60000_0_00</td>\n",
       "    </tr>\n",
       "    <tr>\n",
       "      <th>2019-11-07 12:29:32</th>\n",
       "      <td>[137, 755, 1313, 1683, 1906, 2043, 2147, 2189,...</td>\n",
       "      <td>[302, 1995, 3508, 4596, 5382, 5987, 6562, 6955...</td>\n",
       "      <td>60000_0_00</td>\n",
       "    </tr>\n",
       "  </tbody>\n",
       "</table>\n",
       "</div>"
      ],
      "text/plain": [
       "                                                          VoltageCurve  \\\n",
       "TimeStamp                                                                \n",
       "2019-11-07 12:29:06  [132, 744, 1299, 1663, 1894, 2002, 2068, 2110,...   \n",
       "2019-11-07 12:29:26  [136, 752, 1308, 1675, 1923, 2068, 2128, 2180,...   \n",
       "2019-11-07 12:29:26  [139, 757, 1292, 1655, 1885, 2042, 2099, 2099,...   \n",
       "2019-11-07 12:29:30  [133, 743, 1286, 1645, 1887, 2046, 2104, 2104,...   \n",
       "2019-11-07 12:29:32  [137, 755, 1313, 1683, 1906, 2043, 2147, 2189,...   \n",
       "\n",
       "                                                          CurrentCurve  \\\n",
       "TimeStamp                                                                \n",
       "2019-11-07 12:29:06  [311, 1990, 3577, 4759, 5599, 6190, 6594, 6999...   \n",
       "2019-11-07 12:29:26  [301, 1961, 3470, 4527, 5432, 6066, 6489, 6911...   \n",
       "2019-11-07 12:29:26  [333, 2058, 3663, 4814, 5661, 6388, 6842, 7084...   \n",
       "2019-11-07 12:29:30  [307, 2031, 3632, 4802, 5695, 6434, 6865, 7142...   \n",
       "2019-11-07 12:29:32  [302, 1995, 3508, 4596, 5382, 5987, 6562, 6955...   \n",
       "\n",
       "                       spotName  \n",
       "TimeStamp                        \n",
       "2019-11-07 12:29:06  60000_0_00  \n",
       "2019-11-07 12:29:26  60000_0_00  \n",
       "2019-11-07 12:29:26  60000_0_00  \n",
       "2019-11-07 12:29:30  60000_0_00  \n",
       "2019-11-07 12:29:32  60000_0_00  "
      ]
     },
     "execution_count": 2,
     "metadata": {},
     "output_type": "execute_result"
    }
   ],
   "source": [
    "df= pd.read_pickle(\"../data/clean_rows_df.pkl\")  \n",
    "df.head()"
   ]
  },
  {
   "cell_type": "code",
   "execution_count": 3,
   "metadata": {},
   "outputs": [],
   "source": [
    "df.reset_index(inplace=True)\n",
    "df.set_index([\"spotName\",\"TimeStamp\"],inplace=True)"
   ]
  },
  {
   "cell_type": "code",
   "execution_count": 4,
   "metadata": {},
   "outputs": [],
   "source": [
    "exploded_voltage=pd.DataFrame(df.VoltageCurve.tolist(), index= df.index)"
   ]
  },
  {
   "cell_type": "code",
   "execution_count": 6,
   "metadata": {},
   "outputs": [],
   "source": [
    "curva=exploded_voltage.iloc[1]\n",
    "#curva=curva[pd.notnull(curva)]"
   ]
  },
  {
   "cell_type": "markdown",
   "metadata": {},
   "source": [
    "indice del primo valore per cui l'inclinazione della curva inizia a diventare negativa\n",
    "Escludere i valori precedenti a questo indice per analizzare la curva"
   ]
  },
  {
   "cell_type": "code",
   "execution_count": 7,
   "metadata": {},
   "outputs": [],
   "source": [
    "#indice del primo valore per cui l'inclinazione della curva diventa negativa\n",
    "#position=curva.diff()[curva.diff()==next(x for x in curva.diff() if x < 0)].index[0]\n",
    "#curva_new è la curva senza il primo picco\n",
    "#curva_new=curva.iloc[position:]\n",
    "#plot(curva_new)"
   ]
  },
  {
   "cell_type": "code",
   "execution_count": 14,
   "metadata": {},
   "outputs": [],
   "source": [
    "exploded_voltage_diff=exploded_voltage.diff(axis=1)\n",
    "exploded_voltage_diff=exploded_voltage_diff.drop(columns=0,axis=1)"
   ]
  },
  {
   "cell_type": "code",
   "execution_count": 15,
   "metadata": {},
   "outputs": [
    {
     "data": {
      "text/plain": [
       "spotName    TimeStamp          \n",
       "60000_0_00  2019-11-07 12:29:06    8\n",
       "            2019-11-07 12:29:26    8\n",
       "            2019-11-07 12:29:26    7\n",
       "dtype: int64"
      ]
     },
     "execution_count": 15,
     "metadata": {},
     "output_type": "execute_result"
    }
   ],
   "source": [
    "exploded_voltage_diff.iloc[:3].apply(lambda x: x.gt(0).idxmin(),axis=1)"
   ]
  },
  {
   "cell_type": "code",
   "execution_count": 16,
   "metadata": {},
   "outputs": [],
   "source": [
    "exploded_voltage_diff[\"posizione\"]=exploded_voltage_diff.apply(lambda x: x.gt(0).idxmin(),axis=1)"
   ]
  },
  {
   "cell_type": "code",
   "execution_count": 65,
   "metadata": {},
   "outputs": [
    {
     "data": {
      "text/html": [
       "<div>\n",
       "<style scoped>\n",
       "    .dataframe tbody tr th:only-of-type {\n",
       "        vertical-align: middle;\n",
       "    }\n",
       "\n",
       "    .dataframe tbody tr th {\n",
       "        vertical-align: top;\n",
       "    }\n",
       "\n",
       "    .dataframe thead th {\n",
       "        text-align: right;\n",
       "    }\n",
       "</style>\n",
       "<table border=\"1\" class=\"dataframe\">\n",
       "  <thead>\n",
       "    <tr style=\"text-align: right;\">\n",
       "      <th></th>\n",
       "      <th></th>\n",
       "      <th>8</th>\n",
       "      <th>9</th>\n",
       "      <th>10</th>\n",
       "      <th>11</th>\n",
       "      <th>12</th>\n",
       "      <th>13</th>\n",
       "      <th>14</th>\n",
       "      <th>15</th>\n",
       "      <th>16</th>\n",
       "      <th>17</th>\n",
       "      <th>...</th>\n",
       "      <th>616</th>\n",
       "      <th>617</th>\n",
       "      <th>618</th>\n",
       "      <th>619</th>\n",
       "      <th>620</th>\n",
       "      <th>621</th>\n",
       "      <th>622</th>\n",
       "      <th>623</th>\n",
       "      <th>posizione</th>\n",
       "      <th>7</th>\n",
       "    </tr>\n",
       "    <tr>\n",
       "      <th>spotName</th>\n",
       "      <th>TimeStamp</th>\n",
       "      <th></th>\n",
       "      <th></th>\n",
       "      <th></th>\n",
       "      <th></th>\n",
       "      <th></th>\n",
       "      <th></th>\n",
       "      <th></th>\n",
       "      <th></th>\n",
       "      <th></th>\n",
       "      <th></th>\n",
       "      <th></th>\n",
       "      <th></th>\n",
       "      <th></th>\n",
       "      <th></th>\n",
       "      <th></th>\n",
       "      <th></th>\n",
       "      <th></th>\n",
       "      <th></th>\n",
       "      <th></th>\n",
       "      <th></th>\n",
       "      <th></th>\n",
       "    </tr>\n",
       "  </thead>\n",
       "  <tbody>\n",
       "    <tr>\n",
       "      <th rowspan=\"3\" valign=\"top\">60000_0_00</th>\n",
       "      <th>2019-11-07 12:29:06</th>\n",
       "      <td>-34.0</td>\n",
       "      <td>-41.0</td>\n",
       "      <td>-17.0</td>\n",
       "      <td>-41.0</td>\n",
       "      <td>-41.0</td>\n",
       "      <td>8.0</td>\n",
       "      <td>-8.0</td>\n",
       "      <td>-17.0</td>\n",
       "      <td>17.0</td>\n",
       "      <td>16.0</td>\n",
       "      <td>...</td>\n",
       "      <td>NaN</td>\n",
       "      <td>NaN</td>\n",
       "      <td>NaN</td>\n",
       "      <td>NaN</td>\n",
       "      <td>NaN</td>\n",
       "      <td>NaN</td>\n",
       "      <td>NaN</td>\n",
       "      <td>NaN</td>\n",
       "      <td>8.0</td>\n",
       "      <td>NaN</td>\n",
       "    </tr>\n",
       "    <tr>\n",
       "      <th>2019-11-07 12:29:26</th>\n",
       "      <td>0.0</td>\n",
       "      <td>-77.0</td>\n",
       "      <td>-35.0</td>\n",
       "      <td>9.0</td>\n",
       "      <td>-34.0</td>\n",
       "      <td>-26.0</td>\n",
       "      <td>34.0</td>\n",
       "      <td>17.0</td>\n",
       "      <td>-17.0</td>\n",
       "      <td>17.0</td>\n",
       "      <td>...</td>\n",
       "      <td>NaN</td>\n",
       "      <td>NaN</td>\n",
       "      <td>NaN</td>\n",
       "      <td>NaN</td>\n",
       "      <td>NaN</td>\n",
       "      <td>NaN</td>\n",
       "      <td>NaN</td>\n",
       "      <td>NaN</td>\n",
       "      <td>8.0</td>\n",
       "      <td>NaN</td>\n",
       "    </tr>\n",
       "    <tr>\n",
       "      <th>2019-11-07 12:29:26</th>\n",
       "      <td>0.0</td>\n",
       "      <td>-32.0</td>\n",
       "      <td>-58.0</td>\n",
       "      <td>-41.0</td>\n",
       "      <td>-9.0</td>\n",
       "      <td>-41.0</td>\n",
       "      <td>9.0</td>\n",
       "      <td>16.0</td>\n",
       "      <td>-41.0</td>\n",
       "      <td>-8.0</td>\n",
       "      <td>...</td>\n",
       "      <td>NaN</td>\n",
       "      <td>NaN</td>\n",
       "      <td>NaN</td>\n",
       "      <td>NaN</td>\n",
       "      <td>NaN</td>\n",
       "      <td>NaN</td>\n",
       "      <td>NaN</td>\n",
       "      <td>NaN</td>\n",
       "      <td>7.0</td>\n",
       "      <td>0.0</td>\n",
       "    </tr>\n",
       "  </tbody>\n",
       "</table>\n",
       "<p>3 rows × 618 columns</p>\n",
       "</div>"
      ],
      "text/plain": [
       "                                   8     9    10    11    12    13    14  \\\n",
       "spotName   TimeStamp                                                       \n",
       "60000_0_00 2019-11-07 12:29:06 -34.0 -41.0 -17.0 -41.0 -41.0   8.0  -8.0   \n",
       "           2019-11-07 12:29:26   0.0 -77.0 -35.0   9.0 -34.0 -26.0  34.0   \n",
       "           2019-11-07 12:29:26   0.0 -32.0 -58.0 -41.0  -9.0 -41.0   9.0   \n",
       "\n",
       "                                  15    16    17  ...  616  617  618  619  \\\n",
       "spotName   TimeStamp                              ...                       \n",
       "60000_0_00 2019-11-07 12:29:06 -17.0  17.0  16.0  ...  NaN  NaN  NaN  NaN   \n",
       "           2019-11-07 12:29:26  17.0 -17.0  17.0  ...  NaN  NaN  NaN  NaN   \n",
       "           2019-11-07 12:29:26  16.0 -41.0  -8.0  ...  NaN  NaN  NaN  NaN   \n",
       "\n",
       "                                620  621  622  623  posizione    7  \n",
       "spotName   TimeStamp                                                \n",
       "60000_0_00 2019-11-07 12:29:06  NaN  NaN  NaN  NaN        8.0  NaN  \n",
       "           2019-11-07 12:29:26  NaN  NaN  NaN  NaN        8.0  NaN  \n",
       "           2019-11-07 12:29:26  NaN  NaN  NaN  NaN        7.0  0.0  \n",
       "\n",
       "[3 rows x 618 columns]"
      ]
     },
     "execution_count": 65,
     "metadata": {},
     "output_type": "execute_result"
    }
   ],
   "source": [
    "(exploded_voltage_diff.iloc[:3].apply(lambda x: x[x.posizione:],axis=1))"
   ]
  },
  {
   "cell_type": "markdown",
   "metadata": {},
   "source": [
    "Non so come fare a rimuovere i primi n valori sulla base di posizione!!!!!\n",
    "\n",
    "--> faccio una media di posizione arrotondata per eccesso e rimuovo le prime x=media(posizione) colonne del dataframe."
   ]
  },
  {
   "cell_type": "code",
   "execution_count": 75,
   "metadata": {},
   "outputs": [
    {
     "data": {
      "text/plain": [
       "8"
      ]
     },
     "execution_count": 75,
     "metadata": {},
     "output_type": "execute_result"
    }
   ],
   "source": [
    "math.ceil(exploded_voltage_diff.posizione.mean())"
   ]
  },
  {
   "cell_type": "code",
   "execution_count": 73,
   "metadata": {},
   "outputs": [],
   "source": [
    "curve_ML=exploded_voltage.iloc[: , math.ceil(exploded_voltage_diff.posizione.mean()):]"
   ]
  },
  {
   "cell_type": "markdown",
   "metadata": {},
   "source": [
    "Calcolo le caratteristiche delle curve su cui poi applicare algoritmi di ML:\n",
    "- Media, Max, Min, Range, Varianza, Derivata, Curtosi..."
   ]
  },
  {
   "cell_type": "code",
   "execution_count": 187,
   "metadata": {},
   "outputs": [],
   "source": [
    "curve_ML[\"media\"]=curve_ML.iloc[:,:616].apply(mean,axis=1)\n",
    "curve_ML[\"mediana\"]=curve_ML.iloc[:,:616].apply(lambda x : median(x[x.notna()]),axis=1)\n",
    "curve_ML[\"max\"]=curve_ML.iloc[:,:616].apply(max,axis=1)\n",
    "curve_ML[\"min\"]=curve_ML.iloc[:,:616].apply(min,axis=1)\n",
    "curve_ML[\"varianza\"]=curve_ML.iloc[:,:616].apply(var,axis=1)"
   ]
  },
  {
   "cell_type": "code",
   "execution_count": 193,
   "metadata": {},
   "outputs": [
    {
     "name": "stderr",
     "output_type": "stream",
     "text": [
      "c:\\Users\\dvd_m\\anaconda3\\lib\\site-packages\\numpy\\core\\fromnumeric.py:3419: RuntimeWarning: Mean of empty slice.\n",
      "  return _methods._mean(a, axis=axis, dtype=dtype,\n",
      "c:\\Users\\dvd_m\\anaconda3\\lib\\site-packages\\numpy\\core\\_methods.py:188: RuntimeWarning: invalid value encountered in double_scalars\n",
      "  ret = ret.dtype.type(ret / rcount)\n"
     ]
    }
   ],
   "source": [
    "curve_ML[\"mediana\"]=curve_ML.iloc[:,:616].apply(lambda x : median(x[x.notna()]),axis=1)"
   ]
  },
  {
   "cell_type": "code",
   "execution_count": 190,
   "metadata": {},
   "outputs": [],
   "source": [
    "#lunghezza come numero di valori non Null\n",
    "curve_ML[\"lunghezza\"]=curve_ML.iloc[:,:616].apply(lambda x: len(x[x.notna()]),axis=1)"
   ]
  },
  {
   "cell_type": "code",
   "execution_count": 188,
   "metadata": {},
   "outputs": [],
   "source": [
    "#range intesa come max-min\n",
    "curve_ML[\"range\"]=curve_ML.iloc[:,:616].apply(lambda x: x.max()-x.min(),axis=1)"
   ]
  },
  {
   "cell_type": "code",
   "execution_count": 189,
   "metadata": {},
   "outputs": [],
   "source": [
    "#calcolo della derivata come delta(y)/delta(x): ovvero range/lunghezza lista\n",
    "curve_ML[\"derivata\"]=curve_ML.apply(lambda x: x.range/len(x[:616][x[:616].notna()]),axis=1)"
   ]
  },
  {
   "cell_type": "code",
   "execution_count": 171,
   "metadata": {},
   "outputs": [
    {
     "name": "stderr",
     "output_type": "stream",
     "text": [
      "c:\\Users\\dvd_m\\anaconda3\\lib\\site-packages\\scipy\\stats\\stats.py:1216: RuntimeWarning: Mean of empty slice.\n",
      "  mean = a.mean(axis, keepdims=True)\n",
      "c:\\Users\\dvd_m\\anaconda3\\lib\\site-packages\\numpy\\core\\_methods.py:180: RuntimeWarning: invalid value encountered in true_divide\n",
      "  ret = um.true_divide(\n",
      "c:\\Users\\dvd_m\\anaconda3\\lib\\site-packages\\numpy\\core\\fromnumeric.py:3419: RuntimeWarning: Mean of empty slice.\n",
      "  return _methods._mean(a, axis=axis, dtype=dtype,\n",
      "c:\\Users\\dvd_m\\anaconda3\\lib\\site-packages\\numpy\\core\\_methods.py:188: RuntimeWarning: invalid value encountered in double_scalars\n",
      "  ret = ret.dtype.type(ret / rcount)\n"
     ]
    }
   ],
   "source": [
    "#curtosi\n",
    "curve_ML[\"kurtosis\"]=curve_ML.iloc[:,:616].apply(lambda x: kurtosis(x[x.notna()]),axis=1)"
   ]
  },
  {
   "cell_type": "code",
   "execution_count": 194,
   "metadata": {},
   "outputs": [
    {
     "data": {
      "text/html": [
       "<div>\n",
       "<style scoped>\n",
       "    .dataframe tbody tr th:only-of-type {\n",
       "        vertical-align: middle;\n",
       "    }\n",
       "\n",
       "    .dataframe tbody tr th {\n",
       "        vertical-align: top;\n",
       "    }\n",
       "\n",
       "    .dataframe thead th {\n",
       "        text-align: right;\n",
       "    }\n",
       "</style>\n",
       "<table border=\"1\" class=\"dataframe\">\n",
       "  <thead>\n",
       "    <tr style=\"text-align: right;\">\n",
       "      <th></th>\n",
       "      <th></th>\n",
       "      <th>media</th>\n",
       "      <th>max</th>\n",
       "      <th>min</th>\n",
       "      <th>range</th>\n",
       "      <th>derivative</th>\n",
       "      <th>lunghezza</th>\n",
       "      <th>kurtosis</th>\n",
       "      <th>varianza</th>\n",
       "      <th>mediana</th>\n",
       "      <th>derivata</th>\n",
       "    </tr>\n",
       "    <tr>\n",
       "      <th>spotName</th>\n",
       "      <th>TimeStamp</th>\n",
       "      <th></th>\n",
       "      <th></th>\n",
       "      <th></th>\n",
       "      <th></th>\n",
       "      <th></th>\n",
       "      <th></th>\n",
       "      <th></th>\n",
       "      <th></th>\n",
       "      <th></th>\n",
       "      <th></th>\n",
       "    </tr>\n",
       "  </thead>\n",
       "  <tbody>\n",
       "    <tr>\n",
       "      <th rowspan=\"5\" valign=\"top\">60000_0_00</th>\n",
       "      <th>2019-11-07 12:29:06</th>\n",
       "      <td>1475.613281</td>\n",
       "      <td>2085.0</td>\n",
       "      <td>1199.0</td>\n",
       "      <td>886.0</td>\n",
       "      <td>1.730469</td>\n",
       "      <td>512</td>\n",
       "      <td>-1.339670</td>\n",
       "      <td>106775.116074</td>\n",
       "      <td>1249.0</td>\n",
       "      <td>1.730469</td>\n",
       "    </tr>\n",
       "    <tr>\n",
       "      <th>2019-11-07 12:29:26</th>\n",
       "      <td>1691.521635</td>\n",
       "      <td>2180.0</td>\n",
       "      <td>1393.0</td>\n",
       "      <td>787.0</td>\n",
       "      <td>1.891827</td>\n",
       "      <td>416</td>\n",
       "      <td>-1.110572</td>\n",
       "      <td>56225.182224</td>\n",
       "      <td>1624.0</td>\n",
       "      <td>1.891827</td>\n",
       "    </tr>\n",
       "    <tr>\n",
       "      <th>2019-11-07 12:29:26</th>\n",
       "      <td>1683.105392</td>\n",
       "      <td>2099.0</td>\n",
       "      <td>1383.0</td>\n",
       "      <td>716.0</td>\n",
       "      <td>1.754902</td>\n",
       "      <td>408</td>\n",
       "      <td>-1.325995</td>\n",
       "      <td>47841.104089</td>\n",
       "      <td>1622.0</td>\n",
       "      <td>1.754902</td>\n",
       "    </tr>\n",
       "    <tr>\n",
       "      <th>2019-11-07 12:29:30</th>\n",
       "      <td>1657.260143</td>\n",
       "      <td>2129.0</td>\n",
       "      <td>1353.0</td>\n",
       "      <td>776.0</td>\n",
       "      <td>1.852029</td>\n",
       "      <td>419</td>\n",
       "      <td>-1.196977</td>\n",
       "      <td>53271.247361</td>\n",
       "      <td>1603.0</td>\n",
       "      <td>1.852029</td>\n",
       "    </tr>\n",
       "    <tr>\n",
       "      <th>2019-11-07 12:29:32</th>\n",
       "      <td>1696.208738</td>\n",
       "      <td>2155.0</td>\n",
       "      <td>1399.0</td>\n",
       "      <td>756.0</td>\n",
       "      <td>1.834951</td>\n",
       "      <td>412</td>\n",
       "      <td>-1.182049</td>\n",
       "      <td>51611.204001</td>\n",
       "      <td>1639.5</td>\n",
       "      <td>1.834951</td>\n",
       "    </tr>\n",
       "  </tbody>\n",
       "</table>\n",
       "</div>"
      ],
      "text/plain": [
       "                                      media     max     min  range  \\\n",
       "spotName   TimeStamp                                                 \n",
       "60000_0_00 2019-11-07 12:29:06  1475.613281  2085.0  1199.0  886.0   \n",
       "           2019-11-07 12:29:26  1691.521635  2180.0  1393.0  787.0   \n",
       "           2019-11-07 12:29:26  1683.105392  2099.0  1383.0  716.0   \n",
       "           2019-11-07 12:29:30  1657.260143  2129.0  1353.0  776.0   \n",
       "           2019-11-07 12:29:32  1696.208738  2155.0  1399.0  756.0   \n",
       "\n",
       "                                derivative  lunghezza  kurtosis  \\\n",
       "spotName   TimeStamp                                              \n",
       "60000_0_00 2019-11-07 12:29:06    1.730469        512 -1.339670   \n",
       "           2019-11-07 12:29:26    1.891827        416 -1.110572   \n",
       "           2019-11-07 12:29:26    1.754902        408 -1.325995   \n",
       "           2019-11-07 12:29:30    1.852029        419 -1.196977   \n",
       "           2019-11-07 12:29:32    1.834951        412 -1.182049   \n",
       "\n",
       "                                     varianza  mediana  derivata  \n",
       "spotName   TimeStamp                                              \n",
       "60000_0_00 2019-11-07 12:29:06  106775.116074   1249.0  1.730469  \n",
       "           2019-11-07 12:29:26   56225.182224   1624.0  1.891827  \n",
       "           2019-11-07 12:29:26   47841.104089   1622.0  1.754902  \n",
       "           2019-11-07 12:29:30   53271.247361   1603.0  1.852029  \n",
       "           2019-11-07 12:29:32   51611.204001   1639.5  1.834951  "
      ]
     },
     "execution_count": 194,
     "metadata": {},
     "output_type": "execute_result"
    }
   ],
   "source": [
    "final_ML=curve_ML.iloc[:,616:]\n",
    "final_ML.head()"
   ]
  },
  {
   "cell_type": "markdown",
   "metadata": {},
   "source": [
    "Plot sulla base di spot e datetime"
   ]
  },
  {
   "cell_type": "code",
   "execution_count": null,
   "metadata": {},
   "outputs": [],
   "source": [
    "60074_0_00\t2019-11-08 17:51:29"
   ]
  },
  {
   "cell_type": "code",
   "execution_count": 174,
   "metadata": {},
   "outputs": [
    {
     "name": "stderr",
     "output_type": "stream",
     "text": [
      "C:\\Users\\dvd_m\\AppData\\Local\\Temp/ipykernel_3040/3030516330.py:1: PerformanceWarning: indexing past lexsort depth may impact performance.\n",
      "  curva=curve_ML.loc[('60074_0_00', '2019-11-08 17:51:29'), :].iloc[:,:616]\n"
     ]
    },
    {
     "data": {
      "text/plain": [
       "[<matplotlib.lines.Line2D at 0x1771d6b9df0>]"
      ]
     },
     "execution_count": 174,
     "metadata": {},
     "output_type": "execute_result"
    },
    {
     "data": {
      "image/png": "[encoded data removed]",
      "text/plain": [
       "<Figure size 432x288 with 1 Axes>"
      ]
     },
     "metadata": {
      "needs_background": "light"
     },
     "output_type": "display_data"
    }
   ],
   "source": [
    "curva=curve_ML.loc[('60074_0_00', '2019-11-08 17:51:29'), :].iloc[:,:616]\n",
    "plot(curva.values[0])"
   ]
  }
 ],
 "metadata": {
  "interpreter": {
   "hash": "483f5a6b43a3cd7963c5b202370231d608089097c1755e1e048d60a8aae317e5"
  },
  "kernelspec": {
   "display_name": "Python 3.9.7 ('base')",
   "language": "python",
   "name": "python3"
  },
  "language_info": {
   "codemirror_mode": {
    "name": "ipython",
    "version": 3
   },
   "file_extension": ".py",
   "mimetype": "text/x-python",
   "name": "python",
   "nbconvert_exporter": "python",
   "pygments_lexer": "ipython3",
   "version": "3.9.7"
  },
  "orig_nbformat": 4
 },
 "nbformat": 4,
 "nbformat_minor": 2
}
