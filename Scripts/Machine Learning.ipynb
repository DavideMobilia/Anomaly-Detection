{
 "cells": [
  {
   "cell_type": "code",
   "execution_count": 1,
   "metadata": {},
   "outputs": [],
   "source": [
    "import pandas as pd\n",
    "import numpy as np\n",
    "from pylab import *\n",
    "import scipy.stats as stats\n",
    "from scipy.stats import kurtosis\n",
    "from sklearn.model_selection import train_test_split\n",
    "import seaborn as sns\n",
    "from sklearn.covariance import EllipticEnvelope\n",
    "import shap\n",
    "from sklearn.ensemble import IsolationForest"
   ]
  },
  {
   "cell_type": "code",
   "execution_count": 2,
   "metadata": {},
   "outputs": [
    {
     "data": {
      "text/html": [
       "<div>\n",
       "<style scoped>\n",
       "    .dataframe tbody tr th:only-of-type {\n",
       "        vertical-align: middle;\n",
       "    }\n",
       "\n",
       "    .dataframe tbody tr th {\n",
       "        vertical-align: top;\n",
       "    }\n",
       "\n",
       "    .dataframe thead th {\n",
       "        text-align: right;\n",
       "    }\n",
       "</style>\n",
       "<table border=\"1\" class=\"dataframe\">\n",
       "  <thead>\n",
       "    <tr style=\"text-align: right;\">\n",
       "      <th></th>\n",
       "      <th>VoltageCurve</th>\n",
       "      <th>CurrentCurve</th>\n",
       "      <th>spotName</th>\n",
       "      <th>TimeStamp</th>\n",
       "    </tr>\n",
       "  </thead>\n",
       "  <tbody>\n",
       "    <tr>\n",
       "      <th>494</th>\n",
       "      <td>[132, 744, 1299, 1663, 1894, 2002, 2068, 2110,...</td>\n",
       "      <td>[311, 1990, 3577, 4759, 5599, 6190, 6594, 6999...</td>\n",
       "      <td>60000_0_00</td>\n",
       "      <td>2019-11-07 12:29:06</td>\n",
       "    </tr>\n",
       "    <tr>\n",
       "      <th>2439</th>\n",
       "      <td>[136, 752, 1308, 1675, 1923, 2068, 2128, 2180,...</td>\n",
       "      <td>[301, 1961, 3470, 4527, 5432, 6066, 6489, 6911...</td>\n",
       "      <td>60000_0_00</td>\n",
       "      <td>2019-11-07 12:29:26</td>\n",
       "    </tr>\n",
       "    <tr>\n",
       "      <th>2515</th>\n",
       "      <td>[139, 757, 1292, 1655, 1885, 2042, 2099, 2099,...</td>\n",
       "      <td>[333, 2058, 3663, 4814, 5661, 6388, 6842, 7084...</td>\n",
       "      <td>60000_0_00</td>\n",
       "      <td>2019-11-07 12:29:26</td>\n",
       "    </tr>\n",
       "    <tr>\n",
       "      <th>2935</th>\n",
       "      <td>[133, 743, 1286, 1645, 1887, 2046, 2104, 2104,...</td>\n",
       "      <td>[307, 2031, 3632, 4802, 5695, 6434, 6865, 7142...</td>\n",
       "      <td>60000_0_00</td>\n",
       "      <td>2019-11-07 12:29:30</td>\n",
       "    </tr>\n",
       "    <tr>\n",
       "      <th>3239</th>\n",
       "      <td>[137, 755, 1313, 1683, 1906, 2043, 2147, 2189,...</td>\n",
       "      <td>[302, 1995, 3508, 4596, 5382, 5987, 6562, 6955...</td>\n",
       "      <td>60000_0_00</td>\n",
       "      <td>2019-11-07 12:29:32</td>\n",
       "    </tr>\n",
       "  </tbody>\n",
       "</table>\n",
       "</div>"
      ],
      "text/plain": [
       "                                           VoltageCurve  \\\n",
       "494   [132, 744, 1299, 1663, 1894, 2002, 2068, 2110,...   \n",
       "2439  [136, 752, 1308, 1675, 1923, 2068, 2128, 2180,...   \n",
       "2515  [139, 757, 1292, 1655, 1885, 2042, 2099, 2099,...   \n",
       "2935  [133, 743, 1286, 1645, 1887, 2046, 2104, 2104,...   \n",
       "3239  [137, 755, 1313, 1683, 1906, 2043, 2147, 2189,...   \n",
       "\n",
       "                                           CurrentCurve    spotName  \\\n",
       "494   [311, 1990, 3577, 4759, 5599, 6190, 6594, 6999...  60000_0_00   \n",
       "2439  [301, 1961, 3470, 4527, 5432, 6066, 6489, 6911...  60000_0_00   \n",
       "2515  [333, 2058, 3663, 4814, 5661, 6388, 6842, 7084...  60000_0_00   \n",
       "2935  [307, 2031, 3632, 4802, 5695, 6434, 6865, 7142...  60000_0_00   \n",
       "3239  [302, 1995, 3508, 4596, 5382, 5987, 6562, 6955...  60000_0_00   \n",
       "\n",
       "               TimeStamp  \n",
       "494  2019-11-07 12:29:06  \n",
       "2439 2019-11-07 12:29:26  \n",
       "2515 2019-11-07 12:29:26  \n",
       "2935 2019-11-07 12:29:30  \n",
       "3239 2019-11-07 12:29:32  "
      ]
     },
     "execution_count": 2,
     "metadata": {},
     "output_type": "execute_result"
    }
   ],
   "source": [
    "df= pd.read_pickle(\"../data/clean_rows_df.pkl\")  \n",
    "df.head()"
   ]
  },
  {
   "cell_type": "code",
   "execution_count": 3,
   "metadata": {},
   "outputs": [],
   "source": [
    "df.reset_index(inplace=True)\n",
    "df.set_index([\"spotName\",\"TimeStamp\"],inplace=True)"
   ]
  },
  {
   "cell_type": "markdown",
   "metadata": {},
   "source": [
    "# ML su Voltage Curve"
   ]
  },
  {
   "cell_type": "code",
   "execution_count": 82,
   "metadata": {},
   "outputs": [],
   "source": [
    "exploded_voltage=pd.DataFrame(df.VoltageCurve.tolist(), index= df.index)"
   ]
  },
  {
   "cell_type": "markdown",
   "metadata": {},
   "source": [
    "indice del primo valore per cui l'inclinazione della curva inizia a diventare negativa\n",
    "Escludere i valori precedenti a questo indice per analizzare la curva"
   ]
  },
  {
   "cell_type": "code",
   "execution_count": 83,
   "metadata": {},
   "outputs": [],
   "source": [
    "#indice del primo valore per cui l'inclinazione della curva diventa negativa\n",
    "#position=curva.diff()[curva.diff()==next(x for x in curva.diff() if x < 0)].index[0]\n",
    "#curva_new è la curva senza il primo picco\n",
    "#curva_new=curva.iloc[position:]\n",
    "#plot(curva_new)"
   ]
  },
  {
   "cell_type": "code",
   "execution_count": 84,
   "metadata": {},
   "outputs": [],
   "source": [
    "exploded_voltage_diff=exploded_voltage.diff(axis=1)\n",
    "exploded_voltage_diff=exploded_voltage_diff.drop(columns=0,axis=1)"
   ]
  },
  {
   "cell_type": "code",
   "execution_count": 85,
   "metadata": {},
   "outputs": [
    {
     "data": {
      "text/plain": [
       "spotName    TimeStamp          \n",
       "60000_0_00  2019-11-07 12:29:06    8\n",
       "            2019-11-07 12:29:26    8\n",
       "            2019-11-07 12:29:26    7\n",
       "dtype: int64"
      ]
     },
     "execution_count": 85,
     "metadata": {},
     "output_type": "execute_result"
    }
   ],
   "source": [
    "exploded_voltage_diff.iloc[:3].apply(lambda x: x.gt(0).idxmin(),axis=1)"
   ]
  },
  {
   "cell_type": "code",
   "execution_count": 86,
   "metadata": {},
   "outputs": [],
   "source": [
    "exploded_voltage_diff[\"posizione\"]=exploded_voltage_diff.apply(lambda x: x.gt(0).idxmin(),axis=1)"
   ]
  },
  {
   "cell_type": "code",
   "execution_count": 87,
   "metadata": {},
   "outputs": [],
   "source": [
    "#(exploded_voltage_diff.iloc[:3].apply(lambda x: x[x.posizione:],axis=1))"
   ]
  },
  {
   "cell_type": "markdown",
   "metadata": {},
   "source": [
    "Non so come fare a rimuovere i primi n valori sulla base di posizione!!!!!\n",
    "\n",
    "--> faccio una media di posizione arrotondata per eccesso e rimuovo le prime x=media(posizione) colonne del dataframe."
   ]
  },
  {
   "cell_type": "code",
   "execution_count": 88,
   "metadata": {},
   "outputs": [],
   "source": [
    "#math.ceil(exploded_voltage_diff.posizione.mean())"
   ]
  },
  {
   "cell_type": "code",
   "execution_count": 89,
   "metadata": {},
   "outputs": [],
   "source": [
    "curve_ML=exploded_voltage.iloc[: , math.ceil(exploded_voltage_diff.posizione.mean()):]"
   ]
  },
  {
   "cell_type": "markdown",
   "metadata": {},
   "source": [
    "## Estrazione Caratteristiche curve Voltage\n",
    "Calcolo le caratteristiche delle curve su cui poi applicare algoritmi di ML:\n",
    "- Media, Max, Min, Range, Varianza, Derivata, Curtosi..."
   ]
  },
  {
   "cell_type": "code",
   "execution_count": 90,
   "metadata": {},
   "outputs": [],
   "source": [
    "curve_ML[\"media\"]=curve_ML.iloc[:,:616].apply(mean,axis=1)\n",
    "curve_ML[\"mediana\"]=curve_ML.iloc[:,:616].apply(lambda x : median(x[x.notna()]),axis=1)\n",
    "curve_ML[\"max\"]=curve_ML.iloc[:,:616].apply(max,axis=1)\n",
    "curve_ML[\"min\"]=curve_ML.iloc[:,:616].apply(min,axis=1)\n",
    "curve_ML[\"varianza\"]=curve_ML.iloc[:,:616].apply(var,axis=1)"
   ]
  },
  {
   "cell_type": "code",
   "execution_count": 91,
   "metadata": {},
   "outputs": [],
   "source": [
    "curve_ML[\"mediana\"]=curve_ML.iloc[:,:616].apply(lambda x : median(x[x.notna()]),axis=1)"
   ]
  },
  {
   "cell_type": "code",
   "execution_count": 92,
   "metadata": {},
   "outputs": [],
   "source": [
    "#lunghezza come numero di valori non Null\n",
    "curve_ML[\"lunghezza\"]=curve_ML.iloc[:,:616].apply(lambda x: len(x[x.notna()]),axis=1)"
   ]
  },
  {
   "cell_type": "code",
   "execution_count": 93,
   "metadata": {},
   "outputs": [],
   "source": [
    "#range intesa come max-min\n",
    "curve_ML[\"range\"]=curve_ML.iloc[:,:616].apply(lambda x: x.max()-x.min(),axis=1)"
   ]
  },
  {
   "cell_type": "code",
   "execution_count": 94,
   "metadata": {},
   "outputs": [],
   "source": [
    "#calcolo della derivata come delta(y)/delta(x): ovvero range/lunghezza lista\n",
    "curve_ML[\"derivata\"]=curve_ML.apply(lambda x: x.range/len(x[:616][x[:616].notna()]),axis=1)"
   ]
  },
  {
   "cell_type": "code",
   "execution_count": 95,
   "metadata": {},
   "outputs": [],
   "source": [
    "#curtosi\n",
    "curve_ML[\"kurtosis\"]=curve_ML.iloc[:,:616].apply(lambda x: kurtosis(x[x.notna()]),axis=1)"
   ]
  },
  {
   "cell_type": "code",
   "execution_count": 96,
   "metadata": {},
   "outputs": [
    {
     "data": {
      "text/html": [
       "<div>\n",
       "<style scoped>\n",
       "    .dataframe tbody tr th:only-of-type {\n",
       "        vertical-align: middle;\n",
       "    }\n",
       "\n",
       "    .dataframe tbody tr th {\n",
       "        vertical-align: top;\n",
       "    }\n",
       "\n",
       "    .dataframe thead th {\n",
       "        text-align: right;\n",
       "    }\n",
       "</style>\n",
       "<table border=\"1\" class=\"dataframe\">\n",
       "  <thead>\n",
       "    <tr style=\"text-align: right;\">\n",
       "      <th></th>\n",
       "      <th></th>\n",
       "      <th>media</th>\n",
       "      <th>mediana</th>\n",
       "      <th>max</th>\n",
       "      <th>min</th>\n",
       "      <th>varianza</th>\n",
       "      <th>lunghezza</th>\n",
       "      <th>range</th>\n",
       "      <th>derivata</th>\n",
       "      <th>kurtosis</th>\n",
       "    </tr>\n",
       "    <tr>\n",
       "      <th>spotName</th>\n",
       "      <th>TimeStamp</th>\n",
       "      <th></th>\n",
       "      <th></th>\n",
       "      <th></th>\n",
       "      <th></th>\n",
       "      <th></th>\n",
       "      <th></th>\n",
       "      <th></th>\n",
       "      <th></th>\n",
       "      <th></th>\n",
       "    </tr>\n",
       "  </thead>\n",
       "  <tbody>\n",
       "    <tr>\n",
       "      <th rowspan=\"5\" valign=\"top\">60000_0_00</th>\n",
       "      <th>2019-11-07 12:29:06</th>\n",
       "      <td>1475.613281</td>\n",
       "      <td>1249.0</td>\n",
       "      <td>2085.0</td>\n",
       "      <td>1199.0</td>\n",
       "      <td>106775.116074</td>\n",
       "      <td>512</td>\n",
       "      <td>886.0</td>\n",
       "      <td>1.730469</td>\n",
       "      <td>-1.339670</td>\n",
       "    </tr>\n",
       "    <tr>\n",
       "      <th>2019-11-07 12:29:26</th>\n",
       "      <td>1691.521635</td>\n",
       "      <td>1624.0</td>\n",
       "      <td>2180.0</td>\n",
       "      <td>1393.0</td>\n",
       "      <td>56225.182224</td>\n",
       "      <td>416</td>\n",
       "      <td>787.0</td>\n",
       "      <td>1.891827</td>\n",
       "      <td>-1.110572</td>\n",
       "    </tr>\n",
       "    <tr>\n",
       "      <th>2019-11-07 12:29:26</th>\n",
       "      <td>1683.105392</td>\n",
       "      <td>1622.0</td>\n",
       "      <td>2099.0</td>\n",
       "      <td>1383.0</td>\n",
       "      <td>47841.104089</td>\n",
       "      <td>408</td>\n",
       "      <td>716.0</td>\n",
       "      <td>1.754902</td>\n",
       "      <td>-1.325995</td>\n",
       "    </tr>\n",
       "    <tr>\n",
       "      <th>2019-11-07 12:29:30</th>\n",
       "      <td>1657.260143</td>\n",
       "      <td>1603.0</td>\n",
       "      <td>2129.0</td>\n",
       "      <td>1353.0</td>\n",
       "      <td>53271.247361</td>\n",
       "      <td>419</td>\n",
       "      <td>776.0</td>\n",
       "      <td>1.852029</td>\n",
       "      <td>-1.196977</td>\n",
       "    </tr>\n",
       "    <tr>\n",
       "      <th>2019-11-07 12:29:32</th>\n",
       "      <td>1696.208738</td>\n",
       "      <td>1639.5</td>\n",
       "      <td>2155.0</td>\n",
       "      <td>1399.0</td>\n",
       "      <td>51611.204001</td>\n",
       "      <td>412</td>\n",
       "      <td>756.0</td>\n",
       "      <td>1.834951</td>\n",
       "      <td>-1.182049</td>\n",
       "    </tr>\n",
       "  </tbody>\n",
       "</table>\n",
       "</div>"
      ],
      "text/plain": [
       "                                      media  mediana     max     min  \\\n",
       "spotName   TimeStamp                                                   \n",
       "60000_0_00 2019-11-07 12:29:06  1475.613281   1249.0  2085.0  1199.0   \n",
       "           2019-11-07 12:29:26  1691.521635   1624.0  2180.0  1393.0   \n",
       "           2019-11-07 12:29:26  1683.105392   1622.0  2099.0  1383.0   \n",
       "           2019-11-07 12:29:30  1657.260143   1603.0  2129.0  1353.0   \n",
       "           2019-11-07 12:29:32  1696.208738   1639.5  2155.0  1399.0   \n",
       "\n",
       "                                     varianza  lunghezza  range  derivata  \\\n",
       "spotName   TimeStamp                                                        \n",
       "60000_0_00 2019-11-07 12:29:06  106775.116074        512  886.0  1.730469   \n",
       "           2019-11-07 12:29:26   56225.182224        416  787.0  1.891827   \n",
       "           2019-11-07 12:29:26   47841.104089        408  716.0  1.754902   \n",
       "           2019-11-07 12:29:30   53271.247361        419  776.0  1.852029   \n",
       "           2019-11-07 12:29:32   51611.204001        412  756.0  1.834951   \n",
       "\n",
       "                                kurtosis  \n",
       "spotName   TimeStamp                      \n",
       "60000_0_00 2019-11-07 12:29:06 -1.339670  \n",
       "           2019-11-07 12:29:26 -1.110572  \n",
       "           2019-11-07 12:29:26 -1.325995  \n",
       "           2019-11-07 12:29:30 -1.196977  \n",
       "           2019-11-07 12:29:32 -1.182049  "
      ]
     },
     "execution_count": 96,
     "metadata": {},
     "output_type": "execute_result"
    }
   ],
   "source": [
    "final_ML=curve_ML.iloc[:,616:]\n",
    "final_ML.head()"
   ]
  },
  {
   "cell_type": "code",
   "execution_count": null,
   "metadata": {},
   "outputs": [],
   "source": [
    "final_ML.to_pickle(\"../data/volt_ML.pkl\")"
   ]
  },
  {
   "cell_type": "markdown",
   "metadata": {},
   "source": [
    "## Feature Engineering"
   ]
  },
  {
   "cell_type": "code",
   "execution_count": 4,
   "metadata": {},
   "outputs": [],
   "source": [
    "final_ML= pd.read_pickle(\"../data/volt_ML.pkl\")  "
   ]
  },
  {
   "cell_type": "code",
   "execution_count": 3,
   "metadata": {},
   "outputs": [
    {
     "data": {
      "image/png": "[encoded data removed]",
      "text/plain": [
       "<Figure size 432x288 with 2 Axes>"
      ]
     },
     "metadata": {
      "needs_background": "light"
     },
     "output_type": "display_data"
    }
   ],
   "source": [
    "ax=sns.heatmap(final_ML.corr(),annot=True,cmap=\"YlGnBu\")"
   ]
  },
  {
   "cell_type": "code",
   "execution_count": 5,
   "metadata": {},
   "outputs": [],
   "source": [
    "dummy=final_ML.drop([\"media\",\"range\",\"max\",\"min\",\"varianza\"],axis=1)"
   ]
  },
  {
   "cell_type": "code",
   "execution_count": 5,
   "metadata": {},
   "outputs": [
    {
     "data": {
      "image/png": "[encoded data removed]",
      "text/plain": [
       "<Figure size 432x288 with 2 Axes>"
      ]
     },
     "metadata": {
      "needs_background": "light"
     },
     "output_type": "display_data"
    }
   ],
   "source": [
    "ax=sns.heatmap(dummy.corr(),annot=True,cmap=\"YlGnBu\")"
   ]
  },
  {
   "cell_type": "markdown",
   "metadata": {},
   "source": [
    "#### Split train & test set\n",
    "Essendo un problema non supervisionato opero un random holdhout per la creazione di train e test set."
   ]
  },
  {
   "cell_type": "code",
   "execution_count": 6,
   "metadata": {},
   "outputs": [],
   "source": [
    "df_train, df_test=train_test_split(dummy,train_size=0.8,shuffle=True,random_state=0)"
   ]
  },
  {
   "cell_type": "markdown",
   "metadata": {},
   "source": [
    "## Isolation Forest"
   ]
  },
  {
   "cell_type": "code",
   "execution_count": 7,
   "metadata": {},
   "outputs": [
    {
     "name": "stderr",
     "output_type": "stream",
     "text": [
      "X does not have valid feature names, but IsolationForest was fitted with feature names\n"
     ]
    }
   ],
   "source": [
    "iso = IsolationForest(contamination=0.2)\n",
    "yhat_iForest = iso.fit_predict(df_train)"
   ]
  },
  {
   "cell_type": "code",
   "execution_count": 54,
   "metadata": {},
   "outputs": [
    {
     "data": {
      "image/png": "[encoded data removed]",
      "text/plain": [
       "<Figure size 576x223.2 with 2 Axes>"
      ]
     },
     "metadata": {
      "needs_background": "light"
     },
     "output_type": "display_data"
    }
   ],
   "source": [
    "shap_values = shap.TreeExplainer(iso).shap_values(df_test)\n",
    "shap.summary_plot(shap_values, df_test)"
   ]
  },
  {
   "cell_type": "markdown",
   "metadata": {},
   "source": [
    "## Minimum Covariance Determinant"
   ]
  },
  {
   "cell_type": "code",
   "execution_count": 59,
   "metadata": {},
   "outputs": [],
   "source": [
    "ee = EllipticEnvelope(contamination=0.01)\n",
    "yhat__ee = ee.fit_predict(df_train)"
   ]
  },
  {
   "cell_type": "markdown",
   "metadata": {},
   "source": [
    "## Aggiungo colonne delle varie yhat al df"
   ]
  },
  {
   "cell_type": "code",
   "execution_count": 129,
   "metadata": {},
   "outputs": [
    {
     "data": {
      "text/plain": [
       "113336"
      ]
     },
     "execution_count": 129,
     "metadata": {},
     "output_type": "execute_result"
    }
   ],
   "source": [
    "len(df_train)"
   ]
  },
  {
   "cell_type": "code",
   "execution_count": 8,
   "metadata": {},
   "outputs": [],
   "source": [
    "df_train[\"iForest\"]=yhat_iForest"
   ]
  },
  {
   "cell_type": "code",
   "execution_count": 9,
   "metadata": {},
   "outputs": [
    {
     "data": {
      "text/html": [
       "<div>\n",
       "<style scoped>\n",
       "    .dataframe tbody tr th:only-of-type {\n",
       "        vertical-align: middle;\n",
       "    }\n",
       "\n",
       "    .dataframe tbody tr th {\n",
       "        vertical-align: top;\n",
       "    }\n",
       "\n",
       "    .dataframe thead th {\n",
       "        text-align: right;\n",
       "    }\n",
       "</style>\n",
       "<table border=\"1\" class=\"dataframe\">\n",
       "  <thead>\n",
       "    <tr style=\"text-align: right;\">\n",
       "      <th></th>\n",
       "      <th></th>\n",
       "      <th>mediana</th>\n",
       "      <th>lunghezza</th>\n",
       "      <th>derivata</th>\n",
       "      <th>kurtosis</th>\n",
       "      <th>iForest</th>\n",
       "    </tr>\n",
       "    <tr>\n",
       "      <th>spotName</th>\n",
       "      <th>TimeStamp</th>\n",
       "      <th></th>\n",
       "      <th></th>\n",
       "      <th></th>\n",
       "      <th></th>\n",
       "      <th></th>\n",
       "    </tr>\n",
       "  </thead>\n",
       "  <tbody>\n",
       "    <tr>\n",
       "      <th rowspan=\"2\" valign=\"top\">60022_0_00</th>\n",
       "      <th>2020-02-12 11:04:50</th>\n",
       "      <td>1455.0</td>\n",
       "      <td>430</td>\n",
       "      <td>2.569767</td>\n",
       "      <td>2.324861</td>\n",
       "      <td>-1</td>\n",
       "    </tr>\n",
       "    <tr>\n",
       "      <th>2020-03-04 18:43:45</th>\n",
       "      <td>1495.0</td>\n",
       "      <td>392</td>\n",
       "      <td>2.905612</td>\n",
       "      <td>1.958150</td>\n",
       "      <td>-1</td>\n",
       "    </tr>\n",
       "    <tr>\n",
       "      <th>60026_0_00</th>\n",
       "      <th>2020-02-24 18:20:47</th>\n",
       "      <td>1517.0</td>\n",
       "      <td>512</td>\n",
       "      <td>1.722656</td>\n",
       "      <td>1.128983</td>\n",
       "      <td>-1</td>\n",
       "    </tr>\n",
       "    <tr>\n",
       "      <th>60168_0_00</th>\n",
       "      <th>2020-02-19 11:42:01</th>\n",
       "      <td>1592.0</td>\n",
       "      <td>292</td>\n",
       "      <td>1.541096</td>\n",
       "      <td>-0.442702</td>\n",
       "      <td>-1</td>\n",
       "    </tr>\n",
       "    <tr>\n",
       "      <th>60028_0_00</th>\n",
       "      <th>2020-01-09 10:23:49</th>\n",
       "      <td>1396.0</td>\n",
       "      <td>564</td>\n",
       "      <td>1.278369</td>\n",
       "      <td>0.856953</td>\n",
       "      <td>-1</td>\n",
       "    </tr>\n",
       "    <tr>\n",
       "      <th>...</th>\n",
       "      <th>...</th>\n",
       "      <td>...</td>\n",
       "      <td>...</td>\n",
       "      <td>...</td>\n",
       "      <td>...</td>\n",
       "      <td>...</td>\n",
       "    </tr>\n",
       "    <tr>\n",
       "      <th>60030_0_00</th>\n",
       "      <th>2020-02-13 07:29:16</th>\n",
       "      <td>1305.0</td>\n",
       "      <td>551</td>\n",
       "      <td>1.117967</td>\n",
       "      <td>-0.258504</td>\n",
       "      <td>-1</td>\n",
       "    </tr>\n",
       "    <tr>\n",
       "      <th>60077_0_00</th>\n",
       "      <th>2020-01-15 12:40:55</th>\n",
       "      <td>1197.0</td>\n",
       "      <td>512</td>\n",
       "      <td>1.445312</td>\n",
       "      <td>0.018491</td>\n",
       "      <td>-1</td>\n",
       "    </tr>\n",
       "    <tr>\n",
       "      <th>60166_0_00</th>\n",
       "      <th>2020-03-12 15:46:18</th>\n",
       "      <td>1527.0</td>\n",
       "      <td>306</td>\n",
       "      <td>2.313725</td>\n",
       "      <td>5.447741</td>\n",
       "      <td>-1</td>\n",
       "    </tr>\n",
       "    <tr>\n",
       "      <th>60180_0_00</th>\n",
       "      <th>2020-02-25 17:09:03</th>\n",
       "      <td>1658.0</td>\n",
       "      <td>392</td>\n",
       "      <td>0.619898</td>\n",
       "      <td>0.352064</td>\n",
       "      <td>-1</td>\n",
       "    </tr>\n",
       "    <tr>\n",
       "      <th>60141_0_00</th>\n",
       "      <th>2019-12-19 09:56:48</th>\n",
       "      <td>1252.5</td>\n",
       "      <td>392</td>\n",
       "      <td>1.982143</td>\n",
       "      <td>-1.612149</td>\n",
       "      <td>-1</td>\n",
       "    </tr>\n",
       "  </tbody>\n",
       "</table>\n",
       "<p>22667 rows × 5 columns</p>\n",
       "</div>"
      ],
      "text/plain": [
       "                                mediana  lunghezza  derivata  kurtosis  \\\n",
       "spotName   TimeStamp                                                     \n",
       "60022_0_00 2020-02-12 11:04:50   1455.0        430  2.569767  2.324861   \n",
       "           2020-03-04 18:43:45   1495.0        392  2.905612  1.958150   \n",
       "60026_0_00 2020-02-24 18:20:47   1517.0        512  1.722656  1.128983   \n",
       "60168_0_00 2020-02-19 11:42:01   1592.0        292  1.541096 -0.442702   \n",
       "60028_0_00 2020-01-09 10:23:49   1396.0        564  1.278369  0.856953   \n",
       "...                                 ...        ...       ...       ...   \n",
       "60030_0_00 2020-02-13 07:29:16   1305.0        551  1.117967 -0.258504   \n",
       "60077_0_00 2020-01-15 12:40:55   1197.0        512  1.445312  0.018491   \n",
       "60166_0_00 2020-03-12 15:46:18   1527.0        306  2.313725  5.447741   \n",
       "60180_0_00 2020-02-25 17:09:03   1658.0        392  0.619898  0.352064   \n",
       "60141_0_00 2019-12-19 09:56:48   1252.5        392  1.982143 -1.612149   \n",
       "\n",
       "                                iForest  \n",
       "spotName   TimeStamp                     \n",
       "60022_0_00 2020-02-12 11:04:50       -1  \n",
       "           2020-03-04 18:43:45       -1  \n",
       "60026_0_00 2020-02-24 18:20:47       -1  \n",
       "60168_0_00 2020-02-19 11:42:01       -1  \n",
       "60028_0_00 2020-01-09 10:23:49       -1  \n",
       "...                                 ...  \n",
       "60030_0_00 2020-02-13 07:29:16       -1  \n",
       "60077_0_00 2020-01-15 12:40:55       -1  \n",
       "60166_0_00 2020-03-12 15:46:18       -1  \n",
       "60180_0_00 2020-02-25 17:09:03       -1  \n",
       "60141_0_00 2019-12-19 09:56:48       -1  \n",
       "\n",
       "[22667 rows x 5 columns]"
      ]
     },
     "execution_count": 9,
     "metadata": {},
     "output_type": "execute_result"
    }
   ],
   "source": [
    "df_train[df_train[\"iForest\"]==-1]"
   ]
  },
  {
   "cell_type": "markdown",
   "metadata": {},
   "source": [
    "## Plot per valutare curve anomale\n",
    "Le curve anomale rilevate sembrerebbero essere quelle con i cali anomali, sia attraverso drop repentini che cali più graduali ma precoci rispetto alla media\n",
    "\n",
    "***L'algoritmo di ML avrà un bias per i cali rispetto ai picchi poichè i cali repentini rappresentano l'anomalia più evidente e diffusa del processo !!***\n",
    "\n",
    "I processi con i cali più graduali spesso non vengono identificati da anomaly_drop ma sono caratterizzati da un alto valore di %volt_anomalies"
   ]
  },
  {
   "cell_type": "code",
   "execution_count": 26,
   "metadata": {},
   "outputs": [],
   "source": [
    "df.VoltageCurve"
   ]
  },
  {
   "cell_type": "code",
   "execution_count": null,
   "metadata": {},
   "outputs": [],
   "source": [
    "60166_0_00\t2020-03-12 15:46:18"
   ]
  },
  {
   "cell_type": "code",
   "execution_count": 11,
   "metadata": {},
   "outputs": [],
   "source": [
    "df= pd.read_pickle(\"../data/with_stat_anomalies.pkl\")  "
   ]
  },
  {
   "cell_type": "code",
   "execution_count": 15,
   "metadata": {},
   "outputs": [
    {
     "data": {
      "text/html": [
       "<div>\n",
       "<style scoped>\n",
       "    .dataframe tbody tr th:only-of-type {\n",
       "        vertical-align: middle;\n",
       "    }\n",
       "\n",
       "    .dataframe tbody tr th {\n",
       "        vertical-align: top;\n",
       "    }\n",
       "\n",
       "    .dataframe thead th {\n",
       "        text-align: right;\n",
       "    }\n",
       "</style>\n",
       "<table border=\"1\" class=\"dataframe\">\n",
       "  <thead>\n",
       "    <tr style=\"text-align: right;\">\n",
       "      <th></th>\n",
       "      <th>VoltageCurve</th>\n",
       "      <th>CurrentCurve</th>\n",
       "      <th>voltage_drop</th>\n",
       "      <th>voltage_spike</th>\n",
       "      <th>n_voltage_outliers</th>\n",
       "      <th>%volt_anomalies</th>\n",
       "      <th>n_current_outliers</th>\n",
       "      <th>%current_anomalies</th>\n",
       "    </tr>\n",
       "    <tr>\n",
       "      <th>TimeStamp</th>\n",
       "      <th></th>\n",
       "      <th></th>\n",
       "      <th></th>\n",
       "      <th></th>\n",
       "      <th></th>\n",
       "      <th></th>\n",
       "      <th></th>\n",
       "      <th></th>\n",
       "    </tr>\n",
       "  </thead>\n",
       "  <tbody>\n",
       "    <tr>\n",
       "      <th>2020-03-12 15:46:18</th>\n",
       "      <td>[144, 795, 1334, 1656, 1849, 1977, 2009, 1993,...</td>\n",
       "      <td>[326, 2185, 3980, 5187, 6035, 6688, 6981, 7112...</td>\n",
       "      <td>False</td>\n",
       "      <td>False</td>\n",
       "      <td>171</td>\n",
       "      <td>54.458599</td>\n",
       "      <td>8</td>\n",
       "      <td>2.547771</td>\n",
       "    </tr>\n",
       "  </tbody>\n",
       "</table>\n",
       "</div>"
      ],
      "text/plain": [
       "                                                          VoltageCurve  \\\n",
       "TimeStamp                                                                \n",
       "2020-03-12 15:46:18  [144, 795, 1334, 1656, 1849, 1977, 2009, 1993,...   \n",
       "\n",
       "                                                          CurrentCurve  \\\n",
       "TimeStamp                                                                \n",
       "2020-03-12 15:46:18  [326, 2185, 3980, 5187, 6035, 6688, 6981, 7112...   \n",
       "\n",
       "                     voltage_drop  voltage_spike  n_voltage_outliers  \\\n",
       "TimeStamp                                                              \n",
       "2020-03-12 15:46:18         False          False                 171   \n",
       "\n",
       "                     %volt_anomalies  n_current_outliers  %current_anomalies  \n",
       "TimeStamp                                                                     \n",
       "2020-03-12 15:46:18        54.458599                   8            2.547771  "
      ]
     },
     "execution_count": 15,
     "metadata": {},
     "output_type": "execute_result"
    }
   ],
   "source": [
    "df.loc[('60166_0_00', '2020-03-12 15:46:18'), :]"
   ]
  },
  {
   "cell_type": "code",
   "execution_count": 16,
   "metadata": {},
   "outputs": [
    {
     "data": {
      "text/plain": [
       "[<matplotlib.lines.Line2D at 0x1bd38afc790>]"
      ]
     },
     "execution_count": 16,
     "metadata": {},
     "output_type": "execute_result"
    },
    {
     "data": {
      "image/png": "[encoded data removed]",
      "text/plain": [
       "<Figure size 432x288 with 1 Axes>"
      ]
     },
     "metadata": {
      "needs_background": "light"
     },
     "output_type": "display_data"
    }
   ],
   "source": [
    "curva=df.loc[('60166_0_00', '2020-03-12 15:46:18'), :].VoltageCurve\n",
    "plot(curva.values[0])"
   ]
  }
 ],
 "metadata": {
  "interpreter": {
   "hash": "483f5a6b43a3cd7963c5b202370231d608089097c1755e1e048d60a8aae317e5"
  },
  "kernelspec": {
   "display_name": "Python 3.9.7 ('base')",
   "language": "python",
   "name": "python3"
  },
  "language_info": {
   "codemirror_mode": {
    "name": "ipython",
    "version": 3
   },
   "file_extension": ".py",
   "mimetype": "text/x-python",
   "name": "python",
   "nbconvert_exporter": "python",
   "pygments_lexer": "ipython3",
   "version": "3.9.7"
  },
  "orig_nbformat": 4
 },
 "nbformat": 4,
 "nbformat_minor": 2
}
