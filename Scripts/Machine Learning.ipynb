{
 "cells": [
  {
   "cell_type": "code",
   "execution_count": 10,
   "metadata": {},
   "outputs": [],
   "source": [
    "import pandas as pd\n",
    "import numpy as np\n",
    "from pylab import *"
   ]
  },
  {
   "cell_type": "code",
   "execution_count": 2,
   "metadata": {},
   "outputs": [
    {
     "data": {
      "text/html": [
       "<div>\n",
       "<style scoped>\n",
       "    .dataframe tbody tr th:only-of-type {\n",
       "        vertical-align: middle;\n",
       "    }\n",
       "\n",
       "    .dataframe tbody tr th {\n",
       "        vertical-align: top;\n",
       "    }\n",
       "\n",
       "    .dataframe thead th {\n",
       "        text-align: right;\n",
       "    }\n",
       "</style>\n",
       "<table border=\"1\" class=\"dataframe\">\n",
       "  <thead>\n",
       "    <tr style=\"text-align: right;\">\n",
       "      <th></th>\n",
       "      <th>VoltageCurve</th>\n",
       "      <th>CurrentCurve</th>\n",
       "      <th>spotName</th>\n",
       "    </tr>\n",
       "    <tr>\n",
       "      <th>TimeStamp</th>\n",
       "      <th></th>\n",
       "      <th></th>\n",
       "      <th></th>\n",
       "    </tr>\n",
       "  </thead>\n",
       "  <tbody>\n",
       "    <tr>\n",
       "      <th>2019-11-07 12:29:06</th>\n",
       "      <td>[132, 744, 1299, 1663, 1894, 2002, 2068, 2110,...</td>\n",
       "      <td>[311, 1990, 3577, 4759, 5599, 6190, 6594, 6999...</td>\n",
       "      <td>60000_0_00</td>\n",
       "    </tr>\n",
       "    <tr>\n",
       "      <th>2019-11-07 12:29:26</th>\n",
       "      <td>[136, 752, 1308, 1675, 1923, 2068, 2128, 2180,...</td>\n",
       "      <td>[301, 1961, 3470, 4527, 5432, 6066, 6489, 6911...</td>\n",
       "      <td>60000_0_00</td>\n",
       "    </tr>\n",
       "    <tr>\n",
       "      <th>2019-11-07 12:29:26</th>\n",
       "      <td>[139, 757, 1292, 1655, 1885, 2042, 2099, 2099,...</td>\n",
       "      <td>[333, 2058, 3663, 4814, 5661, 6388, 6842, 7084...</td>\n",
       "      <td>60000_0_00</td>\n",
       "    </tr>\n",
       "    <tr>\n",
       "      <th>2019-11-07 12:29:30</th>\n",
       "      <td>[133, 743, 1286, 1645, 1887, 2046, 2104, 2104,...</td>\n",
       "      <td>[307, 2031, 3632, 4802, 5695, 6434, 6865, 7142...</td>\n",
       "      <td>60000_0_00</td>\n",
       "    </tr>\n",
       "    <tr>\n",
       "      <th>2019-11-07 12:29:32</th>\n",
       "      <td>[137, 755, 1313, 1683, 1906, 2043, 2147, 2189,...</td>\n",
       "      <td>[302, 1995, 3508, 4596, 5382, 5987, 6562, 6955...</td>\n",
       "      <td>60000_0_00</td>\n",
       "    </tr>\n",
       "  </tbody>\n",
       "</table>\n",
       "</div>"
      ],
      "text/plain": [
       "                                                          VoltageCurve  \\\n",
       "TimeStamp                                                                \n",
       "2019-11-07 12:29:06  [132, 744, 1299, 1663, 1894, 2002, 2068, 2110,...   \n",
       "2019-11-07 12:29:26  [136, 752, 1308, 1675, 1923, 2068, 2128, 2180,...   \n",
       "2019-11-07 12:29:26  [139, 757, 1292, 1655, 1885, 2042, 2099, 2099,...   \n",
       "2019-11-07 12:29:30  [133, 743, 1286, 1645, 1887, 2046, 2104, 2104,...   \n",
       "2019-11-07 12:29:32  [137, 755, 1313, 1683, 1906, 2043, 2147, 2189,...   \n",
       "\n",
       "                                                          CurrentCurve  \\\n",
       "TimeStamp                                                                \n",
       "2019-11-07 12:29:06  [311, 1990, 3577, 4759, 5599, 6190, 6594, 6999...   \n",
       "2019-11-07 12:29:26  [301, 1961, 3470, 4527, 5432, 6066, 6489, 6911...   \n",
       "2019-11-07 12:29:26  [333, 2058, 3663, 4814, 5661, 6388, 6842, 7084...   \n",
       "2019-11-07 12:29:30  [307, 2031, 3632, 4802, 5695, 6434, 6865, 7142...   \n",
       "2019-11-07 12:29:32  [302, 1995, 3508, 4596, 5382, 5987, 6562, 6955...   \n",
       "\n",
       "                       spotName  \n",
       "TimeStamp                        \n",
       "2019-11-07 12:29:06  60000_0_00  \n",
       "2019-11-07 12:29:26  60000_0_00  \n",
       "2019-11-07 12:29:26  60000_0_00  \n",
       "2019-11-07 12:29:30  60000_0_00  \n",
       "2019-11-07 12:29:32  60000_0_00  "
      ]
     },
     "execution_count": 2,
     "metadata": {},
     "output_type": "execute_result"
    }
   ],
   "source": [
    "df= pd.read_pickle(\"../data/clean_rows_df.pkl\")  \n",
    "df.head()"
   ]
  },
  {
   "cell_type": "code",
   "execution_count": 3,
   "metadata": {},
   "outputs": [],
   "source": [
    "df.reset_index(inplace=True)\n",
    "df.set_index([\"spotName\",\"TimeStamp\"],inplace=True)"
   ]
  },
  {
   "cell_type": "code",
   "execution_count": 4,
   "metadata": {},
   "outputs": [],
   "source": [
    "exploded_voltage=pd.DataFrame(df.VoltageCurve.tolist(), index= df.index)"
   ]
  },
  {
   "cell_type": "code",
   "execution_count": 11,
   "metadata": {},
   "outputs": [
    {
     "name": "stdout",
     "output_type": "stream",
     "text": [
      "0     136.0\n",
      "1     752.0\n",
      "2    1308.0\n",
      "3    1675.0\n",
      "4    1923.0\n",
      "5    2068.0\n",
      "6    2128.0\n",
      "7    2180.0\n",
      "8    2180.0\n",
      "9    2103.0\n",
      "Name: (60000_0_00, 2019-11-07 12:29:26), dtype: float64\n"
     ]
    },
    {
     "data": {
      "text/plain": [
       "[<matplotlib.lines.Line2D at 0x1e633895f70>]"
      ]
     },
     "execution_count": 11,
     "metadata": {},
     "output_type": "execute_result"
    },
    {
     "data": {
      "image/png": "[encoded data removed]",
      "text/plain": [
       "<Figure size 432x288 with 1 Axes>"
      ]
     },
     "metadata": {
      "needs_background": "light"
     },
     "output_type": "display_data"
    }
   ],
   "source": [
    "curva=exploded_voltage.iloc[1]\n",
    "#curva=curva[pd.notnull(curva)]\n",
    "print(curva.head(10))\n",
    "plot(curva)"
   ]
  },
  {
   "cell_type": "markdown",
   "metadata": {},
   "source": [
    "indice del primo valore per cui l'inclinazione della curva inizia a diventare negativa\n",
    "Escludere i valori precedenti a questo indice per analizzare la curva"
   ]
  },
  {
   "cell_type": "code",
   "execution_count": 6,
   "metadata": {},
   "outputs": [],
   "source": [
    "#indice del primo valore per cui l'inclinazione della curva diventa negativa\n",
    "position=curva.diff()[curva.diff()==next(x for x in curva.diff() if x < 0)].index[0]"
   ]
  },
  {
   "cell_type": "code",
   "execution_count": 12,
   "metadata": {},
   "outputs": [
    {
     "name": "stdout",
     "output_type": "stream",
     "text": [
      "9     2103.0\n",
      "10    2068.0\n",
      "11    2077.0\n",
      "12    2043.0\n",
      "13    2017.0\n",
      "14    2051.0\n",
      "15    2068.0\n",
      "16    2051.0\n",
      "17    2068.0\n",
      "18    2085.0\n",
      "Name: (60000_0_00, 2019-11-07 12:29:26), dtype: float64\n"
     ]
    },
    {
     "data": {
      "text/plain": [
       "[<matplotlib.lines.Line2D at 0x1e634ffdbb0>]"
      ]
     },
     "execution_count": 12,
     "metadata": {},
     "output_type": "execute_result"
    },
    {
     "data": {
      "image/png": "[encoded data removed]",
      "text/plain": [
       "<Figure size 432x288 with 1 Axes>"
      ]
     },
     "metadata": {
      "needs_background": "light"
     },
     "output_type": "display_data"
    }
   ],
   "source": [
    "#curva_new è la curva senza il primo picco\n",
    "curva_new=curva.iloc[position:]\n",
    "print(curva_new.head(10))\n",
    "plot(curva_new)"
   ]
  }
 ],
 "metadata": {
  "interpreter": {
   "hash": "21aec60ee798f848cdec17e8ad1d5abc914a64c17deba4b59301cd664b10b21e"
  },
  "kernelspec": {
   "display_name": "Python 3.9.7 ('base')",
   "language": "python",
   "name": "python3"
  },
  "language_info": {
   "codemirror_mode": {
    "name": "ipython",
    "version": 3
   },
   "file_extension": ".py",
   "mimetype": "text/x-python",
   "name": "python",
   "nbconvert_exporter": "python",
   "pygments_lexer": "ipython3",
   "version": "3.9.7"
  },
  "orig_nbformat": 4
 },
 "nbformat": 4,
 "nbformat_minor": 2
}
