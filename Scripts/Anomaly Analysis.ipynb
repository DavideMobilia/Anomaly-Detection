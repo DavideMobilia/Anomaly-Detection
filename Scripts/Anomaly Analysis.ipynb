{
 "cells": [
  {
   "cell_type": "code",
   "execution_count": 1,
   "metadata": {},
   "outputs": [],
   "source": [
    "import pandas as pd\n",
    "import numpy as np\n",
    "from pylab import *\n",
    "from matplotlib import pyplot as plt"
   ]
  },
  {
   "cell_type": "code",
   "execution_count": 2,
   "metadata": {},
   "outputs": [],
   "source": [
    "reference_volt_curves= pd.read_pickle(\"../data/reference_volt_curves.pkl\")  "
   ]
  },
  {
   "cell_type": "code",
   "execution_count": 35,
   "metadata": {},
   "outputs": [],
   "source": [
    "df= pd.read_pickle(\"../data/with_stat_anomalies.pkl\")  "
   ]
  },
  {
   "cell_type": "code",
   "execution_count": 37,
   "metadata": {},
   "outputs": [
    {
     "data": {
      "text/html": [
       "<div>\n",
       "<style scoped>\n",
       "    .dataframe tbody tr th:only-of-type {\n",
       "        vertical-align: middle;\n",
       "    }\n",
       "\n",
       "    .dataframe tbody tr th {\n",
       "        vertical-align: top;\n",
       "    }\n",
       "\n",
       "    .dataframe thead th {\n",
       "        text-align: right;\n",
       "    }\n",
       "</style>\n",
       "<table border=\"1\" class=\"dataframe\">\n",
       "  <thead>\n",
       "    <tr style=\"text-align: right;\">\n",
       "      <th></th>\n",
       "      <th></th>\n",
       "      <th>VoltageCurve</th>\n",
       "      <th>CurrentCurve</th>\n",
       "      <th>voltage_drop</th>\n",
       "      <th>voltage_spike</th>\n",
       "      <th>n_voltage_outliers</th>\n",
       "      <th>%volt_anomalies</th>\n",
       "    </tr>\n",
       "    <tr>\n",
       "      <th>spotName</th>\n",
       "      <th>TimeStamp</th>\n",
       "      <th></th>\n",
       "      <th></th>\n",
       "      <th></th>\n",
       "      <th></th>\n",
       "      <th></th>\n",
       "      <th></th>\n",
       "    </tr>\n",
       "  </thead>\n",
       "  <tbody>\n",
       "    <tr>\n",
       "      <th rowspan=\"5\" valign=\"top\">60000_0_00</th>\n",
       "      <th>2019-09-17 17:56:02</th>\n",
       "      <td>[139, 752, 1329, 1687, 1897, 2037, 2098, 2107,...</td>\n",
       "      <td>[302, 1999, 3574, 4694, 5512, 6148, 6542, 6815...</td>\n",
       "      <td>False</td>\n",
       "      <td>False</td>\n",
       "      <td>27</td>\n",
       "      <td>0.064593</td>\n",
       "    </tr>\n",
       "    <tr>\n",
       "      <th>2019-09-17 17:56:07</th>\n",
       "      <td>[134, 755, 1309, 1661, 1888, 2056, 2140, 2140,...</td>\n",
       "      <td>[303, 2002, 3549, 4702, 5551, 6340, 6886, 7189...</td>\n",
       "      <td>False</td>\n",
       "      <td>False</td>\n",
       "      <td>29</td>\n",
       "      <td>0.069378</td>\n",
       "    </tr>\n",
       "    <tr>\n",
       "      <th>2019-09-17 18:05:02</th>\n",
       "      <td>[134, 758, 1298, 1652, 1897, 2065, 2124, 2124,...</td>\n",
       "      <td>[305, 2017, 3607, 4738, 5656, 6389, 6848, 7154...</td>\n",
       "      <td>False</td>\n",
       "      <td>False</td>\n",
       "      <td>9</td>\n",
       "      <td>0.021635</td>\n",
       "    </tr>\n",
       "    <tr>\n",
       "      <th>2019-09-17 18:42:46</th>\n",
       "      <td>[138, 767, 1328, 1682, 1906, 2061, 2139, 2148,...</td>\n",
       "      <td>[333, 2033, 3641, 4795, 5614, 6312, 6767, 7040...</td>\n",
       "      <td>False</td>\n",
       "      <td>False</td>\n",
       "      <td>30</td>\n",
       "      <td>0.071770</td>\n",
       "    </tr>\n",
       "    <tr>\n",
       "      <th>2019-09-17 18:59:36</th>\n",
       "      <td>[130, 745, 1300, 1646, 1854, 2028, 2114, 2114,...</td>\n",
       "      <td>[302, 1996, 3569, 4719, 5536, 6262, 6837, 7109...</td>\n",
       "      <td>False</td>\n",
       "      <td>False</td>\n",
       "      <td>31</td>\n",
       "      <td>0.074341</td>\n",
       "    </tr>\n",
       "    <tr>\n",
       "      <th>...</th>\n",
       "      <th>...</th>\n",
       "      <td>...</td>\n",
       "      <td>...</td>\n",
       "      <td>...</td>\n",
       "      <td>...</td>\n",
       "      <td>...</td>\n",
       "      <td>...</td>\n",
       "    </tr>\n",
       "    <tr>\n",
       "      <th rowspan=\"5\" valign=\"top\">60185_0_00</th>\n",
       "      <th>2020-05-06 14:06:47</th>\n",
       "      <td>[145, 809, 1349, 1648, 1816, 1860, 1808, 1743,...</td>\n",
       "      <td>[354, 2200, 4081, 5500, 6565, 7239, 7594, 7842...</td>\n",
       "      <td>False</td>\n",
       "      <td>False</td>\n",
       "      <td>198</td>\n",
       "      <td>0.491315</td>\n",
       "    </tr>\n",
       "    <tr>\n",
       "      <th>2020-05-06 14:18:28</th>\n",
       "      <td>[145, 816, 1378, 1684, 1794, 1860, 1838, 1736,...</td>\n",
       "      <td>[337, 2262, 4288, 5773, 6786, 7563, 8069, 8205...</td>\n",
       "      <td>False</td>\n",
       "      <td>False</td>\n",
       "      <td>27</td>\n",
       "      <td>0.066832</td>\n",
       "    </tr>\n",
       "    <tr>\n",
       "      <th>2020-05-27 09:15:45</th>\n",
       "      <td>[153, 813, 1356, 1657, 1825, 1869, 1818, 1759,...</td>\n",
       "      <td>[337, 2193, 4116, 5499, 6512, 7220, 7490, 7726...</td>\n",
       "      <td>False</td>\n",
       "      <td>False</td>\n",
       "      <td>143</td>\n",
       "      <td>0.352217</td>\n",
       "    </tr>\n",
       "    <tr>\n",
       "      <th>2020-05-27 09:27:57</th>\n",
       "      <td>[149, 813, 1377, 1662, 1798, 1820, 1820, 1755,...</td>\n",
       "      <td>[333, 2265, 4197, 5630, 6562, 7162, 7662, 7928...</td>\n",
       "      <td>False</td>\n",
       "      <td>False</td>\n",
       "      <td>13</td>\n",
       "      <td>0.032178</td>\n",
       "    </tr>\n",
       "    <tr>\n",
       "      <th>2020-05-27 10:18:20</th>\n",
       "      <td>[148, 807, 1356, 1667, 1845, 1890, 1815, 1756,...</td>\n",
       "      <td>[317, 2188, 4059, 5471, 6565, 7200, 7518, 7730...</td>\n",
       "      <td>False</td>\n",
       "      <td>False</td>\n",
       "      <td>173</td>\n",
       "      <td>0.412888</td>\n",
       "    </tr>\n",
       "  </tbody>\n",
       "</table>\n",
       "<p>144028 rows × 6 columns</p>\n",
       "</div>"
      ],
      "text/plain": [
       "                                                                     VoltageCurve  \\\n",
       "spotName   TimeStamp                                                                \n",
       "60000_0_00 2019-09-17 17:56:02  [139, 752, 1329, 1687, 1897, 2037, 2098, 2107,...   \n",
       "           2019-09-17 17:56:07  [134, 755, 1309, 1661, 1888, 2056, 2140, 2140,...   \n",
       "           2019-09-17 18:05:02  [134, 758, 1298, 1652, 1897, 2065, 2124, 2124,...   \n",
       "           2019-09-17 18:42:46  [138, 767, 1328, 1682, 1906, 2061, 2139, 2148,...   \n",
       "           2019-09-17 18:59:36  [130, 745, 1300, 1646, 1854, 2028, 2114, 2114,...   \n",
       "...                                                                           ...   \n",
       "60185_0_00 2020-05-06 14:06:47  [145, 809, 1349, 1648, 1816, 1860, 1808, 1743,...   \n",
       "           2020-05-06 14:18:28  [145, 816, 1378, 1684, 1794, 1860, 1838, 1736,...   \n",
       "           2020-05-27 09:15:45  [153, 813, 1356, 1657, 1825, 1869, 1818, 1759,...   \n",
       "           2020-05-27 09:27:57  [149, 813, 1377, 1662, 1798, 1820, 1820, 1755,...   \n",
       "           2020-05-27 10:18:20  [148, 807, 1356, 1667, 1845, 1890, 1815, 1756,...   \n",
       "\n",
       "                                                                     CurrentCurve  \\\n",
       "spotName   TimeStamp                                                                \n",
       "60000_0_00 2019-09-17 17:56:02  [302, 1999, 3574, 4694, 5512, 6148, 6542, 6815...   \n",
       "           2019-09-17 17:56:07  [303, 2002, 3549, 4702, 5551, 6340, 6886, 7189...   \n",
       "           2019-09-17 18:05:02  [305, 2017, 3607, 4738, 5656, 6389, 6848, 7154...   \n",
       "           2019-09-17 18:42:46  [333, 2033, 3641, 4795, 5614, 6312, 6767, 7040...   \n",
       "           2019-09-17 18:59:36  [302, 1996, 3569, 4719, 5536, 6262, 6837, 7109...   \n",
       "...                                                                           ...   \n",
       "60185_0_00 2020-05-06 14:06:47  [354, 2200, 4081, 5500, 6565, 7239, 7594, 7842...   \n",
       "           2020-05-06 14:18:28  [337, 2262, 4288, 5773, 6786, 7563, 8069, 8205...   \n",
       "           2020-05-27 09:15:45  [337, 2193, 4116, 5499, 6512, 7220, 7490, 7726...   \n",
       "           2020-05-27 09:27:57  [333, 2265, 4197, 5630, 6562, 7162, 7662, 7928...   \n",
       "           2020-05-27 10:18:20  [317, 2188, 4059, 5471, 6565, 7200, 7518, 7730...   \n",
       "\n",
       "                                voltage_drop  voltage_spike  \\\n",
       "spotName   TimeStamp                                          \n",
       "60000_0_00 2019-09-17 17:56:02         False          False   \n",
       "           2019-09-17 17:56:07         False          False   \n",
       "           2019-09-17 18:05:02         False          False   \n",
       "           2019-09-17 18:42:46         False          False   \n",
       "           2019-09-17 18:59:36         False          False   \n",
       "...                                      ...            ...   \n",
       "60185_0_00 2020-05-06 14:06:47         False          False   \n",
       "           2020-05-06 14:18:28         False          False   \n",
       "           2020-05-27 09:15:45         False          False   \n",
       "           2020-05-27 09:27:57         False          False   \n",
       "           2020-05-27 10:18:20         False          False   \n",
       "\n",
       "                                n_voltage_outliers  %volt_anomalies  \n",
       "spotName   TimeStamp                                                 \n",
       "60000_0_00 2019-09-17 17:56:02                  27         0.064593  \n",
       "           2019-09-17 17:56:07                  29         0.069378  \n",
       "           2019-09-17 18:05:02                   9         0.021635  \n",
       "           2019-09-17 18:42:46                  30         0.071770  \n",
       "           2019-09-17 18:59:36                  31         0.074341  \n",
       "...                                            ...              ...  \n",
       "60185_0_00 2020-05-06 14:06:47                 198         0.491315  \n",
       "           2020-05-06 14:18:28                  27         0.066832  \n",
       "           2020-05-27 09:15:45                 143         0.352217  \n",
       "           2020-05-27 09:27:57                  13         0.032178  \n",
       "           2020-05-27 10:18:20                 173         0.412888  \n",
       "\n",
       "[144028 rows x 6 columns]"
      ]
     },
     "execution_count": 37,
     "metadata": {},
     "output_type": "execute_result"
    }
   ],
   "source": [
    "df"
   ]
  },
  {
   "cell_type": "code",
   "execution_count": 7,
   "metadata": {},
   "outputs": [],
   "source": [
    "curva=list(df.loc[('60185_0_00', '2020-03-09 10:33:29'), :][\"VoltageCurve\"])\n",
    "curva=curva[0]"
   ]
  },
  {
   "cell_type": "code",
   "execution_count": 8,
   "metadata": {},
   "outputs": [
    {
     "data": {
      "text/plain": [
       "[<matplotlib.lines.Line2D at 0x2ac3440f700>]"
      ]
     },
     "execution_count": 8,
     "metadata": {},
     "output_type": "execute_result"
    },
    {
     "data": {
      "image/png": "[encoded data removed]",
      "text/plain": [
       "<Figure size 432x288 with 1 Axes>"
      ]
     },
     "metadata": {
      "needs_background": "light"
     },
     "output_type": "display_data"
    }
   ],
   "source": [
    "plt.plot(reference_volt_curves[[\"upper_limit\",\"lower_limit\"]],\"orange\")\n",
    "plot(curva,\"blue\")"
   ]
  }
 ],
 "metadata": {
  "interpreter": {
   "hash": "21aec60ee798f848cdec17e8ad1d5abc914a64c17deba4b59301cd664b10b21e"
  },
  "kernelspec": {
   "display_name": "Python 3.9.7 ('base')",
   "language": "python",
   "name": "python3"
  },
  "language_info": {
   "codemirror_mode": {
    "name": "ipython",
    "version": 3
   },
   "file_extension": ".py",
   "mimetype": "text/x-python",
   "name": "python",
   "nbconvert_exporter": "python",
   "pygments_lexer": "ipython3",
   "version": "3.9.7"
  },
  "orig_nbformat": 4
 },
 "nbformat": 4,
 "nbformat_minor": 2
}
